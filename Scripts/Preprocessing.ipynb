{
  "nbformat": 4,
  "nbformat_minor": 0,
  "metadata": {
    "colab": {
      "provenance": [],
      "collapsed_sections": [
        "iRs5NRVjixfu",
        "Fd_K7om5asA4",
        "eECgjEgma5Tp",
        "Rji8hFffa9sY",
        "EzQUKc3Edx-y",
        "3ifjgUqCfC7d",
        "eY9WYazsOfzn",
        "m6IHFMFcSNSJ",
        "p6D6fu7ECWvJ",
        "g1UIFvT3CglE",
        "xnBvhswvCm8o",
        "d_gIMEzTCnS1",
        "HW3v1jaCHb2K",
        "qTAf8f5YUYsy",
        "IwWiqedLMuCJ",
        "x505JCfPMuCL",
        "yd_QfumCMuCL",
        "1SCDET51MuCM",
        "DPidmdVqNrqQ",
        "zxQY02q6NrqR",
        "knd2Gc0ENrqR",
        "7xUZo5e4NrqS",
        "1H1VmbApUoAP"
      ]
    },
    "kernelspec": {
      "name": "python3",
      "display_name": "Python 3"
    },
    "language_info": {
      "name": "python"
    }
  },
  "cells": [
    {
      "cell_type": "markdown",
      "metadata": {
        "id": "iRs5NRVjixfu"
      },
      "source": [
        "## Import libraries"
      ]
    },
    {
      "cell_type": "code",
      "execution_count": 230,
      "metadata": {
        "id": "x1oNqjsSH7qq"
      },
      "outputs": [],
      "source": [
        "# %%capture\n",
        "# !pip install catboost\n",
        "# !pip install mrmr_selection\n",
        "# !pip install imblearn\n",
        "# !pip install mlxtend\n",
        "# !pip list --format=freeze > './HSE project/Scripts/requirements.txt'"
      ]
    },
    {
      "cell_type": "code",
      "execution_count": 231,
      "metadata": {
        "id": "pDFuCcbfGwB8"
      },
      "outputs": [],
      "source": [
        "# Import libraries\n",
        "\n",
        "import matplotlib.pyplot as plt\n",
        "import numpy as np\n",
        "import pandas as pd\n",
        "import sklearn\n",
        "import plotly\n",
        "import plotly.express as px\n",
        "from plotly.subplots import make_subplots\n",
        "import plotly.graph_objects as go\n",
        "import seaborn as sns\n",
        "from sklearn.model_selection import train_test_split\n",
        "# from google.colab import output\n",
        "\n",
        "from pandas import DatetimeIndex as dt\n",
        "from sklearn.preprocessing import StandardScaler, RobustScaler, MinMaxScaler\n",
        "# from google.colab import files\n",
        "import IPython\n",
        "from IPython.display import HTML, display\n",
        "# from google.colab import drive\n",
        "import sys\n",
        "\n",
        "# hyper-parameters optimisation\n",
        "from sklearn.model_selection import GridSearchCV\n",
        "from sklearn.model_selection import RandomizedSearchCV\n",
        "\n",
        "# metrics\n",
        "from sklearn.metrics import matthews_corrcoef as mcc\n",
        "from sklearn.metrics import f1_score as f1\n",
        "from sklearn.metrics import accuracy_score as accuracy\n",
        "from sklearn.metrics import precision_score as TP_rate                          \n",
        "from sklearn.metrics import roc_auc_score as roc_auc\n",
        "from sklearn.metrics import precision_recall_curve\n",
        "from sklearn.metrics import auc\n",
        "from sklearn.metrics import confusion_matrix\n",
        "from sklearn.metrics import recall_score as recall\n",
        "from sklearn.metrics import average_precision_score\n",
        "from sklearn.inspection import permutation_importance\n",
        "from sklearn.metrics import make_scorer,fbeta_score\n",
        "\n",
        "# classifiers\n",
        "from sklearn.ensemble import RandomForestClassifier, BaggingClassifier, AdaBoostRegressor, RandomForestRegressor, GradientBoostingClassifier, StackingClassifier, VotingClassifier #\n",
        "from sklearn.tree import DecisionTreeClassifier     #\n",
        "from sklearn.svm import SVC                                    # both linear and radial classification\n",
        "from sklearn.neighbors import KNeighborsClassifier             # k=3\n",
        "from sklearn.naive_bayes import GaussianNB\n",
        "from sklearn.neural_network import MLPClassifier\n",
        "from sklearn.linear_model import LinearRegression\n",
        "from sklearn.linear_model import LogisticRegression, LogisticRegressionCV\n",
        "import catboost\n",
        "from catboost import CatBoostClassifier\n",
        "from imblearn.over_sampling import SMOTE\n",
        "from sklearn.ensemble import AdaBoostClassifier\n",
        "from sklearn.tree import DecisionTreeClassifier\n",
        "from mlxtend.classifier import StackingClassifier\n",
        "\n",
        "# statistics\n",
        "from scipy.stats import shapiro\n",
        "from scipy.stats import chi2_contingency\n",
        "from scipy.stats import mannwhitneyu\n",
        "\n",
        "# imputations\n",
        "# explicitly require this experimental feature\n",
        "from sklearn.experimental import enable_iterative_imputer  # noqa\n",
        "# now you can import normally from sklearn.impute\n",
        "from sklearn.impute import SimpleImputer, KNNImputer, IterativeImputer\n",
        "from sklearn.model_selection import cross_val_score\n",
        "from sklearn.pipeline import make_pipeline\n",
        "from sklearn.base import clone\n",
        "from imblearn.over_sampling import SMOTE\n",
        "from imblearn.over_sampling import SMOTENC\n",
        "\n",
        "# feature selection\n",
        "from sklearn.feature_selection import chi2, mutual_info_classif, f_classif, SelectKBest, RFE, RFECV, SequentialFeatureSelector\n",
        "from scipy.stats import kendalltau, spearmanr\n",
        "from sklearn.linear_model import Lasso\n",
        "from sklearn.model_selection import StratifiedKFold\n",
        "from mrmr import mrmr_classif\n",
        "\n",
        "# to conver string to dict\n",
        "import ast\n",
        "\n",
        "# Interpretability\n",
        " # !pip install interpret\n",
        "from interpret.blackbox import LimeTabular\n",
        "from interpret import set_visualize_provider\n",
        "from interpret.provider import InlineProvider\n",
        "set_visualize_provider(InlineProvider())\n",
        "from interpret import show\n",
        "\n",
        "import lime\n",
        "import lime.lime_tabular\n",
        "from __future__ import print_function\n",
        "\n",
        "# ignore warnings when graphs are plotted\n",
        "import warnings\n",
        "warnings.filterwarnings('ignore')"
      ]
    },
    {
      "cell_type": "code",
      "execution_count": 232,
      "metadata": {
        "id": "9S7ey6ONpI7j"
      },
      "outputs": [],
      "source": [
        "# %%capture\n",
        "# !pip install ipython-autotime\n",
        "\n",
        "# %load_ext autotime"
      ]
    },
    {
      "cell_type": "markdown",
      "source": [
        "## Data editing"
      ],
      "metadata": {
        "id": "Fd_K7om5asA4"
      }
    },
    {
      "cell_type": "markdown",
      "source": [
        "#### Dataset A"
      ],
      "metadata": {
        "id": "eECgjEgma5Tp"
      }
    },
    {
      "cell_type": "code",
      "source": [
        "# download Dataset A from Github repo and read as excel file\n",
        "\n",
        "\n",
        "link_a = 'https://github.com/KonstantinBurkin/personalized-medicine/blob/master/Data/cardio_a_updated.xlsx?raw=true'\n",
        "data_a = pd.read_excel(link_a ,header=[0,1], index_col=0)\n",
        "print('data_a raw shape: ', data_a.shape)"
      ],
      "metadata": {
        "colab": {
          "base_uri": "https://localhost:8080/"
        },
        "id": "ztl_VKdlSLik",
        "outputId": "bc8090d2-ee8e-4fed-be35-9482663b6dd3"
      },
      "execution_count": 579,
      "outputs": [
        {
          "output_type": "stream",
          "name": "stdout",
          "text": [
            "data_a raw shape:  (263, 252)\n"
          ]
        }
      ]
    },
    {
      "cell_type": "code",
      "source": [
        "# Correcting data_a\n",
        "\n",
        "\n",
        "# replace NAs with -1\n",
        "data_a = data_a.fillna(-1)\n",
        "data_a = data_a.replace(' ',-1)\n",
        "\n",
        "# Modify 'Пол' feature: covert all string to lower format and convert to 0 and 1\n",
        "data_a['АНТРОПОФИЗИОМЕТРИЯ', 'Пол'] = data_a['АНТРОПОФИЗИОМЕТРИЯ', 'Пол'].str.lower().replace(['м','ж'],[0,1])\n",
        "\n",
        "# correct date typos\n",
        "data_a['АНТРОПОФИЗИОМЕТРИЯ', 'Дата госпитализации'][154] = '2013-03-22 00:00:00'\n",
        "data_a['АНТРОПОФИЗИОМЕТРИЯ', 'Дата госпитализации'][129] = '2013-01-17 00:00:00'\n",
        "data_a['АНТРОПОФИЗИОМЕТРИЯ', 'Дата госпитализации'] = pd.to_datetime(data_a['АНТРОПОФИЗИОМЕТРИЯ', 'Дата госпитализации'], format='%Y-%m-%d %H:%M:%S')\n",
        "\n",
        "# Replace typos or non-numeric data with '-1'\n",
        "data_a[('СОПУТСТВУЮЩИЕ ЗАБОЛЕВАНИЯ И СОСТОЯНИЯ', 'Стадия ХБП по KDOQI /ERA')] = \\\n",
        "data_a[('СОПУТСТВУЮЩИЕ ЗАБОЛЕВАНИЯ И СОСТОЯНИЯ', 'Стадия ХБП по KDOQI /ERA')].replace(\n",
        "    [\"С2\", \"С1\", \"с2\", \"с1\", \"С3а\", \"с3а\", \"C2\", \"с3б\", \"C1\", \"С3б\", \"С4\", \"С3\", \"3А\", \"с4\", \"с5\", \"С3b\", \"ОПН!\"], \\\n",
        "    [\"c2\", \"c1\", \"c2\", \"c1\", \"c3a\", \"c3a\", \"c2\", \"c3b\", \"c1\", \"c3b\", \"c4\", \"c3\", \"c3a\", \"c4\", \"c5\", \"c3b\", \"опн!\"] )\n",
        "data_a[('СОПУТСТВУЮЩИЕ ЗАБОЛЕВАНИЯ И СОСТОЯНИЯ', 'Стадия ХБП по KDOQI /ERA')] = \\\n",
        "data_a[('СОПУТСТВУЮЩИЕ ЗАБОЛЕВАНИЯ И СОСТОЯНИЯ', 'Стадия ХБП по KDOQI /ERA')].replace(\n",
        "    ['c2', 'c1', 'c3a', 'c3b', 'c4', 'c3', 0, 2, 'c5', 'опн!'], [0,  1,  2,  3,  4,  5,  6,  7,  8,  9] ).astype(int)\n",
        "# ---------------\n",
        "data_a[('СОПУТСТВУЮЩИЕ ЗАБОЛЕВАНИЯ И СОСТОЯНИЯ', 'Стадия по KDOQI/ERA')] = \\\n",
        "data_a[('СОПУТСТВУЮЩИЕ ЗАБОЛЕВАНИЯ И СОСТОЯНИЯ', 'Стадия по KDOQI/ERA')].replace(\n",
        "    [-1, 'С2', 'с2', 'С1', 0, 'c2', 'с1', 'С3а', 'C2', 'C1', 'С4', 'с3б', 'С3b', 'С3А', 'с4', 'C3б', 'C3а', 'С3б'],\n",
        "    [-1, 'c2', 'c2', 'c1', 0, 'c2', 'c1', 'c3a', 'c2', 'c1', 'c4', 'c3b', 'c3b', 'c3a', 'c4', 'c3b', 'c3a', 'c3b'] )\n",
        "data_a[('СОПУТСТВУЮЩИЕ ЗАБОЛЕВАНИЯ И СОСТОЯНИЯ', 'Стадия по KDOQI/ERA')] = \\\n",
        "data_a[('СОПУТСТВУЮЩИЕ ЗАБОЛЕВАНИЯ И СОСТОЯНИЯ', 'Стадия по KDOQI/ERA')].replace(\n",
        "    [-1, 'c2', 'c1', 'c3a', 'c3b', 0, 'c4'], [-1, 1, 2, 3, 4, 0, 5] ).astype(int)\n",
        "# ---------------\n",
        "data_a[('Хроническая сердечная недостаточность', 'НК')] = \\\n",
        "data_a[('Хроническая сердечная недостаточность', 'НК')].replace([-1, 1, '2а', 0, '2А', '2Б', 2, '2б'], [-1, 1, 3, 0, 3, 4, 2, 4]).astype(int)\n",
        "# ---------------\n",
        "data_a.rename({'Повторная реваскуляризация (ЧКВ/АКШ)': 'Повторная реваскуляризация'}, axis=1, inplace=True)\n",
        "data_a[('КОНЕЧНЫЕ ИСХОДЫ НАБЛЮДЕНИЯ', 'Повторная реваскуляризация')].replace(to_replace=['ЧКВ',\n",
        "                           'АКШ',\n",
        "                           '1899-12-29 00:00:00', \n",
        "                           'ЧКВ ',\n",
        "                           'АКШ ', \n",
        "                           '2018-07-30 00:00:00', \n",
        "                           '2019-04-15 00:00:00', \n",
        "                           '2020-08-30 00:00:00'], \n",
        "               value=1, \n",
        "               inplace=True)\n",
        "data_a[('КОНЕЧНЫЕ ИСХОДЫ НАБЛЮДЕНИЯ', 'Повторная реваскуляризация')].replace(to_replace=['0'], value=0, inplace=True)\n",
        "\n",
        "# Features with nulls: manually chose non-categorical columns with '0' and replace with '-1' \n",
        "# nulls = [col for col in data_a.columns[:90] if (len((data_a[col].unique())) > 12) and (data_a[col] == 0).sum() > 0] ; data_a[nulls]\n",
        "data_a[('ЛАБОРАТОРНЫЕ ПОКАЗАТЕЛИ', 'ЛПНП, ммоль/л')] = data_a[('ЛАБОРАТОРНЫЕ ПОКАЗАТЕЛИ', 'ЛПНП, ммоль/л')].replace([0],[-1]) \n",
        "data_a[('ЛАБОРАТОРНЫЕ ПОКАЗАТЕЛИ', 'Билирубин, мкмоль/л')] = data_a[('ЛАБОРАТОРНЫЕ ПОКАЗАТЕЛИ', 'Билирубин, мкмоль/л')].replace([0],[-1]) "
      ],
      "metadata": {
        "id": "WY9GWtLWSg3h"
      },
      "execution_count": 580,
      "outputs": []
    },
    {
      "cell_type": "code",
      "source": [
        "# Find columns\n",
        "\n",
        "\n",
        "hyperlipidemia = pd.DataFrame(columns=pd.MultiIndex.from_product([['ЛАБОРАТОРНЫЕ ПОКАЗАТЕЛИ'], ['Хсобщ, ммоль/л']]))\n",
        "hyperlipidemia[('ЛАБОРАТОРНЫЕ ПОКАЗАТЕЛИ'), ('Хсобщ, ммоль/л')] = data_a[('ЛАБОРАТОРНЫЕ ПОКАЗАТЕЛИ', 'Хсобщ, ммоль/л')]\n",
        "\n",
        "\n",
        "# drop features that were obtained at first discharge and biomarkers \n",
        "# columns must have no more than threshold=20% of NAs\n",
        "threshold = 0.2\n",
        "columns_with_useful_data = list(data_a.columns[:2]) + list(data_a.columns[3:77]) + list(data_a.columns[148:237])\n",
        "cols_with_NAs = [col for col in columns_with_useful_data if (data_a[col] == -1).sum() > threshold*data_a.shape[0]]\n",
        "data_a.drop(columns=cols_with_NAs, inplace=True)       \n",
        "\n",
        "\n",
        "# find all the necessary columns\n",
        "# define continuous and categorical groups\n",
        "clinical_and_biomarkers = list(data_a.columns[:2]) + list(data_a.columns[3:61]) + list(data_a.columns[132:218])\n",
        "continuous_cols = [col for col in clinical_and_biomarkers if (len((data_a[col].unique())) > 9)]\n",
        "categorical = [col for col in clinical_and_biomarkers if (len((data_a[col].unique())) <= 9)]\n",
        "clinical_and_biomarkers_and_hyperlipidemia = clinical_and_biomarkers + [('ЛАБОРАТОРНЫЕ ПОКАЗАТЕЛИ', 'Хсобщ, ммоль/л')]\n",
        "# hyperlipidemia = hyperlipidemia.replace(-1, np.nan)"
      ],
      "metadata": {
        "id": "hpuxOzzBbAeg"
      },
      "execution_count": 581,
      "outputs": []
    },
    {
      "cell_type": "code",
      "source": [
        "print('data_a raw shape: ', data_a.shape)"
      ],
      "metadata": {
        "colab": {
          "base_uri": "https://localhost:8080/"
        },
        "id": "q8O2xRIoGpdJ",
        "outputId": "dde6ff32-69be-4c19-cea2-731384729828"
      },
      "execution_count": 582,
      "outputs": [
        {
          "output_type": "stream",
          "name": "stdout",
          "text": [
            "data_a raw shape:  (263, 233)\n"
          ]
        }
      ]
    },
    {
      "cell_type": "code",
      "source": [
        "# For subsets\n",
        "\n",
        "\n",
        "biomarkers_a_columns = list(data_a.columns[132:218])\n",
        "clinical_and_biomarkers_a_columns = list(data_a.columns[:2]) + list(data_a.columns[3:61]) + list(data_a.columns[132:218])\n",
        "clinical_a_columns = list(data_a.columns[:2]) + list(data_a.columns[3:61])"
      ],
      "metadata": {
        "id": "No88VtSBiISb"
      },
      "execution_count": 583,
      "outputs": []
    },
    {
      "cell_type": "code",
      "source": [
        "data_a[biomarkers_a_columns].head(2)"
      ],
      "metadata": {
        "colab": {
          "base_uri": "https://localhost:8080/",
          "height": 0
        },
        "id": "W-UFN4vRkFsd",
        "outputId": "8615f241-be28-4dea-ff2b-eb1d1a64f106"
      },
      "execution_count": 584,
      "outputs": [
        {
          "output_type": "execute_result",
          "data": {
            "text/plain": [
              "      БИОМАРКЕРЫ БЛОК А                                                       \\\n",
              "№ п/п      TnI-1, нг/мл TnI-2, нг/мл TnI-3, нг/мл TnI-4, нг/мл CKMB-1, нг/мл   \n",
              "1                  7.56         13.0        2.310        -1.00          21.5   \n",
              "2                  5.17         10.3        0.304         0.66          28.2   \n",
              "\n",
              "                                                                         ...  \\\n",
              "№ п/п CKMB-2, нг/мл CKMB-3, нг/мл CKMB-4, нг/мл MG-1, нг/мл MG-2, нг/мл  ...   \n",
              "1              3.14          6.71          -1.0       460.6      164.20  ...   \n",
              "2              0.50          3.85           7.5       421.3       56.21  ...   \n",
              "\n",
              "                                                                              \\\n",
              "№ п/п АЧТВ-3, с АЧТВ-4, с АТ3-1, % АТ3-2, % АТ3-3, % АТ3-4, % FW-1,%  FW-2,%   \n",
              "1          31.2      -1.0   100.72    86.59   116.31    -1.00  120.0  120.00   \n",
              "2          34.0      36.1   100.55   101.63   127.76    99.58  120.0  115.99   \n",
              "\n",
              "                     \n",
              "№ п/п FW-3,% FW-4,%  \n",
              "1        293   -1.0  \n",
              "2         90   94.0  \n",
              "\n",
              "[2 rows x 86 columns]"
            ],
            "text/html": [
              "<div>\n",
              "<style scoped>\n",
              "    .dataframe tbody tr th:only-of-type {\n",
              "        vertical-align: middle;\n",
              "    }\n",
              "\n",
              "    .dataframe tbody tr th {\n",
              "        vertical-align: top;\n",
              "    }\n",
              "\n",
              "    .dataframe thead tr th {\n",
              "        text-align: left;\n",
              "    }\n",
              "</style>\n",
              "<table border=\"1\" class=\"dataframe\">\n",
              "  <thead>\n",
              "    <tr>\n",
              "      <th></th>\n",
              "      <th colspan=\"21\" halign=\"left\">БИОМАРКЕРЫ БЛОК А</th>\n",
              "    </tr>\n",
              "    <tr>\n",
              "      <th>№ п/п</th>\n",
              "      <th>TnI-1, нг/мл</th>\n",
              "      <th>TnI-2, нг/мл</th>\n",
              "      <th>TnI-3, нг/мл</th>\n",
              "      <th>TnI-4, нг/мл</th>\n",
              "      <th>CKMB-1, нг/мл</th>\n",
              "      <th>CKMB-2, нг/мл</th>\n",
              "      <th>CKMB-3, нг/мл</th>\n",
              "      <th>CKMB-4, нг/мл</th>\n",
              "      <th>MG-1, нг/мл</th>\n",
              "      <th>MG-2, нг/мл</th>\n",
              "      <th>...</th>\n",
              "      <th>АЧТВ-3, с</th>\n",
              "      <th>АЧТВ-4, с</th>\n",
              "      <th>АТ3-1, %</th>\n",
              "      <th>АТ3-2, %</th>\n",
              "      <th>АТ3-3, %</th>\n",
              "      <th>АТ3-4, %</th>\n",
              "      <th>FW-1,%</th>\n",
              "      <th>FW-2,%</th>\n",
              "      <th>FW-3,%</th>\n",
              "      <th>FW-4,%</th>\n",
              "    </tr>\n",
              "  </thead>\n",
              "  <tbody>\n",
              "    <tr>\n",
              "      <th>1</th>\n",
              "      <td>7.56</td>\n",
              "      <td>13.0</td>\n",
              "      <td>2.310</td>\n",
              "      <td>-1.00</td>\n",
              "      <td>21.5</td>\n",
              "      <td>3.14</td>\n",
              "      <td>6.71</td>\n",
              "      <td>-1.0</td>\n",
              "      <td>460.6</td>\n",
              "      <td>164.20</td>\n",
              "      <td>...</td>\n",
              "      <td>31.2</td>\n",
              "      <td>-1.0</td>\n",
              "      <td>100.72</td>\n",
              "      <td>86.59</td>\n",
              "      <td>116.31</td>\n",
              "      <td>-1.00</td>\n",
              "      <td>120.0</td>\n",
              "      <td>120.00</td>\n",
              "      <td>293</td>\n",
              "      <td>-1.0</td>\n",
              "    </tr>\n",
              "    <tr>\n",
              "      <th>2</th>\n",
              "      <td>5.17</td>\n",
              "      <td>10.3</td>\n",
              "      <td>0.304</td>\n",
              "      <td>0.66</td>\n",
              "      <td>28.2</td>\n",
              "      <td>0.50</td>\n",
              "      <td>3.85</td>\n",
              "      <td>7.5</td>\n",
              "      <td>421.3</td>\n",
              "      <td>56.21</td>\n",
              "      <td>...</td>\n",
              "      <td>34.0</td>\n",
              "      <td>36.1</td>\n",
              "      <td>100.55</td>\n",
              "      <td>101.63</td>\n",
              "      <td>127.76</td>\n",
              "      <td>99.58</td>\n",
              "      <td>120.0</td>\n",
              "      <td>115.99</td>\n",
              "      <td>90</td>\n",
              "      <td>94.0</td>\n",
              "    </tr>\n",
              "  </tbody>\n",
              "</table>\n",
              "<p>2 rows × 86 columns</p>\n",
              "</div>"
            ]
          },
          "metadata": {},
          "execution_count": 584
        }
      ]
    },
    {
      "cell_type": "code",
      "source": [
        "data_a[clinical_and_biomarkers_a_columns].head(2)"
      ],
      "metadata": {
        "colab": {
          "base_uri": "https://localhost:8080/",
          "height": 0
        },
        "id": "BmGRO6bUkN1y",
        "outputId": "0a28f61d-76d5-4412-8bfd-f5ec28bf5d53"
      },
      "execution_count": 585,
      "outputs": [
        {
          "output_type": "execute_result",
          "data": {
            "text/plain": [
              "      АНТРОПОФИЗИОМЕТРИЯ                                                       \\\n",
              "№ п/п                Пол Возраст  Рост  Вес        ИМТ S тела систол. АД  ЧСС   \n",
              "1                      0      75  1.64   80  29.744200   1.88        190   90   \n",
              "2                      0      49  1.76  130  41.967975   2.41        140  100   \n",
              "\n",
              "              ХАРАКТЕРИСТИКА ОИМ             ... БИОМАРКЕРЫ БЛОК А            \\\n",
              "№ п/п Давность болевого синдрома Cегмент ST  ...         АЧТВ-3, с АЧТВ-4, с   \n",
              "1                              2          1  ...              31.2      -1.0   \n",
              "2                              2          1  ...              34.0      36.1   \n",
              "\n",
              "                                                                        \n",
              "№ п/п АТ3-1, % АТ3-2, % АТ3-3, % АТ3-4, % FW-1,%  FW-2,% FW-3,% FW-4,%  \n",
              "1       100.72    86.59   116.31    -1.00  120.0  120.00    293   -1.0  \n",
              "2       100.55   101.63   127.76    99.58  120.0  115.99     90   94.0  \n",
              "\n",
              "[2 rows x 146 columns]"
            ],
            "text/html": [
              "<div>\n",
              "<style scoped>\n",
              "    .dataframe tbody tr th:only-of-type {\n",
              "        vertical-align: middle;\n",
              "    }\n",
              "\n",
              "    .dataframe tbody tr th {\n",
              "        vertical-align: top;\n",
              "    }\n",
              "\n",
              "    .dataframe thead tr th {\n",
              "        text-align: left;\n",
              "    }\n",
              "</style>\n",
              "<table border=\"1\" class=\"dataframe\">\n",
              "  <thead>\n",
              "    <tr>\n",
              "      <th></th>\n",
              "      <th colspan=\"8\" halign=\"left\">АНТРОПОФИЗИОМЕТРИЯ</th>\n",
              "      <th colspan=\"2\" halign=\"left\">ХАРАКТЕРИСТИКА ОИМ</th>\n",
              "      <th>...</th>\n",
              "      <th colspan=\"10\" halign=\"left\">БИОМАРКЕРЫ БЛОК А</th>\n",
              "    </tr>\n",
              "    <tr>\n",
              "      <th>№ п/п</th>\n",
              "      <th>Пол</th>\n",
              "      <th>Возраст</th>\n",
              "      <th>Рост</th>\n",
              "      <th>Вес</th>\n",
              "      <th>ИМТ</th>\n",
              "      <th>S тела</th>\n",
              "      <th>систол. АД</th>\n",
              "      <th>ЧСС</th>\n",
              "      <th>Давность болевого синдрома</th>\n",
              "      <th>Cегмент ST</th>\n",
              "      <th>...</th>\n",
              "      <th>АЧТВ-3, с</th>\n",
              "      <th>АЧТВ-4, с</th>\n",
              "      <th>АТ3-1, %</th>\n",
              "      <th>АТ3-2, %</th>\n",
              "      <th>АТ3-3, %</th>\n",
              "      <th>АТ3-4, %</th>\n",
              "      <th>FW-1,%</th>\n",
              "      <th>FW-2,%</th>\n",
              "      <th>FW-3,%</th>\n",
              "      <th>FW-4,%</th>\n",
              "    </tr>\n",
              "  </thead>\n",
              "  <tbody>\n",
              "    <tr>\n",
              "      <th>1</th>\n",
              "      <td>0</td>\n",
              "      <td>75</td>\n",
              "      <td>1.64</td>\n",
              "      <td>80</td>\n",
              "      <td>29.744200</td>\n",
              "      <td>1.88</td>\n",
              "      <td>190</td>\n",
              "      <td>90</td>\n",
              "      <td>2</td>\n",
              "      <td>1</td>\n",
              "      <td>...</td>\n",
              "      <td>31.2</td>\n",
              "      <td>-1.0</td>\n",
              "      <td>100.72</td>\n",
              "      <td>86.59</td>\n",
              "      <td>116.31</td>\n",
              "      <td>-1.00</td>\n",
              "      <td>120.0</td>\n",
              "      <td>120.00</td>\n",
              "      <td>293</td>\n",
              "      <td>-1.0</td>\n",
              "    </tr>\n",
              "    <tr>\n",
              "      <th>2</th>\n",
              "      <td>0</td>\n",
              "      <td>49</td>\n",
              "      <td>1.76</td>\n",
              "      <td>130</td>\n",
              "      <td>41.967975</td>\n",
              "      <td>2.41</td>\n",
              "      <td>140</td>\n",
              "      <td>100</td>\n",
              "      <td>2</td>\n",
              "      <td>1</td>\n",
              "      <td>...</td>\n",
              "      <td>34.0</td>\n",
              "      <td>36.1</td>\n",
              "      <td>100.55</td>\n",
              "      <td>101.63</td>\n",
              "      <td>127.76</td>\n",
              "      <td>99.58</td>\n",
              "      <td>120.0</td>\n",
              "      <td>115.99</td>\n",
              "      <td>90</td>\n",
              "      <td>94.0</td>\n",
              "    </tr>\n",
              "  </tbody>\n",
              "</table>\n",
              "<p>2 rows × 146 columns</p>\n",
              "</div>"
            ]
          },
          "metadata": {},
          "execution_count": 585
        }
      ]
    },
    {
      "cell_type": "code",
      "source": [
        "data_a[clinical_a_columns].head(2)"
      ],
      "metadata": {
        "colab": {
          "base_uri": "https://localhost:8080/",
          "height": 0
        },
        "id": "Mq95k1TNkPJs",
        "outputId": "25ed9433-4727-4a6e-c230-dc52ee73ff47"
      },
      "execution_count": 586,
      "outputs": [
        {
          "output_type": "execute_result",
          "data": {
            "text/plain": [
              "      АНТРОПОФИЗИОМЕТРИЯ                                                       \\\n",
              "№ п/п                Пол Возраст  Рост  Вес        ИМТ S тела систол. АД  ЧСС   \n",
              "1                      0      75  1.64   80  29.744200   1.88        190   90   \n",
              "2                      0      49  1.76  130  41.967975   2.41        140  100   \n",
              "\n",
              "              ХАРАКТЕРИСТИКА ОИМ             ... ИСХОДНАЯ ЭХОКГ          \\\n",
              "№ п/п Давность болевого синдрома Cегмент ST  ...          ФВ ЛЖ ТМЖП ЛЖ   \n",
              "1                              2          1  ...      55.147059     1.3   \n",
              "2                              2          1  ...      54.304636     1.4   \n",
              "\n",
              "                                                                     \n",
              "№ п/п ТЗС ЛЖ  ММ ЛЖ иММ ЛЖ   ЛП РМК Аневризма ЛЖ Тромбоз ЛЖ ИНЛС ЛЖ  \n",
              "1       1.20  271.5  144.4  4.2   1            0          0   0.000  \n",
              "2       1.13  301.6  125.1  4.1   1            0          0   1.125  \n",
              "\n",
              "[2 rows x 60 columns]"
            ],
            "text/html": [
              "<div>\n",
              "<style scoped>\n",
              "    .dataframe tbody tr th:only-of-type {\n",
              "        vertical-align: middle;\n",
              "    }\n",
              "\n",
              "    .dataframe tbody tr th {\n",
              "        vertical-align: top;\n",
              "    }\n",
              "\n",
              "    .dataframe thead tr th {\n",
              "        text-align: left;\n",
              "    }\n",
              "</style>\n",
              "<table border=\"1\" class=\"dataframe\">\n",
              "  <thead>\n",
              "    <tr>\n",
              "      <th></th>\n",
              "      <th colspan=\"8\" halign=\"left\">АНТРОПОФИЗИОМЕТРИЯ</th>\n",
              "      <th colspan=\"2\" halign=\"left\">ХАРАКТЕРИСТИКА ОИМ</th>\n",
              "      <th>...</th>\n",
              "      <th colspan=\"10\" halign=\"left\">ИСХОДНАЯ ЭХОКГ</th>\n",
              "    </tr>\n",
              "    <tr>\n",
              "      <th>№ п/п</th>\n",
              "      <th>Пол</th>\n",
              "      <th>Возраст</th>\n",
              "      <th>Рост</th>\n",
              "      <th>Вес</th>\n",
              "      <th>ИМТ</th>\n",
              "      <th>S тела</th>\n",
              "      <th>систол. АД</th>\n",
              "      <th>ЧСС</th>\n",
              "      <th>Давность болевого синдрома</th>\n",
              "      <th>Cегмент ST</th>\n",
              "      <th>...</th>\n",
              "      <th>ФВ ЛЖ</th>\n",
              "      <th>ТМЖП ЛЖ</th>\n",
              "      <th>ТЗС ЛЖ</th>\n",
              "      <th>ММ ЛЖ</th>\n",
              "      <th>иММ ЛЖ</th>\n",
              "      <th>ЛП</th>\n",
              "      <th>РМК</th>\n",
              "      <th>Аневризма ЛЖ</th>\n",
              "      <th>Тромбоз ЛЖ</th>\n",
              "      <th>ИНЛС ЛЖ</th>\n",
              "    </tr>\n",
              "  </thead>\n",
              "  <tbody>\n",
              "    <tr>\n",
              "      <th>1</th>\n",
              "      <td>0</td>\n",
              "      <td>75</td>\n",
              "      <td>1.64</td>\n",
              "      <td>80</td>\n",
              "      <td>29.744200</td>\n",
              "      <td>1.88</td>\n",
              "      <td>190</td>\n",
              "      <td>90</td>\n",
              "      <td>2</td>\n",
              "      <td>1</td>\n",
              "      <td>...</td>\n",
              "      <td>55.147059</td>\n",
              "      <td>1.3</td>\n",
              "      <td>1.20</td>\n",
              "      <td>271.5</td>\n",
              "      <td>144.4</td>\n",
              "      <td>4.2</td>\n",
              "      <td>1</td>\n",
              "      <td>0</td>\n",
              "      <td>0</td>\n",
              "      <td>0.000</td>\n",
              "    </tr>\n",
              "    <tr>\n",
              "      <th>2</th>\n",
              "      <td>0</td>\n",
              "      <td>49</td>\n",
              "      <td>1.76</td>\n",
              "      <td>130</td>\n",
              "      <td>41.967975</td>\n",
              "      <td>2.41</td>\n",
              "      <td>140</td>\n",
              "      <td>100</td>\n",
              "      <td>2</td>\n",
              "      <td>1</td>\n",
              "      <td>...</td>\n",
              "      <td>54.304636</td>\n",
              "      <td>1.4</td>\n",
              "      <td>1.13</td>\n",
              "      <td>301.6</td>\n",
              "      <td>125.1</td>\n",
              "      <td>4.1</td>\n",
              "      <td>1</td>\n",
              "      <td>0</td>\n",
              "      <td>0</td>\n",
              "      <td>1.125</td>\n",
              "    </tr>\n",
              "  </tbody>\n",
              "</table>\n",
              "<p>2 rows × 60 columns</p>\n",
              "</div>"
            ]
          },
          "metadata": {},
          "execution_count": 586
        }
      ]
    },
    {
      "cell_type": "markdown",
      "source": [
        "#### Dataset B"
      ],
      "metadata": {
        "id": "Rji8hFffa9sY"
      }
    },
    {
      "cell_type": "code",
      "source": [
        "# download Dataset A from Github repo and read as excel file\n",
        "\n",
        "\n",
        "link_b = 'https://github.com/KonstantinBurkin/personalized-medicine/blob/master/Data/cardio_b_updated.xlsx?raw=true'\n",
        "data_b = pd.read_excel(link_b ,header=[0,1], index_col=0)\n",
        "print('data_b raw shape: ', data_b.shape)"
      ],
      "metadata": {
        "colab": {
          "base_uri": "https://localhost:8080/"
        },
        "id": "uTNDSKRUyCK4",
        "outputId": "7a2b36b2-2fb2-46f7-a343-07676385351e"
      },
      "execution_count": 587,
      "outputs": [
        {
          "output_type": "stream",
          "name": "stdout",
          "text": [
            "data_b raw shape:  (109, 232)\n"
          ]
        }
      ]
    },
    {
      "cell_type": "code",
      "source": [
        "# Correcting data_b\n",
        "\n",
        "\n",
        "# replace NAs with -1\n",
        "data_b = data_b.fillna(-1)\n",
        "data_b = data_b.replace(' ',-1)\n",
        "# Modify 'Пол' feature: covert all string to lower format and convert to 0 and 1\n",
        "data_b['АНТРОПОФИЗИОМЕТРИЯ', 'Пол'] = data_b['АНТРОПОФИЗИОМЕТРИЯ', 'Пол'].str.lower().replace(['м','ж'],[0,1])\n",
        "\n",
        "# Replace typos or non-numeric data with '-1'\n",
        "data_b[('ИСХОДНАЯ ЭХОКГ', 'РМК')] = data_b[('ИСХОДНАЯ ЭХОКГ', 'РМК')].replace('1-2', -1).astype(int)\n",
        "# ---------------\n",
        "data_b[('КОРОНАРОАНГИОГРАФИЯ И РЕВАСКУЛЯРИЗАЦИЯ МИОКАРДА', 'TIMI в ИЗА')] = \\\n",
        "data_b[('КОРОНАРОАНГИОГРАФИЯ И РЕВАСКУЛЯРИЗАЦИЯ МИОКАРДА', 'TIMI в ИЗА')].replace(['0-I', '0-1', '1-2'], [4, 5, 6]).astype(int)\n",
        "# ---------------\n",
        "data_b[('СОПУТСТВУЮЩИЕ ЗАБОЛЕВАНИЯ И СОСТОЯНИЯ', 'Стадия ХБП по KDOQI /ERA')] = \\\n",
        "data_b[('СОПУТСТВУЮЩИЕ ЗАБОЛЕВАНИЯ И СОСТОЯНИЯ', 'Стадия ХБП по KDOQI /ERA')].replace(\n",
        "    [\"С2\", \"С1\", \"с2\", \"с1\", \"С3а\", \"с3а\", \"C2\", \"с3б\", \"C1\", \"С3б\", \"С4\", \"С3\", \"3А\", \"с4\", \"с5\", \"С3b\", \"ОПН!\"], \\\n",
        "    [\"c2\", \"c1\", \"c2\", \"c1\", \"c3a\", \"c3a\", \"c2\", \"c3b\", \"c1\", \"c3b\", \"c4\", \"c3\", \"3a\", \"c4\", \"c5\", \"c3b\", \"опн!\"] )\n",
        "data_b[('СОПУТСТВУЮЩИЕ ЗАБОЛЕВАНИЯ И СОСТОЯНИЯ', 'Стадия ХБП по KDOQI /ERA')] = \\\n",
        "data_b[('СОПУТСТВУЮЩИЕ ЗАБОЛЕВАНИЯ И СОСТОЯНИЯ', 'Стадия ХБП по KDOQI /ERA')].replace(\n",
        "    [0, 'c1', 2, 'c2', 'c3', '3a', 'c3a', 'c3b', 'c4', 'c5', 'опн!'], [0,  1,  2,  3,  4,  5,  6,  7,  8,  9, 10] ).astype(int)\n",
        "# ---------------\n",
        "data_b[('ЭХОКГ (ИСХОД)', 'ТМЖП ЛЖ')] = \\\n",
        "data_b[('ЭХОКГ (ИСХОД)', 'ТМЖП ЛЖ')].replace(['1,1-1,0-0,8', '1,0 - 1,5', '1,3; 0,8'], -1).astype(float)\n",
        "# ---------------\n",
        "data_b[('ПОВТОРНАЯ ЭХОКГ', 'ЛП')] = \\\n",
        "data_b[('ПОВТОРНАЯ ЭХОКГ', 'ЛП')].replace(['С2'], -1).astype(float)\n",
        "# ---------------\n",
        "data_b[('ПОВТОРНАЯ ЭХОКГ', 'ТМЖП ЛЖ')] = \\\n",
        "data_b[('ПОВТОРНАЯ ЭХОКГ', 'ТМЖП ЛЖ')].replace(['1,1-1.0-0,7'], -1).astype(float)\n",
        "# ---------------\n",
        "data_b.replace(to_replace=['ЧКВ',\n",
        "                           'АКШ',\n",
        "                           '1899-12-29 00:00:00', \n",
        "                           'ЧКВ ',\n",
        "                           'АКШ ', \n",
        "                           pd.to_datetime('2018-07-30 00:00:00', format='%Y-%m-%d %H:%M:%S'),\n",
        "                           pd.to_datetime('2019-04-15 00:00:00', format='%Y-%m-%d %H:%M:%S'),\n",
        "                           pd.to_datetime('2020-08-30 00:00:00', format='%Y-%m-%d %H:%M:%S'),\n",
        "                           ], \n",
        "               value=1, \n",
        "               inplace=True)\n",
        "data_b[('КОНЕЧНЫЕ ИСХОДЫ НАБЛЮДЕНИЯ', 'Повторная реваскуляризация')].replace(to_replace=['0'], value=0, inplace=True)\n",
        "\n",
        "# Features with nulls: manually chose non-categorical columns with '0' and replace with '-1' \n",
        "# nulls = [col for col in data_b.columns[:90] if (len((data_b[col].unique())) > 12) and (data_b[col] == 0).sum() > 0] ; data_b[nulls]\n",
        "data_b[('ИСХОДНАЯ ЭХОКГ', 'ИНЛС ЛЖ')] = data_b[('ИСХОДНАЯ ЭХОКГ', 'ИНЛС ЛЖ')].replace([0],[-1]) "
      ],
      "metadata": {
        "id": "wRV3SF90a_7B"
      },
      "execution_count": 588,
      "outputs": []
    },
    {
      "cell_type": "code",
      "source": [
        "# Find columns\n",
        "\n",
        "\n",
        "# drop features that were obtained at first discharge and biomarkers that have more than 20% of NAs\n",
        "cols_with_NAs = [col for col in (list(data_b.columns[:2]) + list(data_b.columns[3:84])) \\\n",
        "                        if (data_b[col] == -1).sum() > 0.2*data_b.shape[0]] # there are more than 20% of NAs in some biomarkers\n",
        "data_b.drop(columns=cols_with_NAs, inplace=True)\n",
        "\n",
        "      \n",
        "\n",
        "\n",
        "clinical_and_biomarkers = list(data_b.columns[:2]) + list(data_b.columns[3:72]) + list(data_b.columns[214:])\n",
        "continuous_cols = [col for col in clinical_and_biomarkers if (len((data_b[col].unique())) >= 7)]\n",
        "categorical = [col for col in clinical_and_biomarkers if (len((data_b[col].unique())) < 7)]\n"
      ],
      "metadata": {
        "id": "sKMb99Q_0_iI"
      },
      "execution_count": 589,
      "outputs": []
    },
    {
      "cell_type": "code",
      "source": [
        "# For subsets\n",
        "biomarkers_b_columns = list(data_b.columns[214:])\n",
        "clinical_and_biomarkers_b_columns = list(data_b.columns[:2]) + list(data_b.columns[3:72]) + list(data_b.columns[214:])\n",
        "clinical_b_columns = list(data_b.columns[:2]) + list(data_b.columns[3:72])"
      ],
      "metadata": {
        "id": "hy9P61cNyGbu"
      },
      "execution_count": 590,
      "outputs": []
    },
    {
      "cell_type": "code",
      "source": [
        "data_b[biomarkers_b_columns].head(2)"
      ],
      "metadata": {
        "colab": {
          "base_uri": "https://localhost:8080/",
          "height": 0
        },
        "outputId": "f0e2f434-c1eb-4b90-d5a3-316a938cab70",
        "id": "PseslAu01Qc4"
      },
      "execution_count": 591,
      "outputs": [
        {
          "output_type": "execute_result",
          "data": {
            "text/plain": [
              "      БИОМАРКЕРЫ БЛОК Е                                                     \\\n",
              "№ п/п            БСЖК-1 БСЖК-2 hsТnT-2, пг/мл hsТnT-2, пг/мл.1 MG-1, нг/мл   \n",
              "1                     1      1           9.52           1200.0       24.00   \n",
              "2                     0      0          19.52           1175.0       62.83   \n",
              "\n",
              "                   \n",
              "№ п/п MG-2, нг/мл  \n",
              "1           62.72  \n",
              "2           36.88  "
            ],
            "text/html": [
              "<div>\n",
              "<style scoped>\n",
              "    .dataframe tbody tr th:only-of-type {\n",
              "        vertical-align: middle;\n",
              "    }\n",
              "\n",
              "    .dataframe tbody tr th {\n",
              "        vertical-align: top;\n",
              "    }\n",
              "\n",
              "    .dataframe thead tr th {\n",
              "        text-align: left;\n",
              "    }\n",
              "</style>\n",
              "<table border=\"1\" class=\"dataframe\">\n",
              "  <thead>\n",
              "    <tr>\n",
              "      <th></th>\n",
              "      <th colspan=\"6\" halign=\"left\">БИОМАРКЕРЫ БЛОК Е</th>\n",
              "    </tr>\n",
              "    <tr>\n",
              "      <th>№ п/п</th>\n",
              "      <th>БСЖК-1</th>\n",
              "      <th>БСЖК-2</th>\n",
              "      <th>hsТnT-2, пг/мл</th>\n",
              "      <th>hsТnT-2, пг/мл.1</th>\n",
              "      <th>MG-1, нг/мл</th>\n",
              "      <th>MG-2, нг/мл</th>\n",
              "    </tr>\n",
              "  </thead>\n",
              "  <tbody>\n",
              "    <tr>\n",
              "      <th>1</th>\n",
              "      <td>1</td>\n",
              "      <td>1</td>\n",
              "      <td>9.52</td>\n",
              "      <td>1200.0</td>\n",
              "      <td>24.00</td>\n",
              "      <td>62.72</td>\n",
              "    </tr>\n",
              "    <tr>\n",
              "      <th>2</th>\n",
              "      <td>0</td>\n",
              "      <td>0</td>\n",
              "      <td>19.52</td>\n",
              "      <td>1175.0</td>\n",
              "      <td>62.83</td>\n",
              "      <td>36.88</td>\n",
              "    </tr>\n",
              "  </tbody>\n",
              "</table>\n",
              "</div>"
            ]
          },
          "metadata": {},
          "execution_count": 591
        }
      ]
    },
    {
      "cell_type": "code",
      "source": [
        "data_b[clinical_and_biomarkers_b_columns].head(2)"
      ],
      "metadata": {
        "colab": {
          "base_uri": "https://localhost:8080/",
          "height": 0
        },
        "outputId": "6421b350-dc34-45ac-d32b-77a4b52c7df1",
        "id": "yS5cXcGd1Qc9"
      },
      "execution_count": 592,
      "outputs": [
        {
          "output_type": "execute_result",
          "data": {
            "text/plain": [
              "      АНТРОПОФИЗИОМЕТРИЯ                                                      \\\n",
              "№ п/п                Пол Возраст  Рост  Вес        ИМТ S тела систол. АД ЧСС   \n",
              "1                      1      68  1.60   52  20.312500   1.51        140  65   \n",
              "2                      0      50  1.84  115  33.967391   2.38        134  67   \n",
              "\n",
              "      ПСИХОСОЦИАЛЬНЫЕ ФАКТОРЫ         ХАРАКТЕРИСТИКА ОИМ  ... ИСХОДНАЯ ЭХОКГ  \\\n",
              "№ п/п                 Курение Давность болевого синдрома  ...     Тромбоз ЛЖ   \n",
              "1                           0                          1  ...              0   \n",
              "2                           1                          1  ...              0   \n",
              "\n",
              "                КЛИРЕНС 2       БИОМАРКЕРЫ БЛОК Е                        \\\n",
              "№ п/п ИНЛС ЛЖ Креатинин 2   СКФ            БСЖК-1 БСЖК-2 hsТnT-2, пг/мл   \n",
              "1      1.0625        58.0  95.0                 1      1           9.52   \n",
              "2      1.0625       126.0  56.0                 0      0          19.52   \n",
              "\n",
              "                                                \n",
              "№ п/п hsТnT-2, пг/мл.1 MG-1, нг/мл MG-2, нг/мл  \n",
              "1               1200.0       24.00       62.72  \n",
              "2               1175.0       62.83       36.88  \n",
              "\n",
              "[2 rows x 77 columns]"
            ],
            "text/html": [
              "<div>\n",
              "<style scoped>\n",
              "    .dataframe tbody tr th:only-of-type {\n",
              "        vertical-align: middle;\n",
              "    }\n",
              "\n",
              "    .dataframe tbody tr th {\n",
              "        vertical-align: top;\n",
              "    }\n",
              "\n",
              "    .dataframe thead tr th {\n",
              "        text-align: left;\n",
              "    }\n",
              "</style>\n",
              "<table border=\"1\" class=\"dataframe\">\n",
              "  <thead>\n",
              "    <tr>\n",
              "      <th></th>\n",
              "      <th colspan=\"8\" halign=\"left\">АНТРОПОФИЗИОМЕТРИЯ</th>\n",
              "      <th>ПСИХОСОЦИАЛЬНЫЕ ФАКТОРЫ</th>\n",
              "      <th>ХАРАКТЕРИСТИКА ОИМ</th>\n",
              "      <th>...</th>\n",
              "      <th colspan=\"2\" halign=\"left\">ИСХОДНАЯ ЭХОКГ</th>\n",
              "      <th colspan=\"2\" halign=\"left\">КЛИРЕНС 2</th>\n",
              "      <th colspan=\"6\" halign=\"left\">БИОМАРКЕРЫ БЛОК Е</th>\n",
              "    </tr>\n",
              "    <tr>\n",
              "      <th>№ п/п</th>\n",
              "      <th>Пол</th>\n",
              "      <th>Возраст</th>\n",
              "      <th>Рост</th>\n",
              "      <th>Вес</th>\n",
              "      <th>ИМТ</th>\n",
              "      <th>S тела</th>\n",
              "      <th>систол. АД</th>\n",
              "      <th>ЧСС</th>\n",
              "      <th>Курение</th>\n",
              "      <th>Давность болевого синдрома</th>\n",
              "      <th>...</th>\n",
              "      <th>Тромбоз ЛЖ</th>\n",
              "      <th>ИНЛС ЛЖ</th>\n",
              "      <th>Креатинин 2</th>\n",
              "      <th>СКФ</th>\n",
              "      <th>БСЖК-1</th>\n",
              "      <th>БСЖК-2</th>\n",
              "      <th>hsТnT-2, пг/мл</th>\n",
              "      <th>hsТnT-2, пг/мл.1</th>\n",
              "      <th>MG-1, нг/мл</th>\n",
              "      <th>MG-2, нг/мл</th>\n",
              "    </tr>\n",
              "  </thead>\n",
              "  <tbody>\n",
              "    <tr>\n",
              "      <th>1</th>\n",
              "      <td>1</td>\n",
              "      <td>68</td>\n",
              "      <td>1.60</td>\n",
              "      <td>52</td>\n",
              "      <td>20.312500</td>\n",
              "      <td>1.51</td>\n",
              "      <td>140</td>\n",
              "      <td>65</td>\n",
              "      <td>0</td>\n",
              "      <td>1</td>\n",
              "      <td>...</td>\n",
              "      <td>0</td>\n",
              "      <td>1.0625</td>\n",
              "      <td>58.0</td>\n",
              "      <td>95.0</td>\n",
              "      <td>1</td>\n",
              "      <td>1</td>\n",
              "      <td>9.52</td>\n",
              "      <td>1200.0</td>\n",
              "      <td>24.00</td>\n",
              "      <td>62.72</td>\n",
              "    </tr>\n",
              "    <tr>\n",
              "      <th>2</th>\n",
              "      <td>0</td>\n",
              "      <td>50</td>\n",
              "      <td>1.84</td>\n",
              "      <td>115</td>\n",
              "      <td>33.967391</td>\n",
              "      <td>2.38</td>\n",
              "      <td>134</td>\n",
              "      <td>67</td>\n",
              "      <td>1</td>\n",
              "      <td>1</td>\n",
              "      <td>...</td>\n",
              "      <td>0</td>\n",
              "      <td>1.0625</td>\n",
              "      <td>126.0</td>\n",
              "      <td>56.0</td>\n",
              "      <td>0</td>\n",
              "      <td>0</td>\n",
              "      <td>19.52</td>\n",
              "      <td>1175.0</td>\n",
              "      <td>62.83</td>\n",
              "      <td>36.88</td>\n",
              "    </tr>\n",
              "  </tbody>\n",
              "</table>\n",
              "<p>2 rows × 77 columns</p>\n",
              "</div>"
            ]
          },
          "metadata": {},
          "execution_count": 592
        }
      ]
    },
    {
      "cell_type": "code",
      "source": [
        "data_b[clinical_b_columns].head(2)"
      ],
      "metadata": {
        "colab": {
          "base_uri": "https://localhost:8080/",
          "height": 0
        },
        "outputId": "974ff71f-85f4-47c8-cab4-828bb9418548",
        "id": "EbCcKAXZ1Qc9"
      },
      "execution_count": 593,
      "outputs": [
        {
          "output_type": "execute_result",
          "data": {
            "text/plain": [
              "      АНТРОПОФИЗИОМЕТРИЯ                                                      \\\n",
              "№ п/п                Пол Возраст  Рост  Вес        ИМТ S тела систол. АД ЧСС   \n",
              "1                      1      68  1.60   52  20.312500   1.51        140  65   \n",
              "2                      0      50  1.84  115  33.967391   2.38        134  67   \n",
              "\n",
              "      ПСИХОСОЦИАЛЬНЫЕ ФАКТОРЫ         ХАРАКТЕРИСТИКА ОИМ  ... ИСХОДНАЯ ЭХОКГ  \\\n",
              "№ п/п                 Курение Давность болевого синдрома  ...         иММ ЛЖ   \n",
              "1                           0                          1  ...          137.5   \n",
              "2                           1                          1  ...          104.0   \n",
              "\n",
              "                                                           КЛИРЕНС 2        \n",
              "№ п/п   ЛП   ПП   ПЖ РМК Аневризма ЛЖ Тромбоз ЛЖ ИНЛС ЛЖ Креатинин 2   СКФ  \n",
              "1      2.8  2.7  2.6  -1            0          0  1.0625        58.0  95.0  \n",
              "2      3.7  3.7  3.0   1            0          0  1.0625       126.0  56.0  \n",
              "\n",
              "[2 rows x 71 columns]"
            ],
            "text/html": [
              "<div>\n",
              "<style scoped>\n",
              "    .dataframe tbody tr th:only-of-type {\n",
              "        vertical-align: middle;\n",
              "    }\n",
              "\n",
              "    .dataframe tbody tr th {\n",
              "        vertical-align: top;\n",
              "    }\n",
              "\n",
              "    .dataframe thead tr th {\n",
              "        text-align: left;\n",
              "    }\n",
              "</style>\n",
              "<table border=\"1\" class=\"dataframe\">\n",
              "  <thead>\n",
              "    <tr>\n",
              "      <th></th>\n",
              "      <th colspan=\"8\" halign=\"left\">АНТРОПОФИЗИОМЕТРИЯ</th>\n",
              "      <th>ПСИХОСОЦИАЛЬНЫЕ ФАКТОРЫ</th>\n",
              "      <th>ХАРАКТЕРИСТИКА ОИМ</th>\n",
              "      <th>...</th>\n",
              "      <th colspan=\"8\" halign=\"left\">ИСХОДНАЯ ЭХОКГ</th>\n",
              "      <th colspan=\"2\" halign=\"left\">КЛИРЕНС 2</th>\n",
              "    </tr>\n",
              "    <tr>\n",
              "      <th>№ п/п</th>\n",
              "      <th>Пол</th>\n",
              "      <th>Возраст</th>\n",
              "      <th>Рост</th>\n",
              "      <th>Вес</th>\n",
              "      <th>ИМТ</th>\n",
              "      <th>S тела</th>\n",
              "      <th>систол. АД</th>\n",
              "      <th>ЧСС</th>\n",
              "      <th>Курение</th>\n",
              "      <th>Давность болевого синдрома</th>\n",
              "      <th>...</th>\n",
              "      <th>иММ ЛЖ</th>\n",
              "      <th>ЛП</th>\n",
              "      <th>ПП</th>\n",
              "      <th>ПЖ</th>\n",
              "      <th>РМК</th>\n",
              "      <th>Аневризма ЛЖ</th>\n",
              "      <th>Тромбоз ЛЖ</th>\n",
              "      <th>ИНЛС ЛЖ</th>\n",
              "      <th>Креатинин 2</th>\n",
              "      <th>СКФ</th>\n",
              "    </tr>\n",
              "  </thead>\n",
              "  <tbody>\n",
              "    <tr>\n",
              "      <th>1</th>\n",
              "      <td>1</td>\n",
              "      <td>68</td>\n",
              "      <td>1.60</td>\n",
              "      <td>52</td>\n",
              "      <td>20.312500</td>\n",
              "      <td>1.51</td>\n",
              "      <td>140</td>\n",
              "      <td>65</td>\n",
              "      <td>0</td>\n",
              "      <td>1</td>\n",
              "      <td>...</td>\n",
              "      <td>137.5</td>\n",
              "      <td>2.8</td>\n",
              "      <td>2.7</td>\n",
              "      <td>2.6</td>\n",
              "      <td>-1</td>\n",
              "      <td>0</td>\n",
              "      <td>0</td>\n",
              "      <td>1.0625</td>\n",
              "      <td>58.0</td>\n",
              "      <td>95.0</td>\n",
              "    </tr>\n",
              "    <tr>\n",
              "      <th>2</th>\n",
              "      <td>0</td>\n",
              "      <td>50</td>\n",
              "      <td>1.84</td>\n",
              "      <td>115</td>\n",
              "      <td>33.967391</td>\n",
              "      <td>2.38</td>\n",
              "      <td>134</td>\n",
              "      <td>67</td>\n",
              "      <td>1</td>\n",
              "      <td>1</td>\n",
              "      <td>...</td>\n",
              "      <td>104.0</td>\n",
              "      <td>3.7</td>\n",
              "      <td>3.7</td>\n",
              "      <td>3.0</td>\n",
              "      <td>1</td>\n",
              "      <td>0</td>\n",
              "      <td>0</td>\n",
              "      <td>1.0625</td>\n",
              "      <td>126.0</td>\n",
              "      <td>56.0</td>\n",
              "    </tr>\n",
              "  </tbody>\n",
              "</table>\n",
              "<p>2 rows × 71 columns</p>\n",
              "</div>"
            ]
          },
          "metadata": {},
          "execution_count": 593
        }
      ]
    },
    {
      "cell_type": "markdown",
      "source": [
        "#### Dataset C"
      ],
      "metadata": {
        "id": "EzQUKc3Edx-y"
      }
    },
    {
      "cell_type": "code",
      "source": [
        "# download Dataset A from Github repo and read as excel file\n",
        "\n",
        "\n",
        "link_c = 'https://github.com/KonstantinBurkin/personalized-medicine/blob/master/Data/%D0%91%D0%BB%D0%BE%D0%BA%20%D0%A1%C2%A0%D0%BE%D0%B1%D0%B5%D0%B7%D0%BB%D0%B8%D1%87.xlsx?raw=true'\n",
        "data_c = pd.read_excel(link_c ,header=[0,1], index_col=0)\n",
        "print('data_c raw shape: ', data_c.shape)"
      ],
      "metadata": {
        "colab": {
          "base_uri": "https://localhost:8080/"
        },
        "id": "3m3hyXLu6F3-",
        "outputId": "99b5ad16-2cac-40ff-98ac-c98fb09f2a2a"
      },
      "execution_count": 594,
      "outputs": [
        {
          "output_type": "stream",
          "name": "stdout",
          "text": [
            "data_c raw shape:  (129, 470)\n"
          ]
        }
      ]
    },
    {
      "cell_type": "code",
      "source": [
        "# Correcting data_c\n",
        "\n",
        "\n",
        "# replace NAs with -1\n",
        "data_c = data_c.fillna(-1)\n",
        "data_c = data_c.replace(' ',-1)\n",
        "# data_c.columns[(data_c.dtypes == object).values]\n",
        "# Modify 'Пол' feature: covert all string to lower format and convert to 0 and 1\n",
        "data_c['АНТРОПОФИЗИОМЕТРИЯ', 'Пол'] = data_c['АНТРОПОФИЗИОМЕТРИЯ', 'Пол'].replace([1, 2],[0,1])\n",
        "# Reencrypt psychological scales\n",
        "data_c['ПСИХОСОЦИАЛЬНЫЕ ФАКТОРЫ', 'Ситуативная тревожность Спилберга (баллы)'].replace(range(31), 0, inplace=True)\n",
        "data_c['ПСИХОСОЦИАЛЬНЫЕ ФАКТОРЫ', 'Ситуативная тревожность Спилберга (баллы)'].replace(range(31, 46), 1, inplace=True)\n",
        "data_c['ПСИХОСОЦИАЛЬНЫЕ ФАКТОРЫ', 'Ситуативная тревожность Спилберга (баллы)'].replace(range(46,100), 2, inplace=True)\n",
        "data_c['ПСИХОСОЦИАЛЬНЫЕ ФАКТОРЫ', 'Личная тревожность Спилберга (баллы)'].replace(range(31), 0, inplace=True)\n",
        "data_c['ПСИХОСОЦИАЛЬНЫЕ ФАКТОРЫ', 'Личная тревожность Спилберга (баллы)'].replace(range(31, 46), 1, inplace=True)\n",
        "data_c['ПСИХОСОЦИАЛЬНЫЕ ФАКТОРЫ', 'Личная тревожность Спилберга (баллы)'].replace(range(46,100), 2, inplace=True)\n",
        "data_c['ПСИХОСОЦИАЛЬНЫЕ ФАКТОРЫ', 'Опросник депрессии Бека (баллы)'].replace(range(10), 0, inplace=True)\n",
        "data_c['ПСИХОСОЦИАЛЬНЫЕ ФАКТОРЫ', 'Опросник депрессии Бека (баллы)'].replace(range(10, 20), 1, inplace=True)\n",
        "data_c['ПСИХОСОЦИАЛЬНЫЕ ФАКТОРЫ', 'Опросник депрессии Бека (баллы)'].replace(range(20,100), 2, inplace=True)\n",
        "data_c['ПСИХОСОЦИАЛЬНЫЕ ФАКТОРЫ', 'Шкала AUDIT (баллы)'].replace(range(16), 0, inplace=True)\n",
        "data_c['ПСИХОСОЦИАЛЬНЫЕ ФАКТОРЫ', 'Шкала AUDIT (баллы)'].replace(range(16, 100), 1, inplace=True)\n",
        "\n",
        "date_c = pd.to_datetime(data_c['АНТРОПОФИЗИОМЕТРИЯ', 'Дата госпитализации'], format='%Y-%m-%d %H:%M:%S')\n",
        "data_c.drop(columns=[('АНТРОПОФИЗИОМЕТРИЯ', 'Дата рождения'), ('АНТРОПОФИЗИОМЕТРИЯ', 'Дата госпитализации')], inplace=True)\n",
        "data_c.drop(columns=['ПЛАНОВАЯ ТЕРАПИЯ ПРИ ВЫПИСКЕ', 'ГОСПИТАЛЬНАЯ ТЕРАПИЯ'], inplace=True)\n"
      ],
      "metadata": {
        "id": "sUCK37pXeJVE"
      },
      "execution_count": 595,
      "outputs": []
    },
    {
      "cell_type": "code",
      "source": [
        "# Find columns\n",
        "\n",
        "\n",
        "# cols with features from first discharge and biomarkers\n",
        "cols_of_interest = list(data_c.columns[:153]) + list(data_c.columns[419:424])\n",
        "\n",
        "# drop features that were obtained at first discharge and biomarkers that have more than 20% of NAs\n",
        "cols_with_NAs = [col for col in cols_of_interest[:-5] if (data_c[col] == -1).sum() > 0.2*data_c.shape[0]]\n",
        "cols_of_interest = [col for col in cols_of_interest if col not in cols_with_NAs]\n",
        "continuous_cols = [col for col in cols_of_interest if (len((data_c[col].unique())) > 9)]\n",
        "categorical = [col for col in cols_of_interest if (len((data_c[col].unique())) <= 9)]"
      ],
      "metadata": {
        "id": "hM4yDebUDLhE"
      },
      "execution_count": 596,
      "outputs": []
    },
    {
      "cell_type": "code",
      "source": [
        "# For subsets\n",
        "\n",
        "\n",
        "biomarkers_c_columns = cols_of_interest[-5:]\n",
        "clinical_c_columns = cols_of_interest[:-5]\n",
        "clinical_and_biomarkers_c_columns = clinical_c_columns + biomarkers_c_columns"
      ],
      "metadata": {
        "id": "htsUAHbsnBmi"
      },
      "execution_count": 597,
      "outputs": []
    },
    {
      "cell_type": "markdown",
      "source": [
        "#### Сombined Dataset ABC"
      ],
      "metadata": {
        "id": "3ifjgUqCfC7d"
      }
    },
    {
      "cell_type": "code",
      "source": [
        "# merge clinicals of all three datasets\n",
        "data_abc = pd.concat([data_a, data_b, data_c], axis=0)\n",
        "data_abc.dropna(axis=1, inplace=True)\n",
        "\n",
        "cols_of_interest = list(data_abc.columns)[:56]"
      ],
      "metadata": {
        "id": "lZhoGHHqfUx4"
      },
      "execution_count": 598,
      "outputs": []
    },
    {
      "cell_type": "code",
      "source": [
        "# For subsets\n",
        "clinical_abc_columns = cols_of_interest"
      ],
      "metadata": {
        "id": "MB5KrAmSDu8D"
      },
      "execution_count": 599,
      "outputs": []
    },
    {
      "cell_type": "code",
      "source": [
        "data_abc[clinical_abc_columns].head()"
      ],
      "metadata": {
        "colab": {
          "base_uri": "https://localhost:8080/",
          "height": 0
        },
        "id": "5aGGLSheHg4b",
        "outputId": "2faaef6b-6465-4fa7-d05c-1b3ea5656612"
      },
      "execution_count": 600,
      "outputs": [
        {
          "output_type": "execute_result",
          "data": {
            "text/plain": [
              "      АНТРОПОФИЗИОМЕТРИЯ                                                       \\\n",
              "№ п/п                Пол Возраст  Рост  Вес        ИМТ S тела систол. АД  ЧСС   \n",
              "1                      0      75  1.64   80  29.744200   1.88        190   90   \n",
              "2                      0      49  1.76  130  41.967975   2.41        140  100   \n",
              "3                      0      54  1.62   70  26.672763   1.76        137   86   \n",
              "4                      0      33  1.76   90  29.054752   2.07        128   76   \n",
              "5                      0      52  1.68   90  31.887755   2.02        160  105   \n",
              "\n",
              "              ХАРАКТЕРИСТИКА ОИМ             ... ИСХОДНАЯ ЭХОКГ          \\\n",
              "№ п/п Давность болевого синдрома Cегмент ST  ...          ФВ ЛЖ ТМЖП ЛЖ   \n",
              "1                              2          1  ...      55.147059    1.30   \n",
              "2                              2          1  ...      54.304636    1.40   \n",
              "3                              1          0  ...      69.047619    1.20   \n",
              "4                              1          2  ...      45.384615    1.09   \n",
              "5                              3          1  ...      55.279503    1.60   \n",
              "\n",
              "                                                                       \n",
              "№ п/п ТЗС ЛЖ   ММ ЛЖ иММ ЛЖ   ЛП  РМК Аневризма ЛЖ Тромбоз ЛЖ ИНЛС ЛЖ  \n",
              "1       1.20  271.50  144.4  4.2  1.0          0.0        0.0   0.000  \n",
              "2       1.13  301.60  125.1  4.1  1.0          0.0        0.0   1.125  \n",
              "3       1.10  234.60  133.3  3.8  0.0          0.0        0.0   0.000  \n",
              "4       1.10  219.39  106.0  3.8  1.0          0.0        0.0   1.125  \n",
              "5       0.80  288.67  142.9  4.7  2.0          0.0        0.0   1.125  \n",
              "\n",
              "[5 rows x 56 columns]"
            ],
            "text/html": [
              "<div>\n",
              "<style scoped>\n",
              "    .dataframe tbody tr th:only-of-type {\n",
              "        vertical-align: middle;\n",
              "    }\n",
              "\n",
              "    .dataframe tbody tr th {\n",
              "        vertical-align: top;\n",
              "    }\n",
              "\n",
              "    .dataframe thead tr th {\n",
              "        text-align: left;\n",
              "    }\n",
              "</style>\n",
              "<table border=\"1\" class=\"dataframe\">\n",
              "  <thead>\n",
              "    <tr>\n",
              "      <th></th>\n",
              "      <th colspan=\"8\" halign=\"left\">АНТРОПОФИЗИОМЕТРИЯ</th>\n",
              "      <th colspan=\"2\" halign=\"left\">ХАРАКТЕРИСТИКА ОИМ</th>\n",
              "      <th>...</th>\n",
              "      <th colspan=\"10\" halign=\"left\">ИСХОДНАЯ ЭХОКГ</th>\n",
              "    </tr>\n",
              "    <tr>\n",
              "      <th>№ п/п</th>\n",
              "      <th>Пол</th>\n",
              "      <th>Возраст</th>\n",
              "      <th>Рост</th>\n",
              "      <th>Вес</th>\n",
              "      <th>ИМТ</th>\n",
              "      <th>S тела</th>\n",
              "      <th>систол. АД</th>\n",
              "      <th>ЧСС</th>\n",
              "      <th>Давность болевого синдрома</th>\n",
              "      <th>Cегмент ST</th>\n",
              "      <th>...</th>\n",
              "      <th>ФВ ЛЖ</th>\n",
              "      <th>ТМЖП ЛЖ</th>\n",
              "      <th>ТЗС ЛЖ</th>\n",
              "      <th>ММ ЛЖ</th>\n",
              "      <th>иММ ЛЖ</th>\n",
              "      <th>ЛП</th>\n",
              "      <th>РМК</th>\n",
              "      <th>Аневризма ЛЖ</th>\n",
              "      <th>Тромбоз ЛЖ</th>\n",
              "      <th>ИНЛС ЛЖ</th>\n",
              "    </tr>\n",
              "  </thead>\n",
              "  <tbody>\n",
              "    <tr>\n",
              "      <th>1</th>\n",
              "      <td>0</td>\n",
              "      <td>75</td>\n",
              "      <td>1.64</td>\n",
              "      <td>80</td>\n",
              "      <td>29.744200</td>\n",
              "      <td>1.88</td>\n",
              "      <td>190</td>\n",
              "      <td>90</td>\n",
              "      <td>2</td>\n",
              "      <td>1</td>\n",
              "      <td>...</td>\n",
              "      <td>55.147059</td>\n",
              "      <td>1.30</td>\n",
              "      <td>1.20</td>\n",
              "      <td>271.50</td>\n",
              "      <td>144.4</td>\n",
              "      <td>4.2</td>\n",
              "      <td>1.0</td>\n",
              "      <td>0.0</td>\n",
              "      <td>0.0</td>\n",
              "      <td>0.000</td>\n",
              "    </tr>\n",
              "    <tr>\n",
              "      <th>2</th>\n",
              "      <td>0</td>\n",
              "      <td>49</td>\n",
              "      <td>1.76</td>\n",
              "      <td>130</td>\n",
              "      <td>41.967975</td>\n",
              "      <td>2.41</td>\n",
              "      <td>140</td>\n",
              "      <td>100</td>\n",
              "      <td>2</td>\n",
              "      <td>1</td>\n",
              "      <td>...</td>\n",
              "      <td>54.304636</td>\n",
              "      <td>1.40</td>\n",
              "      <td>1.13</td>\n",
              "      <td>301.60</td>\n",
              "      <td>125.1</td>\n",
              "      <td>4.1</td>\n",
              "      <td>1.0</td>\n",
              "      <td>0.0</td>\n",
              "      <td>0.0</td>\n",
              "      <td>1.125</td>\n",
              "    </tr>\n",
              "    <tr>\n",
              "      <th>3</th>\n",
              "      <td>0</td>\n",
              "      <td>54</td>\n",
              "      <td>1.62</td>\n",
              "      <td>70</td>\n",
              "      <td>26.672763</td>\n",
              "      <td>1.76</td>\n",
              "      <td>137</td>\n",
              "      <td>86</td>\n",
              "      <td>1</td>\n",
              "      <td>0</td>\n",
              "      <td>...</td>\n",
              "      <td>69.047619</td>\n",
              "      <td>1.20</td>\n",
              "      <td>1.10</td>\n",
              "      <td>234.60</td>\n",
              "      <td>133.3</td>\n",
              "      <td>3.8</td>\n",
              "      <td>0.0</td>\n",
              "      <td>0.0</td>\n",
              "      <td>0.0</td>\n",
              "      <td>0.000</td>\n",
              "    </tr>\n",
              "    <tr>\n",
              "      <th>4</th>\n",
              "      <td>0</td>\n",
              "      <td>33</td>\n",
              "      <td>1.76</td>\n",
              "      <td>90</td>\n",
              "      <td>29.054752</td>\n",
              "      <td>2.07</td>\n",
              "      <td>128</td>\n",
              "      <td>76</td>\n",
              "      <td>1</td>\n",
              "      <td>2</td>\n",
              "      <td>...</td>\n",
              "      <td>45.384615</td>\n",
              "      <td>1.09</td>\n",
              "      <td>1.10</td>\n",
              "      <td>219.39</td>\n",
              "      <td>106.0</td>\n",
              "      <td>3.8</td>\n",
              "      <td>1.0</td>\n",
              "      <td>0.0</td>\n",
              "      <td>0.0</td>\n",
              "      <td>1.125</td>\n",
              "    </tr>\n",
              "    <tr>\n",
              "      <th>5</th>\n",
              "      <td>0</td>\n",
              "      <td>52</td>\n",
              "      <td>1.68</td>\n",
              "      <td>90</td>\n",
              "      <td>31.887755</td>\n",
              "      <td>2.02</td>\n",
              "      <td>160</td>\n",
              "      <td>105</td>\n",
              "      <td>3</td>\n",
              "      <td>1</td>\n",
              "      <td>...</td>\n",
              "      <td>55.279503</td>\n",
              "      <td>1.60</td>\n",
              "      <td>0.80</td>\n",
              "      <td>288.67</td>\n",
              "      <td>142.9</td>\n",
              "      <td>4.7</td>\n",
              "      <td>2.0</td>\n",
              "      <td>0.0</td>\n",
              "      <td>0.0</td>\n",
              "      <td>1.125</td>\n",
              "    </tr>\n",
              "  </tbody>\n",
              "</table>\n",
              "<p>5 rows × 56 columns</p>\n",
              "</div>"
            ]
          },
          "metadata": {},
          "execution_count": 600
        }
      ]
    },
    {
      "cell_type": "markdown",
      "source": [
        "## Functions"
      ],
      "metadata": {
        "id": "eY9WYazsOfzn"
      }
    },
    {
      "cell_type": "code",
      "source": [
        "def get_combined_target_column(dataset):\n",
        "    '''This function gets combined target values.'''\n",
        "\n",
        "    target_combined = (((dataset['КОНЕЧНЫЕ ИСХОДЫ НАБЛЮДЕНИЯ']['Сердечно-сосудистая смерть'].astype(int) == 1)|\n",
        "                        (dataset['КОНЕЧНЫЕ ИСХОДЫ НАБЛЮДЕНИЯ']['Реинфаркт'].astype(int) == 1) |\n",
        "                        (dataset['КОНЕЧНЫЕ ИСХОДЫ НАБЛЮДЕНИЯ']['ОНМК'].astype(int) == 1)|\n",
        "                        (dataset['КОНЕЧНЫЕ ИСХОДЫ НАБЛЮДЕНИЯ']['Повторная реваскуляризация'].astype(int) == 1))&\n",
        "                        (dataset['ГОСПИТАЛЬНЫЕ КЛИНИЧЕСКИЕ ИСХОДЫ']['Смерть']!=1))*1\n",
        "\n",
        "    mask_combined = ((dataset['КОНЕЧНЫЕ ИСХОДЫ НАБЛЮДЕНИЯ']['Сердечно-сосудистая смерть'].astype(int) == -1) &\n",
        "                    (dataset['КОНЕЧНЫЕ ИСХОДЫ НАБЛЮДЕНИЯ']['Реинфаркт'].astype(int) == -1) &\n",
        "                    (dataset['КОНЕЧНЫЕ ИСХОДЫ НАБЛЮДЕНИЯ']['ОНМК'].astype(int) == -1) &\n",
        "                    (dataset['КОНЕЧНЫЕ ИСХОДЫ НАБЛЮДЕНИЯ']['Повторная реваскуляризация'].astype(int) == -1))     \n",
        "    target_combined[mask_combined] = -1\n",
        "    return target_combined "
      ],
      "metadata": {
        "id": "ZbL8c5xOQ71Q"
      },
      "execution_count": 620,
      "outputs": []
    },
    {
      "cell_type": "code",
      "source": [
        "def imputer(train, test, cat_features_id):\n",
        "    '''This function imputes missing values with IterativeImputer.\n",
        "       RandomForest is used as an estimator.'''\n",
        "\n",
        "    # Impute NAs with IterativeImputer (estimator - RandomForestRegressor)\n",
        "    impute_estimator = RandomForestRegressor(n_estimators=50,\n",
        "                                            max_depth=5,\n",
        "                                            n_jobs=-1,\n",
        "                                            random_state=random_state)\n",
        "    imputer = IterativeImputer(random_state=random_state,\n",
        "                              estimator=impute_estimator, \n",
        "                              max_iter=25)\n",
        "    train = imputer.fit_transform(train)\n",
        "    test = imputer.transform(test)\n",
        "\n",
        "    # Round values for categorical data - so that there will be no new categories\n",
        "    train[:, categorical_features_index] = train[:, categorical_features_index].round()\n",
        "    test[:, categorical_features_index] = test[:, categorical_features_index].round()\n",
        "\n",
        "    return train, test"
      ],
      "metadata": {
        "id": "OwpDpm8QYpBt"
      },
      "execution_count": 632,
      "outputs": []
    },
    {
      "cell_type": "code",
      "source": [
        "def scaler(train, test, continuous_features):\n",
        "    '''This function scales continuous features\n",
        "       with Robust Scaler.'''\n",
        "\n",
        "    scaler = RobustScaler() \n",
        "    train[continuous_cols] = scaler.fit_transform(train[continuous_cols])\n",
        "    test[continuous_cols] = scaler.transform(test[continuous_cols])\n",
        "\n",
        "    return train, test"
      ],
      "metadata": {
        "id": "iP3cIeIYcfSD"
      },
      "execution_count": 630,
      "outputs": []
    },
    {
      "cell_type": "code",
      "source": [
        "def imputation_smote(random_state, dataset, target, path, dataset_features, test_size, name, download=False):\n",
        "    '''This function is pipeline for dataset preprocessing:\n",
        "       Finds subset with features that we will use further.\n",
        "       Adds target column.\n",
        "       Drops patients with target == -1.\n",
        "       Splits subset into train and test.\n",
        "       Imputes subsets with Iterative Imputer.\n",
        "       Over-samples Train subset.\n",
        "       Downloads train and test datasets.'''\n",
        "\n",
        "    if target == ('target', 'combined'):\n",
        "        dataset[target] = get_combined_target_column(dataset)\n",
        "\n",
        "    # add target columnt and drop patients with -1 in the outcome\n",
        "    dataframe = dataset[dataset_features + [target]].copy()\n",
        "    dataframe[target] = dataframe[target].replace(-1, np.nan)\n",
        "    dataframe.dropna(axis=0, how='any', inplace=True)\n",
        "    dataframe.replace(-1, np.nan, inplace=True)\n",
        "\n",
        "    # divide dataset into train and test\n",
        "    X_train, X_test, y_train, y_test = \\\n",
        "    train_test_split(dataframe[dataset_features], \n",
        "                    dataframe[target], \n",
        "                    test_size=test_size, \n",
        "                    random_state=random_state, \n",
        "                    # stratify=dataframe[target],\n",
        "                    shuffle=True)\n",
        "\n",
        "    # Impute NAs with IterativeImputer (estimator - RandomForestRegressor)\n",
        "    categorical_features_index = [dataframe.columns.get_loc(col) for col in dataframe.columns[:-1] if len(dataframe[col].unique()) <= 9]\n",
        "    X_train, X_test = imputer(train=X_train, test=X_test, cat_features_id=categorical_features_index)\n",
        "\n",
        "    # fit SMOTE on train part\n",
        "    smote = SMOTENC(categorical_features = categorical_features_index,\n",
        "                    sampling_strategy='minority',\n",
        "                    n_jobs=-1,\n",
        "                    random_state=random_state)\n",
        "    X_sm, y_sm = smote.fit_resample(X_train, y_train)\n",
        "\n",
        "    train_imputed = pd.DataFrame(data=X_sm, columns=dataset_features)\n",
        "    train_imputed[target] = y_sm\n",
        "    test_imputed = pd.DataFrame(data=X_test, columns=dataset_features)\n",
        "    test_imputed[target] = y_test.values\n",
        "\n",
        "    continuous_cols = [col for col in dataset_features if (len((train_imputed[col].unique())) > 9)]\n",
        "\n",
        "    # Scaling of dataset\n",
        "    train_imputed, test_imputed = scaler(train=train_imputed, test=test_imputed, continuous_features=continuous_cols)\n",
        "\n",
        "    print('Train shape:\\t', train_imputed.shape)\n",
        "    print('Train target:\\n', train_imputed[target].value_counts(), end='')\n",
        "    print('Test shape:\\t', test_imputed.shape)\n",
        "    print('Test target:\\n', test_imputed[target].value_counts(), end='')\n",
        "\n",
        "    # download dataset\n",
        "    if download:\n",
        "        train_imputed.to_excel(f'{path}train_{name}.xlsx')\n",
        "        test_imputed.to_excel(f'{path}test_{name}.xlsx')\n",
        "    \n",
        "    return None"
      ],
      "metadata": {
        "id": "B0NSPXwVOiJn"
      },
      "execution_count": 628,
      "outputs": []
    },
    {
      "cell_type": "markdown",
      "source": [
        "## Lancet Dataset ABC"
      ],
      "metadata": {
        "id": "m6IHFMFcSNSJ"
      }
    },
    {
      "cell_type": "code",
      "source": [
        "data_a_and_hyperlipidemia = data_a.copy()\n",
        "data_a_and_hyperlipidemia[('ЛАБОРАТОРНЫЕ ПОКАЗАТЕЛИ'), ('Хсобщ, ммоль/л')] = hyperlipidemia\n",
        "\n",
        "data_abc_lancet = pd.concat([data_a_and_hyperlipidemia, data_b, data_c], axis=0)\n",
        "data_abc_lancet.dropna(axis=1, inplace=True)\n",
        "\n",
        "# cols_of_interest = list(data_abc_lancet.columns)[:56]\n",
        "# cols_of_interest.append(('ЛАБОРАТОРНЫЕ ПОКАЗАТЕЛИ', 'Хсобщ, ммоль/л'))\n",
        "\n",
        "data_abc_lancet[('target', 'Cмерть')] = data_abc_lancet[[('КОНЕЧНЫЕ ИСХОДЫ НАБЛЮДЕНИЯ', 'Некардиальная смерть'),\n",
        "          ('КОНЕЧНЫЕ ИСХОДЫ НАБЛЮДЕНИЯ', 'Сердечно-сосудистая смерть')]].apply((lambda x: x.max()), axis=1)"
      ],
      "metadata": {
        "id": "aoME8QkwSN_e"
      },
      "execution_count": 457,
      "outputs": []
    },
    {
      "cell_type": "code",
      "source": [
        "# For subsets\n",
        "clinical_abc_columns_lancet = [\n",
        "    # age\n",
        "    ('АНТРОПОФИЗИОМЕТРИЯ', 'Возраст'),\n",
        "    # sex\n",
        "    ('АНТРОПОФИЗИОМЕТРИЯ', 'Пол'),\n",
        "    # diabetes\n",
        "    ('СОПУТСТВУЮЩИЕ ЗАБОЛЕВАНИЯ И СОСТОЯНИЯ', 'СД'),\n",
        "    # hypertension\n",
        "    ('СОПУТСТВУЮЩИЕ ЗАБОЛЕВАНИЯ И СОСТОЯНИЯ', 'ГБ'),\n",
        "    # hyperlipidaemia\n",
        "    ('ЛАБОРАТОРНЫЕ ПОКАЗАТЕЛИ', 'Хсобщ, ммоль/л'), # !!!!!!!!!!!!!!!!!!  this feature was dropped in data_a можно сделать отдельный датасет для lancet\n",
        "    # peripheral artery disease\n",
        "    ('СОПУТСТВУЮЩИЕ ЗАБОЛЕВАНИЯ И СОСТОЯНИЯ', 'МФА'),\n",
        "    # EGFR\n",
        "    ('ЛАБОРАТОРНЫЕ ПОКАЗАТЕЛИ', 'СКФ EPI'),\n",
        "    # previous myocardial infarction\n",
        "    ('СОПУТСТВУЮЩИЕ ЗАБОЛЕВАНИЯ И СОСТОЯНИЯ', 'пост-ИМ'),\n",
        "    # previous percutaneous coronary intervention\n",
        "    ('СОПУТСТВУЮЩИЕ ЗАБОЛЕВАНИЯ И СОСТОЯНИЯ', 'пост-стент'),\n",
        "    # previous stroke\n",
        "    ('СОПУТСТВУЮЩИЕ ЗАБОЛЕВАНИЯ И СОСТОЯНИЯ', 'пост-ОНМК'),\n",
        "    # previous bleeding\n",
        "    ('СОПУТСТВУЮЩИЕ ЗАБОЛЕВАНИЯ И СОСТОЯНИЯ', 'пост-ВЧ-кровоизлияние'),\n",
        "    # ST-segment elevation myocardial infarction [STEMI] presentation\n",
        "    ('ХАРАКТЕРИСТИКА ОИМ', 'Cегмент ST'),\n",
        "    # haemoglobin\n",
        "    ('ЛАБОРАТОРНЫЕ ПОКАЗАТЕЛИ', 'Гемоглобин, г/л'),\n",
        "    # left ventricular ejection fraction [LVEF])\n",
        "    ('ИСХОДНАЯ ЭХОКГ', 'ФВ ЛЖ'),\n",
        "    # target\n",
        "    # ('target', 'Cмерть')\n",
        "]"
      ],
      "metadata": {
        "id": "ViaZ4TzlztyA"
      },
      "execution_count": 458,
      "outputs": []
    },
    {
      "cell_type": "code",
      "source": [
        "imputation_smote(\n",
        "random_state = 20,\n",
        "dataset = data_abc_lancet,\n",
        "target = ('target', 'Cмерть'),\n",
        "path = \"./HSE project/Preprocessed Data/lancet dataset/\",\n",
        "dataset_features = clinical_abc_columns_lancet,\n",
        "test_size = 0.25, \n",
        "download=True,\n",
        "name='abc_lancet'\n",
        ")"
      ],
      "metadata": {
        "colab": {
          "base_uri": "https://localhost:8080/"
        },
        "id": "9qeOu70lJYK4",
        "outputId": "23109596-f31e-4c7b-deb5-0d0cae5bc70c"
      },
      "execution_count": 460,
      "outputs": [
        {
          "output_type": "stream",
          "name": "stdout",
          "text": [
            "Train shape:\t (450, 15)\n",
            "Train target:\n",
            " 0.0    225\n",
            "1.0    225\n",
            "Name: (target, Cмерть), dtype: int64\n",
            "Test shape:\t (105, 15)\n",
            "Test target:\n",
            " 0.0    76\n",
            "1.0    29\n",
            "Name: (target, Cмерть), dtype: int64\n"
          ]
        }
      ]
    },
    {
      "cell_type": "markdown",
      "source": [
        "## **Target**: Cardiovascular death"
      ],
      "metadata": {
        "id": "p6D6fu7ECWvJ"
      }
    },
    {
      "cell_type": "markdown",
      "source": [
        "#### Dataset A"
      ],
      "metadata": {
        "id": "g1UIFvT3CglE"
      }
    },
    {
      "cell_type": "code",
      "source": [
        "imputation_smote(\n",
        "random_state = 20,\n",
        "dataset = data_a,\n",
        "target = ('КОНЕЧНЫЕ ИСХОДЫ НАБЛЮДЕНИЯ', 'Сердечно-сосудистая смерть'),\n",
        "path = \"./HSE project/Preprocessed Data/cardiovascular death/\",\n",
        "dataset_features = clinical_and_biomarkers_a_columns,\n",
        "test_size = 0.25, \n",
        "name='a',\n",
        "download=True)"
      ],
      "metadata": {
        "colab": {
          "base_uri": "https://localhost:8080/"
        },
        "id": "PKkpBIkvCcUp",
        "outputId": "cf98bdc5-fa7d-4d5e-f1f4-e1be2b0ce420"
      },
      "execution_count": 387,
      "outputs": [
        {
          "output_type": "stream",
          "name": "stdout",
          "text": [
            "Train shape:\t (150, 147)\n",
            "Train target:\n",
            " 0.0    75\n",
            "1.0    75\n",
            "Name: (КОНЕЧНЫЕ ИСХОДЫ НАБЛЮДЕНИЯ, Сердечно-сосудистая смерть), dtype: int64\n",
            "Test shape:\t (49, 147)\n",
            "Test target:\n",
            " 0.0    29\n",
            "1.0    20\n",
            "Name: (КОНЕЧНЫЕ ИСХОДЫ НАБЛЮДЕНИЯ, Сердечно-сосудистая смерть), dtype: int64\n"
          ]
        }
      ]
    },
    {
      "cell_type": "markdown",
      "source": [
        "#### Dataset B"
      ],
      "metadata": {
        "id": "xnBvhswvCm8o"
      }
    },
    {
      "cell_type": "code",
      "source": [
        "imputation_smote(\n",
        "random_state = 20,\n",
        "dataset = data_b,\n",
        "target = ('КОНЕЧНЫЕ ИСХОДЫ НАБЛЮДЕНИЯ', 'Сердечно-сосудистая смерть'),\n",
        "path = \"./HSE project/Preprocessed Data/cardiovascular death/\",\n",
        "dataset_features = clinical_and_biomarkers_b_columns,\n",
        "test_size = 0.33, \n",
        "name = 'b',\n",
        "download=True\n",
        ")"
      ],
      "metadata": {
        "colab": {
          "base_uri": "https://localhost:8080/"
        },
        "id": "JQ78pki1Cm8p",
        "outputId": "57516a99-c93c-4f36-e69a-be931be668be"
      },
      "execution_count": 388,
      "outputs": [
        {
          "output_type": "stream",
          "name": "stdout",
          "text": [
            "Train shape:\t (94, 78)\n",
            "Train target:\n",
            " 0.0    47\n",
            "1.0    47\n",
            "Name: (КОНЕЧНЫЕ ИСХОДЫ НАБЛЮДЕНИЯ, Сердечно-сосудистая смерть), dtype: int64\n",
            "Test shape:\t (30, 78)\n",
            "Test target:\n",
            " 0.0    24\n",
            "1.0     6\n",
            "Name: (КОНЕЧНЫЕ ИСХОДЫ НАБЛЮДЕНИЯ, Сердечно-сосудистая смерть), dtype: int64\n"
          ]
        }
      ]
    },
    {
      "cell_type": "markdown",
      "source": [
        "#### Dataset C"
      ],
      "metadata": {
        "id": "d_gIMEzTCnS1"
      }
    },
    {
      "cell_type": "code",
      "source": [
        "imputation_smote(\n",
        "random_state = 20,\n",
        "dataset = data_c,\n",
        "target = ('КОНЕЧНЫЕ ИСХОДЫ НАБЛЮДЕНИЯ', 'Сердечно-сосудистая смерть'),\n",
        "path = \"./HSE project/Preprocessed Data/cardiovascular death/\",\n",
        "dataset_features = clinical_and_biomarkers_c_columns,\n",
        "test_size = 0.33, \n",
        "download=True,\n",
        "name='c'\n",
        ")"
      ],
      "metadata": {
        "colab": {
          "base_uri": "https://localhost:8080/"
        },
        "id": "PEI88zS4CnS2",
        "outputId": "b54164b0-d17b-4b5d-e2b4-a4008f9d186a"
      },
      "execution_count": 413,
      "outputs": [
        {
          "output_type": "stream",
          "name": "stdout",
          "text": [
            "Train shape:\t (160, 106)\n",
            "Train target:\n",
            " 0    80\n",
            "1    80\n",
            "Name: (КОНЕЧНЫЕ ИСХОДЫ НАБЛЮДЕНИЯ, Сердечно-сосудистая смерть), dtype: int64\n",
            "Test shape:\t (43, 106)\n",
            "Test target:\n",
            " 0    42\n",
            "1     1\n",
            "Name: (КОНЕЧНЫЕ ИСХОДЫ НАБЛЮДЕНИЯ, Сердечно-сосудистая смерть), dtype: int64\n"
          ]
        }
      ]
    },
    {
      "cell_type": "markdown",
      "source": [
        "#### Сombined Dataset ABC"
      ],
      "metadata": {
        "id": "HW3v1jaCHb2K"
      }
    },
    {
      "cell_type": "code",
      "source": [
        "imputation_smote(\n",
        "random_state = 20,\n",
        "dataset = data_abc,\n",
        "target = ('КОНЕЧНЫЕ ИСХОДЫ НАБЛЮДЕНИЯ', 'Сердечно-сосудистая смерть'),\n",
        "path = \"./HSE project/Preprocessed Data/cardiovascular death/\",\n",
        "dataset_features = clinical_abc_columns,\n",
        "test_size = 0.25, \n",
        "download=True,\n",
        "name='abc'\n",
        ")"
      ],
      "metadata": {
        "colab": {
          "base_uri": "https://localhost:8080/"
        },
        "id": "-rguDxqiHa_1",
        "outputId": "08e6c339-9855-499d-a089-25ac9c612ca5"
      },
      "execution_count": 420,
      "outputs": [
        {
          "output_type": "stream",
          "name": "stdout",
          "text": [
            "Train shape:\t (438, 57)\n",
            "Train target:\n",
            " 0.0    219\n",
            "1.0    219\n",
            "Name: (КОНЕЧНЫЕ ИСХОДЫ НАБЛЮДЕНИЯ, Сердечно-сосудистая смерть), dtype: int64\n",
            "Test shape:\t (104, 57)\n",
            "Test target:\n",
            " 0.0    78\n",
            "1.0    26\n",
            "Name: (КОНЕЧНЫЕ ИСХОДЫ НАБЛЮДЕНИЯ, Сердечно-сосудистая смерть), dtype: int64\n"
          ]
        }
      ]
    },
    {
      "cell_type": "markdown",
      "source": [
        "## **Target**: Revascularization"
      ],
      "metadata": {
        "id": "qTAf8f5YUYsy"
      }
    },
    {
      "cell_type": "markdown",
      "source": [
        "#### Dataset A"
      ],
      "metadata": {
        "id": "IwWiqedLMuCJ"
      }
    },
    {
      "cell_type": "code",
      "source": [
        "imputation_smote(\n",
        "random_state = 20,\n",
        "dataset = data_a,\n",
        "target = ('КОНЕЧНЫЕ ИСХОДЫ НАБЛЮДЕНИЯ', 'Повторная реваскуляризация'),\n",
        "path = \"./HSE project/Preprocessed Data/revascularization/\",\n",
        "dataset_features = clinical_and_biomarkers_a_columns,\n",
        "test_size = 0.25, \n",
        "name='a',\n",
        "download=True)"
      ],
      "metadata": {
        "colab": {
          "base_uri": "https://localhost:8080/"
        },
        "outputId": "d98a1049-2773-4d9f-81cb-8e6f2a26cda3",
        "id": "kpv3MOOjMuCK"
      },
      "execution_count": 461,
      "outputs": [
        {
          "output_type": "stream",
          "name": "stdout",
          "text": [
            "Train shape:\t (122, 147)\n",
            "Train target:\n",
            " 0.0    61\n",
            "1.0    61\n",
            "Name: (КОНЕЧНЫЕ ИСХОДЫ НАБЛЮДЕНИЯ, Повторная реваскуляризация), dtype: int64\n",
            "Test shape:\t (33, 147)\n",
            "Test target:\n",
            " 0.0    23\n",
            "1.0    10\n",
            "Name: (КОНЕЧНЫЕ ИСХОДЫ НАБЛЮДЕНИЯ, Повторная реваскуляризация), dtype: int64\n"
          ]
        }
      ]
    },
    {
      "cell_type": "markdown",
      "source": [
        "#### Dataset B"
      ],
      "metadata": {
        "id": "x505JCfPMuCL"
      }
    },
    {
      "cell_type": "code",
      "source": [
        "imputation_smote(\n",
        "random_state = 20,\n",
        "dataset = data_b,\n",
        "target = ('КОНЕЧНЫЕ ИСХОДЫ НАБЛЮДЕНИЯ', 'Повторная реваскуляризация'),\n",
        "path = \"./HSE project/Preprocessed Data/revascularization/\",\n",
        "dataset_features = clinical_and_biomarkers_b_columns,\n",
        "test_size = 0.33, \n",
        "name = 'b',\n",
        "download=True\n",
        ")"
      ],
      "metadata": {
        "colab": {
          "base_uri": "https://localhost:8080/"
        },
        "outputId": "2a9bb860-d75a-4f67-919b-861519d121cf",
        "id": "sTYPoT5AMuCL"
      },
      "execution_count": 462,
      "outputs": [
        {
          "output_type": "stream",
          "name": "stdout",
          "text": [
            "Train shape:\t (86, 78)\n",
            "Train target:\n",
            " 1.0    43\n",
            "0.0    43\n",
            "Name: (КОНЕЧНЫЕ ИСХОДЫ НАБЛЮДЕНИЯ, Повторная реваскуляризация), dtype: int64\n",
            "Test shape:\t (29, 78)\n",
            "Test target:\n",
            " 0.0    24\n",
            "1.0     5\n",
            "Name: (КОНЕЧНЫЕ ИСХОДЫ НАБЛЮДЕНИЯ, Повторная реваскуляризация), dtype: int64\n"
          ]
        }
      ]
    },
    {
      "cell_type": "markdown",
      "source": [
        "#### Dataset C"
      ],
      "metadata": {
        "id": "yd_QfumCMuCL"
      }
    },
    {
      "cell_type": "code",
      "source": [
        "imputation_smote(\n",
        "random_state = 20,\n",
        "dataset = data_c,\n",
        "target = ('КОНЕЧНЫЕ ИСХОДЫ НАБЛЮДЕНИЯ', 'Повторная реваскуляризация'),\n",
        "path = \"./HSE project/Preprocessed Data/revascularization/\",\n",
        "dataset_features = clinical_and_biomarkers_c_columns,\n",
        "test_size = 0.33, \n",
        "download=True,\n",
        "name='c'\n",
        ")"
      ],
      "metadata": {
        "colab": {
          "base_uri": "https://localhost:8080/"
        },
        "outputId": "2ba695d1-9f88-4323-b37d-3cd1d5b981f8",
        "id": "MIoCaWgFMuCM"
      },
      "execution_count": 463,
      "outputs": [
        {
          "output_type": "stream",
          "name": "stdout",
          "text": [
            "Train shape:\t (146, 106)\n",
            "Train target:\n",
            " 1    73\n",
            "0    73\n",
            "Name: (КОНЕЧНЫЕ ИСХОДЫ НАБЛЮДЕНИЯ, Повторная реваскуляризация), dtype: int64\n",
            "Test shape:\t (43, 106)\n",
            "Test target:\n",
            " 0    38\n",
            "1     5\n",
            "Name: (КОНЕЧНЫЕ ИСХОДЫ НАБЛЮДЕНИЯ, Повторная реваскуляризация), dtype: int64\n"
          ]
        }
      ]
    },
    {
      "cell_type": "markdown",
      "source": [
        "#### Сombined Dataset ABC"
      ],
      "metadata": {
        "id": "1SCDET51MuCM"
      }
    },
    {
      "cell_type": "code",
      "source": [
        "imputation_smote(\n",
        "random_state = 20,\n",
        "dataset = data_abc,\n",
        "target = ('КОНЕЧНЫЕ ИСХОДЫ НАБЛЮДЕНИЯ', 'Повторная реваскуляризация'),\n",
        "path = \"./HSE project/Preprocessed Data/revascularization/\",\n",
        "dataset_features = clinical_abc_columns,\n",
        "test_size = 0.25, \n",
        "download=True,\n",
        "name='abc'\n",
        ")"
      ],
      "metadata": {
        "colab": {
          "base_uri": "https://localhost:8080/"
        },
        "outputId": "d00623f8-5f8e-4053-d865-b0299cb6c669",
        "id": "PDUCmzdwMuCM"
      },
      "execution_count": 464,
      "outputs": [
        {
          "output_type": "stream",
          "name": "stdout",
          "text": [
            "Train shape:\t (390, 57)\n",
            "Train target:\n",
            " 0.0    195\n",
            "1.0    195\n",
            "Name: (КОНЕЧНЫЕ ИСХОДЫ НАБЛЮДЕНИЯ, Повторная реваскуляризация), dtype: int64\n",
            "Test shape:\t (87, 57)\n",
            "Test target:\n",
            " 0.0    67\n",
            "1.0    20\n",
            "Name: (КОНЕЧНЫЕ ИСХОДЫ НАБЛЮДЕНИЯ, Повторная реваскуляризация), dtype: int64\n"
          ]
        }
      ]
    },
    {
      "cell_type": "markdown",
      "source": [
        "## **Target**: Combined"
      ],
      "metadata": {
        "id": "DPidmdVqNrqQ"
      }
    },
    {
      "cell_type": "markdown",
      "source": [
        "#### Dataset A"
      ],
      "metadata": {
        "id": "zxQY02q6NrqR"
      }
    },
    {
      "cell_type": "code",
      "source": [
        "imputation_smote(\n",
        "random_state = 20,\n",
        "dataset = data_a,\n",
        "target = ('target', 'combined'),\n",
        "path = \"./HSE project/Preprocessed Data/combined/\",\n",
        "dataset_features = clinical_and_biomarkers_a_columns,\n",
        "test_size = 0.25, \n",
        "name='a',\n",
        "download=True)"
      ],
      "metadata": {
        "colab": {
          "base_uri": "https://localhost:8080/"
        },
        "outputId": "6d92708e-d4e7-40b4-c4c1-9eeb8dbae966",
        "id": "nFPTqZmnNrqR"
      },
      "execution_count": 562,
      "outputs": [
        {
          "output_type": "stream",
          "name": "stdout",
          "text": [
            "Train shape:\t (192, 147)\n",
            "Train target:\n",
            " 0.0    96\n",
            "1.0    96\n",
            "Name: (target, combined), dtype: int64\n",
            "Test shape:\t (50, 147)\n",
            "Test target:\n",
            " 1.0    27\n",
            "0.0    23\n",
            "Name: (target, combined), dtype: int64\n"
          ]
        }
      ]
    },
    {
      "cell_type": "markdown",
      "source": [
        "#### Dataset B"
      ],
      "metadata": {
        "id": "knd2Gc0ENrqR"
      }
    },
    {
      "cell_type": "code",
      "source": [
        "imputation_smote(\n",
        "random_state = 20,\n",
        "dataset = data_b,\n",
        "target = ('target', 'combined'),\n",
        "path = \"./HSE project/Preprocessed Data/combined/\",\n",
        "dataset_features = clinical_and_biomarkers_b_columns,\n",
        "test_size = 0.33, \n",
        "name = 'b',\n",
        "download=True\n",
        ")"
      ],
      "metadata": {
        "colab": {
          "base_uri": "https://localhost:8080/"
        },
        "outputId": "44effc85-9240-4361-db12-533c41691006",
        "id": "rG_lPZJINrqR"
      },
      "execution_count": 565,
      "outputs": [
        {
          "output_type": "stream",
          "name": "stdout",
          "text": [
            "Train shape:\t (86, 78)\n",
            "Train target:\n",
            " 1.0    43\n",
            "0.0    43\n",
            "Name: (target, combined), dtype: int64\n",
            "Test shape:\t (32, 78)\n",
            "Test target:\n",
            " 0.0    23\n",
            "1.0     9\n",
            "Name: (target, combined), dtype: int64\n"
          ]
        }
      ]
    },
    {
      "cell_type": "markdown",
      "source": [
        "#### Dataset C"
      ],
      "metadata": {
        "id": "TrQECFZCNrqS"
      }
    },
    {
      "cell_type": "code",
      "source": [
        "imputation_smote(\n",
        "random_state = 20,\n",
        "dataset = data_c,\n",
        "target = ('target', 'combined'),\n",
        "path = \"./HSE project/Preprocessed Data/combined/\",\n",
        "dataset_features = clinical_and_biomarkers_c_columns,\n",
        "test_size = 0.33, \n",
        "# download=True,\n",
        "name='c'\n",
        ")"
      ],
      "metadata": {
        "colab": {
          "base_uri": "https://localhost:8080/"
        },
        "outputId": "792df898-bf2b-47e1-b562-c93b5c72d80b",
        "id": "oAnV8WTgNrqS"
      },
      "execution_count": 631,
      "outputs": [
        {
          "output_type": "stream",
          "name": "stdout",
          "text": [
            "Train shape:\t (120, 106)\n",
            "Train target:\n",
            " 1    60\n",
            "0    60\n",
            "Name: (target, combined), dtype: int64Test shape:\t (43, 106)\n",
            "Test target:\n",
            " 0    34\n",
            "1     9\n",
            "Name: (target, combined), dtype: int64"
          ]
        }
      ]
    },
    {
      "cell_type": "markdown",
      "source": [
        "#### Сombined Dataset ABC"
      ],
      "metadata": {
        "id": "7xUZo5e4NrqS"
      }
    },
    {
      "cell_type": "code",
      "source": [
        "imputation_smote(\n",
        "random_state = 20,\n",
        "dataset = data_abc,\n",
        "target = ('target', 'combined'),\n",
        "path = \"./HSE project/Preprocessed Data/combined/\",\n",
        "dataset_features = clinical_abc_columns,\n",
        "test_size = 0.25, \n",
        "download=True,\n",
        "name='abc'\n",
        ")"
      ],
      "metadata": {
        "colab": {
          "base_uri": "https://localhost:8080/"
        },
        "outputId": "934b255e-6d90-4ef8-d7cf-28748c7d4a3e",
        "id": "VJw4xhF6NrqS"
      },
      "execution_count": 567,
      "outputs": [
        {
          "output_type": "stream",
          "name": "stdout",
          "text": [
            "Train shape:\t (358, 57)\n",
            "Train target:\n",
            " 0.0    179\n",
            "1.0    179\n",
            "Name: (target, combined), dtype: int64\n",
            "Test shape:\t (106, 57)\n",
            "Test target:\n",
            " 0.0    58\n",
            "1.0    48\n",
            "Name: (target, combined), dtype: int64\n"
          ]
        }
      ]
    },
    {
      "cell_type": "markdown",
      "source": [
        "## References and info"
      ],
      "metadata": {
        "id": "1H1VmbApUoAP"
      }
    },
    {
      "cell_type": "markdown",
      "source": [
        "Letter with data: [here](https://mail.yandex.ru/?win=176&clid=1985545-207&uid=112725799#message/179862510118127643)\n",
        "- [Difference between Standard scaler and MinMaxScaler](https://stackoverflow.com/questions/51237635/difference-between-standard-scaler-and-minmaxscaler)\n",
        "- [sklearn: Compare the effect of different scalers on data with outliers](https://scikit-learn.org/stable/auto_examples/preprocessing/plot_all_scaling.html)\n",
        "- [How to Use StandardScaler and MinMaxScaler Transforms in Python](https://machinelearningmastery.com/standardscaler-and-minmaxscaler-transforms-in-python/)\n",
        "\n",
        "Robust scaler is less sensitive to outliers -> might perform better  \n",
        "Although, for non-normal distribution of variables Normalisation methods (MinMaxScaler) are recommended"
      ],
      "metadata": {
        "id": "r5ddEInDUxCC"
      }
    }
  ]
}