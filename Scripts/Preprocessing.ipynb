{
  "nbformat": 4,
  "nbformat_minor": 0,
  "metadata": {
    "colab": {
      "provenance": [],
      "collapsed_sections": [
        "iRs5NRVjixfu",
        "kFUz21AbWlkR",
        "eECgjEgma5Tp",
        "Rji8hFffa9sY",
        "P0xBhuENBThd",
        "EzQUKc3Edx-y",
        "9jG7kA4HEjx_",
        "I5gN4v7Rf1Gr",
        "3ifjgUqCfC7d",
        "MOPiq9PuOUKO",
        "eY9WYazsOfzn",
        "m6IHFMFcSNSJ",
        "p6D6fu7ECWvJ",
        "g1UIFvT3CglE",
        "xnBvhswvCm8o",
        "d_gIMEzTCnS1",
        "HW3v1jaCHb2K",
        "qTAf8f5YUYsy",
        "IwWiqedLMuCJ",
        "x505JCfPMuCL",
        "yd_QfumCMuCL",
        "1SCDET51MuCM",
        "DPidmdVqNrqQ",
        "zxQY02q6NrqR",
        "knd2Gc0ENrqR",
        "TrQECFZCNrqS",
        "7xUZo5e4NrqS",
        "1H1VmbApUoAP"
      ]
    },
    "kernelspec": {
      "name": "python3",
      "display_name": "Python 3"
    },
    "language_info": {
      "name": "python"
    }
  },
  "cells": [
    {
      "cell_type": "code",
      "source": [
        "# change dir to HSE\\ project -> change git branch\n",
        "%cd HSE\\ project\n",
        "\n",
        "! git checkout min_features\n",
        "\n",
        "%cd .././"
      ],
      "metadata": {
        "id": "ok44cma0CF-l"
      },
      "execution_count": null,
      "outputs": []
    },
    {
      "cell_type": "markdown",
      "metadata": {
        "id": "iRs5NRVjixfu"
      },
      "source": [
        "## Import libraries"
      ]
    },
    {
      "cell_type": "code",
      "execution_count": 9,
      "metadata": {
        "id": "x1oNqjsSH7qq"
      },
      "outputs": [],
      "source": [
        "# %%capture\n",
        "# !pip install catboost\n",
        "# !pip install mrmr_selection\n",
        "# !pip install imblearn\n",
        "# !pip install mlxtend\n",
        "# !pip list --format=freeze > './HSE project/Scripts/requirements.txt'"
      ]
    },
    {
      "cell_type": "code",
      "execution_count": 10,
      "metadata": {
        "id": "pDFuCcbfGwB8"
      },
      "outputs": [],
      "source": [
        "# Import libraries\n",
        "\n",
        "import matplotlib.pyplot as plt\n",
        "import numpy as np\n",
        "import pandas as pd\n",
        "import sklearn\n",
        "import plotly\n",
        "import plotly.express as px\n",
        "from plotly.subplots import make_subplots\n",
        "import plotly.graph_objects as go\n",
        "import seaborn as sns\n",
        "from sklearn.model_selection import train_test_split\n",
        "# from google.colab import output\n",
        "\n",
        "from pandas import DatetimeIndex as dt\n",
        "from sklearn.preprocessing import StandardScaler, RobustScaler, MinMaxScaler\n",
        "# from google.colab import files\n",
        "import IPython\n",
        "from IPython.display import HTML, display\n",
        "# from google.colab import drive\n",
        "import sys\n",
        "\n",
        "# hyper-parameters optimisation\n",
        "from sklearn.model_selection import GridSearchCV\n",
        "from sklearn.model_selection import RandomizedSearchCV\n",
        "\n",
        "# metrics\n",
        "from sklearn.metrics import matthews_corrcoef as mcc\n",
        "from sklearn.metrics import f1_score as f1\n",
        "from sklearn.metrics import accuracy_score as accuracy\n",
        "from sklearn.metrics import precision_score as TP_rate                          \n",
        "from sklearn.metrics import roc_auc_score as roc_auc\n",
        "from sklearn.metrics import precision_recall_curve\n",
        "from sklearn.metrics import auc\n",
        "from sklearn.metrics import confusion_matrix\n",
        "from sklearn.metrics import recall_score as recall\n",
        "from sklearn.metrics import average_precision_score\n",
        "from sklearn.inspection import permutation_importance\n",
        "from sklearn.metrics import make_scorer,fbeta_score\n",
        "\n",
        "# classifiers\n",
        "from sklearn.ensemble import RandomForestClassifier, BaggingClassifier, AdaBoostRegressor, RandomForestRegressor, GradientBoostingClassifier, StackingClassifier, VotingClassifier #\n",
        "from sklearn.tree import DecisionTreeClassifier     #\n",
        "from sklearn.svm import SVC                                    # both linear and radial classification\n",
        "from sklearn.neighbors import KNeighborsClassifier             # k=3\n",
        "from sklearn.naive_bayes import GaussianNB\n",
        "from sklearn.neural_network import MLPClassifier\n",
        "from sklearn.linear_model import LinearRegression\n",
        "from sklearn.linear_model import LogisticRegression, LogisticRegressionCV\n",
        "import catboost\n",
        "from catboost import CatBoostClassifier\n",
        "from imblearn.over_sampling import SMOTE\n",
        "from sklearn.ensemble import AdaBoostClassifier\n",
        "from sklearn.tree import DecisionTreeClassifier\n",
        "from mlxtend.classifier import StackingClassifier\n",
        "\n",
        "# statistics\n",
        "from scipy.stats import shapiro\n",
        "from scipy.stats import chi2_contingency\n",
        "from scipy.stats import mannwhitneyu\n",
        "\n",
        "# imputations\n",
        "# explicitly require this experimental feature\n",
        "from sklearn.experimental import enable_iterative_imputer  # noqa\n",
        "# now you can import normally from sklearn.impute\n",
        "from sklearn.impute import SimpleImputer, KNNImputer, IterativeImputer\n",
        "from sklearn.model_selection import cross_val_score\n",
        "from sklearn.pipeline import make_pipeline\n",
        "from sklearn.base import clone\n",
        "from imblearn.over_sampling import SMOTE\n",
        "from imblearn.over_sampling import SMOTENC\n",
        "\n",
        "# feature selection\n",
        "from sklearn.feature_selection import chi2, mutual_info_classif, f_classif, SelectKBest, RFE, RFECV, SequentialFeatureSelector\n",
        "from scipy.stats import kendalltau, spearmanr\n",
        "from sklearn.linear_model import Lasso\n",
        "from sklearn.model_selection import StratifiedKFold\n",
        "from mrmr import mrmr_classif\n",
        "\n",
        "# to conver string to dict\n",
        "import ast\n",
        "\n",
        "# Interpretability\n",
        " # !pip install interpret\n",
        "from interpret.blackbox import LimeTabular\n",
        "from interpret import set_visualize_provider\n",
        "from interpret.provider import InlineProvider\n",
        "set_visualize_provider(InlineProvider())\n",
        "from interpret import show\n",
        "\n",
        "import lime\n",
        "import lime.lime_tabular\n",
        "from __future__ import print_function\n",
        "\n",
        "# ignore warnings when graphs are plotted\n",
        "import warnings\n",
        "warnings.filterwarnings('ignore')"
      ]
    },
    {
      "cell_type": "code",
      "execution_count": 11,
      "metadata": {
        "id": "9S7ey6ONpI7j"
      },
      "outputs": [],
      "source": [
        "# %%capture\n",
        "# !pip install ipython-autotime\n",
        "\n",
        "# %load_ext autotime"
      ]
    },
    {
      "cell_type": "markdown",
      "source": [
        "## Preselected features"
      ],
      "metadata": {
        "id": "kFUz21AbWlkR"
      }
    },
    {
      "cell_type": "markdown",
      "source": [
        "* Created a [google.sheet](https://docs.google.com/spreadsheets/d/1U7Ej4YJmBws1VM2NGqORtBKpUE_QxqDa/edit#gid=867255840) table with features from every dataset. \n",
        "* A.S. Vorobiev removed features that are excessive or dublicated.\n",
        "* Added the fraction of missing values for each feature.\n",
        "* It was decided ***not*** to include features that were obtained after the first hospitalization\n",
        "* It was decided ***not*** to include features that had more that ... % of missing values. (according to literature analysis)\n",
        "\n",
        "The resulting N clinical features are following:\n"
      ],
      "metadata": {
        "id": "C1BQsEOaW2Ho"
      }
    },
    {
      "cell_type": "code",
      "source": [
        "clinical_features = [\n",
        "('АНТРОПОФИЗИОМЕТРИЯ', 'Пол'),\n",
        "('АНТРОПОФИЗИОМЕТРИЯ', 'Возраст'),\n",
        "('АНТРОПОФИЗИОМЕТРИЯ', 'ИМТ'),\n",
        "('АНТРОПОФИЗИОМЕТРИЯ', 'систол. АД'),\n",
        "('АНТРОПОФИЗИОМЕТРИЯ', 'ЧСС'),\n",
        "('ПСИХОСОЦИАЛЬНЫЕ ФАКТОРЫ', 'Психотип D'),\n",
        "('ПСИХОСОЦИАЛЬНЫЕ ФАКТОРЫ', 'Длительность проживания на Севере, лет'),\n",
        "('ПСИХОСОЦИАЛЬНЫЕ ФАКТОРЫ', 'Курение'),\n",
        "('ПСИХОСОЦИАЛЬНЫЕ ФАКТОРЫ', 'Алкоголь'),\n",
        "('ПСИХОСОЦИАЛЬНЫЕ ФАКТОРЫ', 'Уровень образования'),\n",
        "('ПСИХОСОЦИАЛЬНЫЕ ФАКТОРЫ', 'Семейный статус'),\n",
        "('ХАРАКТЕРИСТИКА ОИМ', 'Давность болевого синдрома'),\n",
        "('ХАРАКТЕРИСТИКА ОИМ', 'Cегмент ST'),\n",
        "('ХАРАКТЕРИСТИКА ОИМ', 'Передняя стенка ЛЖ'),\n",
        "('ХАРАКТЕРИСТИКА ОИМ', 'Боковая стенка ЛЖ'),\n",
        "('ХАРАКТЕРИСТИКА ОИМ', 'Класс Killip'),\n",
        "('ХАРАКТЕРИСТИКА ОИМ', 'Риск GRACE, баллы'),\n",
        "('СОПУТСТВУЮЩИЕ ЗАБОЛЕВАНИЯ И СОСТОЯНИЯ', 'пост-ИМ'),\n",
        "('СОПУТСТВУЮЩИЕ ЗАБОЛЕВАНИЯ И СОСТОЯНИЯ', 'пост-ОНМК'),\n",
        "('СОПУТСТВУЮЩИЕ ЗАБОЛЕВАНИЯ И СОСТОЯНИЯ', 'пост-стент'),\n",
        "('СОПУТСТВУЮЩИЕ ЗАБОЛЕВАНИЯ И СОСТОЯНИЯ', 'ФП'),\n",
        "('СОПУТСТВУЮЩИЕ ЗАБОЛЕВАНИЯ И СОСТОЯНИЯ', 'ГБ'),\n",
        "('СОПУТСТВУЮЩИЕ ЗАБОЛЕВАНИЯ И СОСТОЯНИЯ', 'СД'),\n",
        "('СОПУТСТВУЮЩИЕ ЗАБОЛЕВАНИЯ И СОСТОЯНИЯ', 'МФА'),\n",
        "('СОПУТСТВУЮЩИЕ ЗАБОЛЕВАНИЯ И СОСТОЯНИЯ', 'Стадия ХБП по KDOQI /ERA'),\n",
        "('СОПУТСТВУЮЩИЕ ЗАБОЛЕВАНИЯ И СОСТОЯНИЯ', 'Ожирение, степень'),\n",
        "('СОПУТСТВУЮЩИЕ ЗАБОЛЕВАНИЯ И СОСТОЯНИЯ', 'Анемия, степень'),\n",
        "('СОПУТСТВУЮЩИЕ ЗАБОЛЕВАНИЯ И СОСТОЯНИЯ', 'Индекс коморбидности'),\n",
        "('СОПУТСТВУЮЩИЕ ЗАБОЛЕВАНИЯ И СОСТОЯНИЯ', 'Наследственность'),\n",
        "('ТРОПОНИНЫ по стандарту ОКД', 'TnT-ПО, нг/л'),\n",
        "('ЛАБОРАТОРНЫЕ ПОКАЗАТЕЛИ', 'Хсобщ, ммоль/л'),\n",
        "('ЛАБОРАТОРНЫЕ ПОКАЗАТЕЛИ', 'ЛПНП, ммоль/л'),\n",
        "('ЛАБОРАТОРНЫЕ ПОКАЗАТЕЛИ', 'ЛПВП, ммоль/л'),\n",
        "('ЛАБОРАТОРНЫЕ ПОКАЗАТЕЛИ', 'ТГц, ммоль/л'),\n",
        "('ЛАБОРАТОРНЫЕ ПОКАЗАТЕЛИ', 'Гемоглобин, г/л'),\n",
        "('ЛАБОРАТОРНЫЕ ПОКАЗАТЕЛИ', 'Глюкоза, ммоль/л'),\n",
        "('ЛАБОРАТОРНЫЕ ПОКАЗАТЕЛИ', 'Гематокрит, %'),\n",
        "('ЛАБОРАТОРНЫЕ ПОКАЗАТЕЛИ', 'Креатинин, мкмоль/л'),\n",
        "('ЛАБОРАТОРНЫЕ ПОКАЗАТЕЛИ', 'СКФ EPI'),\n",
        "('ИСХОДНАЯ ЭХОКГ', 'иКДО ЛЖ'),\n",
        "('ИСХОДНАЯ ЭХОКГ', 'иКСО ЛЖ'),\n",
        "('ИСХОДНАЯ ЭХОКГ', 'ФВ ЛЖ'),\n",
        "('ИСХОДНАЯ ЭХОКГ', 'иММ ЛЖ'),\n",
        "('ИСХОДНАЯ ЭХОКГ', 'ЛП'),\n",
        "('ИСХОДНАЯ ЭХОКГ', 'Аневризма ЛЖ'),\n",
        "('ИСХОДНАЯ ЭХОКГ', 'Тромбоз ЛЖ'),\n",
        "('ИСХОДНАЯ ЭХОКГ', 'ИНЛС ЛЖ'),\n",
        "]\n",
        "\n",
        "print(len(clinical_features))"
      ],
      "metadata": {
        "colab": {
          "base_uri": "https://localhost:8080/"
        },
        "id": "NSfyRlADQTrS",
        "outputId": "9301d54f-0cda-44c3-d080-09490389697d"
      },
      "execution_count": 16,
      "outputs": [
        {
          "output_type": "stream",
          "name": "stdout",
          "text": [
            "47\n"
          ]
        }
      ]
    },
    {
      "cell_type": "markdown",
      "source": [
        "The resulting biomarkers from dataset A (17 [66]), dataset B (3 [6]), dataset C (5)"
      ],
      "metadata": {
        "id": "if4s-nsoajP7"
      }
    },
    {
      "cell_type": "code",
      "source": [
        "biomarkers_a = [\n",
        "# TnI\n",
        "('БИОМАРКЕРЫ БЛОК А', 'TnI-1, нг/мл'),\n",
        "('БИОМАРКЕРЫ БЛОК А', 'TnI-2, нг/мл'),\n",
        "('БИОМАРКЕРЫ БЛОК А', 'TnI-3, нг/мл'),\n",
        "('БИОМАРКЕРЫ БЛОК А', 'TnI-4, нг/мл'),\n",
        "# CKMB\n",
        "('БИОМАРКЕРЫ БЛОК А', 'CKMB-1, нг/мл'),\n",
        "('БИОМАРКЕРЫ БЛОК А', 'CKMB-2, нг/мл'),\n",
        "('БИОМАРКЕРЫ БЛОК А', 'CKMB-3, нг/мл'),\n",
        "('БИОМАРКЕРЫ БЛОК А', 'CKMB-4, нг/мл'),\n",
        "# MG\n",
        "('БИОМАРКЕРЫ БЛОК А', 'MG-1, нг/мл'),\n",
        "('БИОМАРКЕРЫ БЛОК А', 'MG-2, нг/мл'),\n",
        "('БИОМАРКЕРЫ БЛОК А', 'MG-3, нг/мл'),\n",
        "('БИОМАРКЕРЫ БЛОК А', 'MG-4, нг/мл'),\n",
        "# NT-proBNP\n",
        "('БИОМАРКЕРЫ БЛОК А', 'NT-proBNP-1, пг/мл'),\n",
        "('БИОМАРКЕРЫ БЛОК А', 'NT-proBNP-2, пг/мл'),\n",
        "('БИОМАРКЕРЫ БЛОК А', 'NT-proBNP-3, пг/мл'),\n",
        "('БИОМАРКЕРЫ БЛОК А', 'NT-proBNP-4, пг/мл'),\n",
        "# hsCRB\n",
        "('БИОМАРКЕРЫ БЛОК А', 'hsCRB-1, мг/л'),\n",
        "('БИОМАРКЕРЫ БЛОК А', 'hsCRB-2, мг/л'),\n",
        "('БИОМАРКЕРЫ БЛОК А', 'hsCRB-3, мг/л'),\n",
        "('БИОМАРКЕРЫ БЛОК А', 'hsCRB-4, мг/л'),\n",
        "# MPO\n",
        "('БИОМАРКЕРЫ БЛОК А', 'MPO-1, нг/мл'),\n",
        "('БИОМАРКЕРЫ БЛОК А', 'MPO-2, нг/мл'),\n",
        "('БИОМАРКЕРЫ БЛОК А', 'MPO-3, нг/мл'),\n",
        "('БИОМАРКЕРЫ БЛОК А', 'MPO-4, нг/мл'),\n",
        "# sCD40L\n",
        "('БИОМАРКЕРЫ БЛОК А', 'sCD40L-1, нг/мл'),\n",
        "('БИОМАРКЕРЫ БЛОК А', 'sCD40L-2, нг/мл'),\n",
        "('БИОМАРКЕРЫ БЛОК А', 'sCD40L-3, нг/мл'),\n",
        "('БИОМАРКЕРЫ БЛОК А', 'sCD40L-4, нг/мл'),\n",
        "# ET1\n",
        "('БИОМАРКЕРЫ БЛОК А', 'ET1-1, фмоль/мл'),\n",
        "('БИОМАРКЕРЫ БЛОК А', 'ET1-2, фмоль/мл'),\n",
        "('БИОМАРКЕРЫ БЛОК А', 'ET1-3, фмоль/мл'),\n",
        "('БИОМАРКЕРЫ БЛОК А', 'ET1-4, фмоль/мл'),\n",
        "# PlGF\n",
        "('БИОМАРКЕРЫ БЛОК А', 'PlGF-1, пг/мл'),\n",
        "('БИОМАРКЕРЫ БЛОК А', 'PlGF-2, пг/мл'),\n",
        "('БИОМАРКЕРЫ БЛОК А', 'PlGF-3, пг/мл'),\n",
        "('БИОМАРКЕРЫ БЛОК А', 'PlGF-4, пг/мл'),\n",
        "# ХС\n",
        "('БИОМАРКЕРЫ БЛОК А', 'ХС-1, ммоль/л'),\n",
        "('БИОМАРКЕРЫ БЛОК А', 'ХС-2, ммоль/л'),\n",
        "('БИОМАРКЕРЫ БЛОК А', 'ХС-3, ммоль/л'),\n",
        "('БИОМАРКЕРЫ БЛОК А', 'ХС-4, ммоль/л'),\n",
        "# ЛПВП\n",
        "('БИОМАРКЕРЫ БЛОК А', 'ЛПВП-1, ммоль/л'),\n",
        "('БИОМАРКЕРЫ БЛОК А', 'ЛПВП-2, ммоль/л'),\n",
        "('БИОМАРКЕРЫ БЛОК А', 'ЛПВП-3, ммоль/л'),\n",
        "('БИОМАРКЕРЫ БЛОК А', 'ЛПВП-4, ммоль/л'),\n",
        "# ЛПНП\n",
        "('БИОМАРКЕРЫ БЛОК А', 'ЛПНП-1, ммоль/л'),\n",
        "('БИОМАРКЕРЫ БЛОК А', 'ЛПНП-2, ммоль/л'),\n",
        "('БИОМАРКЕРЫ БЛОК А', 'ЛПНП-3, ммоль/л'),\n",
        "('БИОМАРКЕРЫ БЛОК А', 'ЛПНП-4, ммоль/л'),\n",
        "# ТГ\n",
        "('БИОМАРКЕРЫ БЛОК А', 'ТГ-1, ммоль/л'),\n",
        "('БИОМАРКЕРЫ БЛОК А', 'ТГ-2, ммоль/л'),\n",
        "('БИОМАРКЕРЫ БЛОК А', 'ТГ-3, ммоль/л'),\n",
        "('БИОМАРКЕРЫ БЛОК А', 'ТГ-4, ммоль/л'),\n",
        "# Глю\n",
        "('БИОМАРКЕРЫ БЛОК А', 'Глю-1, ммоль/л'),\n",
        "('БИОМАРКЕРЫ БЛОК А', 'Глю-2, ммоль/л'),\n",
        "('БИОМАРКЕРЫ БЛОК А', 'Глю-3, ммоль/л'),\n",
        "('БИОМАРКЕРЫ БЛОК А', 'Глю-4, ммоль/л'),\n",
        "# Hba1c\n",
        "('БИОМАРКЕРЫ БЛОК А', 'Hba1c-1,%'),\n",
        "('БИОМАРКЕРЫ БЛОК А', 'Hba1c-4,%'),\n",
        "# АТ3\n",
        "('БИОМАРКЕРЫ БЛОК А', 'АТ3-1, %'),\n",
        "('БИОМАРКЕРЫ БЛОК А', 'АТ3-2, %'),\n",
        "('БИОМАРКЕРЫ БЛОК А', 'АТ3-3, %'),\n",
        "('БИОМАРКЕРЫ БЛОК А', 'АТ3-4, %'),\n",
        "# FW\n",
        "('БИОМАРКЕРЫ БЛОК А', 'FW-1,%'),\n",
        "('БИОМАРКЕРЫ БЛОК А', 'FW-2,%'),\n",
        "('БИОМАРКЕРЫ БЛОК А', 'FW-3,%'),\n",
        "('БИОМАРКЕРЫ БЛОК А', 'FW-4,%'),\n",
        "]\n",
        "\n",
        "print(len(biomarkers_a))"
      ],
      "metadata": {
        "colab": {
          "base_uri": "https://localhost:8080/"
        },
        "id": "hko_uGOdbW_a",
        "outputId": "4f3a7567-30e9-4f05-ffbd-5685a74da71e"
      },
      "execution_count": 26,
      "outputs": [
        {
          "output_type": "stream",
          "name": "stdout",
          "text": [
            "66\n"
          ]
        }
      ]
    },
    {
      "cell_type": "code",
      "source": [
        "biomarkers_b = [\n",
        "('БИОМАРКЕРЫ БЛОК Е', 'БСЖК-1'),\n",
        "('БИОМАРКЕРЫ БЛОК Е', 'БСЖК-2'),\n",
        "('БИОМАРКЕРЫ БЛОК Е', 'hsТnT-2, пг/мл'),\n",
        "('БИОМАРКЕРЫ БЛОК Е', 'hsТnT-2, пг/мл.1'),\n",
        "('БИОМАРКЕРЫ БЛОК Е', 'MG-1, нг/мл'),\n",
        "('БИОМАРКЕРЫ БЛОК Е', 'MG-2, нг/мл'),\n",
        "]"
      ],
      "metadata": {
        "id": "dCFmxGv1bAJ2"
      },
      "execution_count": null,
      "outputs": []
    },
    {
      "cell_type": "code",
      "source": [
        "biomarkers_c = [\n",
        "('БИОМАРКЕРЫ', 'Галектин-3 (нг/мл)'),\n",
        "('БИОМАРКЕРЫ', 'MMP-9 (нг/мл)'),\n",
        "('БИОМАРКЕРЫ', 'ST2 (нг/мл)'),\n",
        "('БИОМАРКЕРЫ', 'PCSK9 (нг/мл)'),\n",
        "('БИОМАРКЕРЫ', 'Копептин (нг/мл)'),\n",
        "]"
      ],
      "metadata": {
        "id": "Y1M_-TQbaukh"
      },
      "execution_count": null,
      "outputs": []
    },
    {
      "cell_type": "markdown",
      "source": [
        "## Data editing"
      ],
      "metadata": {
        "id": "Fd_K7om5asA4"
      }
    },
    {
      "cell_type": "markdown",
      "source": [
        "#### Dataset A"
      ],
      "metadata": {
        "id": "eECgjEgma5Tp"
      }
    },
    {
      "cell_type": "code",
      "source": [
        "# download Dataset A from Github repo and read as excel file\n",
        "\n",
        "link_a = './HSE project/Data/cardio_a_updated.xlsx'\n",
        "data_a = pd.read_excel(link_a ,header=[0,1], index_col=0)\n",
        "print('data_a raw shape: ', data_a.shape)"
      ],
      "metadata": {
        "colab": {
          "base_uri": "https://localhost:8080/"
        },
        "id": "ztl_VKdlSLik",
        "outputId": "b566f2db-b580-4366-e9e3-71d398d31b64"
      },
      "execution_count": null,
      "outputs": [
        {
          "output_type": "stream",
          "name": "stdout",
          "text": [
            "data_a raw shape:  (263, 252)\n"
          ]
        }
      ]
    },
    {
      "cell_type": "code",
      "source": [
        "# Correcting data_a\n",
        "\n",
        "\n",
        "# replace NAs with -1\n",
        "data_a = data_a.fillna(-1)\n",
        "data_a = data_a.replace(' ',-1)\n",
        "\n",
        "# Modify 'Пол' feature: covert all string to lower format and convert to 0 and 1\n",
        "data_a['АНТРОПОФИЗИОМЕТРИЯ', 'Пол'] = data_a['АНТРОПОФИЗИОМЕТРИЯ', 'Пол'].str.lower().replace(['м','ж'],[0,1])\n",
        "\n",
        "# correct date typos\n",
        "data_a['АНТРОПОФИЗИОМЕТРИЯ', 'Дата госпитализации'][154] = '2013-03-22 00:00:00'\n",
        "data_a['АНТРОПОФИЗИОМЕТРИЯ', 'Дата госпитализации'][129] = '2013-01-17 00:00:00'\n",
        "data_a['АНТРОПОФИЗИОМЕТРИЯ', 'Дата госпитализации'] = pd.to_datetime(data_a['АНТРОПОФИЗИОМЕТРИЯ', 'Дата госпитализации'], format='%Y-%m-%d %H:%M:%S')\n",
        "\n",
        "# Replace typos or non-numeric data with '-1'\n",
        "data_a[('СОПУТСТВУЮЩИЕ ЗАБОЛЕВАНИЯ И СОСТОЯНИЯ', 'Стадия ХБП по KDOQI /ERA')] = \\\n",
        "data_a[('СОПУТСТВУЮЩИЕ ЗАБОЛЕВАНИЯ И СОСТОЯНИЯ', 'Стадия ХБП по KDOQI /ERA')].replace(\n",
        "    [\"С2\", \"С1\", \"с2\", \"с1\", \"С3а\", \"с3а\", \"C2\", \"с3б\", \"C1\", \"С3б\", \"С4\", \"С3\", \"3А\", \"с4\", \"с5\", \"С3b\", \"ОПН!\"], \\\n",
        "    [\"c2\", \"c1\", \"c2\", \"c1\", \"c3a\", \"c3a\", \"c2\", \"c3b\", \"c1\", \"c3b\", \"c4\", \"c3\", \"c3a\", \"c4\", \"c5\", \"c3b\", \"опн!\"] )\n",
        "data_a[('СОПУТСТВУЮЩИЕ ЗАБОЛЕВАНИЯ И СОСТОЯНИЯ', 'Стадия ХБП по KDOQI /ERA')] = \\\n",
        "data_a[('СОПУТСТВУЮЩИЕ ЗАБОЛЕВАНИЯ И СОСТОЯНИЯ', 'Стадия ХБП по KDOQI /ERA')].replace(\n",
        "    ['c2', 'c1', 'c3a', 'c3b', 'c4', 'c3', 0, 2, 'c5', 'опн!'], [0,  1,  2,  3,  4,  5,  6,  7,  8,  9] ).astype(int)\n",
        "# ---------------\n",
        "data_a[('СОПУТСТВУЮЩИЕ ЗАБОЛЕВАНИЯ И СОСТОЯНИЯ', 'Стадия по KDOQI/ERA')] = \\\n",
        "data_a[('СОПУТСТВУЮЩИЕ ЗАБОЛЕВАНИЯ И СОСТОЯНИЯ', 'Стадия по KDOQI/ERA')].replace(\n",
        "    [-1, 'С2', 'с2', 'С1', 0, 'c2', 'с1', 'С3а', 'C2', 'C1', 'С4', 'с3б', 'С3b', 'С3А', 'с4', 'C3б', 'C3а', 'С3б'],\n",
        "    [-1, 'c2', 'c2', 'c1', 0, 'c2', 'c1', 'c3a', 'c2', 'c1', 'c4', 'c3b', 'c3b', 'c3a', 'c4', 'c3b', 'c3a', 'c3b'] )\n",
        "data_a[('СОПУТСТВУЮЩИЕ ЗАБОЛЕВАНИЯ И СОСТОЯНИЯ', 'Стадия по KDOQI/ERA')] = \\\n",
        "data_a[('СОПУТСТВУЮЩИЕ ЗАБОЛЕВАНИЯ И СОСТОЯНИЯ', 'Стадия по KDOQI/ERA')].replace(\n",
        "    [-1, 'c2', 'c1', 'c3a', 'c3b', 0, 'c4'], [-1, 1, 2, 3, 4, 0, 5] ).astype(int)\n",
        "# ---------------\n",
        "data_a[('Хроническая сердечная недостаточность', 'НК')] = \\\n",
        "data_a[('Хроническая сердечная недостаточность', 'НК')].replace([-1, 1, '2а', 0, '2А', '2Б', 2, '2б'], [-1, 1, 3, 0, 3, 4, 2, 4]).astype(int)\n",
        "# ---------------\n",
        "data_a.rename({'Повторная реваскуляризация (ЧКВ/АКШ)': 'Повторная реваскуляризация'}, axis=1, inplace=True)\n",
        "data_a[('КОНЕЧНЫЕ ИСХОДЫ НАБЛЮДЕНИЯ', 'Повторная реваскуляризация')].replace(to_replace=['ЧКВ',\n",
        "                           'АКШ',\n",
        "                           '1899-12-29 00:00:00', \n",
        "                           'ЧКВ ',\n",
        "                           'АКШ ', \n",
        "                           '2018-07-30 00:00:00', \n",
        "                           '2019-04-15 00:00:00', \n",
        "                           '2020-08-30 00:00:00'], \n",
        "               value=1, \n",
        "               inplace=True)\n",
        "data_a[('КОНЕЧНЫЕ ИСХОДЫ НАБЛЮДЕНИЯ', 'Повторная реваскуляризация')].replace(to_replace=['0'], value=0, inplace=True)\n",
        "\n",
        "# Features with nulls: manually chose non-categorical columns with '0' and replace with '-1' \n",
        "# nulls = [col for col in data_a.columns[:90] if (len((data_a[col].unique())) > 12) and (data_a[col] == 0).sum() > 0] ; data_a[nulls]\n",
        "data_a[('ЛАБОРАТОРНЫЕ ПОКАЗАТЕЛИ', 'ЛПНП, ммоль/л')] = data_a[('ЛАБОРАТОРНЫЕ ПОКАЗАТЕЛИ', 'ЛПНП, ммоль/л')].replace([0],[-1]) \n",
        "data_a[('ЛАБОРАТОРНЫЕ ПОКАЗАТЕЛИ', 'Билирубин, мкмоль/л')] = data_a[('ЛАБОРАТОРНЫЕ ПОКАЗАТЕЛИ', 'Билирубин, мкмоль/л')].replace([0],[-1]) "
      ],
      "metadata": {
        "id": "WY9GWtLWSg3h"
      },
      "execution_count": null,
      "outputs": []
    },
    {
      "cell_type": "code",
      "source": [
        "# Find columns\n",
        "\n",
        "\n",
        "hyperlipidemia = pd.DataFrame(columns=pd.MultiIndex.from_product([['ЛАБОРАТОРНЫЕ ПОКАЗАТЕЛИ'], ['Хсобщ, ммоль/л']]))\n",
        "hyperlipidemia[('ЛАБОРАТОРНЫЕ ПОКАЗАТЕЛИ'), ('Хсобщ, ммоль/л')] = data_a[('ЛАБОРАТОРНЫЕ ПОКАЗАТЕЛИ', 'Хсобщ, ммоль/л')]\n",
        "\n",
        "\n",
        "# drop features that were obtained at first discharge and biomarkers \n",
        "# columns must have no more than threshold=20% of NAs\n",
        "threshold = 0.2\n",
        "columns_with_useful_data = list(data_a.columns[:2]) + list(data_a.columns[3:77]) + list(data_a.columns[148:237])\n",
        "cols_with_NAs = [col for col in columns_with_useful_data if (data_a[col] == -1).sum() > threshold*data_a.shape[0]]\n",
        "data_a.drop(columns=cols_with_NAs, inplace=True)       \n",
        "\n",
        "\n",
        "# find all the necessary columns\n",
        "# define continuous and categorical groups\n",
        "clinical_and_biomarkers = list(data_a.columns[:2]) + list(data_a.columns[3:61]) + list(data_a.columns[132:218])\n",
        "continuous_cols = [col for col in clinical_and_biomarkers if (len((data_a[col].unique())) > 9)]\n",
        "categorical = [col for col in clinical_and_biomarkers if (len((data_a[col].unique())) <= 9)]\n",
        "clinical_and_biomarkers_and_hyperlipidemia = clinical_and_biomarkers + [('ЛАБОРАТОРНЫЕ ПОКАЗАТЕЛИ', 'Хсобщ, ммоль/л')]\n",
        "# hyperlipidemia = hyperlipidemia.replace(-1, np.nan)"
      ],
      "metadata": {
        "id": "hpuxOzzBbAeg"
      },
      "execution_count": null,
      "outputs": []
    },
    {
      "cell_type": "code",
      "source": [
        "print('data_a raw shape: ', data_a.shape)"
      ],
      "metadata": {
        "colab": {
          "base_uri": "https://localhost:8080/"
        },
        "id": "q8O2xRIoGpdJ",
        "outputId": "d7ae5ce7-3fba-4e21-aaad-3a4ed360f33b"
      },
      "execution_count": null,
      "outputs": [
        {
          "output_type": "stream",
          "name": "stdout",
          "text": [
            "data_a raw shape:  (263, 233)\n"
          ]
        }
      ]
    },
    {
      "cell_type": "markdown",
      "source": [
        "##### how much NAs"
      ],
      "metadata": {
        "id": "ceKMW1mS9yCD"
      }
    },
    {
      "cell_type": "code",
      "source": [
        "data_a = data_a[get_combined_target_column(data_a) != -1]"
      ],
      "metadata": {
        "id": "67Mx7Ev97GZ2"
      },
      "execution_count": null,
      "outputs": []
    },
    {
      "cell_type": "code",
      "source": [
        "np.array(list((data_a == -1).sum()))"
      ],
      "metadata": {
        "colab": {
          "base_uri": "https://localhost:8080/"
        },
        "id": "ZlTU2U2Z7jeE",
        "outputId": "90d53c63-4db8-4d76-b018-ff8749e875da"
      },
      "execution_count": null,
      "outputs": [
        {
          "output_type": "execute_result",
          "data": {
            "text/plain": [
              "array([  0,   0,   0,   0,   0,   0,   0,   0,   0,  95,  95,  95,  92,\n",
              "        92,  92,  93,  93,   2,   0,  21,  21,  21,   0,   3,   2,   4,\n",
              "         4,   0,   0,   0,   0,   0,   1,   0,   0,   0,   4,   0,   0,\n",
              "         0,   0,   0, 199, 100,  24,   7,  43,  89,  88,  47,   0,  20,\n",
              "         0,   4,   4,   5,   5,  16,   5,   5,   5,   5,   5,   5,   5,\n",
              "         5,  15,  16,  18,  18,   7,  38,  37,  23,   4,   4,   4,  69,\n",
              "       131,  89,  90,  77, 163, 116, 118, 118,  76,  80,  76,  76, 101,\n",
              "        92, 107, 111, 112, 110, 106, 120, 192, 114, 118, 117, 134, 103,\n",
              "        96,  98, 103,  97,  99,  97,  97,  96,  96, 104, 104, 182,  98,\n",
              "       101, 100,  97,  98,  99,  99,  77, 198,   4, 108,  69, 190,  70,\n",
              "       198,  69,  69,  99, 173, 174, 179, 180,  69, 187,  70, 199,  70,\n",
              "       198,  81,  77,  53, 120,   0,   6,  13,  25, 124, 198, 191,   0,\n",
              "         6,  13,  25,   0,   6,  13,  25,   0,   6,  13,  25,   0,   6,\n",
              "        13,  28,   0,   8,  16,  30,   0,   8,  16,  30,   0,   8,  13,\n",
              "        27,   0,   7,  15,  26,   0,   6,  13,  27,   0,   6,  13,  27,\n",
              "         0,   6,  13,  28,   0,   6,  13,  27,   0,   7,  13,  28,   0,\n",
              "         6,  13,  28,   0,  29,   0,   6,  13,  25,   0,   6,  13,  25,\n",
              "         0,   6,  13,  29,   0,   6,  13,  25,   0,   6,  13,  25,   0,\n",
              "         7,  17,  25,   0, 193,   0, 200,   0, 197,   0,   0, 196,   0,\n",
              "       197,   0, 200,   0, 198])"
            ]
          },
          "metadata": {},
          "execution_count": 39
        }
      ]
    },
    {
      "cell_type": "code",
      "source": [
        "np.array(data_a.columns)"
      ],
      "metadata": {
        "colab": {
          "base_uri": "https://localhost:8080/"
        },
        "id": "SH_lFYej7Q_M",
        "outputId": "fe2398c6-8910-4b9a-cb4d-af93036ec765"
      },
      "execution_count": null,
      "outputs": [
        {
          "output_type": "execute_result",
          "data": {
            "text/plain": [
              "array([('АНТРОПОФИЗИОМЕТРИЯ', 'Пол'), ('АНТРОПОФИЗИОМЕТРИЯ', 'Возраст'),\n",
              "       ('АНТРОПОФИЗИОМЕТРИЯ', 'Дата госпитализации'),\n",
              "       ('АНТРОПОФИЗИОМЕТРИЯ', 'Рост'), ('АНТРОПОФИЗИОМЕТРИЯ', 'Вес'),\n",
              "       ('АНТРОПОФИЗИОМЕТРИЯ', 'ИМТ'), ('АНТРОПОФИЗИОМЕТРИЯ', 'S тела'),\n",
              "       ('АНТРОПОФИЗИОМЕТРИЯ', 'систол. АД'),\n",
              "       ('АНТРОПОФИЗИОМЕТРИЯ', 'ЧСС'),\n",
              "       ('ПСИХОСОЦИАЛЬНЫЕ ФАКТОРЫ', 'Психотип D'),\n",
              "       ('ПСИХОСОЦИАЛЬНЫЕ ФАКТОРЫ', 'Тревога HADS'),\n",
              "       ('ПСИХОСОЦИАЛЬНЫЕ ФАКТОРЫ', 'Депрессия HADS'),\n",
              "       ('ПСИХОСОЦИАЛЬНЫЕ ФАКТОРЫ', 'Длительность проживания на Севере, лет'),\n",
              "       ('ПСИХОСОЦИАЛЬНЫЕ ФАКТОРЫ', 'Курение'),\n",
              "       ('ПСИХОСОЦИАЛЬНЫЕ ФАКТОРЫ', 'Алкоголь'),\n",
              "       ('ПСИХОСОЦИАЛЬНЫЕ ФАКТОРЫ', 'Уровень образования'),\n",
              "       ('ПСИХОСОЦИАЛЬНЫЕ ФАКТОРЫ', 'Семейный статус'),\n",
              "       ('ХАРАКТЕРИСТИКА ОИМ', 'Давность болевого синдрома'),\n",
              "       ('ХАРАКТЕРИСТИКА ОИМ', 'Cегмент ST'),\n",
              "       ('ХАРАКТЕРИСТИКА ОИМ', 'Передняя стенка ЛЖ'),\n",
              "       ('ХАРАКТЕРИСТИКА ОИМ', 'Задняя    стенка ЛЖ'),\n",
              "       ('ХАРАКТЕРИСТИКА ОИМ', 'Боковая  стенка ЛЖ'),\n",
              "       ('ХАРАКТЕРИСТИКА ОИМ', 'Класс Killip'),\n",
              "       ('ХАРАКТЕРИСТИКА ОИМ', 'Риск GRACE, баллы'),\n",
              "       ('ХАРАКТЕРИСТИКА ОИМ', 'Риск GRACE   1-год, % '),\n",
              "       ('ХАРАКТЕРИСТИКА ОИМ', 'CRUSADE Bleeding Score'),\n",
              "       ('ХАРАКТЕРИСТИКА ОИМ', 'Risk of In-Hospital Major Bleeding,%'),\n",
              "       ('СОПУТСТВУЮЩИЕ ЗАБОЛЕВАНИЯ И СОСТОЯНИЯ', 'пост-ИМ'),\n",
              "       ('СОПУТСТВУЮЩИЕ ЗАБОЛЕВАНИЯ И СОСТОЯНИЯ', 'пост-ОНМК'),\n",
              "       ('СОПУТСТВУЮЩИЕ ЗАБОЛЕВАНИЯ И СОСТОЯНИЯ', 'пост-ВЧ-кровоизлияние'),\n",
              "       ('СОПУТСТВУЮЩИЕ ЗАБОЛЕВАНИЯ И СОСТОЯНИЯ', 'пост-стент'),\n",
              "       ('СОПУТСТВУЮЩИЕ ЗАБОЛЕВАНИЯ И СОСТОЯНИЯ', 'ФП'),\n",
              "       ('СОПУТСТВУЮЩИЕ ЗАБОЛЕВАНИЯ И СОСТОЯНИЯ', 'ГБ'),\n",
              "       ('СОПУТСТВУЮЩИЕ ЗАБОЛЕВАНИЯ И СОСТОЯНИЯ', 'СД'),\n",
              "       ('СОПУТСТВУЮЩИЕ ЗАБОЛЕВАНИЯ И СОСТОЯНИЯ', 'НТГ'),\n",
              "       ('СОПУТСТВУЮЩИЕ ЗАБОЛЕВАНИЯ И СОСТОЯНИЯ', 'МФА'),\n",
              "       ('СОПУТСТВУЮЩИЕ ЗАБОЛЕВАНИЯ И СОСТОЯНИЯ', 'Стадия ХБП по KDOQI /ERA'),\n",
              "       ('СОПУТСТВУЮЩИЕ ЗАБОЛЕВАНИЯ И СОСТОЯНИЯ', 'Ожирение, степень'),\n",
              "       ('СОПУТСТВУЮЩИЕ ЗАБОЛЕВАНИЯ И СОСТОЯНИЯ', 'ЯБЖ/ЭГ'),\n",
              "       ('СОПУТСТВУЮЩИЕ ЗАБОЛЕВАНИЯ И СОСТОЯНИЯ', 'Анемия, степень'),\n",
              "       ('СОПУТСТВУЮЩИЕ ЗАБОЛЕВАНИЯ И СОСТОЯНИЯ', 'Индекс коморбидности'),\n",
              "       ('СОПУТСТВУЮЩИЕ ЗАБОЛЕВАНИЯ И СОСТОЯНИЯ', 'Наследственность'),\n",
              "       ('КОРОНАРОАНГИОГРАФИЯ И РЕВАСКУЛЯРИЗАЦИЯ МИОКАРДА', 'SYNTAX Score I'),\n",
              "       ('КОРОНАРОАНГИОГРАФИЯ И РЕВАСКУЛЯРИЗАЦИЯ МИОКАРДА', 'TIMI в ИЗА'),\n",
              "       ('КОРОНАРОАНГИОГРАФИЯ И РЕВАСКУЛЯРИЗАЦИЯ МИОКАРДА', 'Инфаркт-зависимая артерия'),\n",
              "       ('ТРОПОНИНЫ по стандарту ОКД', 'TnT-ПО, нг/л'),\n",
              "       ('ЛАБОРАТОРНЫЕ ПОКАЗАТЕЛИ', 'Хсобщ, ммоль/л'),\n",
              "       ('ЛАБОРАТОРНЫЕ ПОКАЗАТЕЛИ', 'ЛПНП, ммоль/л'),\n",
              "       ('ЛАБОРАТОРНЫЕ ПОКАЗАТЕЛИ', 'ЛПВП, ммоль/л'),\n",
              "       ('ЛАБОРАТОРНЫЕ ПОКАЗАТЕЛИ', 'ТГц, ммоль/л'),\n",
              "       ('ЛАБОРАТОРНЫЕ ПОКАЗАТЕЛИ', 'Гемоглобин, г/л'),\n",
              "       ('ЛАБОРАТОРНЫЕ ПОКАЗАТЕЛИ', 'Глюкоза, ммоль/л'),\n",
              "       ('ЛАБОРАТОРНЫЕ ПОКАЗАТЕЛИ', 'Гематокрит, %'),\n",
              "       ('ЛАБОРАТОРНЫЕ ПОКАЗАТЕЛИ', 'Креатинин, мкмоль/л'),\n",
              "       ('ЛАБОРАТОРНЫЕ ПОКАЗАТЕЛИ', 'СКФ EPI'),\n",
              "       ('ЛАБОРАТОРНЫЕ ПОКАЗАТЕЛИ', 'АЛТ, U/L'),\n",
              "       ('ЛАБОРАТОРНЫЕ ПОКАЗАТЕЛИ', 'АСТ, U/L'),\n",
              "       ('ЛАБОРАТОРНЫЕ ПОКАЗАТЕЛИ', 'Билирубин, мкмоль/л'),\n",
              "       ('ИСХОДНАЯ ЭХОКГ', 'КДР ЛЖ '), ('ИСХОДНАЯ ЭХОКГ', 'КДО ЛЖ'),\n",
              "       ('ИСХОДНАЯ ЭХОКГ', 'иКДО ЛЖ'), ('ИСХОДНАЯ ЭХОКГ', 'КСР ЛЖ'),\n",
              "       ('ИСХОДНАЯ ЭХОКГ', 'КСО ЛЖ'), ('ИСХОДНАЯ ЭХОКГ', 'иКСО ЛЖ'),\n",
              "       ('ИСХОДНАЯ ЭХОКГ', 'УО ЛЖ'), ('ИСХОДНАЯ ЭХОКГ', 'ФВ ЛЖ'),\n",
              "       ('ИСХОДНАЯ ЭХОКГ', 'ТМЖП ЛЖ'), ('ИСХОДНАЯ ЭХОКГ', 'ТЗС ЛЖ'),\n",
              "       ('ИСХОДНАЯ ЭХОКГ', 'ММ ЛЖ'), ('ИСХОДНАЯ ЭХОКГ', 'иММ ЛЖ'),\n",
              "       ('ИСХОДНАЯ ЭХОКГ', 'ЛП'), ('ИСХОДНАЯ ЭХОКГ', 'ПП'),\n",
              "       ('ИСХОДНАЯ ЭХОКГ', 'ПЖ'), ('ИСХОДНАЯ ЭХОКГ', 'РМК'),\n",
              "       ('ИСХОДНАЯ ЭХОКГ', 'Аневризма ЛЖ'),\n",
              "       ('ИСХОДНАЯ ЭХОКГ', 'Тромбоз ЛЖ'), ('ИСХОДНАЯ ЭХОКГ', 'ИНЛС ЛЖ'),\n",
              "       ('ИСХОД', 'Месяцы             (4 и далее)'),\n",
              "       ('ХАРАКТЕРИСТИКА ИБС', 'ФК'),\n",
              "       ('Хроническая сердечная недостаточность', 'ФК по NYHA'),\n",
              "       ('Хроническая сердечная недостаточность', 'НК'),\n",
              "       ('СОПУТСТВУЮЩИЕ ЗАБОЛЕВАНИЯ И СОСТОЯНИЯ', 'ГБ, степень адаптации к нормальному АД'),\n",
              "       ('СОПУТСТВУЮЩИЕ ЗАБОЛЕВАНИЯ И СОСТОЯНИЯ', 'СД, компенсация'),\n",
              "       ('СОПУТСТВУЮЩИЕ ЗАБОЛЕВАНИЯ И СОСТОЯНИЯ', 'ХБП'),\n",
              "       ('СОПУТСТВУЮЩИЕ ЗАБОЛЕВАНИЯ И СОСТОЯНИЯ', 'Стадия по KDOQI/ERA'),\n",
              "       ('СОПУТСТВУЮЩИЕ ЗАБОЛЕВАНИЯ И СОСТОЯНИЯ', 'СКФ EPI'),\n",
              "       ('СОПУТСТВУЮЩИЕ ЗАБОЛЕВАНИЯ И СОСТОЯНИЯ', 'Ожирение, степень.1'),\n",
              "       ('СОПУТСТВУЮЩИЕ ЗАБОЛЕВАНИЯ И СОСТОЯНИЯ', 'МФА.1'),\n",
              "       ('СОПУТСТВУЮЩИЕ ЗАБОЛЕВАНИЯ И СОСТОЯНИЯ', 'ИМТ'),\n",
              "       ('СОПУТСТВУЮЩИЕ ЗАБОЛЕВАНИЯ И СОСТОЯНИЯ', 'S тела'),\n",
              "       ('СОПУТСТВУЮЩИЕ ЗАБОЛЕВАНИЯ И СОСТОЯНИЯ', 'Анемия, степень.1'),\n",
              "       ('СОПУТСТВУЮЩИЕ ЗАБОЛЕВАНИЯ И СОСТОЯНИЯ', 'Курение'),\n",
              "       ('ЛАБОРАТОРНЫЕ ПОКАЗАТЕЛИ', 'ХСобщ'),\n",
              "       ('ЛАБОРАТОРНЫЕ ПОКАЗАТЕЛИ', 'ЛПНП'),\n",
              "       ('ЛАБОРАТОРНЫЕ ПОКАЗАТЕЛИ', 'ЛПВП'),\n",
              "       ('ЛАБОРАТОРНЫЕ ПОКАЗАТЕЛИ', 'ТГц'),\n",
              "       ('ЛАБОРАТОРНЫЕ ПОКАЗАТЕЛИ', 'Гемоглобин'),\n",
              "       ('ЛАБОРАТОРНЫЕ ПОКАЗАТЕЛИ', 'Глюкоза'),\n",
              "       ('ЛАБОРАТОРНЫЕ ПОКАЗАТЕЛИ', 'HbA1c'),\n",
              "       ('ЛАБОРАТОРНЫЕ ПОКАЗАТЕЛИ', 'Креатинин'),\n",
              "       ('ЛАБОРАТОРНЫЕ ПОКАЗАТЕЛИ', 'АЛТ'),\n",
              "       ('ЛАБОРАТОРНЫЕ ПОКАЗАТЕЛИ', 'АСТ'),\n",
              "       ('ЛАБОРАТОРНЫЕ ПОКАЗАТЕЛИ', 'Билирубин'),\n",
              "       ('ЭХОКГ (ИСХОД)', 'КДР ЛЖ '), ('ЭХОКГ (ИСХОД)', 'КДО ЛЖ'),\n",
              "       ('ЭХОКГ (ИСХОД)', 'иКДО ЛЖ'), ('ЭХОКГ (ИСХОД)', 'КСР ЛЖ'),\n",
              "       ('ЭХОКГ (ИСХОД)', 'КСО ЛЖ'), ('ЭХОКГ (ИСХОД)', 'иКСО ЛЖ'),\n",
              "       ('ЭХОКГ (ИСХОД)', 'УО ЛЖ'), ('ЭХОКГ (ИСХОД)', 'ФВ ЛЖ'),\n",
              "       ('ЭХОКГ (ИСХОД)', 'ТМЖП ЛЖ'), ('ЭХОКГ (ИСХОД)', 'ТЗС ЛЖ'),\n",
              "       ('ЭХОКГ (ИСХОД)', 'ММ ЛЖ'), ('ЭХОКГ (ИСХОД)', 'иММ ЛЖ'),\n",
              "       ('ЭХОКГ (ИСХОД)', 'E/A'), ('ЭХОКГ (ИСХОД)', 'ЛП'),\n",
              "       ('ЭХОКГ (ИСХОД)', 'ПП'), ('ЭХОКГ (ИСХОД)', 'ПЖ'),\n",
              "       ('ЭХОКГ (ИСХОД)', 'Аневризма ЛЖ'), ('ЭХОКГ (ИСХОД)', 'Тромбоз ЛЖ'),\n",
              "       ('ЭХОКГ (ИСХОД)', 'РМК'), ('ЭХОКГ (ИСХОД)', 'ИНЛС ЛЖ'),\n",
              "       ('КОНЕЧНЫЕ ИСХОДЫ НАБЛЮДЕНИЯ', 'Некардиальная смерть'),\n",
              "       ('КОНЕЧНЫЕ ИСХОДЫ НАБЛЮДЕНИЯ', 'Дата'),\n",
              "       ('КОНЕЧНЫЕ ИСХОДЫ НАБЛЮДЕНИЯ', 'Сердечно-сосудистая смерть'),\n",
              "       ('КОНЕЧНЫЕ ИСХОДЫ НАБЛЮДЕНИЯ', 'Дата.1'),\n",
              "       ('КОНЕЧНЫЕ ИСХОДЫ НАБЛЮДЕНИЯ', 'Реинфаркт'),\n",
              "       ('КОНЕЧНЫЕ ИСХОДЫ НАБЛЮДЕНИЯ', 'Дата.2'),\n",
              "       ('КОНЕЧНЫЕ ИСХОДЫ НАБЛЮДЕНИЯ', 'Тромбоз стента/ шунта'),\n",
              "       ('КОНЕЧНЫЕ ИСХОДЫ НАБЛЮДЕНИЯ', 'Дата.3'),\n",
              "       ('КОНЕЧНЫЕ ИСХОДЫ НАБЛЮДЕНИЯ', 'НРС'),\n",
              "       ('КОНЕЧНЫЕ ИСХОДЫ НАБЛЮДЕНИЯ', 'Повторная реваскуляризация'),\n",
              "       ('КОНЕЧНЫЕ ИСХОДЫ НАБЛЮДЕНИЯ', 'Дата.4'),\n",
              "       ('КОНЕЧНЫЕ ИСХОДЫ НАБЛЮДЕНИЯ', 'Повторная реваскуляризация (ЧКВ/АКШ).1'),\n",
              "       ('КОНЕЧНЫЕ ИСХОДЫ НАБЛЮДЕНИЯ', 'Дата.5'),\n",
              "       ('КОНЕЧНЫЕ ИСХОДЫ НАБЛЮДЕНИЯ', 'Повторная реваскуляризация (ЧКВ/АКШ).2'),\n",
              "       ('КОНЕЧНЫЕ ИСХОДЫ НАБЛЮДЕНИЯ', 'Дата.6'),\n",
              "       ('КОНЕЧНЫЕ ИСХОДЫ НАБЛЮДЕНИЯ', 'ОНМК'),\n",
              "       ('КОНЕЧНЫЕ ИСХОДЫ НАБЛЮДЕНИЯ', 'Дата.7'),\n",
              "       ('КОНЕЧНЫЕ ИСХОДЫ НАБЛЮДЕНИЯ', 'ВЧ-кровотечение'),\n",
              "       ('КОНЕЧНЫЕ ИСХОДЫ НАБЛЮДЕНИЯ', 'Дата.8'),\n",
              "       ('КОНЕЧНЫЕ ИСХОДЫ НАБЛЮДЕНИЯ', 'ЖКТ-кровотечение'),\n",
              "       ('КОНЕЧНЫЕ ИСХОДЫ НАБЛЮДЕНИЯ', 'Дата.9'),\n",
              "       ('КОНЕЧНЫЕ ИСХОДЫ НАБЛЮДЕНИЯ', 'Симптомная стенокардия'),\n",
              "       ('КОНЕЧНЫЕ ИСХОДЫ НАБЛЮДЕНИЯ', 'Симптомная СН'),\n",
              "       ('Связь с пациентом', 'дозвон'), ('Связь с пациентом', 'недозвон'),\n",
              "       ('БИОМАРКЕРЫ БЛОК А', 'TnI-1, нг/мл'),\n",
              "       ('БИОМАРКЕРЫ БЛОК А', 'TnI-2, нг/мл'),\n",
              "       ('БИОМАРКЕРЫ БЛОК А', 'TnI-3, нг/мл'),\n",
              "       ('БИОМАРКЕРЫ БЛОК А', 'TnI-4, нг/мл'),\n",
              "       ('БИОМАРКЕРЫ БЛОК А', 'hsТnT-1, пг/мл'),\n",
              "       ('БИОМАРКЕРЫ БЛОК А', 'hsТnT-2, пг/мл'),\n",
              "       ('БИОМАРКЕРЫ БЛОК А', 'hsТnT-3, пг/мл'),\n",
              "       ('БИОМАРКЕРЫ БЛОК А', 'CKMB-1, нг/мл'),\n",
              "       ('БИОМАРКЕРЫ БЛОК А', 'CKMB-2, нг/мл'),\n",
              "       ('БИОМАРКЕРЫ БЛОК А', 'CKMB-3, нг/мл'),\n",
              "       ('БИОМАРКЕРЫ БЛОК А', 'CKMB-4, нг/мл'),\n",
              "       ('БИОМАРКЕРЫ БЛОК А', 'MG-1, нг/мл'),\n",
              "       ('БИОМАРКЕРЫ БЛОК А', 'MG-2, нг/мл'),\n",
              "       ('БИОМАРКЕРЫ БЛОК А', 'MG-3, нг/мл'),\n",
              "       ('БИОМАРКЕРЫ БЛОК А', 'MG-4, нг/мл'),\n",
              "       ('БИОМАРКЕРЫ БЛОК А', 'NT-proBNP-1, пг/мл'),\n",
              "       ('БИОМАРКЕРЫ БЛОК А', 'NT-proBNP-2, пг/мл'),\n",
              "       ('БИОМАРКЕРЫ БЛОК А', 'NT-proBNP-3, пг/мл'),\n",
              "       ('БИОМАРКЕРЫ БЛОК А', 'NT-proBNP-4, пг/мл'),\n",
              "       ('БИОМАРКЕРЫ БЛОК А', 'hsCRB-1, мг/л'),\n",
              "       ('БИОМАРКЕРЫ БЛОК А', 'hsCRB-2, мг/л'),\n",
              "       ('БИОМАРКЕРЫ БЛОК А', 'hsCRB-3, мг/л'),\n",
              "       ('БИОМАРКЕРЫ БЛОК А', 'hsCRB-4, мг/л'),\n",
              "       ('БИОМАРКЕРЫ БЛОК А', 'MPO-1, нг/мл'),\n",
              "       ('БИОМАРКЕРЫ БЛОК А', 'MPO-2, нг/мл'),\n",
              "       ('БИОМАРКЕРЫ БЛОК А', 'MPO-3, нг/мл'),\n",
              "       ('БИОМАРКЕРЫ БЛОК А', 'MPO-4, нг/мл'),\n",
              "       ('БИОМАРКЕРЫ БЛОК А', 'sCD40L-1, нг/мл'),\n",
              "       ('БИОМАРКЕРЫ БЛОК А', 'sCD40L-2, нг/мл'),\n",
              "       ('БИОМАРКЕРЫ БЛОК А', 'sCD40L-3, нг/мл'),\n",
              "       ('БИОМАРКЕРЫ БЛОК А', 'sCD40L-4, нг/мл'),\n",
              "       ('БИОМАРКЕРЫ БЛОК А', 'ET1-1, фмоль/мл'),\n",
              "       ('БИОМАРКЕРЫ БЛОК А', 'ET1-2, фмоль/мл'),\n",
              "       ('БИОМАРКЕРЫ БЛОК А', 'ET1-3, фмоль/мл'),\n",
              "       ('БИОМАРКЕРЫ БЛОК А', 'ET1-4, фмоль/мл'),\n",
              "       ('БИОМАРКЕРЫ БЛОК А', 'PlGF-1, пг/мл'),\n",
              "       ('БИОМАРКЕРЫ БЛОК А', 'PlGF-2, пг/мл'),\n",
              "       ('БИОМАРКЕРЫ БЛОК А', 'PlGF-3, пг/мл'),\n",
              "       ('БИОМАРКЕРЫ БЛОК А', 'PlGF-4, пг/мл'),\n",
              "       ('БИОМАРКЕРЫ БЛОК А', 'ХС-1, ммоль/л'),\n",
              "       ('БИОМАРКЕРЫ БЛОК А', 'ХС-2, ммоль/л'),\n",
              "       ('БИОМАРКЕРЫ БЛОК А', 'ХС-3, ммоль/л'),\n",
              "       ('БИОМАРКЕРЫ БЛОК А', 'ХС-4, ммоль/л'),\n",
              "       ('БИОМАРКЕРЫ БЛОК А', 'ЛПВП-1, ммоль/л'),\n",
              "       ('БИОМАРКЕРЫ БЛОК А', 'ЛПВП-2, ммоль/л'),\n",
              "       ('БИОМАРКЕРЫ БЛОК А', 'ЛПВП-3, ммоль/л'),\n",
              "       ('БИОМАРКЕРЫ БЛОК А', 'ЛПВП-4, ммоль/л'),\n",
              "       ('БИОМАРКЕРЫ БЛОК А', 'ЛПНП-1, ммоль/л'),\n",
              "       ('БИОМАРКЕРЫ БЛОК А', 'ЛПНП-2, ммоль/л'),\n",
              "       ('БИОМАРКЕРЫ БЛОК А', 'ЛПНП-3, ммоль/л'),\n",
              "       ('БИОМАРКЕРЫ БЛОК А', 'ЛПНП-4, ммоль/л'),\n",
              "       ('БИОМАРКЕРЫ БЛОК А', 'ТГ-1, ммоль/л'),\n",
              "       ('БИОМАРКЕРЫ БЛОК А', 'ТГ-2, ммоль/л'),\n",
              "       ('БИОМАРКЕРЫ БЛОК А', 'ТГ-3, ммоль/л'),\n",
              "       ('БИОМАРКЕРЫ БЛОК А', 'ТГ-4, ммоль/л'),\n",
              "       ('БИОМАРКЕРЫ БЛОК А', 'КАТ-1'), ('БИОМАРКЕРЫ БЛОК А', 'КАТ-2'),\n",
              "       ('БИОМАРКЕРЫ БЛОК А', 'КАТ-3'), ('БИОМАРКЕРЫ БЛОК А', 'КАТ-4'),\n",
              "       ('БИОМАРКЕРЫ БЛОК А', 'Глю-1, ммоль/л'),\n",
              "       ('БИОМАРКЕРЫ БЛОК А', 'Глю-2, ммоль/л'),\n",
              "       ('БИОМАРКЕРЫ БЛОК А', 'Глю-3, ммоль/л'),\n",
              "       ('БИОМАРКЕРЫ БЛОК А', 'Глю-4, ммоль/л'),\n",
              "       ('БИОМАРКЕРЫ БЛОК А', 'Hba1c-1,%'),\n",
              "       ('БИОМАРКЕРЫ БЛОК А', 'Hba1c-4,%'),\n",
              "       ('БИОМАРКЕРЫ БЛОК А', 'ФГ-1, г/л'),\n",
              "       ('БИОМАРКЕРЫ БЛОК А', 'ФГ-2, г/л'),\n",
              "       ('БИОМАРКЕРЫ БЛОК А', 'ФГ-3, г/л'),\n",
              "       ('БИОМАРКЕРЫ БЛОК А', 'ФГ-4, г/л'),\n",
              "       ('БИОМАРКЕРЫ БЛОК А', 'ПВ-1,%'), ('БИОМАРКЕРЫ БЛОК А', 'ПВ-2,%'),\n",
              "       ('БИОМАРКЕРЫ БЛОК А', 'ПВ-3,%'), ('БИОМАРКЕРЫ БЛОК А', 'ПВ-4,%'),\n",
              "       ('БИОМАРКЕРЫ БЛОК А', 'ТВ-1, с'), ('БИОМАРКЕРЫ БЛОК А', 'ТВ-2, с'),\n",
              "       ('БИОМАРКЕРЫ БЛОК А', 'ТВ-3, с'), ('БИОМАРКЕРЫ БЛОК А', 'ТВ-4, с'),\n",
              "       ('БИОМАРКЕРЫ БЛОК А', 'АЧТВ-1, с'),\n",
              "       ('БИОМАРКЕРЫ БЛОК А', 'АЧТВ-2, с'),\n",
              "       ('БИОМАРКЕРЫ БЛОК А', 'АЧТВ-3, с'),\n",
              "       ('БИОМАРКЕРЫ БЛОК А', 'АЧТВ-4, с'),\n",
              "       ('БИОМАРКЕРЫ БЛОК А', 'АТ3-1, %'),\n",
              "       ('БИОМАРКЕРЫ БЛОК А', 'АТ3-2, %'),\n",
              "       ('БИОМАРКЕРЫ БЛОК А', 'АТ3-3, %'),\n",
              "       ('БИОМАРКЕРЫ БЛОК А', 'АТ3-4, %'), ('БИОМАРКЕРЫ БЛОК А', 'FW-1,%'),\n",
              "       ('БИОМАРКЕРЫ БЛОК А', 'FW-2,%'), ('БИОМАРКЕРЫ БЛОК А', 'FW-3,%'),\n",
              "       ('БИОМАРКЕРЫ БЛОК А', 'FW-4,%'),\n",
              "       ('ГОСПИТАЛЬНЫЕ КЛИНИЧЕСКИЕ ИСХОДЫ', 'Смерть'),\n",
              "       ('ГОСПИТАЛЬНЫЕ КЛИНИЧЕСКИЕ ИСХОДЫ', 'Дата'),\n",
              "       ('ГОСПИТАЛЬНЫЕ КЛИНИЧЕСКИЕ ИСХОДЫ', 'Реинфаркт'),\n",
              "       ('ГОСПИТАЛЬНЫЕ КЛИНИЧЕСКИЕ ИСХОДЫ', 'Дата.1'),\n",
              "       ('ГОСПИТАЛЬНЫЕ КЛИНИЧЕСКИЕ ИСХОДЫ', 'Тромбоз стента/ шунта'),\n",
              "       ('ГОСПИТАЛЬНЫЕ КЛИНИЧЕСКИЕ ИСХОДЫ', 'Дата.2'),\n",
              "       ('ГОСПИТАЛЬНЫЕ КЛИНИЧЕСКИЕ ИСХОДЫ', 'НРС'),\n",
              "       ('ГОСПИТАЛЬНЫЕ КЛИНИЧЕСКИЕ ИСХОДЫ', 'Повторная реваскуляризация'),\n",
              "       ('ГОСПИТАЛЬНЫЕ КЛИНИЧЕСКИЕ ИСХОДЫ', 'Дата.3'),\n",
              "       ('ГОСПИТАЛЬНЫЕ КЛИНИЧЕСКИЕ ИСХОДЫ', 'ОНМК'),\n",
              "       ('ГОСПИТАЛЬНЫЕ КЛИНИЧЕСКИЕ ИСХОДЫ', 'дата'),\n",
              "       ('ГОСПИТАЛЬНЫЕ КЛИНИЧЕСКИЕ ИСХОДЫ', 'ВЧ-кровотечение'),\n",
              "       ('ГОСПИТАЛЬНЫЕ КЛИНИЧЕСКИЕ ИСХОДЫ', 'Дата.4'),\n",
              "       ('ГОСПИТАЛЬНЫЕ КЛИНИЧЕСКИЕ ИСХОДЫ', 'ЖКТ-кровотечение'),\n",
              "       ('ГОСПИТАЛЬНЫЕ КЛИНИЧЕСКИЕ ИСХОДЫ', 'Дата.5')], dtype=object)"
            ]
          },
          "metadata": {},
          "execution_count": 40
        }
      ]
    },
    {
      "cell_type": "code",
      "source": [
        "features = pd.DataFrame(np.stack([np.array(data_a.columns), np.array(list((data_a == -1).sum()))], axis=1), columns=['features', 'NAs'])"
      ],
      "metadata": {
        "id": "9Ud8rOEE78z9"
      },
      "execution_count": null,
      "outputs": []
    },
    {
      "cell_type": "code",
      "source": [
        "features['patiens_with_combined'] = 200"
      ],
      "metadata": {
        "id": "xPrXCOWY8rEe"
      },
      "execution_count": null,
      "outputs": []
    },
    {
      "cell_type": "code",
      "source": [
        "features['ratio'] = features['NAs'] / 200"
      ],
      "metadata": {
        "id": "FepPXZpk9GuR"
      },
      "execution_count": null,
      "outputs": []
    },
    {
      "cell_type": "code",
      "source": [
        "features.to_excel('data_a.xlsx')"
      ],
      "metadata": {
        "id": "W94-UvAs-N7P"
      },
      "execution_count": null,
      "outputs": []
    },
    {
      "cell_type": "code",
      "source": [],
      "metadata": {
        "id": "pCtfndi39-A8"
      },
      "execution_count": null,
      "outputs": []
    },
    {
      "cell_type": "markdown",
      "source": [
        "##### continue"
      ],
      "metadata": {
        "id": "ZPJSuT_4910A"
      }
    },
    {
      "cell_type": "code",
      "source": [
        "# For subsets\n",
        "\n",
        "\n",
        "biomarkers_a_columns = list(data_a.columns[132:218])\n",
        "clinical_and_biomarkers_a_columns = list(data_a.columns[:2]) + list(data_a.columns[3:61]) + list(data_a.columns[132:218])\n",
        "clinical_a_columns = list(data_a.columns[:2]) + list(data_a.columns[3:61])"
      ],
      "metadata": {
        "id": "No88VtSBiISb"
      },
      "execution_count": null,
      "outputs": []
    },
    {
      "cell_type": "code",
      "source": [
        "data_a[biomarkers_a_columns].head(2)"
      ],
      "metadata": {
        "colab": {
          "base_uri": "https://localhost:8080/"
        },
        "id": "W-UFN4vRkFsd",
        "outputId": "dd9f222e-1651-4438-e162-934a0bde7288"
      },
      "execution_count": null,
      "outputs": [
        {
          "output_type": "execute_result",
          "data": {
            "text/plain": [
              "      БИОМАРКЕРЫ БЛОК А                                                       \\\n",
              "№ п/п      TnI-1, нг/мл TnI-2, нг/мл TnI-3, нг/мл TnI-4, нг/мл CKMB-1, нг/мл   \n",
              "1                  7.56         13.0        2.310        -1.00          21.5   \n",
              "2                  5.17         10.3        0.304         0.66          28.2   \n",
              "\n",
              "                                                                         ...  \\\n",
              "№ п/п CKMB-2, нг/мл CKMB-3, нг/мл CKMB-4, нг/мл MG-1, нг/мл MG-2, нг/мл  ...   \n",
              "1              3.14          6.71          -1.0       460.6      164.20  ...   \n",
              "2              0.50          3.85           7.5       421.3       56.21  ...   \n",
              "\n",
              "                                                                              \\\n",
              "№ п/п АЧТВ-3, с АЧТВ-4, с АТ3-1, % АТ3-2, % АТ3-3, % АТ3-4, % FW-1,%  FW-2,%   \n",
              "1          31.2      -1.0   100.72    86.59   116.31    -1.00  120.0  120.00   \n",
              "2          34.0      36.1   100.55   101.63   127.76    99.58  120.0  115.99   \n",
              "\n",
              "                     \n",
              "№ п/п FW-3,% FW-4,%  \n",
              "1        293   -1.0  \n",
              "2         90   94.0  \n",
              "\n",
              "[2 rows x 86 columns]"
            ],
            "text/html": [
              "<div>\n",
              "<style scoped>\n",
              "    .dataframe tbody tr th:only-of-type {\n",
              "        vertical-align: middle;\n",
              "    }\n",
              "\n",
              "    .dataframe tbody tr th {\n",
              "        vertical-align: top;\n",
              "    }\n",
              "\n",
              "    .dataframe thead tr th {\n",
              "        text-align: left;\n",
              "    }\n",
              "</style>\n",
              "<table border=\"1\" class=\"dataframe\">\n",
              "  <thead>\n",
              "    <tr>\n",
              "      <th></th>\n",
              "      <th colspan=\"21\" halign=\"left\">БИОМАРКЕРЫ БЛОК А</th>\n",
              "    </tr>\n",
              "    <tr>\n",
              "      <th>№ п/п</th>\n",
              "      <th>TnI-1, нг/мл</th>\n",
              "      <th>TnI-2, нг/мл</th>\n",
              "      <th>TnI-3, нг/мл</th>\n",
              "      <th>TnI-4, нг/мл</th>\n",
              "      <th>CKMB-1, нг/мл</th>\n",
              "      <th>CKMB-2, нг/мл</th>\n",
              "      <th>CKMB-3, нг/мл</th>\n",
              "      <th>CKMB-4, нг/мл</th>\n",
              "      <th>MG-1, нг/мл</th>\n",
              "      <th>MG-2, нг/мл</th>\n",
              "      <th>...</th>\n",
              "      <th>АЧТВ-3, с</th>\n",
              "      <th>АЧТВ-4, с</th>\n",
              "      <th>АТ3-1, %</th>\n",
              "      <th>АТ3-2, %</th>\n",
              "      <th>АТ3-3, %</th>\n",
              "      <th>АТ3-4, %</th>\n",
              "      <th>FW-1,%</th>\n",
              "      <th>FW-2,%</th>\n",
              "      <th>FW-3,%</th>\n",
              "      <th>FW-4,%</th>\n",
              "    </tr>\n",
              "  </thead>\n",
              "  <tbody>\n",
              "    <tr>\n",
              "      <th>1</th>\n",
              "      <td>7.56</td>\n",
              "      <td>13.0</td>\n",
              "      <td>2.310</td>\n",
              "      <td>-1.00</td>\n",
              "      <td>21.5</td>\n",
              "      <td>3.14</td>\n",
              "      <td>6.71</td>\n",
              "      <td>-1.0</td>\n",
              "      <td>460.6</td>\n",
              "      <td>164.20</td>\n",
              "      <td>...</td>\n",
              "      <td>31.2</td>\n",
              "      <td>-1.0</td>\n",
              "      <td>100.72</td>\n",
              "      <td>86.59</td>\n",
              "      <td>116.31</td>\n",
              "      <td>-1.00</td>\n",
              "      <td>120.0</td>\n",
              "      <td>120.00</td>\n",
              "      <td>293</td>\n",
              "      <td>-1.0</td>\n",
              "    </tr>\n",
              "    <tr>\n",
              "      <th>2</th>\n",
              "      <td>5.17</td>\n",
              "      <td>10.3</td>\n",
              "      <td>0.304</td>\n",
              "      <td>0.66</td>\n",
              "      <td>28.2</td>\n",
              "      <td>0.50</td>\n",
              "      <td>3.85</td>\n",
              "      <td>7.5</td>\n",
              "      <td>421.3</td>\n",
              "      <td>56.21</td>\n",
              "      <td>...</td>\n",
              "      <td>34.0</td>\n",
              "      <td>36.1</td>\n",
              "      <td>100.55</td>\n",
              "      <td>101.63</td>\n",
              "      <td>127.76</td>\n",
              "      <td>99.58</td>\n",
              "      <td>120.0</td>\n",
              "      <td>115.99</td>\n",
              "      <td>90</td>\n",
              "      <td>94.0</td>\n",
              "    </tr>\n",
              "  </tbody>\n",
              "</table>\n",
              "<p>2 rows × 86 columns</p>\n",
              "</div>"
            ]
          },
          "metadata": {},
          "execution_count": 9
        }
      ]
    },
    {
      "cell_type": "code",
      "source": [
        "data_a[clinical_and_biomarkers_a_columns].head(2)"
      ],
      "metadata": {
        "colab": {
          "base_uri": "https://localhost:8080/"
        },
        "id": "BmGRO6bUkN1y",
        "outputId": "37afd323-3ab0-46d7-f950-064e14370916"
      },
      "execution_count": null,
      "outputs": [
        {
          "output_type": "execute_result",
          "data": {
            "text/plain": [
              "      АНТРОПОФИЗИОМЕТРИЯ                                                       \\\n",
              "№ п/п                Пол Возраст  Рост  Вес        ИМТ S тела систол. АД  ЧСС   \n",
              "1                      0      75  1.64   80  29.744200   1.88        190   90   \n",
              "2                      0      49  1.76  130  41.967975   2.41        140  100   \n",
              "\n",
              "              ХАРАКТЕРИСТИКА ОИМ             ... БИОМАРКЕРЫ БЛОК А            \\\n",
              "№ п/п Давность болевого синдрома Cегмент ST  ...         АЧТВ-3, с АЧТВ-4, с   \n",
              "1                              2          1  ...              31.2      -1.0   \n",
              "2                              2          1  ...              34.0      36.1   \n",
              "\n",
              "                                                                        \n",
              "№ п/п АТ3-1, % АТ3-2, % АТ3-3, % АТ3-4, % FW-1,%  FW-2,% FW-3,% FW-4,%  \n",
              "1       100.72    86.59   116.31    -1.00  120.0  120.00    293   -1.0  \n",
              "2       100.55   101.63   127.76    99.58  120.0  115.99     90   94.0  \n",
              "\n",
              "[2 rows x 146 columns]"
            ],
            "text/html": [
              "<div>\n",
              "<style scoped>\n",
              "    .dataframe tbody tr th:only-of-type {\n",
              "        vertical-align: middle;\n",
              "    }\n",
              "\n",
              "    .dataframe tbody tr th {\n",
              "        vertical-align: top;\n",
              "    }\n",
              "\n",
              "    .dataframe thead tr th {\n",
              "        text-align: left;\n",
              "    }\n",
              "</style>\n",
              "<table border=\"1\" class=\"dataframe\">\n",
              "  <thead>\n",
              "    <tr>\n",
              "      <th></th>\n",
              "      <th colspan=\"8\" halign=\"left\">АНТРОПОФИЗИОМЕТРИЯ</th>\n",
              "      <th colspan=\"2\" halign=\"left\">ХАРАКТЕРИСТИКА ОИМ</th>\n",
              "      <th>...</th>\n",
              "      <th colspan=\"10\" halign=\"left\">БИОМАРКЕРЫ БЛОК А</th>\n",
              "    </tr>\n",
              "    <tr>\n",
              "      <th>№ п/п</th>\n",
              "      <th>Пол</th>\n",
              "      <th>Возраст</th>\n",
              "      <th>Рост</th>\n",
              "      <th>Вес</th>\n",
              "      <th>ИМТ</th>\n",
              "      <th>S тела</th>\n",
              "      <th>систол. АД</th>\n",
              "      <th>ЧСС</th>\n",
              "      <th>Давность болевого синдрома</th>\n",
              "      <th>Cегмент ST</th>\n",
              "      <th>...</th>\n",
              "      <th>АЧТВ-3, с</th>\n",
              "      <th>АЧТВ-4, с</th>\n",
              "      <th>АТ3-1, %</th>\n",
              "      <th>АТ3-2, %</th>\n",
              "      <th>АТ3-3, %</th>\n",
              "      <th>АТ3-4, %</th>\n",
              "      <th>FW-1,%</th>\n",
              "      <th>FW-2,%</th>\n",
              "      <th>FW-3,%</th>\n",
              "      <th>FW-4,%</th>\n",
              "    </tr>\n",
              "  </thead>\n",
              "  <tbody>\n",
              "    <tr>\n",
              "      <th>1</th>\n",
              "      <td>0</td>\n",
              "      <td>75</td>\n",
              "      <td>1.64</td>\n",
              "      <td>80</td>\n",
              "      <td>29.744200</td>\n",
              "      <td>1.88</td>\n",
              "      <td>190</td>\n",
              "      <td>90</td>\n",
              "      <td>2</td>\n",
              "      <td>1</td>\n",
              "      <td>...</td>\n",
              "      <td>31.2</td>\n",
              "      <td>-1.0</td>\n",
              "      <td>100.72</td>\n",
              "      <td>86.59</td>\n",
              "      <td>116.31</td>\n",
              "      <td>-1.00</td>\n",
              "      <td>120.0</td>\n",
              "      <td>120.00</td>\n",
              "      <td>293</td>\n",
              "      <td>-1.0</td>\n",
              "    </tr>\n",
              "    <tr>\n",
              "      <th>2</th>\n",
              "      <td>0</td>\n",
              "      <td>49</td>\n",
              "      <td>1.76</td>\n",
              "      <td>130</td>\n",
              "      <td>41.967975</td>\n",
              "      <td>2.41</td>\n",
              "      <td>140</td>\n",
              "      <td>100</td>\n",
              "      <td>2</td>\n",
              "      <td>1</td>\n",
              "      <td>...</td>\n",
              "      <td>34.0</td>\n",
              "      <td>36.1</td>\n",
              "      <td>100.55</td>\n",
              "      <td>101.63</td>\n",
              "      <td>127.76</td>\n",
              "      <td>99.58</td>\n",
              "      <td>120.0</td>\n",
              "      <td>115.99</td>\n",
              "      <td>90</td>\n",
              "      <td>94.0</td>\n",
              "    </tr>\n",
              "  </tbody>\n",
              "</table>\n",
              "<p>2 rows × 146 columns</p>\n",
              "</div>"
            ]
          },
          "metadata": {},
          "execution_count": 10
        }
      ]
    },
    {
      "cell_type": "code",
      "source": [
        "data_a[clinical_a_columns].head(2)"
      ],
      "metadata": {
        "colab": {
          "base_uri": "https://localhost:8080/"
        },
        "id": "Mq95k1TNkPJs",
        "outputId": "862c5681-62c2-44aa-8020-f372f0815ca6"
      },
      "execution_count": null,
      "outputs": [
        {
          "output_type": "execute_result",
          "data": {
            "text/plain": [
              "      АНТРОПОФИЗИОМЕТРИЯ                                                       \\\n",
              "№ п/п                Пол Возраст  Рост  Вес        ИМТ S тела систол. АД  ЧСС   \n",
              "1                      0      75  1.64   80  29.744200   1.88        190   90   \n",
              "2                      0      49  1.76  130  41.967975   2.41        140  100   \n",
              "\n",
              "              ХАРАКТЕРИСТИКА ОИМ             ... ИСХОДНАЯ ЭХОКГ          \\\n",
              "№ п/п Давность болевого синдрома Cегмент ST  ...          ФВ ЛЖ ТМЖП ЛЖ   \n",
              "1                              2          1  ...      55.147059     1.3   \n",
              "2                              2          1  ...      54.304636     1.4   \n",
              "\n",
              "                                                                     \n",
              "№ п/п ТЗС ЛЖ  ММ ЛЖ иММ ЛЖ   ЛП РМК Аневризма ЛЖ Тромбоз ЛЖ ИНЛС ЛЖ  \n",
              "1       1.20  271.5  144.4  4.2   1            0          0   0.000  \n",
              "2       1.13  301.6  125.1  4.1   1            0          0   1.125  \n",
              "\n",
              "[2 rows x 60 columns]"
            ],
            "text/html": [
              "<div>\n",
              "<style scoped>\n",
              "    .dataframe tbody tr th:only-of-type {\n",
              "        vertical-align: middle;\n",
              "    }\n",
              "\n",
              "    .dataframe tbody tr th {\n",
              "        vertical-align: top;\n",
              "    }\n",
              "\n",
              "    .dataframe thead tr th {\n",
              "        text-align: left;\n",
              "    }\n",
              "</style>\n",
              "<table border=\"1\" class=\"dataframe\">\n",
              "  <thead>\n",
              "    <tr>\n",
              "      <th></th>\n",
              "      <th colspan=\"8\" halign=\"left\">АНТРОПОФИЗИОМЕТРИЯ</th>\n",
              "      <th colspan=\"2\" halign=\"left\">ХАРАКТЕРИСТИКА ОИМ</th>\n",
              "      <th>...</th>\n",
              "      <th colspan=\"10\" halign=\"left\">ИСХОДНАЯ ЭХОКГ</th>\n",
              "    </tr>\n",
              "    <tr>\n",
              "      <th>№ п/п</th>\n",
              "      <th>Пол</th>\n",
              "      <th>Возраст</th>\n",
              "      <th>Рост</th>\n",
              "      <th>Вес</th>\n",
              "      <th>ИМТ</th>\n",
              "      <th>S тела</th>\n",
              "      <th>систол. АД</th>\n",
              "      <th>ЧСС</th>\n",
              "      <th>Давность болевого синдрома</th>\n",
              "      <th>Cегмент ST</th>\n",
              "      <th>...</th>\n",
              "      <th>ФВ ЛЖ</th>\n",
              "      <th>ТМЖП ЛЖ</th>\n",
              "      <th>ТЗС ЛЖ</th>\n",
              "      <th>ММ ЛЖ</th>\n",
              "      <th>иММ ЛЖ</th>\n",
              "      <th>ЛП</th>\n",
              "      <th>РМК</th>\n",
              "      <th>Аневризма ЛЖ</th>\n",
              "      <th>Тромбоз ЛЖ</th>\n",
              "      <th>ИНЛС ЛЖ</th>\n",
              "    </tr>\n",
              "  </thead>\n",
              "  <tbody>\n",
              "    <tr>\n",
              "      <th>1</th>\n",
              "      <td>0</td>\n",
              "      <td>75</td>\n",
              "      <td>1.64</td>\n",
              "      <td>80</td>\n",
              "      <td>29.744200</td>\n",
              "      <td>1.88</td>\n",
              "      <td>190</td>\n",
              "      <td>90</td>\n",
              "      <td>2</td>\n",
              "      <td>1</td>\n",
              "      <td>...</td>\n",
              "      <td>55.147059</td>\n",
              "      <td>1.3</td>\n",
              "      <td>1.20</td>\n",
              "      <td>271.5</td>\n",
              "      <td>144.4</td>\n",
              "      <td>4.2</td>\n",
              "      <td>1</td>\n",
              "      <td>0</td>\n",
              "      <td>0</td>\n",
              "      <td>0.000</td>\n",
              "    </tr>\n",
              "    <tr>\n",
              "      <th>2</th>\n",
              "      <td>0</td>\n",
              "      <td>49</td>\n",
              "      <td>1.76</td>\n",
              "      <td>130</td>\n",
              "      <td>41.967975</td>\n",
              "      <td>2.41</td>\n",
              "      <td>140</td>\n",
              "      <td>100</td>\n",
              "      <td>2</td>\n",
              "      <td>1</td>\n",
              "      <td>...</td>\n",
              "      <td>54.304636</td>\n",
              "      <td>1.4</td>\n",
              "      <td>1.13</td>\n",
              "      <td>301.6</td>\n",
              "      <td>125.1</td>\n",
              "      <td>4.1</td>\n",
              "      <td>1</td>\n",
              "      <td>0</td>\n",
              "      <td>0</td>\n",
              "      <td>1.125</td>\n",
              "    </tr>\n",
              "  </tbody>\n",
              "</table>\n",
              "<p>2 rows × 60 columns</p>\n",
              "</div>"
            ]
          },
          "metadata": {},
          "execution_count": 11
        }
      ]
    },
    {
      "cell_type": "markdown",
      "source": [
        "#### Dataset B"
      ],
      "metadata": {
        "id": "Rji8hFffa9sY"
      }
    },
    {
      "cell_type": "code",
      "source": [
        "# download Dataset A from Github repo and read as excel file\n",
        "\n",
        "link_b = './HSE project/Data/cardio_b_updated.xlsx'\n",
        "data_b = pd.read_excel(link_b ,header=[0,1], index_col=0)\n",
        "print('data_b raw shape: ', data_b.shape)"
      ],
      "metadata": {
        "colab": {
          "base_uri": "https://localhost:8080/"
        },
        "id": "uTNDSKRUyCK4",
        "outputId": "d8282229-b1da-45b0-83e3-b11c70254dc6"
      },
      "execution_count": null,
      "outputs": [
        {
          "output_type": "stream",
          "name": "stdout",
          "text": [
            "data_b raw shape:  (109, 232)\n"
          ]
        }
      ]
    },
    {
      "cell_type": "code",
      "source": [
        "# Correcting data_b\n",
        "\n",
        "\n",
        "# replace NAs with -1\n",
        "data_b = data_b.fillna(-1)\n",
        "data_b = data_b.replace(' ',-1)\n",
        "# Modify 'Пол' feature: covert all string to lower format and convert to 0 and 1\n",
        "data_b['АНТРОПОФИЗИОМЕТРИЯ', 'Пол'] = data_b['АНТРОПОФИЗИОМЕТРИЯ', 'Пол'].str.lower().replace(['м','ж'],[0,1])\n",
        "\n",
        "# Replace typos or non-numeric data with '-1'\n",
        "data_b[('ИСХОДНАЯ ЭХОКГ', 'РМК')] = data_b[('ИСХОДНАЯ ЭХОКГ', 'РМК')].replace('1-2', -1).astype(int)\n",
        "# ---------------\n",
        "data_b[('КОРОНАРОАНГИОГРАФИЯ И РЕВАСКУЛЯРИЗАЦИЯ МИОКАРДА', 'TIMI в ИЗА')] = \\\n",
        "data_b[('КОРОНАРОАНГИОГРАФИЯ И РЕВАСКУЛЯРИЗАЦИЯ МИОКАРДА', 'TIMI в ИЗА')].replace(['0-I', '0-1', '1-2'], [4, 5, 6]).astype(int)\n",
        "# ---------------\n",
        "data_b[('СОПУТСТВУЮЩИЕ ЗАБОЛЕВАНИЯ И СОСТОЯНИЯ', 'Стадия ХБП по KDOQI /ERA')] = \\\n",
        "data_b[('СОПУТСТВУЮЩИЕ ЗАБОЛЕВАНИЯ И СОСТОЯНИЯ', 'Стадия ХБП по KDOQI /ERA')].replace(\n",
        "    [\"С2\", \"С1\", \"с2\", \"с1\", \"С3а\", \"с3а\", \"C2\", \"с3б\", \"C1\", \"С3б\", \"С4\", \"С3\", \"3А\", \"с4\", \"с5\", \"С3b\", \"ОПН!\"], \\\n",
        "    [\"c2\", \"c1\", \"c2\", \"c1\", \"c3a\", \"c3a\", \"c2\", \"c3b\", \"c1\", \"c3b\", \"c4\", \"c3\", \"3a\", \"c4\", \"c5\", \"c3b\", \"опн!\"] )\n",
        "data_b[('СОПУТСТВУЮЩИЕ ЗАБОЛЕВАНИЯ И СОСТОЯНИЯ', 'Стадия ХБП по KDOQI /ERA')] = \\\n",
        "data_b[('СОПУТСТВУЮЩИЕ ЗАБОЛЕВАНИЯ И СОСТОЯНИЯ', 'Стадия ХБП по KDOQI /ERA')].replace(\n",
        "    [0, 'c1', 2, 'c2', 'c3', '3a', 'c3a', 'c3b', 'c4', 'c5', 'опн!'], [0,  1,  2,  3,  4,  5,  6,  7,  8,  9, 10] ).astype(int)\n",
        "# ---------------\n",
        "data_b[('ЭХОКГ (ИСХОД)', 'ТМЖП ЛЖ')] = \\\n",
        "data_b[('ЭХОКГ (ИСХОД)', 'ТМЖП ЛЖ')].replace(['1,1-1,0-0,8', '1,0 - 1,5', '1,3; 0,8'], -1).astype(float)\n",
        "# ---------------\n",
        "data_b[('ПОВТОРНАЯ ЭХОКГ', 'ЛП')] = \\\n",
        "data_b[('ПОВТОРНАЯ ЭХОКГ', 'ЛП')].replace(['С2'], -1).astype(float)\n",
        "# ---------------\n",
        "data_b[('ПОВТОРНАЯ ЭХОКГ', 'ТМЖП ЛЖ')] = \\\n",
        "data_b[('ПОВТОРНАЯ ЭХОКГ', 'ТМЖП ЛЖ')].replace(['1,1-1.0-0,7'], -1).astype(float)\n",
        "# ---------------\n",
        "data_b.replace(to_replace=['ЧКВ',\n",
        "                           'АКШ',\n",
        "                           '1899-12-29 00:00:00', \n",
        "                           'ЧКВ ',\n",
        "                           'АКШ ', \n",
        "                           pd.to_datetime('2018-07-30 00:00:00', format='%Y-%m-%d %H:%M:%S'),\n",
        "                           pd.to_datetime('2019-04-15 00:00:00', format='%Y-%m-%d %H:%M:%S'),\n",
        "                           pd.to_datetime('2020-08-30 00:00:00', format='%Y-%m-%d %H:%M:%S'),\n",
        "                           ], \n",
        "               value=1, \n",
        "               inplace=True)\n",
        "data_b[('КОНЕЧНЫЕ ИСХОДЫ НАБЛЮДЕНИЯ', 'Повторная реваскуляризация')].replace(to_replace=['0'], value=0, inplace=True)\n",
        "\n",
        "# Features with nulls: manually chose non-categorical columns with '0' and replace with '-1' \n",
        "# nulls = [col for col in data_b.columns[:90] if (len((data_b[col].unique())) > 12) and (data_b[col] == 0).sum() > 0] ; data_b[nulls]\n",
        "data_b[('ИСХОДНАЯ ЭХОКГ', 'ИНЛС ЛЖ')] = data_b[('ИСХОДНАЯ ЭХОКГ', 'ИНЛС ЛЖ')].replace([0],[-1]) "
      ],
      "metadata": {
        "id": "wRV3SF90a_7B"
      },
      "execution_count": null,
      "outputs": []
    },
    {
      "cell_type": "code",
      "source": [],
      "metadata": {
        "id": "ZJUjbQPjBMBU"
      },
      "execution_count": null,
      "outputs": []
    },
    {
      "cell_type": "markdown",
      "source": [
        "##### how much NAs"
      ],
      "metadata": {
        "id": "P0xBhuENBThd"
      }
    },
    {
      "cell_type": "code",
      "source": [
        "data_b = data_b[get_combined_target_column(data_b) != -1]"
      ],
      "metadata": {
        "id": "ZvJ9L-klBThf"
      },
      "execution_count": null,
      "outputs": []
    },
    {
      "cell_type": "code",
      "source": [
        "data_b"
      ],
      "metadata": {
        "colab": {
          "base_uri": "https://localhost:8080/"
        },
        "id": "VIhjBUSEBj0L",
        "outputId": "4cfc4ce3-1f88-419b-90c7-61bfd6605a02"
      },
      "execution_count": null,
      "outputs": [
        {
          "output_type": "execute_result",
          "data": {
            "text/plain": [
              "      АНТРОПОФИЗИОМЕТРИЯ                                                    \\\n",
              "№ п/п                Пол Возраст Дата госпитализации  Рост  Вес        ИМТ   \n",
              "1                      1      68          2016-02-19  1.60   52  20.312500   \n",
              "2                      0      50          2016-03-08  1.84  115  33.967391   \n",
              "3                      0      75          2016-03-27  1.76  102  32.928719   \n",
              "4                      0      48          2016-04-04  1.70   91  31.487889   \n",
              "5                      0      52          2016-04-05  1.76   70  22.598140   \n",
              "..                   ...     ...                 ...   ...  ...        ...   \n",
              "101                    0      65          2017-10-15  1.74   85  28.075043   \n",
              "102                    0      53          2017-10-19  1.75   94  30.690000   \n",
              "105                    0      67          2017-11-26  1.67   70  25.099502   \n",
              "106                    0      42          2017-11-29  1.70   92  31.833910   \n",
              "108                    0      44          2017-12-09  1.76   86  27.763430   \n",
              "\n",
              "                            ПСИХОСОЦИАЛЬНЫЕ ФАКТОРЫ  ...  \\\n",
              "№ п/п S тела систол. АД ЧСС              Психотип D  ...   \n",
              "1       1.51        140  65                      -1  ...   \n",
              "2       2.38        134  67                       0  ...   \n",
              "3       2.19        143  65                      -1  ...   \n",
              "4       2.04        143  60                       0  ...   \n",
              "5       1.83        120  81                       0  ...   \n",
              "..       ...        ...  ..                     ...  ...   \n",
              "101     2.00        131  86                      -1  ...   \n",
              "102     2.10        198  96                      -1  ...   \n",
              "105     1.78        133  83                      -1  ...   \n",
              "106     2.05        150  90                       0  ...   \n",
              "108     2.02        114  89                      -1  ...   \n",
              "\n",
              "      КОНЕЧНЫЕ ИСХОДЫ НАБЛЮДЕНИЯ                  Связь с пациентом  \\\n",
              "№ п/п     Симптомная стенокардия Симптомная СН               дозвон   \n",
              "1                             -1            -1                   -1   \n",
              "2                              0             1  2020-09-24 00:00:00   \n",
              "3                             -1            -1                   -1   \n",
              "4                              0             1  2020-04-27 00:00:00   \n",
              "5                              0             0  2020-04-27 00:00:00   \n",
              "..                           ...           ...                  ...   \n",
              "101                           -1            -1                   -1   \n",
              "102                           -1            -1                   -1   \n",
              "105                           -1            -1                   -1   \n",
              "106                            1             1  2020-10-02 00:00:00   \n",
              "108                           -1            -1                   -1   \n",
              "\n",
              "                           БИОМАРКЕРЫ БЛОК Е                        \\\n",
              "№ п/п             недозвон            БСЖК-1 БСЖК-2 hsТnT-2, пг/мл   \n",
              "1      2020-09-24 00:00:00                 1      1           9.52   \n",
              "2                       -1                 0      0          19.52   \n",
              "3      2020-09-24 00:00:00                 0      1          48.90   \n",
              "4                       -1                 1      0          42.60   \n",
              "5                       -1                 1      1         212.20   \n",
              "..                     ...               ...    ...            ...   \n",
              "101    2020-10-03 00:00:00                 0     -1          23.30   \n",
              "102    2020-10-03 00:00:00                 1      1         371.40   \n",
              "105    2020-10-03 00:00:00                 1     -1          53.69   \n",
              "106                     -1                 0      1           6.85   \n",
              "108    2020-10-03 00:00:00                 1     -1          43.00   \n",
              "\n",
              "                                                \n",
              "№ п/п hsТnT-2, пг/мл.1 MG-1, нг/мл MG-2, нг/мл  \n",
              "1               1200.0       24.00       62.72  \n",
              "2               1175.0       62.83       36.88  \n",
              "3               1192.0      214.70      695.00  \n",
              "4               2344.0      151.70      150.00  \n",
              "5               3117.0     1186.00       51.86  \n",
              "..                 ...         ...         ...  \n",
              "101               -1.0       53.20       -1.00  \n",
              "102            10000.0       53.90      790.20  \n",
              "105               -1.0      150.60       -1.00  \n",
              "106            10000.0       66.60      632.50  \n",
              "108               -1.0       47.90       -1.00  \n",
              "\n",
              "[94 rows x 232 columns]"
            ],
            "text/html": [
              "<div>\n",
              "<style scoped>\n",
              "    .dataframe tbody tr th:only-of-type {\n",
              "        vertical-align: middle;\n",
              "    }\n",
              "\n",
              "    .dataframe tbody tr th {\n",
              "        vertical-align: top;\n",
              "    }\n",
              "\n",
              "    .dataframe thead tr th {\n",
              "        text-align: left;\n",
              "    }\n",
              "</style>\n",
              "<table border=\"1\" class=\"dataframe\">\n",
              "  <thead>\n",
              "    <tr>\n",
              "      <th></th>\n",
              "      <th colspan=\"9\" halign=\"left\">АНТРОПОФИЗИОМЕТРИЯ</th>\n",
              "      <th>ПСИХОСОЦИАЛЬНЫЕ ФАКТОРЫ</th>\n",
              "      <th>...</th>\n",
              "      <th colspan=\"2\" halign=\"left\">КОНЕЧНЫЕ ИСХОДЫ НАБЛЮДЕНИЯ</th>\n",
              "      <th colspan=\"2\" halign=\"left\">Связь с пациентом</th>\n",
              "      <th colspan=\"6\" halign=\"left\">БИОМАРКЕРЫ БЛОК Е</th>\n",
              "    </tr>\n",
              "    <tr>\n",
              "      <th>№ п/п</th>\n",
              "      <th>Пол</th>\n",
              "      <th>Возраст</th>\n",
              "      <th>Дата госпитализации</th>\n",
              "      <th>Рост</th>\n",
              "      <th>Вес</th>\n",
              "      <th>ИМТ</th>\n",
              "      <th>S тела</th>\n",
              "      <th>систол. АД</th>\n",
              "      <th>ЧСС</th>\n",
              "      <th>Психотип D</th>\n",
              "      <th>...</th>\n",
              "      <th>Симптомная стенокардия</th>\n",
              "      <th>Симптомная СН</th>\n",
              "      <th>дозвон</th>\n",
              "      <th>недозвон</th>\n",
              "      <th>БСЖК-1</th>\n",
              "      <th>БСЖК-2</th>\n",
              "      <th>hsТnT-2, пг/мл</th>\n",
              "      <th>hsТnT-2, пг/мл.1</th>\n",
              "      <th>MG-1, нг/мл</th>\n",
              "      <th>MG-2, нг/мл</th>\n",
              "    </tr>\n",
              "  </thead>\n",
              "  <tbody>\n",
              "    <tr>\n",
              "      <th>1</th>\n",
              "      <td>1</td>\n",
              "      <td>68</td>\n",
              "      <td>2016-02-19</td>\n",
              "      <td>1.60</td>\n",
              "      <td>52</td>\n",
              "      <td>20.312500</td>\n",
              "      <td>1.51</td>\n",
              "      <td>140</td>\n",
              "      <td>65</td>\n",
              "      <td>-1</td>\n",
              "      <td>...</td>\n",
              "      <td>-1</td>\n",
              "      <td>-1</td>\n",
              "      <td>-1</td>\n",
              "      <td>2020-09-24 00:00:00</td>\n",
              "      <td>1</td>\n",
              "      <td>1</td>\n",
              "      <td>9.52</td>\n",
              "      <td>1200.0</td>\n",
              "      <td>24.00</td>\n",
              "      <td>62.72</td>\n",
              "    </tr>\n",
              "    <tr>\n",
              "      <th>2</th>\n",
              "      <td>0</td>\n",
              "      <td>50</td>\n",
              "      <td>2016-03-08</td>\n",
              "      <td>1.84</td>\n",
              "      <td>115</td>\n",
              "      <td>33.967391</td>\n",
              "      <td>2.38</td>\n",
              "      <td>134</td>\n",
              "      <td>67</td>\n",
              "      <td>0</td>\n",
              "      <td>...</td>\n",
              "      <td>0</td>\n",
              "      <td>1</td>\n",
              "      <td>2020-09-24 00:00:00</td>\n",
              "      <td>-1</td>\n",
              "      <td>0</td>\n",
              "      <td>0</td>\n",
              "      <td>19.52</td>\n",
              "      <td>1175.0</td>\n",
              "      <td>62.83</td>\n",
              "      <td>36.88</td>\n",
              "    </tr>\n",
              "    <tr>\n",
              "      <th>3</th>\n",
              "      <td>0</td>\n",
              "      <td>75</td>\n",
              "      <td>2016-03-27</td>\n",
              "      <td>1.76</td>\n",
              "      <td>102</td>\n",
              "      <td>32.928719</td>\n",
              "      <td>2.19</td>\n",
              "      <td>143</td>\n",
              "      <td>65</td>\n",
              "      <td>-1</td>\n",
              "      <td>...</td>\n",
              "      <td>-1</td>\n",
              "      <td>-1</td>\n",
              "      <td>-1</td>\n",
              "      <td>2020-09-24 00:00:00</td>\n",
              "      <td>0</td>\n",
              "      <td>1</td>\n",
              "      <td>48.90</td>\n",
              "      <td>1192.0</td>\n",
              "      <td>214.70</td>\n",
              "      <td>695.00</td>\n",
              "    </tr>\n",
              "    <tr>\n",
              "      <th>4</th>\n",
              "      <td>0</td>\n",
              "      <td>48</td>\n",
              "      <td>2016-04-04</td>\n",
              "      <td>1.70</td>\n",
              "      <td>91</td>\n",
              "      <td>31.487889</td>\n",
              "      <td>2.04</td>\n",
              "      <td>143</td>\n",
              "      <td>60</td>\n",
              "      <td>0</td>\n",
              "      <td>...</td>\n",
              "      <td>0</td>\n",
              "      <td>1</td>\n",
              "      <td>2020-04-27 00:00:00</td>\n",
              "      <td>-1</td>\n",
              "      <td>1</td>\n",
              "      <td>0</td>\n",
              "      <td>42.60</td>\n",
              "      <td>2344.0</td>\n",
              "      <td>151.70</td>\n",
              "      <td>150.00</td>\n",
              "    </tr>\n",
              "    <tr>\n",
              "      <th>5</th>\n",
              "      <td>0</td>\n",
              "      <td>52</td>\n",
              "      <td>2016-04-05</td>\n",
              "      <td>1.76</td>\n",
              "      <td>70</td>\n",
              "      <td>22.598140</td>\n",
              "      <td>1.83</td>\n",
              "      <td>120</td>\n",
              "      <td>81</td>\n",
              "      <td>0</td>\n",
              "      <td>...</td>\n",
              "      <td>0</td>\n",
              "      <td>0</td>\n",
              "      <td>2020-04-27 00:00:00</td>\n",
              "      <td>-1</td>\n",
              "      <td>1</td>\n",
              "      <td>1</td>\n",
              "      <td>212.20</td>\n",
              "      <td>3117.0</td>\n",
              "      <td>1186.00</td>\n",
              "      <td>51.86</td>\n",
              "    </tr>\n",
              "    <tr>\n",
              "      <th>...</th>\n",
              "      <td>...</td>\n",
              "      <td>...</td>\n",
              "      <td>...</td>\n",
              "      <td>...</td>\n",
              "      <td>...</td>\n",
              "      <td>...</td>\n",
              "      <td>...</td>\n",
              "      <td>...</td>\n",
              "      <td>...</td>\n",
              "      <td>...</td>\n",
              "      <td>...</td>\n",
              "      <td>...</td>\n",
              "      <td>...</td>\n",
              "      <td>...</td>\n",
              "      <td>...</td>\n",
              "      <td>...</td>\n",
              "      <td>...</td>\n",
              "      <td>...</td>\n",
              "      <td>...</td>\n",
              "      <td>...</td>\n",
              "      <td>...</td>\n",
              "    </tr>\n",
              "    <tr>\n",
              "      <th>101</th>\n",
              "      <td>0</td>\n",
              "      <td>65</td>\n",
              "      <td>2017-10-15</td>\n",
              "      <td>1.74</td>\n",
              "      <td>85</td>\n",
              "      <td>28.075043</td>\n",
              "      <td>2.00</td>\n",
              "      <td>131</td>\n",
              "      <td>86</td>\n",
              "      <td>-1</td>\n",
              "      <td>...</td>\n",
              "      <td>-1</td>\n",
              "      <td>-1</td>\n",
              "      <td>-1</td>\n",
              "      <td>2020-10-03 00:00:00</td>\n",
              "      <td>0</td>\n",
              "      <td>-1</td>\n",
              "      <td>23.30</td>\n",
              "      <td>-1.0</td>\n",
              "      <td>53.20</td>\n",
              "      <td>-1.00</td>\n",
              "    </tr>\n",
              "    <tr>\n",
              "      <th>102</th>\n",
              "      <td>0</td>\n",
              "      <td>53</td>\n",
              "      <td>2017-10-19</td>\n",
              "      <td>1.75</td>\n",
              "      <td>94</td>\n",
              "      <td>30.690000</td>\n",
              "      <td>2.10</td>\n",
              "      <td>198</td>\n",
              "      <td>96</td>\n",
              "      <td>-1</td>\n",
              "      <td>...</td>\n",
              "      <td>-1</td>\n",
              "      <td>-1</td>\n",
              "      <td>-1</td>\n",
              "      <td>2020-10-03 00:00:00</td>\n",
              "      <td>1</td>\n",
              "      <td>1</td>\n",
              "      <td>371.40</td>\n",
              "      <td>10000.0</td>\n",
              "      <td>53.90</td>\n",
              "      <td>790.20</td>\n",
              "    </tr>\n",
              "    <tr>\n",
              "      <th>105</th>\n",
              "      <td>0</td>\n",
              "      <td>67</td>\n",
              "      <td>2017-11-26</td>\n",
              "      <td>1.67</td>\n",
              "      <td>70</td>\n",
              "      <td>25.099502</td>\n",
              "      <td>1.78</td>\n",
              "      <td>133</td>\n",
              "      <td>83</td>\n",
              "      <td>-1</td>\n",
              "      <td>...</td>\n",
              "      <td>-1</td>\n",
              "      <td>-1</td>\n",
              "      <td>-1</td>\n",
              "      <td>2020-10-03 00:00:00</td>\n",
              "      <td>1</td>\n",
              "      <td>-1</td>\n",
              "      <td>53.69</td>\n",
              "      <td>-1.0</td>\n",
              "      <td>150.60</td>\n",
              "      <td>-1.00</td>\n",
              "    </tr>\n",
              "    <tr>\n",
              "      <th>106</th>\n",
              "      <td>0</td>\n",
              "      <td>42</td>\n",
              "      <td>2017-11-29</td>\n",
              "      <td>1.70</td>\n",
              "      <td>92</td>\n",
              "      <td>31.833910</td>\n",
              "      <td>2.05</td>\n",
              "      <td>150</td>\n",
              "      <td>90</td>\n",
              "      <td>0</td>\n",
              "      <td>...</td>\n",
              "      <td>1</td>\n",
              "      <td>1</td>\n",
              "      <td>2020-10-02 00:00:00</td>\n",
              "      <td>-1</td>\n",
              "      <td>0</td>\n",
              "      <td>1</td>\n",
              "      <td>6.85</td>\n",
              "      <td>10000.0</td>\n",
              "      <td>66.60</td>\n",
              "      <td>632.50</td>\n",
              "    </tr>\n",
              "    <tr>\n",
              "      <th>108</th>\n",
              "      <td>0</td>\n",
              "      <td>44</td>\n",
              "      <td>2017-12-09</td>\n",
              "      <td>1.76</td>\n",
              "      <td>86</td>\n",
              "      <td>27.763430</td>\n",
              "      <td>2.02</td>\n",
              "      <td>114</td>\n",
              "      <td>89</td>\n",
              "      <td>-1</td>\n",
              "      <td>...</td>\n",
              "      <td>-1</td>\n",
              "      <td>-1</td>\n",
              "      <td>-1</td>\n",
              "      <td>2020-10-03 00:00:00</td>\n",
              "      <td>1</td>\n",
              "      <td>-1</td>\n",
              "      <td>43.00</td>\n",
              "      <td>-1.0</td>\n",
              "      <td>47.90</td>\n",
              "      <td>-1.00</td>\n",
              "    </tr>\n",
              "  </tbody>\n",
              "</table>\n",
              "<p>94 rows × 232 columns</p>\n",
              "</div>"
            ]
          },
          "metadata": {},
          "execution_count": 72
        }
      ]
    },
    {
      "cell_type": "code",
      "source": [
        "np.array(list((data_b == -1).sum()))"
      ],
      "metadata": {
        "colab": {
          "base_uri": "https://localhost:8080/"
        },
        "outputId": "b4dd5d3a-2093-405c-f470-2e901d2eb651",
        "id": "B1PslRNQBThf"
      },
      "execution_count": null,
      "outputs": [
        {
          "output_type": "execute_result",
          "data": {
            "text/plain": [
              "array([ 0,  0,  0,  0,  0,  0,  0,  0,  0, 38, 38, 38, 33,  6, 38, 39, 42,\n",
              "        0,  2,  0,  0,  0,  0,  0,  0,  0,  0,  0,  0,  0,  0,  0,  0,  0,\n",
              "        0,  0, 57,  0,  0,  1,  3,  0,  6,  0,  0,  0, 94, 35,  2, 51, 10,\n",
              "       10, 10, 10,  2,  3,  2,  2,  2,  1,  1,  2,  0,  1,  1,  0,  1,  1,\n",
              "        1,  1,  0,  1,  5,  5, 77,  0,  0,  1,  4,  0,  0,  4,  9,  9, 25,\n",
              "       25, 93, 25, 25, 93, 25, 25, 26, 25, 25, 25, 71, 26, 25, 25, 27, 25,\n",
              "       25, 25,  0, 88,  0, 91,  0, 94,  5,  0, 92,  0, 93,  0, 94,  0, 93,\n",
              "       31, 62, 34, 34, 42, 43, 43, 94, 43, 40, 44, 94, 40, 40, 40, 42, 41,\n",
              "       41, 41, 41, 41, 47, 41, 41, 41, 41, 41, 41, 80, 41, 41, 41, 42, 43,\n",
              "       43, 41, 21, 53, 29, 29, 29, 73, 56, 57, 41, 22, 25, 25, 26, 30, 30,\n",
              "       31, 32, 34, 34, 37, 28, 91, 32, 36, 36, 45, 36, 32, 37, 36, 33, 38,\n",
              "       37, 37, 36, 32, 41, 41, 86, 32, 34, 32, 32, 32, 34, 33,  8, 92,  6,\n",
              "       77,  8, 90,  8, 91,  8,  9, 79,  8, 89,  8, 93,  8, 92,  9, 94,  8,\n",
              "       93, 38, 38, 35, 59,  0, 21,  0, 23,  0, 24])"
            ]
          },
          "metadata": {},
          "execution_count": 73
        }
      ]
    },
    {
      "cell_type": "code",
      "source": [
        "np.array(data_b.columns)"
      ],
      "metadata": {
        "colab": {
          "base_uri": "https://localhost:8080/"
        },
        "outputId": "30608706-62b2-4255-dc80-66deb81eb6c1",
        "id": "SV-AwqtdBThf"
      },
      "execution_count": null,
      "outputs": [
        {
          "output_type": "execute_result",
          "data": {
            "text/plain": [
              "array([('АНТРОПОФИЗИОМЕТРИЯ', 'Пол'), ('АНТРОПОФИЗИОМЕТРИЯ', 'Возраст'),\n",
              "       ('АНТРОПОФИЗИОМЕТРИЯ', 'Дата госпитализации'),\n",
              "       ('АНТРОПОФИЗИОМЕТРИЯ', 'Рост'), ('АНТРОПОФИЗИОМЕТРИЯ', 'Вес'),\n",
              "       ('АНТРОПОФИЗИОМЕТРИЯ', 'ИМТ'), ('АНТРОПОФИЗИОМЕТРИЯ', 'S тела'),\n",
              "       ('АНТРОПОФИЗИОМЕТРИЯ', 'систол. АД'),\n",
              "       ('АНТРОПОФИЗИОМЕТРИЯ', 'ЧСС'),\n",
              "       ('ПСИХОСОЦИАЛЬНЫЕ ФАКТОРЫ', 'Психотип D'),\n",
              "       ('ПСИХОСОЦИАЛЬНЫЕ ФАКТОРЫ', 'Тревога HADS'),\n",
              "       ('ПСИХОСОЦИАЛЬНЫЕ ФАКТОРЫ', 'Депрессия HADS'),\n",
              "       ('ПСИХОСОЦИАЛЬНЫЕ ФАКТОРЫ', 'Длительность проживания на Севере, лет'),\n",
              "       ('ПСИХОСОЦИАЛЬНЫЕ ФАКТОРЫ', 'Курение'),\n",
              "       ('ПСИХОСОЦИАЛЬНЫЕ ФАКТОРЫ', 'Алкоголь'),\n",
              "       ('ПСИХОСОЦИАЛЬНЫЕ ФАКТОРЫ', 'Уровень образования'),\n",
              "       ('ПСИХОСОЦИАЛЬНЫЕ ФАКТОРЫ', 'Семейный статус'),\n",
              "       ('ХАРАКТЕРИСТИКА ОИМ', 'Давность болевого синдрома'),\n",
              "       ('ХАРАКТЕРИСТИКА ОИМ', 'Cегмент ST'),\n",
              "       ('ХАРАКТЕРИСТИКА ОИМ', 'Передняя стенка ЛЖ'),\n",
              "       ('ХАРАКТЕРИСТИКА ОИМ', 'Задняя    стенка ЛЖ'),\n",
              "       ('ХАРАКТЕРИСТИКА ОИМ', 'Боковая  стенка ЛЖ'),\n",
              "       ('ХАРАКТЕРИСТИКА ОИМ', 'Класс Killip'),\n",
              "       ('ХАРАКТЕРИСТИКА ОИМ', 'Риск GRACE, баллы'),\n",
              "       ('ХАРАКТЕРИСТИКА ОИМ', 'Риск GRACE   1-год, % '),\n",
              "       ('ХАРАКТЕРИСТИКА ОИМ', 'CRUSADE Bleeding Score'),\n",
              "       ('ХАРАКТЕРИСТИКА ОИМ', 'Risk of In-Hospital Major Bleeding,%'),\n",
              "       ('СОПУТСТВУЮЩИЕ ЗАБОЛЕВАНИЯ И СОСТОЯНИЯ', 'пост-ИМ'),\n",
              "       ('СОПУТСТВУЮЩИЕ ЗАБОЛЕВАНИЯ И СОСТОЯНИЯ', 'пост-ОНМК'),\n",
              "       ('СОПУТСТВУЮЩИЕ ЗАБОЛЕВАНИЯ И СОСТОЯНИЯ', 'пост-ВЧ-кровоизлияние'),\n",
              "       ('СОПУТСТВУЮЩИЕ ЗАБОЛЕВАНИЯ И СОСТОЯНИЯ', 'пост-стент'),\n",
              "       ('СОПУТСТВУЮЩИЕ ЗАБОЛЕВАНИЯ И СОСТОЯНИЯ', 'ФП'),\n",
              "       ('СОПУТСТВУЮЩИЕ ЗАБОЛЕВАНИЯ И СОСТОЯНИЯ', 'ГБ'),\n",
              "       ('СОПУТСТВУЮЩИЕ ЗАБОЛЕВАНИЯ И СОСТОЯНИЯ', 'СД'),\n",
              "       ('СОПУТСТВУЮЩИЕ ЗАБОЛЕВАНИЯ И СОСТОЯНИЯ', 'НТГ'),\n",
              "       ('СОПУТСТВУЮЩИЕ ЗАБОЛЕВАНИЯ И СОСТОЯНИЯ', 'МФА'),\n",
              "       ('СОПУТСТВУЮЩИЕ ЗАБОЛЕВАНИЯ И СОСТОЯНИЯ', 'Стадия ХБП по KDOQI /ERA'),\n",
              "       ('СОПУТСТВУЮЩИЕ ЗАБОЛЕВАНИЯ И СОСТОЯНИЯ', 'Ожирение, степень'),\n",
              "       ('СОПУТСТВУЮЩИЕ ЗАБОЛЕВАНИЯ И СОСТОЯНИЯ', 'ЯБЖ/ЭГ'),\n",
              "       ('СОПУТСТВУЮЩИЕ ЗАБОЛЕВАНИЯ И СОСТОЯНИЯ', 'Анемия, степень'),\n",
              "       ('СОПУТСТВУЮЩИЕ ЗАБОЛЕВАНИЯ И СОСТОЯНИЯ', 'Индекс коморбидности'),\n",
              "       ('СОПУТСТВУЮЩИЕ ЗАБОЛЕВАНИЯ И СОСТОЯНИЯ', 'Наследственность'),\n",
              "       ('ТЕРАПИЯ ДО ЧКВ', 'прием терапии до ИМ'),\n",
              "       ('ТЕРАПИЯ ДО ЧКВ', 'стандарт лечения ОКС ПСМП'),\n",
              "       ('ТЕРАПИЯ ДО ЧКВ', 'ДГТЛ'), ('ТЕРАПИЯ ДО ЧКВ', 'ГТЛ'),\n",
              "       ('КОРОНАРОАНГИОГРАФИЯ И РЕВАСКУЛЯРИЗАЦИЯ МИОКАРДА', 'SYNTAX Score I'),\n",
              "       ('КОРОНАРОАНГИОГРАФИЯ И РЕВАСКУЛЯРИЗАЦИЯ МИОКАРДА', 'TIMI в ИЗА'),\n",
              "       ('ТРОПОНИНЫ по стандарту ОКД', 'TnT-ПО, нг/л'),\n",
              "       ('ТРОПОНИНЫ по стандарту ОКД', 'ТnI-24, нг/мл'),\n",
              "       ('ЛАБОРАТОРНЫЕ ПОКАЗАТЕЛИ', 'Хсобщ, ммоль/л'),\n",
              "       ('ЛАБОРАТОРНЫЕ ПОКАЗАТЕЛИ', 'ЛПНП, ммоль/л'),\n",
              "       ('ЛАБОРАТОРНЫЕ ПОКАЗАТЕЛИ', 'ЛПВП, ммоль/л'),\n",
              "       ('ЛАБОРАТОРНЫЕ ПОКАЗАТЕЛИ', 'ТГц, ммоль/л'),\n",
              "       ('ЛАБОРАТОРНЫЕ ПОКАЗАТЕЛИ', 'Гемоглобин, г/л'),\n",
              "       ('ЛАБОРАТОРНЫЕ ПОКАЗАТЕЛИ', 'Глюкоза, ммоль/л'),\n",
              "       ('ЛАБОРАТОРНЫЕ ПОКАЗАТЕЛИ', 'Гематокрит, %'),\n",
              "       ('ЛАБОРАТОРНЫЕ ПОКАЗАТЕЛИ', 'Креатинин, мкмоль/л'),\n",
              "       ('ЛАБОРАТОРНЫЕ ПОКАЗАТЕЛИ', 'СКФ EPI'),\n",
              "       ('ЛАБОРАТОРНЫЕ ПОКАЗАТЕЛИ', 'АЛТ, U/L'),\n",
              "       ('ЛАБОРАТОРНЫЕ ПОКАЗАТЕЛИ', 'АСТ, U/L'),\n",
              "       ('ЛАБОРАТОРНЫЕ ПОКАЗАТЕЛИ', 'Билирубин, мкмоль/л'),\n",
              "       ('ИСХОДНАЯ ЭХОКГ', 'КДР ЛЖ '), ('ИСХОДНАЯ ЭХОКГ', 'КДО ЛЖ'),\n",
              "       ('ИСХОДНАЯ ЭХОКГ', 'иКДО ЛЖ'), ('ИСХОДНАЯ ЭХОКГ', 'КСР ЛЖ'),\n",
              "       ('ИСХОДНАЯ ЭХОКГ', 'КСО ЛЖ'), ('ИСХОДНАЯ ЭХОКГ', 'иКСО ЛЖ'),\n",
              "       ('ИСХОДНАЯ ЭХОКГ', 'УО ЛЖ'), ('ИСХОДНАЯ ЭХОКГ', 'ФВ ЛЖ'),\n",
              "       ('ИСХОДНАЯ ЭХОКГ', 'ТМЖП ЛЖ'), ('ИСХОДНАЯ ЭХОКГ', 'ТЗС ЛЖ'),\n",
              "       ('ИСХОДНАЯ ЭХОКГ', 'ММ ЛЖ'), ('ИСХОДНАЯ ЭХОКГ', 'иММ ЛЖ'),\n",
              "       ('ИСХОДНАЯ ЭХОКГ', 'E/A'), ('ИСХОДНАЯ ЭХОКГ', 'ЛП'),\n",
              "       ('ИСХОДНАЯ ЭХОКГ', 'ПП'), ('ИСХОДНАЯ ЭХОКГ', 'ПЖ'),\n",
              "       ('ИСХОДНАЯ ЭХОКГ', 'РМК'), ('ИСХОДНАЯ ЭХОКГ', 'Аневризма ЛЖ'),\n",
              "       ('ИСХОДНАЯ ЭХОКГ', 'Тромбоз ЛЖ'), ('ИСХОДНАЯ ЭХОКГ', 'ИНЛС ЛЖ'),\n",
              "       ('КЛИРЕНС 2', 'Креатинин 2'), ('КЛИРЕНС 2', 'СКФ'),\n",
              "       ('ПОВТОРНАЯ ЭХОКГ', 'КДР ЛЖ '), ('ПОВТОРНАЯ ЭХОКГ', 'КДО ЛЖ'),\n",
              "       ('ПОВТОРНАЯ ЭХОКГ', 'иКДО ЛЖ'), ('ПОВТОРНАЯ ЭХОКГ', 'КСР ЛЖ'),\n",
              "       ('ПОВТОРНАЯ ЭХОКГ', 'КСО ЛЖ'), ('ПОВТОРНАЯ ЭХОКГ', 'иКСО ЛЖ'),\n",
              "       ('ПОВТОРНАЯ ЭХОКГ', 'УО ЛЖ'), ('ПОВТОРНАЯ ЭХОКГ', 'ФВ ЛЖ'),\n",
              "       ('ПОВТОРНАЯ ЭХОКГ', 'ТМЖП ЛЖ'), ('ПОВТОРНАЯ ЭХОКГ', 'ТЗС ЛЖ'),\n",
              "       ('ПОВТОРНАЯ ЭХОКГ', 'ММ ЛЖ'), ('ПОВТОРНАЯ ЭХОКГ', 'иММ ЛЖ'),\n",
              "       ('ПОВТОРНАЯ ЭХОКГ', 'E/A'), ('ПОВТОРНАЯ ЭХОКГ', 'ЛП'),\n",
              "       ('ПОВТОРНАЯ ЭХОКГ', 'ПП'), ('ПОВТОРНАЯ ЭХОКГ', 'ПЖ'),\n",
              "       ('ПОВТОРНАЯ ЭХОКГ', 'РМК'), ('ПОВТОРНАЯ ЭХОКГ', 'Аневризма ЛЖ'),\n",
              "       ('ПОВТОРНАЯ ЭХОКГ', 'Тромбоз ЛЖ'), ('ПОВТОРНАЯ ЭХОКГ', 'ИНЛС ЛЖ'),\n",
              "       ('ГОСПИТАЛЬНЫЕ КЛИНИЧЕСКИЕ ИСХОДЫ', 'Смерть'),\n",
              "       ('ГОСПИТАЛЬНЫЕ КЛИНИЧЕСКИЕ ИСХОДЫ', 'Дата'),\n",
              "       ('ГОСПИТАЛЬНЫЕ КЛИНИЧЕСКИЕ ИСХОДЫ', 'Реинфаркт'),\n",
              "       ('ГОСПИТАЛЬНЫЕ КЛИНИЧЕСКИЕ ИСХОДЫ', 'Дата.1'),\n",
              "       ('ГОСПИТАЛЬНЫЕ КЛИНИЧЕСКИЕ ИСХОДЫ', 'Тромбоз стента/ шунта'),\n",
              "       ('ГОСПИТАЛЬНЫЕ КЛИНИЧЕСКИЕ ИСХОДЫ', 'Дата.2'),\n",
              "       ('ГОСПИТАЛЬНЫЕ КЛИНИЧЕСКИЕ ИСХОДЫ', 'НРС'),\n",
              "       ('ГОСПИТАЛЬНЫЕ КЛИНИЧЕСКИЕ ИСХОДЫ', 'Повторная реваскуляризация (ЧКВ/АКШ)'),\n",
              "       ('ГОСПИТАЛЬНЫЕ КЛИНИЧЕСКИЕ ИСХОДЫ', 'Дата.3'),\n",
              "       ('ГОСПИТАЛЬНЫЕ КЛИНИЧЕСКИЕ ИСХОДЫ', 'ОНМК'),\n",
              "       ('ГОСПИТАЛЬНЫЕ КЛИНИЧЕСКИЕ ИСХОДЫ', 'Дата.4'),\n",
              "       ('ГОСПИТАЛЬНЫЕ КЛИНИЧЕСКИЕ ИСХОДЫ', 'ВЧ-кровотечение'),\n",
              "       ('ГОСПИТАЛЬНЫЕ КЛИНИЧЕСКИЕ ИСХОДЫ', 'Дата.5'),\n",
              "       ('ГОСПИТАЛЬНЫЕ КЛИНИЧЕСКИЕ ИСХОДЫ', 'ЖКТ-кровотечение'),\n",
              "       ('ГОСПИТАЛЬНЫЕ КЛИНИЧЕСКИЕ ИСХОДЫ', 'Дата.6'),\n",
              "       ('КОНТРОЛЬ (1-4 месяца)', 'ВАРИАНТ КОНТАКТА С ВРАЧОМ'),\n",
              "       ('ХАРАКТЕРИСТИКА ИБС', 'ФК'),\n",
              "       ('Хроническая сердечная недостаточность', 'ФК по NYHA'),\n",
              "       ('Хроническая сердечная недостаточность', 'НК'),\n",
              "       ('ЛАБОРАТОРНЫЕ ПОКАЗАТЕЛИ', 'ХСобщ'),\n",
              "       ('ЛАБОРАТОРНЫЕ ПОКАЗАТЕЛИ', 'ЛПНП'),\n",
              "       ('ЛАБОРАТОРНЫЕ ПОКАЗАТЕЛИ', 'ЛПВП'),\n",
              "       ('ЛАБОРАТОРНЫЕ ПОКАЗАТЕЛИ', 'ЛПОНП'),\n",
              "       ('ЛАБОРАТОРНЫЕ ПОКАЗАТЕЛИ', 'ТГц'),\n",
              "       ('ЛАБОРАТОРНЫЕ ПОКАЗАТЕЛИ', 'Гемоглобин'),\n",
              "       ('ЛАБОРАТОРНЫЕ ПОКАЗАТЕЛИ', 'Глюкоза'),\n",
              "       ('ЛАБОРАТОРНЫЕ ПОКАЗАТЕЛИ', 'HbA1c'),\n",
              "       ('ЛАБОРАТОРНЫЕ ПОКАЗАТЕЛИ', 'Креатинин'),\n",
              "       ('ЛАБОРАТОРНЫЕ ПОКАЗАТЕЛИ', 'АЛТ'),\n",
              "       ('ЛАБОРАТОРНЫЕ ПОКАЗАТЕЛИ', 'АСТ'),\n",
              "       ('ЛАБОРАТОРНЫЕ ПОКАЗАТЕЛИ', 'Билирубин'),\n",
              "       ('ЭХОКГ (КОНТРОЛЬ)', 'КДР ЛЖ '), ('ЭХОКГ (КОНТРОЛЬ)', 'КДО ЛЖ'),\n",
              "       ('ЭХОКГ (КОНТРОЛЬ)', 'иКДО ЛЖ'), ('ЭХОКГ (КОНТРОЛЬ)', 'КСР ЛЖ'),\n",
              "       ('ЭХОКГ (КОНТРОЛЬ)', 'КСО ЛЖ'), ('ЭХОКГ (КОНТРОЛЬ)', 'иКСО ЛЖ'),\n",
              "       ('ЭХОКГ (КОНТРОЛЬ)', 'УО ЛЖ'), ('ЭХОКГ (КОНТРОЛЬ)', 'ФВ ЛЖ'),\n",
              "       ('ЭХОКГ (КОНТРОЛЬ)', 'ТМЖП ЛЖ'), ('ЭХОКГ (КОНТРОЛЬ)', 'ТЗС ЛЖ'),\n",
              "       ('ЭХОКГ (КОНТРОЛЬ)', 'ММ ЛЖ'), ('ЭХОКГ (КОНТРОЛЬ)', 'иММ ЛЖ'),\n",
              "       ('ЭХОКГ (КОНТРОЛЬ)', 'E/A'), ('ЭХОКГ (КОНТРОЛЬ)', 'ЛП'),\n",
              "       ('ЭХОКГ (КОНТРОЛЬ)', 'ПП'), ('ЭХОКГ (КОНТРОЛЬ)', 'ПЖ'),\n",
              "       ('ЭХОКГ (КОНТРОЛЬ)', 'РМК'), ('ЭХОКГ (КОНТРОЛЬ)', 'Аневризма ЛЖ'),\n",
              "       ('ЭХОКГ (КОНТРОЛЬ)', 'Тромбоз ЛЖ'),\n",
              "       ('ЭХОКГ (КОНТРОЛЬ)', 'ИНЛС ЛЖ'),\n",
              "       ('ИСХОД', 'Месяцы             (4 и далее)'),\n",
              "       ('ХАРАКТЕРИСТИКА ИБС', 'ФК.1'),\n",
              "       ('Хроническая сердечная недостаточность', 'ФК по NYHA.1'),\n",
              "       ('Хроническая сердечная недостаточность', 'НК.1'),\n",
              "       ('СОПУТСТВУЮЩИЕ ЗАБОЛЕВАНИЯ И СОСТОЯНИЯ', 'ГБ, степень адаптации к нормальному АД'),\n",
              "       ('СОПУТСТВУЮЩИЕ ЗАБОЛЕВАНИЯ И СОСТОЯНИЯ', 'СД, компенсация'),\n",
              "       ('СОПУТСТВУЮЩИЕ ЗАБОЛЕВАНИЯ И СОСТОЯНИЯ', 'ХБП'),\n",
              "       ('СОПУТСТВУЮЩИЕ ЗАБОЛЕВАНИЯ И СОСТОЯНИЯ', 'Стадия по KDOQI/ERA'),\n",
              "       ('СОПУТСТВУЮЩИЕ ЗАБОЛЕВАНИЯ И СОСТОЯНИЯ', 'СКФ EPI'),\n",
              "       ('СОПУТСТВУЮЩИЕ ЗАБОЛЕВАНИЯ И СОСТОЯНИЯ', 'Ожирение, степень.1'),\n",
              "       ('СОПУТСТВУЮЩИЕ ЗАБОЛЕВАНИЯ И СОСТОЯНИЯ', 'МФА.1'),\n",
              "       ('СОПУТСТВУЮЩИЕ ЗАБОЛЕВАНИЯ И СОСТОЯНИЯ', 'ИМТ'),\n",
              "       ('СОПУТСТВУЮЩИЕ ЗАБОЛЕВАНИЯ И СОСТОЯНИЯ', 'S тела'),\n",
              "       ('СОПУТСТВУЮЩИЕ ЗАБОЛЕВАНИЯ И СОСТОЯНИЯ', 'Анемия, степень.1'),\n",
              "       ('СОПУТСТВУЮЩИЕ ЗАБОЛЕВАНИЯ И СОСТОЯНИЯ', 'Курение'),\n",
              "       ('ЛАБОРАТОРНЫЕ ПОКАЗАТЕЛИ', 'ХСобщ.1'),\n",
              "       ('ЛАБОРАТОРНЫЕ ПОКАЗАТЕЛИ', 'ЛПНП.1'),\n",
              "       ('ЛАБОРАТОРНЫЕ ПОКАЗАТЕЛИ', 'ЛПВП.1'),\n",
              "       ('ЛАБОРАТОРНЫЕ ПОКАЗАТЕЛИ', 'ТГц.1'),\n",
              "       ('ЛАБОРАТОРНЫЕ ПОКАЗАТЕЛИ', 'Гемоглобин.1'),\n",
              "       ('ЛАБОРАТОРНЫЕ ПОКАЗАТЕЛИ', 'Глюкоза.1'),\n",
              "       ('ЛАБОРАТОРНЫЕ ПОКАЗАТЕЛИ', 'HbA1c.1'),\n",
              "       ('ЛАБОРАТОРНЫЕ ПОКАЗАТЕЛИ', 'Креатинин.1'),\n",
              "       ('ЛАБОРАТОРНЫЕ ПОКАЗАТЕЛИ', 'АЛТ.1'),\n",
              "       ('ЛАБОРАТОРНЫЕ ПОКАЗАТЕЛИ', 'АСТ.1'),\n",
              "       ('ЛАБОРАТОРНЫЕ ПОКАЗАТЕЛИ', 'Билирубин.1'),\n",
              "       ('ЭХОКГ (ИСХОД)', 'КДР ЛЖ '), ('ЭХОКГ (ИСХОД)', 'КДО ЛЖ'),\n",
              "       ('ЭХОКГ (ИСХОД)', 'иКДО ЛЖ'), ('ЭХОКГ (ИСХОД)', 'КСР ЛЖ'),\n",
              "       ('ЭХОКГ (ИСХОД)', 'КСО ЛЖ'), ('ЭХОКГ (ИСХОД)', 'иКСО ЛЖ'),\n",
              "       ('ЭХОКГ (ИСХОД)', 'УО ЛЖ'), ('ЭХОКГ (ИСХОД)', 'ФВ ЛЖ'),\n",
              "       ('ЭХОКГ (ИСХОД)', 'ТМЖП ЛЖ'), ('ЭХОКГ (ИСХОД)', 'ТЗС ЛЖ'),\n",
              "       ('ЭХОКГ (ИСХОД)', 'ММ ЛЖ'), ('ЭХОКГ (ИСХОД)', 'иММ ЛЖ'),\n",
              "       ('ЭХОКГ (ИСХОД)', 'E/A'), ('ЭХОКГ (ИСХОД)', 'ЛП'),\n",
              "       ('ЭХОКГ (ИСХОД)', 'ПП'), ('ЭХОКГ (ИСХОД)', 'ПЖ'),\n",
              "       ('ЭХОКГ (ИСХОД)', 'Аневризма ЛЖ'), ('ЭХОКГ (ИСХОД)', 'Тромбоз ЛЖ'),\n",
              "       ('ЭХОКГ (ИСХОД)', 'РМК'), ('ЭХОКГ (ИСХОД)', 'ИНЛС ЛЖ'),\n",
              "       ('КОНЕЧНЫЕ ИСХОДЫ НАБЛЮДЕНИЯ', 'Некардиальная смерть'),\n",
              "       ('КОНЕЧНЫЕ ИСХОДЫ НАБЛЮДЕНИЯ', 'Дата'),\n",
              "       ('КОНЕЧНЫЕ ИСХОДЫ НАБЛЮДЕНИЯ', 'Сердечно-сосудистая смерть'),\n",
              "       ('КОНЕЧНЫЕ ИСХОДЫ НАБЛЮДЕНИЯ', 'Дата.1'),\n",
              "       ('КОНЕЧНЫЕ ИСХОДЫ НАБЛЮДЕНИЯ', 'Реинфаркт'),\n",
              "       ('КОНЕЧНЫЕ ИСХОДЫ НАБЛЮДЕНИЯ', 'Дата.2'),\n",
              "       ('КОНЕЧНЫЕ ИСХОДЫ НАБЛЮДЕНИЯ', 'Тромбоз стента/ шунта'),\n",
              "       ('КОНЕЧНЫЕ ИСХОДЫ НАБЛЮДЕНИЯ', 'Дата.3'),\n",
              "       ('КОНЕЧНЫЕ ИСХОДЫ НАБЛЮДЕНИЯ', 'НРС'),\n",
              "       ('КОНЕЧНЫЕ ИСХОДЫ НАБЛЮДЕНИЯ', 'Повторная реваскуляризация'),\n",
              "       ('КОНЕЧНЫЕ ИСХОДЫ НАБЛЮДЕНИЯ', 'Дата.4'),\n",
              "       ('КОНЕЧНЫЕ ИСХОДЫ НАБЛЮДЕНИЯ', 'Повторная реваскуляризация.1'),\n",
              "       ('КОНЕЧНЫЕ ИСХОДЫ НАБЛЮДЕНИЯ', 'Дата.5'),\n",
              "       ('КОНЕЧНЫЕ ИСХОДЫ НАБЛЮДЕНИЯ', 'Повторная реваскуляризация.2'),\n",
              "       ('КОНЕЧНЫЕ ИСХОДЫ НАБЛЮДЕНИЯ', 'Дата.6'),\n",
              "       ('КОНЕЧНЫЕ ИСХОДЫ НАБЛЮДЕНИЯ', 'ОНМК'),\n",
              "       ('КОНЕЧНЫЕ ИСХОДЫ НАБЛЮДЕНИЯ', 'Дата.7'),\n",
              "       ('КОНЕЧНЫЕ ИСХОДЫ НАБЛЮДЕНИЯ', 'ВЧ-кровотечение'),\n",
              "       ('КОНЕЧНЫЕ ИСХОДЫ НАБЛЮДЕНИЯ', 'Дата.8'),\n",
              "       ('КОНЕЧНЫЕ ИСХОДЫ НАБЛЮДЕНИЯ', 'ЖКТ-кровотечение'),\n",
              "       ('КОНЕЧНЫЕ ИСХОДЫ НАБЛЮДЕНИЯ', 'Дата.9'),\n",
              "       ('КОНЕЧНЫЕ ИСХОДЫ НАБЛЮДЕНИЯ', 'Симптомная стенокардия'),\n",
              "       ('КОНЕЧНЫЕ ИСХОДЫ НАБЛЮДЕНИЯ', 'Симптомная СН'),\n",
              "       ('Связь с пациентом', 'дозвон'), ('Связь с пациентом', 'недозвон'),\n",
              "       ('БИОМАРКЕРЫ БЛОК Е', 'БСЖК-1'), ('БИОМАРКЕРЫ БЛОК Е', 'БСЖК-2'),\n",
              "       ('БИОМАРКЕРЫ БЛОК Е', 'hsТnT-2, пг/мл'),\n",
              "       ('БИОМАРКЕРЫ БЛОК Е', 'hsТnT-2, пг/мл.1'),\n",
              "       ('БИОМАРКЕРЫ БЛОК Е', 'MG-1, нг/мл'),\n",
              "       ('БИОМАРКЕРЫ БЛОК Е', 'MG-2, нг/мл')], dtype=object)"
            ]
          },
          "metadata": {},
          "execution_count": 74
        }
      ]
    },
    {
      "cell_type": "code",
      "source": [
        "features = pd.DataFrame(np.stack([np.array(data_b.columns), np.array(list((data_b == -1).sum()))], axis=1), columns=['features', 'NAs'])"
      ],
      "metadata": {
        "id": "20ZlFqQGBThg"
      },
      "execution_count": null,
      "outputs": []
    },
    {
      "cell_type": "code",
      "source": [
        "features['patiens_with_combined'] = 94"
      ],
      "metadata": {
        "id": "yV-i3VLIBThg"
      },
      "execution_count": null,
      "outputs": []
    },
    {
      "cell_type": "code",
      "source": [
        "features['ratio'] = features['NAs'] / 94"
      ],
      "metadata": {
        "id": "Lu3m4aWFBThg"
      },
      "execution_count": null,
      "outputs": []
    },
    {
      "cell_type": "code",
      "source": [
        "features.to_excel('data_b.xlsx')"
      ],
      "metadata": {
        "id": "R0TtWWbbBThg"
      },
      "execution_count": null,
      "outputs": []
    },
    {
      "cell_type": "code",
      "source": [],
      "metadata": {
        "id": "HMNLnym4BThg"
      },
      "execution_count": null,
      "outputs": []
    },
    {
      "cell_type": "markdown",
      "source": [
        "##### contunue"
      ],
      "metadata": {
        "id": "tuWJNKstBR9p"
      }
    },
    {
      "cell_type": "code",
      "source": [
        "# Find columns\n",
        "\n",
        "\n",
        "# drop features that were obtained at first discharge and biomarkers that have more than 20% of NAs\n",
        "cols_with_NAs = [col for col in (list(data_b.columns[:2]) + list(data_b.columns[3:84])) \\\n",
        "                        if (data_b[col] == -1).sum() > 0.2*data_b.shape[0]] # there are more than 20% of NAs in some biomarkers\n",
        "data_b.drop(columns=cols_with_NAs, inplace=True)\n",
        "\n",
        "      \n",
        "\n",
        "\n",
        "clinical_and_biomarkers = list(data_b.columns[:2]) + list(data_b.columns[3:72]) + list(data_b.columns[214:])\n",
        "continuous_cols = [col for col in clinical_and_biomarkers if (len((data_b[col].unique())) >= 7)]\n",
        "categorical = [col for col in clinical_and_biomarkers if (len((data_b[col].unique())) < 7)]\n"
      ],
      "metadata": {
        "id": "sKMb99Q_0_iI"
      },
      "execution_count": null,
      "outputs": []
    },
    {
      "cell_type": "code",
      "source": [
        "# For subsets\n",
        "biomarkers_b_columns = list(data_b.columns[214:])\n",
        "clinical_and_biomarkers_b_columns = list(data_b.columns[:2]) + list(data_b.columns[3:72]) + list(data_b.columns[214:])\n",
        "clinical_b_columns = list(data_b.columns[:2]) + list(data_b.columns[3:72])"
      ],
      "metadata": {
        "id": "hy9P61cNyGbu"
      },
      "execution_count": null,
      "outputs": []
    },
    {
      "cell_type": "code",
      "source": [
        "data_b[biomarkers_b_columns].head(2)"
      ],
      "metadata": {
        "colab": {
          "base_uri": "https://localhost:8080/"
        },
        "outputId": "a7486201-080f-4c67-b230-9e691156c58a",
        "id": "PseslAu01Qc4"
      },
      "execution_count": null,
      "outputs": [
        {
          "output_type": "execute_result",
          "data": {
            "text/plain": [
              "      БИОМАРКЕРЫ БЛОК Е                                                     \\\n",
              "№ п/п            БСЖК-1 БСЖК-2 hsТnT-2, пг/мл hsТnT-2, пг/мл.1 MG-1, нг/мл   \n",
              "1                     1      1           9.52           1200.0       24.00   \n",
              "2                     0      0          19.52           1175.0       62.83   \n",
              "\n",
              "                   \n",
              "№ п/п MG-2, нг/мл  \n",
              "1           62.72  \n",
              "2           36.88  "
            ],
            "text/html": [
              "<div>\n",
              "<style scoped>\n",
              "    .dataframe tbody tr th:only-of-type {\n",
              "        vertical-align: middle;\n",
              "    }\n",
              "\n",
              "    .dataframe tbody tr th {\n",
              "        vertical-align: top;\n",
              "    }\n",
              "\n",
              "    .dataframe thead tr th {\n",
              "        text-align: left;\n",
              "    }\n",
              "</style>\n",
              "<table border=\"1\" class=\"dataframe\">\n",
              "  <thead>\n",
              "    <tr>\n",
              "      <th></th>\n",
              "      <th colspan=\"6\" halign=\"left\">БИОМАРКЕРЫ БЛОК Е</th>\n",
              "    </tr>\n",
              "    <tr>\n",
              "      <th>№ п/п</th>\n",
              "      <th>БСЖК-1</th>\n",
              "      <th>БСЖК-2</th>\n",
              "      <th>hsТnT-2, пг/мл</th>\n",
              "      <th>hsТnT-2, пг/мл.1</th>\n",
              "      <th>MG-1, нг/мл</th>\n",
              "      <th>MG-2, нг/мл</th>\n",
              "    </tr>\n",
              "  </thead>\n",
              "  <tbody>\n",
              "    <tr>\n",
              "      <th>1</th>\n",
              "      <td>1</td>\n",
              "      <td>1</td>\n",
              "      <td>9.52</td>\n",
              "      <td>1200.0</td>\n",
              "      <td>24.00</td>\n",
              "      <td>62.72</td>\n",
              "    </tr>\n",
              "    <tr>\n",
              "      <th>2</th>\n",
              "      <td>0</td>\n",
              "      <td>0</td>\n",
              "      <td>19.52</td>\n",
              "      <td>1175.0</td>\n",
              "      <td>62.83</td>\n",
              "      <td>36.88</td>\n",
              "    </tr>\n",
              "  </tbody>\n",
              "</table>\n",
              "</div>"
            ]
          },
          "metadata": {},
          "execution_count": 16
        }
      ]
    },
    {
      "cell_type": "code",
      "source": [
        "data_b[clinical_and_biomarkers_b_columns].head(2)"
      ],
      "metadata": {
        "colab": {
          "base_uri": "https://localhost:8080/"
        },
        "outputId": "0aaacc87-2f0b-489d-daa8-559ed7642342",
        "id": "yS5cXcGd1Qc9"
      },
      "execution_count": null,
      "outputs": [
        {
          "output_type": "execute_result",
          "data": {
            "text/plain": [
              "      АНТРОПОФИЗИОМЕТРИЯ                                                      \\\n",
              "№ п/п                Пол Возраст  Рост  Вес        ИМТ S тела систол. АД ЧСС   \n",
              "1                      1      68  1.60   52  20.312500   1.51        140  65   \n",
              "2                      0      50  1.84  115  33.967391   2.38        134  67   \n",
              "\n",
              "      ПСИХОСОЦИАЛЬНЫЕ ФАКТОРЫ         ХАРАКТЕРИСТИКА ОИМ  ... ИСХОДНАЯ ЭХОКГ  \\\n",
              "№ п/п                 Курение Давность болевого синдрома  ...     Тромбоз ЛЖ   \n",
              "1                           0                          1  ...              0   \n",
              "2                           1                          1  ...              0   \n",
              "\n",
              "                КЛИРЕНС 2       БИОМАРКЕРЫ БЛОК Е                        \\\n",
              "№ п/п ИНЛС ЛЖ Креатинин 2   СКФ            БСЖК-1 БСЖК-2 hsТnT-2, пг/мл   \n",
              "1      1.0625        58.0  95.0                 1      1           9.52   \n",
              "2      1.0625       126.0  56.0                 0      0          19.52   \n",
              "\n",
              "                                                \n",
              "№ п/п hsТnT-2, пг/мл.1 MG-1, нг/мл MG-2, нг/мл  \n",
              "1               1200.0       24.00       62.72  \n",
              "2               1175.0       62.83       36.88  \n",
              "\n",
              "[2 rows x 77 columns]"
            ],
            "text/html": [
              "<div>\n",
              "<style scoped>\n",
              "    .dataframe tbody tr th:only-of-type {\n",
              "        vertical-align: middle;\n",
              "    }\n",
              "\n",
              "    .dataframe tbody tr th {\n",
              "        vertical-align: top;\n",
              "    }\n",
              "\n",
              "    .dataframe thead tr th {\n",
              "        text-align: left;\n",
              "    }\n",
              "</style>\n",
              "<table border=\"1\" class=\"dataframe\">\n",
              "  <thead>\n",
              "    <tr>\n",
              "      <th></th>\n",
              "      <th colspan=\"8\" halign=\"left\">АНТРОПОФИЗИОМЕТРИЯ</th>\n",
              "      <th>ПСИХОСОЦИАЛЬНЫЕ ФАКТОРЫ</th>\n",
              "      <th>ХАРАКТЕРИСТИКА ОИМ</th>\n",
              "      <th>...</th>\n",
              "      <th colspan=\"2\" halign=\"left\">ИСХОДНАЯ ЭХОКГ</th>\n",
              "      <th colspan=\"2\" halign=\"left\">КЛИРЕНС 2</th>\n",
              "      <th colspan=\"6\" halign=\"left\">БИОМАРКЕРЫ БЛОК Е</th>\n",
              "    </tr>\n",
              "    <tr>\n",
              "      <th>№ п/п</th>\n",
              "      <th>Пол</th>\n",
              "      <th>Возраст</th>\n",
              "      <th>Рост</th>\n",
              "      <th>Вес</th>\n",
              "      <th>ИМТ</th>\n",
              "      <th>S тела</th>\n",
              "      <th>систол. АД</th>\n",
              "      <th>ЧСС</th>\n",
              "      <th>Курение</th>\n",
              "      <th>Давность болевого синдрома</th>\n",
              "      <th>...</th>\n",
              "      <th>Тромбоз ЛЖ</th>\n",
              "      <th>ИНЛС ЛЖ</th>\n",
              "      <th>Креатинин 2</th>\n",
              "      <th>СКФ</th>\n",
              "      <th>БСЖК-1</th>\n",
              "      <th>БСЖК-2</th>\n",
              "      <th>hsТnT-2, пг/мл</th>\n",
              "      <th>hsТnT-2, пг/мл.1</th>\n",
              "      <th>MG-1, нг/мл</th>\n",
              "      <th>MG-2, нг/мл</th>\n",
              "    </tr>\n",
              "  </thead>\n",
              "  <tbody>\n",
              "    <tr>\n",
              "      <th>1</th>\n",
              "      <td>1</td>\n",
              "      <td>68</td>\n",
              "      <td>1.60</td>\n",
              "      <td>52</td>\n",
              "      <td>20.312500</td>\n",
              "      <td>1.51</td>\n",
              "      <td>140</td>\n",
              "      <td>65</td>\n",
              "      <td>0</td>\n",
              "      <td>1</td>\n",
              "      <td>...</td>\n",
              "      <td>0</td>\n",
              "      <td>1.0625</td>\n",
              "      <td>58.0</td>\n",
              "      <td>95.0</td>\n",
              "      <td>1</td>\n",
              "      <td>1</td>\n",
              "      <td>9.52</td>\n",
              "      <td>1200.0</td>\n",
              "      <td>24.00</td>\n",
              "      <td>62.72</td>\n",
              "    </tr>\n",
              "    <tr>\n",
              "      <th>2</th>\n",
              "      <td>0</td>\n",
              "      <td>50</td>\n",
              "      <td>1.84</td>\n",
              "      <td>115</td>\n",
              "      <td>33.967391</td>\n",
              "      <td>2.38</td>\n",
              "      <td>134</td>\n",
              "      <td>67</td>\n",
              "      <td>1</td>\n",
              "      <td>1</td>\n",
              "      <td>...</td>\n",
              "      <td>0</td>\n",
              "      <td>1.0625</td>\n",
              "      <td>126.0</td>\n",
              "      <td>56.0</td>\n",
              "      <td>0</td>\n",
              "      <td>0</td>\n",
              "      <td>19.52</td>\n",
              "      <td>1175.0</td>\n",
              "      <td>62.83</td>\n",
              "      <td>36.88</td>\n",
              "    </tr>\n",
              "  </tbody>\n",
              "</table>\n",
              "<p>2 rows × 77 columns</p>\n",
              "</div>"
            ]
          },
          "metadata": {},
          "execution_count": 17
        }
      ]
    },
    {
      "cell_type": "code",
      "source": [
        "data_b[clinical_b_columns].head(2)"
      ],
      "metadata": {
        "colab": {
          "base_uri": "https://localhost:8080/"
        },
        "outputId": "1ddf4143-0d62-432f-8e3e-1793b5716a4a",
        "id": "EbCcKAXZ1Qc9"
      },
      "execution_count": null,
      "outputs": [
        {
          "output_type": "execute_result",
          "data": {
            "text/plain": [
              "      АНТРОПОФИЗИОМЕТРИЯ                                                      \\\n",
              "№ п/п                Пол Возраст  Рост  Вес        ИМТ S тела систол. АД ЧСС   \n",
              "1                      1      68  1.60   52  20.312500   1.51        140  65   \n",
              "2                      0      50  1.84  115  33.967391   2.38        134  67   \n",
              "\n",
              "      ПСИХОСОЦИАЛЬНЫЕ ФАКТОРЫ         ХАРАКТЕРИСТИКА ОИМ  ... ИСХОДНАЯ ЭХОКГ  \\\n",
              "№ п/п                 Курение Давность болевого синдрома  ...         иММ ЛЖ   \n",
              "1                           0                          1  ...          137.5   \n",
              "2                           1                          1  ...          104.0   \n",
              "\n",
              "                                                           КЛИРЕНС 2        \n",
              "№ п/п   ЛП   ПП   ПЖ РМК Аневризма ЛЖ Тромбоз ЛЖ ИНЛС ЛЖ Креатинин 2   СКФ  \n",
              "1      2.8  2.7  2.6  -1            0          0  1.0625        58.0  95.0  \n",
              "2      3.7  3.7  3.0   1            0          0  1.0625       126.0  56.0  \n",
              "\n",
              "[2 rows x 71 columns]"
            ],
            "text/html": [
              "<div>\n",
              "<style scoped>\n",
              "    .dataframe tbody tr th:only-of-type {\n",
              "        vertical-align: middle;\n",
              "    }\n",
              "\n",
              "    .dataframe tbody tr th {\n",
              "        vertical-align: top;\n",
              "    }\n",
              "\n",
              "    .dataframe thead tr th {\n",
              "        text-align: left;\n",
              "    }\n",
              "</style>\n",
              "<table border=\"1\" class=\"dataframe\">\n",
              "  <thead>\n",
              "    <tr>\n",
              "      <th></th>\n",
              "      <th colspan=\"8\" halign=\"left\">АНТРОПОФИЗИОМЕТРИЯ</th>\n",
              "      <th>ПСИХОСОЦИАЛЬНЫЕ ФАКТОРЫ</th>\n",
              "      <th>ХАРАКТЕРИСТИКА ОИМ</th>\n",
              "      <th>...</th>\n",
              "      <th colspan=\"8\" halign=\"left\">ИСХОДНАЯ ЭХОКГ</th>\n",
              "      <th colspan=\"2\" halign=\"left\">КЛИРЕНС 2</th>\n",
              "    </tr>\n",
              "    <tr>\n",
              "      <th>№ п/п</th>\n",
              "      <th>Пол</th>\n",
              "      <th>Возраст</th>\n",
              "      <th>Рост</th>\n",
              "      <th>Вес</th>\n",
              "      <th>ИМТ</th>\n",
              "      <th>S тела</th>\n",
              "      <th>систол. АД</th>\n",
              "      <th>ЧСС</th>\n",
              "      <th>Курение</th>\n",
              "      <th>Давность болевого синдрома</th>\n",
              "      <th>...</th>\n",
              "      <th>иММ ЛЖ</th>\n",
              "      <th>ЛП</th>\n",
              "      <th>ПП</th>\n",
              "      <th>ПЖ</th>\n",
              "      <th>РМК</th>\n",
              "      <th>Аневризма ЛЖ</th>\n",
              "      <th>Тромбоз ЛЖ</th>\n",
              "      <th>ИНЛС ЛЖ</th>\n",
              "      <th>Креатинин 2</th>\n",
              "      <th>СКФ</th>\n",
              "    </tr>\n",
              "  </thead>\n",
              "  <tbody>\n",
              "    <tr>\n",
              "      <th>1</th>\n",
              "      <td>1</td>\n",
              "      <td>68</td>\n",
              "      <td>1.60</td>\n",
              "      <td>52</td>\n",
              "      <td>20.312500</td>\n",
              "      <td>1.51</td>\n",
              "      <td>140</td>\n",
              "      <td>65</td>\n",
              "      <td>0</td>\n",
              "      <td>1</td>\n",
              "      <td>...</td>\n",
              "      <td>137.5</td>\n",
              "      <td>2.8</td>\n",
              "      <td>2.7</td>\n",
              "      <td>2.6</td>\n",
              "      <td>-1</td>\n",
              "      <td>0</td>\n",
              "      <td>0</td>\n",
              "      <td>1.0625</td>\n",
              "      <td>58.0</td>\n",
              "      <td>95.0</td>\n",
              "    </tr>\n",
              "    <tr>\n",
              "      <th>2</th>\n",
              "      <td>0</td>\n",
              "      <td>50</td>\n",
              "      <td>1.84</td>\n",
              "      <td>115</td>\n",
              "      <td>33.967391</td>\n",
              "      <td>2.38</td>\n",
              "      <td>134</td>\n",
              "      <td>67</td>\n",
              "      <td>1</td>\n",
              "      <td>1</td>\n",
              "      <td>...</td>\n",
              "      <td>104.0</td>\n",
              "      <td>3.7</td>\n",
              "      <td>3.7</td>\n",
              "      <td>3.0</td>\n",
              "      <td>1</td>\n",
              "      <td>0</td>\n",
              "      <td>0</td>\n",
              "      <td>1.0625</td>\n",
              "      <td>126.0</td>\n",
              "      <td>56.0</td>\n",
              "    </tr>\n",
              "  </tbody>\n",
              "</table>\n",
              "<p>2 rows × 71 columns</p>\n",
              "</div>"
            ]
          },
          "metadata": {},
          "execution_count": 18
        }
      ]
    },
    {
      "cell_type": "markdown",
      "source": [
        "#### Dataset C"
      ],
      "metadata": {
        "id": "EzQUKc3Edx-y"
      }
    },
    {
      "cell_type": "code",
      "source": [
        "# download Dataset A from Github repo and read as excel file\n",
        "\n",
        "link_c = './HSE project/Data/cardio_c.xlsx'\n",
        "# link_c = 'https://github.com/KonstantinBurkin/personalized-medicine/blob/master/Data/%D0%91%D0%BB%D0%BE%D0%BA%20%D0%A1%C2%A0%D0%BE%D0%B1%D0%B5%D0%B7%D0%BB%D0%B8%D1%87.xlsx?raw=true'\n",
        "data_c = pd.read_excel(link_c ,header=[0,1], index_col=0)\n",
        "print('data_c raw shape: ', data_c.shape)"
      ],
      "metadata": {
        "colab": {
          "base_uri": "https://localhost:8080/"
        },
        "id": "3m3hyXLu6F3-",
        "outputId": "c8d31daf-aa39-4558-8e1e-bf5fb9c19f08"
      },
      "execution_count": 19,
      "outputs": [
        {
          "output_type": "stream",
          "name": "stdout",
          "text": [
            "data_c raw shape:  (129, 470)\n"
          ]
        }
      ]
    },
    {
      "cell_type": "code",
      "source": [
        "# Correcting data_c\n",
        "\n",
        "\n",
        "# replace NAs with -1\n",
        "data_c = data_c.fillna(-1)\n",
        "data_c = data_c.replace(' ',-1)\n",
        "# data_c.columns[(data_c.dtypes == object).values]\n",
        "# Modify 'Пол' feature: covert all string to lower format and convert to 0 and 1\n",
        "data_c['АНТРОПОФИЗИОМЕТРИЯ', 'Пол'] = data_c['АНТРОПОФИЗИОМЕТРИЯ', 'Пол'].replace([1, 2],[0,1])\n",
        "# Reencrypt psychological scales\n",
        "data_c['ПСИХОСОЦИАЛЬНЫЕ ФАКТОРЫ', 'Ситуативная тревожность Спилберга (баллы)'].replace(range(31), 0, inplace=True)\n",
        "data_c['ПСИХОСОЦИАЛЬНЫЕ ФАКТОРЫ', 'Ситуативная тревожность Спилберга (баллы)'].replace(range(31, 46), 1, inplace=True)\n",
        "data_c['ПСИХОСОЦИАЛЬНЫЕ ФАКТОРЫ', 'Ситуативная тревожность Спилберга (баллы)'].replace(range(46,100), 2, inplace=True)\n",
        "data_c['ПСИХОСОЦИАЛЬНЫЕ ФАКТОРЫ', 'Личная тревожность Спилберга (баллы)'].replace(range(31), 0, inplace=True)\n",
        "data_c['ПСИХОСОЦИАЛЬНЫЕ ФАКТОРЫ', 'Личная тревожность Спилберга (баллы)'].replace(range(31, 46), 1, inplace=True)\n",
        "data_c['ПСИХОСОЦИАЛЬНЫЕ ФАКТОРЫ', 'Личная тревожность Спилберга (баллы)'].replace(range(46,100), 2, inplace=True)\n",
        "data_c['ПСИХОСОЦИАЛЬНЫЕ ФАКТОРЫ', 'Опросник депрессии Бека (баллы)'].replace(range(10), 0, inplace=True)\n",
        "data_c['ПСИХОСОЦИАЛЬНЫЕ ФАКТОРЫ', 'Опросник депрессии Бека (баллы)'].replace(range(10, 20), 1, inplace=True)\n",
        "data_c['ПСИХОСОЦИАЛЬНЫЕ ФАКТОРЫ', 'Опросник депрессии Бека (баллы)'].replace(range(20,100), 2, inplace=True)\n",
        "data_c['ПСИХОСОЦИАЛЬНЫЕ ФАКТОРЫ', 'Шкала AUDIT (баллы)'].replace(range(16), 0, inplace=True)\n",
        "data_c['ПСИХОСОЦИАЛЬНЫЕ ФАКТОРЫ', 'Шкала AUDIT (баллы)'].replace(range(16, 100), 1, inplace=True)\n",
        "\n",
        "date_c = pd.to_datetime(data_c['АНТРОПОФИЗИОМЕТРИЯ', 'Дата госпитализации'], format='%Y-%m-%d %H:%M:%S')\n",
        "data_c.drop(columns=[('АНТРОПОФИЗИОМЕТРИЯ', 'Дата рождения'), ('АНТРОПОФИЗИОМЕТРИЯ', 'Дата госпитализации')], inplace=True)\n",
        "data_c.drop(columns=['ПЛАНОВАЯ ТЕРАПИЯ ПРИ ВЫПИСКЕ', 'ГОСПИТАЛЬНАЯ ТЕРАПИЯ'], inplace=True)\n"
      ],
      "metadata": {
        "id": "sUCK37pXeJVE"
      },
      "execution_count": 20,
      "outputs": []
    },
    {
      "cell_type": "code",
      "source": [],
      "metadata": {
        "id": "NkgakwUhEjqo"
      },
      "execution_count": null,
      "outputs": []
    },
    {
      "cell_type": "markdown",
      "source": [
        "##### how much NAs"
      ],
      "metadata": {
        "id": "9jG7kA4HEjx_"
      }
    },
    {
      "cell_type": "code",
      "source": [
        "data_c = data_c[get_combined_target_column(data_c) != -1]"
      ],
      "metadata": {
        "id": "QnrrM-9pEjyB"
      },
      "execution_count": null,
      "outputs": []
    },
    {
      "cell_type": "code",
      "source": [
        "data_c.shape"
      ],
      "metadata": {
        "colab": {
          "base_uri": "https://localhost:8080/"
        },
        "id": "10tXHKOFEjyB",
        "outputId": "36f675b4-46d1-46e9-8015-db00c15e18cc"
      },
      "execution_count": null,
      "outputs": [
        {
          "output_type": "execute_result",
          "data": {
            "text/plain": [
              "(129, 424)"
            ]
          },
          "metadata": {},
          "execution_count": 82
        }
      ]
    },
    {
      "cell_type": "code",
      "source": [
        "np.array(list((data_c == -1).sum()))"
      ],
      "metadata": {
        "colab": {
          "base_uri": "https://localhost:8080/"
        },
        "outputId": "a1b41c9d-d710-4f37-c855-957083e6959f",
        "id": "hUgYpVpVEjyB"
      },
      "execution_count": null,
      "outputs": [
        {
          "output_type": "execute_result",
          "data": {
            "text/plain": [
              "array([  0,   0,   0,   0,   0,   0,   0,   0,  60,  60,  60,  61,  10,\n",
              "         4,  50,  59,  99,  95,   0,   0,   1,   1,   1,   0,   0,   0,\n",
              "         0,   0,   0,   0,   0,   0,   0, 125, 125,   0,   0,   0,   0,\n",
              "         0,   0,   0,   0,   0,   0,   0,   1,   1,   1,  65,   0,   1,\n",
              "         0,   0,   0,   1,   0,   0,   0,   9,   9,   9,   9, 105, 105,\n",
              "       104, 104,   0,   0,   0,   0,   9,   9,   9,   9, 116, 116, 116,\n",
              "       116,   1,   1,   1,   1,  46,  46,  46,  46, 124, 124, 124, 124,\n",
              "       124, 124, 124,   1,   4,   6,  92,   3,   3,   3,   3,   0,   1,\n",
              "         0, 105,   0,   0,   0,   0,   0,   1,   1,   1,   1,   1,   1,\n",
              "         1,   1,   1,   1,   1,   1,  81,   1,   1,   3,   5,   1,   1,\n",
              "         1,   5,   5,  34,  34,  34,  34,  34,  34,  34,  34,  34,  34,\n",
              "        34,  34,  83,  34,  34,  34,  38,  34,  34,  35,   0, 128,   0,\n",
              "       129,   0, 128,   0,   0, 126,   0,   0,   0,  75,  95, 123, 123,\n",
              "       123, 123,  92,  97,  78, 124, 116,  99,  82,  77,  98,  78,  75,\n",
              "        88,  88, 120, 120, 117, 117,  74,  74,  78,  78, 123, 123, 123,\n",
              "       123,  76,  76,  74,  74, 122, 122, 121, 121,  83,  84,  84,  84,\n",
              "        87,  86, 126,  83,  85,  85,  88,  86,  86,  86,  86,  86,  86,\n",
              "        86,  86,  86,  86,  86,  86, 110,  86,  86,  87,  89,  86,  86,\n",
              "        86,  93,  93,  93,  91,  91,  91,  97,  97,  97, 123, 123, 123,\n",
              "        92,  92,  92,  96,  96,  96, 117, 117, 117, 127, 127, 127,  91,\n",
              "        91,  91, 104, 104, 104, 120, 120, 120, 121, 121, 120, 121,  75,\n",
              "       129,  75, 128,  75, 128,  75,  75, 107,  75,  75,  75,  58,  58,\n",
              "        70, 115, 115, 115, 116,  67,  67,  62, 114,  84,  93,  77,  64,\n",
              "        63,  56,  56,  84,  63,  60,  82,  82, 111, 111, 119, 119,  56,\n",
              "        56,  58,  58, 115, 115, 126, 126,  65,  65,  76,  76, 123, 123,\n",
              "       117, 117,  69,  70,  70,  70,  70,  70, 122,  69,  70,  70,  70,\n",
              "        76,  76,  76,  76,  76,  76,  76,  76,  77,  78,  78,  78, 117,\n",
              "        77,  78,  79,  78,  78,  82,  76,  80,  80,  80,  80,  80,  80,\n",
              "        81,  81,  81, 123, 123, 123,  80,  80,  80,  81,  81,  81, 116,\n",
              "       116, 116, 124, 124, 124,  80,  80,  80,  93,  93,  93, 122, 121,\n",
              "       121, 121, 122, 122, 122,   0, 129,   0, 122,   0, 125,   0, 126,\n",
              "         0,   0, 111,   0, 123,   0,   0,  63,  49,   3, 129, 126,  19,\n",
              "        19,  21,  21,  34,  34,  34,  34,  34])"
            ]
          },
          "metadata": {},
          "execution_count": 65
        }
      ]
    },
    {
      "cell_type": "code",
      "source": [
        "np.array(data_b.columns)"
      ],
      "metadata": {
        "colab": {
          "base_uri": "https://localhost:8080/"
        },
        "outputId": "80f1366b-0784-4b2a-aa0b-b1cb8a11f5a2",
        "id": "nj-OEAJrEjyC"
      },
      "execution_count": null,
      "outputs": [
        {
          "output_type": "execute_result",
          "data": {
            "text/plain": [
              "array([('АНТРОПОФИЗИОМЕТРИЯ', 'Пол'), ('АНТРОПОФИЗИОМЕТРИЯ', 'Возраст'),\n",
              "       ('АНТРОПОФИЗИОМЕТРИЯ', 'Дата госпитализации'),\n",
              "       ('АНТРОПОФИЗИОМЕТРИЯ', 'Рост'), ('АНТРОПОФИЗИОМЕТРИЯ', 'Вес'),\n",
              "       ('АНТРОПОФИЗИОМЕТРИЯ', 'ИМТ'), ('АНТРОПОФИЗИОМЕТРИЯ', 'S тела'),\n",
              "       ('АНТРОПОФИЗИОМЕТРИЯ', 'систол. АД'),\n",
              "       ('АНТРОПОФИЗИОМЕТРИЯ', 'ЧСС'),\n",
              "       ('ПСИХОСОЦИАЛЬНЫЕ ФАКТОРЫ', 'Психотип D'),\n",
              "       ('ПСИХОСОЦИАЛЬНЫЕ ФАКТОРЫ', 'Тревога HADS'),\n",
              "       ('ПСИХОСОЦИАЛЬНЫЕ ФАКТОРЫ', 'Депрессия HADS'),\n",
              "       ('ПСИХОСОЦИАЛЬНЫЕ ФАКТОРЫ', 'Длительность проживания на Севере, лет'),\n",
              "       ('ПСИХОСОЦИАЛЬНЫЕ ФАКТОРЫ', 'Курение'),\n",
              "       ('ПСИХОСОЦИАЛЬНЫЕ ФАКТОРЫ', 'Алкоголь'),\n",
              "       ('ПСИХОСОЦИАЛЬНЫЕ ФАКТОРЫ', 'Уровень образования'),\n",
              "       ('ПСИХОСОЦИАЛЬНЫЕ ФАКТОРЫ', 'Семейный статус'),\n",
              "       ('ХАРАКТЕРИСТИКА ОИМ', 'Давность болевого синдрома'),\n",
              "       ('ХАРАКТЕРИСТИКА ОИМ', 'Cегмент ST'),\n",
              "       ('ХАРАКТЕРИСТИКА ОИМ', 'Передняя стенка ЛЖ'),\n",
              "       ('ХАРАКТЕРИСТИКА ОИМ', 'Задняя    стенка ЛЖ'),\n",
              "       ('ХАРАКТЕРИСТИКА ОИМ', 'Боковая  стенка ЛЖ'),\n",
              "       ('ХАРАКТЕРИСТИКА ОИМ', 'Класс Killip'),\n",
              "       ('ХАРАКТЕРИСТИКА ОИМ', 'Риск GRACE, баллы'),\n",
              "       ('ХАРАКТЕРИСТИКА ОИМ', 'Риск GRACE   1-год, % '),\n",
              "       ('ХАРАКТЕРИСТИКА ОИМ', 'CRUSADE Bleeding Score'),\n",
              "       ('ХАРАКТЕРИСТИКА ОИМ', 'Risk of In-Hospital Major Bleeding,%'),\n",
              "       ('СОПУТСТВУЮЩИЕ ЗАБОЛЕВАНИЯ И СОСТОЯНИЯ', 'пост-ИМ'),\n",
              "       ('СОПУТСТВУЮЩИЕ ЗАБОЛЕВАНИЯ И СОСТОЯНИЯ', 'пост-ОНМК'),\n",
              "       ('СОПУТСТВУЮЩИЕ ЗАБОЛЕВАНИЯ И СОСТОЯНИЯ', 'пост-ВЧ-кровоизлияние'),\n",
              "       ('СОПУТСТВУЮЩИЕ ЗАБОЛЕВАНИЯ И СОСТОЯНИЯ', 'пост-стент'),\n",
              "       ('СОПУТСТВУЮЩИЕ ЗАБОЛЕВАНИЯ И СОСТОЯНИЯ', 'ФП'),\n",
              "       ('СОПУТСТВУЮЩИЕ ЗАБОЛЕВАНИЯ И СОСТОЯНИЯ', 'ГБ'),\n",
              "       ('СОПУТСТВУЮЩИЕ ЗАБОЛЕВАНИЯ И СОСТОЯНИЯ', 'СД'),\n",
              "       ('СОПУТСТВУЮЩИЕ ЗАБОЛЕВАНИЯ И СОСТОЯНИЯ', 'НТГ'),\n",
              "       ('СОПУТСТВУЮЩИЕ ЗАБОЛЕВАНИЯ И СОСТОЯНИЯ', 'МФА'),\n",
              "       ('СОПУТСТВУЮЩИЕ ЗАБОЛЕВАНИЯ И СОСТОЯНИЯ', 'Стадия ХБП по KDOQI /ERA'),\n",
              "       ('СОПУТСТВУЮЩИЕ ЗАБОЛЕВАНИЯ И СОСТОЯНИЯ', 'Ожирение, степень'),\n",
              "       ('СОПУТСТВУЮЩИЕ ЗАБОЛЕВАНИЯ И СОСТОЯНИЯ', 'ЯБЖ/ЭГ'),\n",
              "       ('СОПУТСТВУЮЩИЕ ЗАБОЛЕВАНИЯ И СОСТОЯНИЯ', 'Анемия, степень'),\n",
              "       ('СОПУТСТВУЮЩИЕ ЗАБОЛЕВАНИЯ И СОСТОЯНИЯ', 'Индекс коморбидности'),\n",
              "       ('СОПУТСТВУЮЩИЕ ЗАБОЛЕВАНИЯ И СОСТОЯНИЯ', 'Наследственность'),\n",
              "       ('ТЕРАПИЯ ДО ЧКВ', 'прием терапии до ИМ'),\n",
              "       ('ТЕРАПИЯ ДО ЧКВ', 'стандарт лечения ОКС ПСМП'),\n",
              "       ('ТЕРАПИЯ ДО ЧКВ', 'ДГТЛ'), ('ТЕРАПИЯ ДО ЧКВ', 'ГТЛ'),\n",
              "       ('КОРОНАРОАНГИОГРАФИЯ И РЕВАСКУЛЯРИЗАЦИЯ МИОКАРДА', 'SYNTAX Score I'),\n",
              "       ('КОРОНАРОАНГИОГРАФИЯ И РЕВАСКУЛЯРИЗАЦИЯ МИОКАРДА', 'TIMI в ИЗА'),\n",
              "       ('ТРОПОНИНЫ по стандарту ОКД', 'TnT-ПО, нг/л'),\n",
              "       ('ТРОПОНИНЫ по стандарту ОКД', 'ТnI-24, нг/мл'),\n",
              "       ('ЛАБОРАТОРНЫЕ ПОКАЗАТЕЛИ', 'Хсобщ, ммоль/л'),\n",
              "       ('ЛАБОРАТОРНЫЕ ПОКАЗАТЕЛИ', 'ЛПНП, ммоль/л'),\n",
              "       ('ЛАБОРАТОРНЫЕ ПОКАЗАТЕЛИ', 'ЛПВП, ммоль/л'),\n",
              "       ('ЛАБОРАТОРНЫЕ ПОКАЗАТЕЛИ', 'ТГц, ммоль/л'),\n",
              "       ('ЛАБОРАТОРНЫЕ ПОКАЗАТЕЛИ', 'Гемоглобин, г/л'),\n",
              "       ('ЛАБОРАТОРНЫЕ ПОКАЗАТЕЛИ', 'Глюкоза, ммоль/л'),\n",
              "       ('ЛАБОРАТОРНЫЕ ПОКАЗАТЕЛИ', 'Гематокрит, %'),\n",
              "       ('ЛАБОРАТОРНЫЕ ПОКАЗАТЕЛИ', 'Креатинин, мкмоль/л'),\n",
              "       ('ЛАБОРАТОРНЫЕ ПОКАЗАТЕЛИ', 'СКФ EPI'),\n",
              "       ('ЛАБОРАТОРНЫЕ ПОКАЗАТЕЛИ', 'АЛТ, U/L'),\n",
              "       ('ЛАБОРАТОРНЫЕ ПОКАЗАТЕЛИ', 'АСТ, U/L'),\n",
              "       ('ЛАБОРАТОРНЫЕ ПОКАЗАТЕЛИ', 'Билирубин, мкмоль/л'),\n",
              "       ('ИСХОДНАЯ ЭХОКГ', 'КДР ЛЖ '), ('ИСХОДНАЯ ЭХОКГ', 'КДО ЛЖ'),\n",
              "       ('ИСХОДНАЯ ЭХОКГ', 'иКДО ЛЖ'), ('ИСХОДНАЯ ЭХОКГ', 'КСР ЛЖ'),\n",
              "       ('ИСХОДНАЯ ЭХОКГ', 'КСО ЛЖ'), ('ИСХОДНАЯ ЭХОКГ', 'иКСО ЛЖ'),\n",
              "       ('ИСХОДНАЯ ЭХОКГ', 'УО ЛЖ'), ('ИСХОДНАЯ ЭХОКГ', 'ФВ ЛЖ'),\n",
              "       ('ИСХОДНАЯ ЭХОКГ', 'ТМЖП ЛЖ'), ('ИСХОДНАЯ ЭХОКГ', 'ТЗС ЛЖ'),\n",
              "       ('ИСХОДНАЯ ЭХОКГ', 'ММ ЛЖ'), ('ИСХОДНАЯ ЭХОКГ', 'иММ ЛЖ'),\n",
              "       ('ИСХОДНАЯ ЭХОКГ', 'E/A'), ('ИСХОДНАЯ ЭХОКГ', 'ЛП'),\n",
              "       ('ИСХОДНАЯ ЭХОКГ', 'ПП'), ('ИСХОДНАЯ ЭХОКГ', 'ПЖ'),\n",
              "       ('ИСХОДНАЯ ЭХОКГ', 'РМК'), ('ИСХОДНАЯ ЭХОКГ', 'Аневризма ЛЖ'),\n",
              "       ('ИСХОДНАЯ ЭХОКГ', 'Тромбоз ЛЖ'), ('ИСХОДНАЯ ЭХОКГ', 'ИНЛС ЛЖ'),\n",
              "       ('КЛИРЕНС 2', 'Креатинин 2'), ('КЛИРЕНС 2', 'СКФ'),\n",
              "       ('ПОВТОРНАЯ ЭХОКГ', 'КДР ЛЖ '), ('ПОВТОРНАЯ ЭХОКГ', 'КДО ЛЖ'),\n",
              "       ('ПОВТОРНАЯ ЭХОКГ', 'иКДО ЛЖ'), ('ПОВТОРНАЯ ЭХОКГ', 'КСР ЛЖ'),\n",
              "       ('ПОВТОРНАЯ ЭХОКГ', 'КСО ЛЖ'), ('ПОВТОРНАЯ ЭХОКГ', 'иКСО ЛЖ'),\n",
              "       ('ПОВТОРНАЯ ЭХОКГ', 'УО ЛЖ'), ('ПОВТОРНАЯ ЭХОКГ', 'ФВ ЛЖ'),\n",
              "       ('ПОВТОРНАЯ ЭХОКГ', 'ТМЖП ЛЖ'), ('ПОВТОРНАЯ ЭХОКГ', 'ТЗС ЛЖ'),\n",
              "       ('ПОВТОРНАЯ ЭХОКГ', 'ММ ЛЖ'), ('ПОВТОРНАЯ ЭХОКГ', 'иММ ЛЖ'),\n",
              "       ('ПОВТОРНАЯ ЭХОКГ', 'E/A'), ('ПОВТОРНАЯ ЭХОКГ', 'ЛП'),\n",
              "       ('ПОВТОРНАЯ ЭХОКГ', 'ПП'), ('ПОВТОРНАЯ ЭХОКГ', 'ПЖ'),\n",
              "       ('ПОВТОРНАЯ ЭХОКГ', 'РМК'), ('ПОВТОРНАЯ ЭХОКГ', 'Аневризма ЛЖ'),\n",
              "       ('ПОВТОРНАЯ ЭХОКГ', 'Тромбоз ЛЖ'), ('ПОВТОРНАЯ ЭХОКГ', 'ИНЛС ЛЖ'),\n",
              "       ('ГОСПИТАЛЬНЫЕ КЛИНИЧЕСКИЕ ИСХОДЫ', 'Смерть'),\n",
              "       ('ГОСПИТАЛЬНЫЕ КЛИНИЧЕСКИЕ ИСХОДЫ', 'Дата'),\n",
              "       ('ГОСПИТАЛЬНЫЕ КЛИНИЧЕСКИЕ ИСХОДЫ', 'Реинфаркт'),\n",
              "       ('ГОСПИТАЛЬНЫЕ КЛИНИЧЕСКИЕ ИСХОДЫ', 'Дата.1'),\n",
              "       ('ГОСПИТАЛЬНЫЕ КЛИНИЧЕСКИЕ ИСХОДЫ', 'Тромбоз стента/ шунта'),\n",
              "       ('ГОСПИТАЛЬНЫЕ КЛИНИЧЕСКИЕ ИСХОДЫ', 'Дата.2'),\n",
              "       ('ГОСПИТАЛЬНЫЕ КЛИНИЧЕСКИЕ ИСХОДЫ', 'НРС'),\n",
              "       ('ГОСПИТАЛЬНЫЕ КЛИНИЧЕСКИЕ ИСХОДЫ', 'Повторная реваскуляризация (ЧКВ/АКШ)'),\n",
              "       ('ГОСПИТАЛЬНЫЕ КЛИНИЧЕСКИЕ ИСХОДЫ', 'Дата.3'),\n",
              "       ('ГОСПИТАЛЬНЫЕ КЛИНИЧЕСКИЕ ИСХОДЫ', 'ОНМК'),\n",
              "       ('ГОСПИТАЛЬНЫЕ КЛИНИЧЕСКИЕ ИСХОДЫ', 'Дата.4'),\n",
              "       ('ГОСПИТАЛЬНЫЕ КЛИНИЧЕСКИЕ ИСХОДЫ', 'ВЧ-кровотечение'),\n",
              "       ('ГОСПИТАЛЬНЫЕ КЛИНИЧЕСКИЕ ИСХОДЫ', 'Дата.5'),\n",
              "       ('ГОСПИТАЛЬНЫЕ КЛИНИЧЕСКИЕ ИСХОДЫ', 'ЖКТ-кровотечение'),\n",
              "       ('ГОСПИТАЛЬНЫЕ КЛИНИЧЕСКИЕ ИСХОДЫ', 'Дата.6'),\n",
              "       ('КОНТРОЛЬ (1-4 месяца)', 'ВАРИАНТ КОНТАКТА С ВРАЧОМ'),\n",
              "       ('ХАРАКТЕРИСТИКА ИБС', 'ФК'),\n",
              "       ('Хроническая сердечная недостаточность', 'ФК по NYHA'),\n",
              "       ('Хроническая сердечная недостаточность', 'НК'),\n",
              "       ('ЛАБОРАТОРНЫЕ ПОКАЗАТЕЛИ', 'ХСобщ'),\n",
              "       ('ЛАБОРАТОРНЫЕ ПОКАЗАТЕЛИ', 'ЛПНП'),\n",
              "       ('ЛАБОРАТОРНЫЕ ПОКАЗАТЕЛИ', 'ЛПВП'),\n",
              "       ('ЛАБОРАТОРНЫЕ ПОКАЗАТЕЛИ', 'ЛПОНП'),\n",
              "       ('ЛАБОРАТОРНЫЕ ПОКАЗАТЕЛИ', 'ТГц'),\n",
              "       ('ЛАБОРАТОРНЫЕ ПОКАЗАТЕЛИ', 'Гемоглобин'),\n",
              "       ('ЛАБОРАТОРНЫЕ ПОКАЗАТЕЛИ', 'Глюкоза'),\n",
              "       ('ЛАБОРАТОРНЫЕ ПОКАЗАТЕЛИ', 'HbA1c'),\n",
              "       ('ЛАБОРАТОРНЫЕ ПОКАЗАТЕЛИ', 'Креатинин'),\n",
              "       ('ЛАБОРАТОРНЫЕ ПОКАЗАТЕЛИ', 'АЛТ'),\n",
              "       ('ЛАБОРАТОРНЫЕ ПОКАЗАТЕЛИ', 'АСТ'),\n",
              "       ('ЛАБОРАТОРНЫЕ ПОКАЗАТЕЛИ', 'Билирубин'),\n",
              "       ('ЭХОКГ (КОНТРОЛЬ)', 'КДР ЛЖ '), ('ЭХОКГ (КОНТРОЛЬ)', 'КДО ЛЖ'),\n",
              "       ('ЭХОКГ (КОНТРОЛЬ)', 'иКДО ЛЖ'), ('ЭХОКГ (КОНТРОЛЬ)', 'КСР ЛЖ'),\n",
              "       ('ЭХОКГ (КОНТРОЛЬ)', 'КСО ЛЖ'), ('ЭХОКГ (КОНТРОЛЬ)', 'иКСО ЛЖ'),\n",
              "       ('ЭХОКГ (КОНТРОЛЬ)', 'УО ЛЖ'), ('ЭХОКГ (КОНТРОЛЬ)', 'ФВ ЛЖ'),\n",
              "       ('ЭХОКГ (КОНТРОЛЬ)', 'ТМЖП ЛЖ'), ('ЭХОКГ (КОНТРОЛЬ)', 'ТЗС ЛЖ'),\n",
              "       ('ЭХОКГ (КОНТРОЛЬ)', 'ММ ЛЖ'), ('ЭХОКГ (КОНТРОЛЬ)', 'иММ ЛЖ'),\n",
              "       ('ЭХОКГ (КОНТРОЛЬ)', 'E/A'), ('ЭХОКГ (КОНТРОЛЬ)', 'ЛП'),\n",
              "       ('ЭХОКГ (КОНТРОЛЬ)', 'ПП'), ('ЭХОКГ (КОНТРОЛЬ)', 'ПЖ'),\n",
              "       ('ЭХОКГ (КОНТРОЛЬ)', 'РМК'), ('ЭХОКГ (КОНТРОЛЬ)', 'Аневризма ЛЖ'),\n",
              "       ('ЭХОКГ (КОНТРОЛЬ)', 'Тромбоз ЛЖ'),\n",
              "       ('ЭХОКГ (КОНТРОЛЬ)', 'ИНЛС ЛЖ'),\n",
              "       ('ИСХОД', 'Месяцы             (4 и далее)'),\n",
              "       ('ХАРАКТЕРИСТИКА ИБС', 'ФК.1'),\n",
              "       ('Хроническая сердечная недостаточность', 'ФК по NYHA.1'),\n",
              "       ('Хроническая сердечная недостаточность', 'НК.1'),\n",
              "       ('СОПУТСТВУЮЩИЕ ЗАБОЛЕВАНИЯ И СОСТОЯНИЯ', 'ГБ, степень адаптации к нормальному АД'),\n",
              "       ('СОПУТСТВУЮЩИЕ ЗАБОЛЕВАНИЯ И СОСТОЯНИЯ', 'СД, компенсация'),\n",
              "       ('СОПУТСТВУЮЩИЕ ЗАБОЛЕВАНИЯ И СОСТОЯНИЯ', 'ХБП'),\n",
              "       ('СОПУТСТВУЮЩИЕ ЗАБОЛЕВАНИЯ И СОСТОЯНИЯ', 'Стадия по KDOQI/ERA'),\n",
              "       ('СОПУТСТВУЮЩИЕ ЗАБОЛЕВАНИЯ И СОСТОЯНИЯ', 'СКФ EPI'),\n",
              "       ('СОПУТСТВУЮЩИЕ ЗАБОЛЕВАНИЯ И СОСТОЯНИЯ', 'Ожирение, степень.1'),\n",
              "       ('СОПУТСТВУЮЩИЕ ЗАБОЛЕВАНИЯ И СОСТОЯНИЯ', 'МФА.1'),\n",
              "       ('СОПУТСТВУЮЩИЕ ЗАБОЛЕВАНИЯ И СОСТОЯНИЯ', 'ИМТ'),\n",
              "       ('СОПУТСТВУЮЩИЕ ЗАБОЛЕВАНИЯ И СОСТОЯНИЯ', 'S тела'),\n",
              "       ('СОПУТСТВУЮЩИЕ ЗАБОЛЕВАНИЯ И СОСТОЯНИЯ', 'Анемия, степень.1'),\n",
              "       ('СОПУТСТВУЮЩИЕ ЗАБОЛЕВАНИЯ И СОСТОЯНИЯ', 'Курение'),\n",
              "       ('ЛАБОРАТОРНЫЕ ПОКАЗАТЕЛИ', 'ХСобщ.1'),\n",
              "       ('ЛАБОРАТОРНЫЕ ПОКАЗАТЕЛИ', 'ЛПНП.1'),\n",
              "       ('ЛАБОРАТОРНЫЕ ПОКАЗАТЕЛИ', 'ЛПВП.1'),\n",
              "       ('ЛАБОРАТОРНЫЕ ПОКАЗАТЕЛИ', 'ТГц.1'),\n",
              "       ('ЛАБОРАТОРНЫЕ ПОКАЗАТЕЛИ', 'Гемоглобин.1'),\n",
              "       ('ЛАБОРАТОРНЫЕ ПОКАЗАТЕЛИ', 'Глюкоза.1'),\n",
              "       ('ЛАБОРАТОРНЫЕ ПОКАЗАТЕЛИ', 'HbA1c.1'),\n",
              "       ('ЛАБОРАТОРНЫЕ ПОКАЗАТЕЛИ', 'Креатинин.1'),\n",
              "       ('ЛАБОРАТОРНЫЕ ПОКАЗАТЕЛИ', 'АЛТ.1'),\n",
              "       ('ЛАБОРАТОРНЫЕ ПОКАЗАТЕЛИ', 'АСТ.1'),\n",
              "       ('ЛАБОРАТОРНЫЕ ПОКАЗАТЕЛИ', 'Билирубин.1'),\n",
              "       ('ЭХОКГ (ИСХОД)', 'КДР ЛЖ '), ('ЭХОКГ (ИСХОД)', 'КДО ЛЖ'),\n",
              "       ('ЭХОКГ (ИСХОД)', 'иКДО ЛЖ'), ('ЭХОКГ (ИСХОД)', 'КСР ЛЖ'),\n",
              "       ('ЭХОКГ (ИСХОД)', 'КСО ЛЖ'), ('ЭХОКГ (ИСХОД)', 'иКСО ЛЖ'),\n",
              "       ('ЭХОКГ (ИСХОД)', 'УО ЛЖ'), ('ЭХОКГ (ИСХОД)', 'ФВ ЛЖ'),\n",
              "       ('ЭХОКГ (ИСХОД)', 'ТМЖП ЛЖ'), ('ЭХОКГ (ИСХОД)', 'ТЗС ЛЖ'),\n",
              "       ('ЭХОКГ (ИСХОД)', 'ММ ЛЖ'), ('ЭХОКГ (ИСХОД)', 'иММ ЛЖ'),\n",
              "       ('ЭХОКГ (ИСХОД)', 'E/A'), ('ЭХОКГ (ИСХОД)', 'ЛП'),\n",
              "       ('ЭХОКГ (ИСХОД)', 'ПП'), ('ЭХОКГ (ИСХОД)', 'ПЖ'),\n",
              "       ('ЭХОКГ (ИСХОД)', 'Аневризма ЛЖ'), ('ЭХОКГ (ИСХОД)', 'Тромбоз ЛЖ'),\n",
              "       ('ЭХОКГ (ИСХОД)', 'РМК'), ('ЭХОКГ (ИСХОД)', 'ИНЛС ЛЖ'),\n",
              "       ('КОНЕЧНЫЕ ИСХОДЫ НАБЛЮДЕНИЯ', 'Некардиальная смерть'),\n",
              "       ('КОНЕЧНЫЕ ИСХОДЫ НАБЛЮДЕНИЯ', 'Дата'),\n",
              "       ('КОНЕЧНЫЕ ИСХОДЫ НАБЛЮДЕНИЯ', 'Сердечно-сосудистая смерть'),\n",
              "       ('КОНЕЧНЫЕ ИСХОДЫ НАБЛЮДЕНИЯ', 'Дата.1'),\n",
              "       ('КОНЕЧНЫЕ ИСХОДЫ НАБЛЮДЕНИЯ', 'Реинфаркт'),\n",
              "       ('КОНЕЧНЫЕ ИСХОДЫ НАБЛЮДЕНИЯ', 'Дата.2'),\n",
              "       ('КОНЕЧНЫЕ ИСХОДЫ НАБЛЮДЕНИЯ', 'Тромбоз стента/ шунта'),\n",
              "       ('КОНЕЧНЫЕ ИСХОДЫ НАБЛЮДЕНИЯ', 'Дата.3'),\n",
              "       ('КОНЕЧНЫЕ ИСХОДЫ НАБЛЮДЕНИЯ', 'НРС'),\n",
              "       ('КОНЕЧНЫЕ ИСХОДЫ НАБЛЮДЕНИЯ', 'Повторная реваскуляризация'),\n",
              "       ('КОНЕЧНЫЕ ИСХОДЫ НАБЛЮДЕНИЯ', 'Дата.4'),\n",
              "       ('КОНЕЧНЫЕ ИСХОДЫ НАБЛЮДЕНИЯ', 'Повторная реваскуляризация.1'),\n",
              "       ('КОНЕЧНЫЕ ИСХОДЫ НАБЛЮДЕНИЯ', 'Дата.5'),\n",
              "       ('КОНЕЧНЫЕ ИСХОДЫ НАБЛЮДЕНИЯ', 'Повторная реваскуляризация.2'),\n",
              "       ('КОНЕЧНЫЕ ИСХОДЫ НАБЛЮДЕНИЯ', 'Дата.6'),\n",
              "       ('КОНЕЧНЫЕ ИСХОДЫ НАБЛЮДЕНИЯ', 'ОНМК'),\n",
              "       ('КОНЕЧНЫЕ ИСХОДЫ НАБЛЮДЕНИЯ', 'Дата.7'),\n",
              "       ('КОНЕЧНЫЕ ИСХОДЫ НАБЛЮДЕНИЯ', 'ВЧ-кровотечение'),\n",
              "       ('КОНЕЧНЫЕ ИСХОДЫ НАБЛЮДЕНИЯ', 'Дата.8'),\n",
              "       ('КОНЕЧНЫЕ ИСХОДЫ НАБЛЮДЕНИЯ', 'ЖКТ-кровотечение'),\n",
              "       ('КОНЕЧНЫЕ ИСХОДЫ НАБЛЮДЕНИЯ', 'Дата.9'),\n",
              "       ('КОНЕЧНЫЕ ИСХОДЫ НАБЛЮДЕНИЯ', 'Симптомная стенокардия'),\n",
              "       ('КОНЕЧНЫЕ ИСХОДЫ НАБЛЮДЕНИЯ', 'Симптомная СН'),\n",
              "       ('Связь с пациентом', 'дозвон'), ('Связь с пациентом', 'недозвон'),\n",
              "       ('БИОМАРКЕРЫ БЛОК Е', 'БСЖК-1'), ('БИОМАРКЕРЫ БЛОК Е', 'БСЖК-2'),\n",
              "       ('БИОМАРКЕРЫ БЛОК Е', 'hsТnT-2, пг/мл'),\n",
              "       ('БИОМАРКЕРЫ БЛОК Е', 'hsТnT-2, пг/мл.1'),\n",
              "       ('БИОМАРКЕРЫ БЛОК Е', 'MG-1, нг/мл'),\n",
              "       ('БИОМАРКЕРЫ БЛОК Е', 'MG-2, нг/мл')], dtype=object)"
            ]
          },
          "metadata": {},
          "execution_count": 51
        }
      ]
    },
    {
      "cell_type": "code",
      "source": [
        "features = pd.DataFrame(np.stack([np.array(data_c.columns), np.array(list((data_c == -1).sum()))], axis=1), columns=['features', 'NAs'])"
      ],
      "metadata": {
        "id": "vyVxFJBBEjyC"
      },
      "execution_count": null,
      "outputs": []
    },
    {
      "cell_type": "code",
      "source": [
        "features['patiens_with_combined'] = 129"
      ],
      "metadata": {
        "id": "_fY0qbJJEjyC"
      },
      "execution_count": null,
      "outputs": []
    },
    {
      "cell_type": "code",
      "source": [
        "features['ratio'] = features['NAs'] / 129"
      ],
      "metadata": {
        "id": "ag8uxmkBEjyC"
      },
      "execution_count": null,
      "outputs": []
    },
    {
      "cell_type": "code",
      "source": [
        "features.to_excel('data_c.xlsx')"
      ],
      "metadata": {
        "id": "fHT5mDdoEjyD"
      },
      "execution_count": null,
      "outputs": []
    },
    {
      "cell_type": "code",
      "source": [],
      "metadata": {
        "id": "ghrYC8zMEjyD"
      },
      "execution_count": null,
      "outputs": []
    },
    {
      "cell_type": "markdown",
      "source": [
        "##### contunue"
      ],
      "metadata": {
        "id": "KtltChwwEjyD"
      }
    },
    {
      "cell_type": "code",
      "source": [
        "# Find columns\n",
        "\n",
        "\n",
        "# cols with features from first discharge and biomarkers\n",
        "cols_of_interest = list(data_c.columns[:153]) + list(data_c.columns[419:424])\n",
        "\n",
        "# drop features that were obtained at first discharge and biomarkers that have more than 20% of NAs\n",
        "cols_with_NAs = [col for col in cols_of_interest[:-5] if (data_c[col] == -1).sum() > 0.2*data_c.shape[0]]\n",
        "# cols_of_interest = [col for col in cols_of_interest if col not in cols_with_NAs]\n",
        "# continuous_cols = [col for col in cols_of_interest if (len((data_c[col].unique())) > 9)]\n",
        "# categorical = [col for col in cols_of_interest if (len((data_c[col].unique())) <= 9)]"
      ],
      "metadata": {
        "id": "hM4yDebUDLhE"
      },
      "execution_count": 22,
      "outputs": []
    },
    {
      "cell_type": "code",
      "source": [
        "# For subsets\n",
        "\n",
        "\n",
        "biomarkers_c_columns = cols_of_interest[-5:]\n",
        "clinical_c_columns = cols_of_interest[:-5]\n",
        "clinical_and_biomarkers_c_columns = clinical_c_columns + biomarkers_c_columns"
      ],
      "metadata": {
        "id": "htsUAHbsnBmi"
      },
      "execution_count": null,
      "outputs": []
    },
    {
      "cell_type": "markdown",
      "source": [
        "#### Dataset D"
      ],
      "metadata": {
        "id": "I5gN4v7Rf1Gr"
      }
    },
    {
      "cell_type": "code",
      "source": [
        "# download Dataset A from Github repo and read as excel file\n",
        "\n",
        "link_d = './HSE project/Data/cardio_d.xlsx'\n",
        "data_d = pd.read_excel(link_d ,header=[0,1], index_col=0)\n",
        "print('data_d raw shape: ', data_d.shape)"
      ],
      "metadata": {
        "colab": {
          "base_uri": "https://localhost:8080/"
        },
        "outputId": "c8d31daf-aa39-4558-8e1e-bf5fb9c19f08",
        "id": "WkDTuorOf1Gs"
      },
      "execution_count": null,
      "outputs": [
        {
          "output_type": "stream",
          "name": "stdout",
          "text": [
            "data_c raw shape:  (129, 470)\n"
          ]
        }
      ]
    },
    {
      "cell_type": "markdown",
      "source": [
        "#### Сombined Dataset ABC"
      ],
      "metadata": {
        "id": "3ifjgUqCfC7d"
      }
    },
    {
      "cell_type": "code",
      "source": [
        "# merge clinicals of all three datasets\n",
        "data_abc = pd.concat([data_a, data_b, data_c], axis=0)\n",
        "data_abc.dropna(axis=1, inplace=True)\n",
        "\n",
        "cols_of_interest = list(data_abc.columns)[:56]"
      ],
      "metadata": {
        "id": "lZhoGHHqfUx4"
      },
      "execution_count": null,
      "outputs": []
    },
    {
      "cell_type": "markdown",
      "source": [
        "##### how much NAs"
      ],
      "metadata": {
        "id": "MOPiq9PuOUKO"
      }
    },
    {
      "cell_type": "code",
      "source": [
        "data_abc = data_abc[get_combined_target_column(data_abc) != -1]"
      ],
      "metadata": {
        "id": "7Zlpehu7OUKP"
      },
      "execution_count": null,
      "outputs": []
    },
    {
      "cell_type": "code",
      "source": [
        "data_abc.shape"
      ],
      "metadata": {
        "colab": {
          "base_uri": "https://localhost:8080/"
        },
        "outputId": "5a6de785-374a-40be-aa2b-3645b95c1dc7",
        "id": "COZBUcwcOUKP"
      },
      "execution_count": null,
      "outputs": [
        {
          "output_type": "execute_result",
          "data": {
            "text/plain": [
              "(423, 144)"
            ]
          },
          "metadata": {},
          "execution_count": 93
        }
      ]
    },
    {
      "cell_type": "code",
      "source": [
        "np.array(list((data_abc == -1).sum()))"
      ],
      "metadata": {
        "id": "vCJf7SaQOUKQ"
      },
      "execution_count": null,
      "outputs": []
    },
    {
      "cell_type": "code",
      "source": [
        "np.array(data_abc.columns)"
      ],
      "metadata": {
        "id": "ugz3vkPKOUKQ"
      },
      "execution_count": null,
      "outputs": []
    },
    {
      "cell_type": "code",
      "source": [
        "features = pd.DataFrame(np.stack([np.array(data_abc.columns), np.array(list((data_abc == -1).sum()))], axis=1), columns=['features', 'NAs'])"
      ],
      "metadata": {
        "id": "Q_zOcNRXOUKQ"
      },
      "execution_count": null,
      "outputs": []
    },
    {
      "cell_type": "code",
      "source": [
        "features['patiens_with_combined'] = 423"
      ],
      "metadata": {
        "id": "msno2Jd9OUKQ"
      },
      "execution_count": null,
      "outputs": []
    },
    {
      "cell_type": "code",
      "source": [
        "features['ratio'] = features['NAs'] / 423 *100"
      ],
      "metadata": {
        "id": "TCsG9w9xOUKQ"
      },
      "execution_count": null,
      "outputs": []
    },
    {
      "cell_type": "code",
      "source": [
        "features.to_excel('data_abc.xlsx')"
      ],
      "metadata": {
        "id": "XhrTZVlXOUKQ"
      },
      "execution_count": null,
      "outputs": []
    },
    {
      "cell_type": "code",
      "source": [],
      "metadata": {
        "id": "iml3MolROUKQ"
      },
      "execution_count": null,
      "outputs": []
    },
    {
      "cell_type": "markdown",
      "source": [
        "##### contunue"
      ],
      "metadata": {
        "id": "a6iWAG6zOUKQ"
      }
    },
    {
      "cell_type": "code",
      "source": [
        "list(data_abc.columns)"
      ],
      "metadata": {
        "colab": {
          "base_uri": "https://localhost:8080/"
        },
        "id": "O5CS_dVhN0NA",
        "outputId": "00d04d60-870c-4395-8d0b-4ede5d943488"
      },
      "execution_count": null,
      "outputs": [
        {
          "output_type": "execute_result",
          "data": {
            "text/plain": [
              "[('АНТРОПОФИЗИОМЕТРИЯ', 'Пол'),\n",
              " ('АНТРОПОФИЗИОМЕТРИЯ', 'Возраст'),\n",
              " ('АНТРОПОФИЗИОМЕТРИЯ', 'Рост'),\n",
              " ('АНТРОПОФИЗИОМЕТРИЯ', 'Вес'),\n",
              " ('АНТРОПОФИЗИОМЕТРИЯ', 'ИМТ'),\n",
              " ('АНТРОПОФИЗИОМЕТРИЯ', 'S тела'),\n",
              " ('АНТРОПОФИЗИОМЕТРИЯ', 'систол. АД'),\n",
              " ('АНТРОПОФИЗИОМЕТРИЯ', 'ЧСС'),\n",
              " ('ПСИХОСОЦИАЛЬНЫЕ ФАКТОРЫ', 'Психотип D'),\n",
              " ('ПСИХОСОЦИАЛЬНЫЕ ФАКТОРЫ', 'Длительность проживания на Севере, лет'),\n",
              " ('ПСИХОСОЦИАЛЬНЫЕ ФАКТОРЫ', 'Курение'),\n",
              " ('ПСИХОСОЦИАЛЬНЫЕ ФАКТОРЫ', 'Алкоголь'),\n",
              " ('ПСИХОСОЦИАЛЬНЫЕ ФАКТОРЫ', 'Уровень образования'),\n",
              " ('ПСИХОСОЦИАЛЬНЫЕ ФАКТОРЫ', 'Семейный статус'),\n",
              " ('ХАРАКТЕРИСТИКА ОИМ', 'Давность болевого синдрома'),\n",
              " ('ХАРАКТЕРИСТИКА ОИМ', 'Cегмент ST'),\n",
              " ('ХАРАКТЕРИСТИКА ОИМ', 'Передняя стенка ЛЖ'),\n",
              " ('ХАРАКТЕРИСТИКА ОИМ', 'Боковая  стенка ЛЖ'),\n",
              " ('ХАРАКТЕРИСТИКА ОИМ', 'Класс Killip'),\n",
              " ('ХАРАКТЕРИСТИКА ОИМ', 'Риск GRACE, баллы'),\n",
              " ('ХАРАКТЕРИСТИКА ОИМ', 'CRUSADE Bleeding Score'),\n",
              " ('ХАРАКТЕРИСТИКА ОИМ', 'Risk of In-Hospital Major Bleeding,%'),\n",
              " ('СОПУТСТВУЮЩИЕ ЗАБОЛЕВАНИЯ И СОСТОЯНИЯ', 'пост-ИМ'),\n",
              " ('СОПУТСТВУЮЩИЕ ЗАБОЛЕВАНИЯ И СОСТОЯНИЯ', 'пост-ОНМК'),\n",
              " ('СОПУТСТВУЮЩИЕ ЗАБОЛЕВАНИЯ И СОСТОЯНИЯ', 'пост-ВЧ-кровоизлияние'),\n",
              " ('СОПУТСТВУЮЩИЕ ЗАБОЛЕВАНИЯ И СОСТОЯНИЯ', 'пост-стент'),\n",
              " ('СОПУТСТВУЮЩИЕ ЗАБОЛЕВАНИЯ И СОСТОЯНИЯ', 'ФП'),\n",
              " ('СОПУТСТВУЮЩИЕ ЗАБОЛЕВАНИЯ И СОСТОЯНИЯ', 'ГБ'),\n",
              " ('СОПУТСТВУЮЩИЕ ЗАБОЛЕВАНИЯ И СОСТОЯНИЯ', 'СД'),\n",
              " ('СОПУТСТВУЮЩИЕ ЗАБОЛЕВАНИЯ И СОСТОЯНИЯ', 'НТГ'),\n",
              " ('СОПУТСТВУЮЩИЕ ЗАБОЛЕВАНИЯ И СОСТОЯНИЯ', 'МФА'),\n",
              " ('СОПУТСТВУЮЩИЕ ЗАБОЛЕВАНИЯ И СОСТОЯНИЯ', 'Стадия ХБП по KDOQI /ERA'),\n",
              " ('СОПУТСТВУЮЩИЕ ЗАБОЛЕВАНИЯ И СОСТОЯНИЯ', 'Ожирение, степень'),\n",
              " ('СОПУТСТВУЮЩИЕ ЗАБОЛЕВАНИЯ И СОСТОЯНИЯ', 'ЯБЖ/ЭГ'),\n",
              " ('СОПУТСТВУЮЩИЕ ЗАБОЛЕВАНИЯ И СОСТОЯНИЯ', 'Анемия, степень'),\n",
              " ('СОПУТСТВУЮЩИЕ ЗАБОЛЕВАНИЯ И СОСТОЯНИЯ', 'Индекс коморбидности'),\n",
              " ('СОПУТСТВУЮЩИЕ ЗАБОЛЕВАНИЯ И СОСТОЯНИЯ', 'Наследственность'),\n",
              " ('ТРОПОНИНЫ по стандарту ОКД', 'TnT-ПО, нг/л'),\n",
              " ('ЛАБОРАТОРНЫЕ ПОКАЗАТЕЛИ', 'Хсобщ, ммоль/л'),\n",
              " ('ЛАБОРАТОРНЫЕ ПОКАЗАТЕЛИ', 'ЛПНП, ммоль/л'),\n",
              " ('ЛАБОРАТОРНЫЕ ПОКАЗАТЕЛИ', 'ЛПВП, ммоль/л'),\n",
              " ('ЛАБОРАТОРНЫЕ ПОКАЗАТЕЛИ', 'ТГц, ммоль/л'),\n",
              " ('ЛАБОРАТОРНЫЕ ПОКАЗАТЕЛИ', 'Гемоглобин, г/л'),\n",
              " ('ЛАБОРАТОРНЫЕ ПОКАЗАТЕЛИ', 'Глюкоза, ммоль/л'),\n",
              " ('ЛАБОРАТОРНЫЕ ПОКАЗАТЕЛИ', 'Гематокрит, %'),\n",
              " ('ЛАБОРАТОРНЫЕ ПОКАЗАТЕЛИ', 'Креатинин, мкмоль/л'),\n",
              " ('ЛАБОРАТОРНЫЕ ПОКАЗАТЕЛИ', 'СКФ EPI'),\n",
              " ('ЛАБОРАТОРНЫЕ ПОКАЗАТЕЛИ', 'АЛТ, U/L'),\n",
              " ('ЛАБОРАТОРНЫЕ ПОКАЗАТЕЛИ', 'АСТ, U/L'),\n",
              " ('ЛАБОРАТОРНЫЕ ПОКАЗАТЕЛИ', 'Билирубин, мкмоль/л'),\n",
              " ('ИСХОДНАЯ ЭХОКГ', 'КДР ЛЖ '),\n",
              " ('ИСХОДНАЯ ЭХОКГ', 'КДО ЛЖ'),\n",
              " ('ИСХОДНАЯ ЭХОКГ', 'иКДО ЛЖ'),\n",
              " ('ИСХОДНАЯ ЭХОКГ', 'КСР ЛЖ'),\n",
              " ('ИСХОДНАЯ ЭХОКГ', 'КСО ЛЖ'),\n",
              " ('ИСХОДНАЯ ЭХОКГ', 'иКСО ЛЖ'),\n",
              " ('ИСХОДНАЯ ЭХОКГ', 'УО ЛЖ'),\n",
              " ('ИСХОДНАЯ ЭХОКГ', 'ФВ ЛЖ'),\n",
              " ('ИСХОДНАЯ ЭХОКГ', 'ТМЖП ЛЖ'),\n",
              " ('ИСХОДНАЯ ЭХОКГ', 'ТЗС ЛЖ'),\n",
              " ('ИСХОДНАЯ ЭХОКГ', 'ММ ЛЖ'),\n",
              " ('ИСХОДНАЯ ЭХОКГ', 'иММ ЛЖ'),\n",
              " ('ИСХОДНАЯ ЭХОКГ', 'ЛП'),\n",
              " ('ИСХОДНАЯ ЭХОКГ', 'ПП'),\n",
              " ('ИСХОДНАЯ ЭХОКГ', 'ПЖ'),\n",
              " ('ИСХОДНАЯ ЭХОКГ', 'РМК'),\n",
              " ('ИСХОДНАЯ ЭХОКГ', 'Аневризма ЛЖ'),\n",
              " ('ИСХОДНАЯ ЭХОКГ', 'Тромбоз ЛЖ'),\n",
              " ('ИСХОДНАЯ ЭХОКГ', 'ИНЛС ЛЖ'),\n",
              " ('ИСХОД', 'Месяцы             (4 и далее)'),\n",
              " ('ХАРАКТЕРИСТИКА ИБС', 'ФК'),\n",
              " ('Хроническая сердечная недостаточность', 'ФК по NYHA'),\n",
              " ('Хроническая сердечная недостаточность', 'НК'),\n",
              " ('СОПУТСТВУЮЩИЕ ЗАБОЛЕВАНИЯ И СОСТОЯНИЯ', 'СД, компенсация'),\n",
              " ('СОПУТСТВУЮЩИЕ ЗАБОЛЕВАНИЯ И СОСТОЯНИЯ', 'ХБП'),\n",
              " ('СОПУТСТВУЮЩИЕ ЗАБОЛЕВАНИЯ И СОСТОЯНИЯ', 'Стадия по KDOQI/ERA'),\n",
              " ('СОПУТСТВУЮЩИЕ ЗАБОЛЕВАНИЯ И СОСТОЯНИЯ', 'СКФ EPI'),\n",
              " ('СОПУТСТВУЮЩИЕ ЗАБОЛЕВАНИЯ И СОСТОЯНИЯ', 'Ожирение, степень.1'),\n",
              " ('СОПУТСТВУЮЩИЕ ЗАБОЛЕВАНИЯ И СОСТОЯНИЯ', 'МФА.1'),\n",
              " ('СОПУТСТВУЮЩИЕ ЗАБОЛЕВАНИЯ И СОСТОЯНИЯ', 'ИМТ'),\n",
              " ('СОПУТСТВУЮЩИЕ ЗАБОЛЕВАНИЯ И СОСТОЯНИЯ', 'S тела'),\n",
              " ('СОПУТСТВУЮЩИЕ ЗАБОЛЕВАНИЯ И СОСТОЯНИЯ', 'Анемия, степень.1'),\n",
              " ('СОПУТСТВУЮЩИЕ ЗАБОЛЕВАНИЯ И СОСТОЯНИЯ', 'Курение'),\n",
              " ('ЛАБОРАТОРНЫЕ ПОКАЗАТЕЛИ', 'ХСобщ'),\n",
              " ('ЛАБОРАТОРНЫЕ ПОКАЗАТЕЛИ', 'ЛПНП'),\n",
              " ('ЛАБОРАТОРНЫЕ ПОКАЗАТЕЛИ', 'ЛПВП'),\n",
              " ('ЛАБОРАТОРНЫЕ ПОКАЗАТЕЛИ', 'ТГц'),\n",
              " ('ЛАБОРАТОРНЫЕ ПОКАЗАТЕЛИ', 'Гемоглобин'),\n",
              " ('ЛАБОРАТОРНЫЕ ПОКАЗАТЕЛИ', 'Глюкоза'),\n",
              " ('ЛАБОРАТОРНЫЕ ПОКАЗАТЕЛИ', 'HbA1c'),\n",
              " ('ЛАБОРАТОРНЫЕ ПОКАЗАТЕЛИ', 'Креатинин'),\n",
              " ('ЛАБОРАТОРНЫЕ ПОКАЗАТЕЛИ', 'АЛТ'),\n",
              " ('ЛАБОРАТОРНЫЕ ПОКАЗАТЕЛИ', 'АСТ'),\n",
              " ('ЛАБОРАТОРНЫЕ ПОКАЗАТЕЛИ', 'Билирубин'),\n",
              " ('ЭХОКГ (ИСХОД)', 'КДР ЛЖ '),\n",
              " ('ЭХОКГ (ИСХОД)', 'КДО ЛЖ'),\n",
              " ('ЭХОКГ (ИСХОД)', 'иКДО ЛЖ'),\n",
              " ('ЭХОКГ (ИСХОД)', 'КСР ЛЖ'),\n",
              " ('ЭХОКГ (ИСХОД)', 'КСО ЛЖ'),\n",
              " ('ЭХОКГ (ИСХОД)', 'иКСО ЛЖ'),\n",
              " ('ЭХОКГ (ИСХОД)', 'УО ЛЖ'),\n",
              " ('ЭХОКГ (ИСХОД)', 'ФВ ЛЖ'),\n",
              " ('ЭХОКГ (ИСХОД)', 'ТМЖП ЛЖ'),\n",
              " ('ЭХОКГ (ИСХОД)', 'ТЗС ЛЖ'),\n",
              " ('ЭХОКГ (ИСХОД)', 'ММ ЛЖ'),\n",
              " ('ЭХОКГ (ИСХОД)', 'иММ ЛЖ'),\n",
              " ('ЭХОКГ (ИСХОД)', 'E/A'),\n",
              " ('ЭХОКГ (ИСХОД)', 'ЛП'),\n",
              " ('ЭХОКГ (ИСХОД)', 'ПП'),\n",
              " ('ЭХОКГ (ИСХОД)', 'ПЖ'),\n",
              " ('ЭХОКГ (ИСХОД)', 'Аневризма ЛЖ'),\n",
              " ('ЭХОКГ (ИСХОД)', 'Тромбоз ЛЖ'),\n",
              " ('ЭХОКГ (ИСХОД)', 'РМК'),\n",
              " ('ЭХОКГ (ИСХОД)', 'ИНЛС ЛЖ'),\n",
              " ('КОНЕЧНЫЕ ИСХОДЫ НАБЛЮДЕНИЯ', 'Некардиальная смерть'),\n",
              " ('КОНЕЧНЫЕ ИСХОДЫ НАБЛЮДЕНИЯ', 'Дата'),\n",
              " ('КОНЕЧНЫЕ ИСХОДЫ НАБЛЮДЕНИЯ', 'Сердечно-сосудистая смерть'),\n",
              " ('КОНЕЧНЫЕ ИСХОДЫ НАБЛЮДЕНИЯ', 'Дата.1'),\n",
              " ('КОНЕЧНЫЕ ИСХОДЫ НАБЛЮДЕНИЯ', 'Реинфаркт'),\n",
              " ('КОНЕЧНЫЕ ИСХОДЫ НАБЛЮДЕНИЯ', 'Дата.2'),\n",
              " ('КОНЕЧНЫЕ ИСХОДЫ НАБЛЮДЕНИЯ', 'Тромбоз стента/ шунта'),\n",
              " ('КОНЕЧНЫЕ ИСХОДЫ НАБЛЮДЕНИЯ', 'Дата.3'),\n",
              " ('КОНЕЧНЫЕ ИСХОДЫ НАБЛЮДЕНИЯ', 'НРС'),\n",
              " ('КОНЕЧНЫЕ ИСХОДЫ НАБЛЮДЕНИЯ', 'Повторная реваскуляризация'),\n",
              " ('КОНЕЧНЫЕ ИСХОДЫ НАБЛЮДЕНИЯ', 'Дата.4'),\n",
              " ('КОНЕЧНЫЕ ИСХОДЫ НАБЛЮДЕНИЯ', 'Дата.5'),\n",
              " ('КОНЕЧНЫЕ ИСХОДЫ НАБЛЮДЕНИЯ', 'ОНМК'),\n",
              " ('КОНЕЧНЫЕ ИСХОДЫ НАБЛЮДЕНИЯ', 'ВЧ-кровотечение'),\n",
              " ('КОНЕЧНЫЕ ИСХОДЫ НАБЛЮДЕНИЯ', 'ЖКТ-кровотечение'),\n",
              " ('КОНЕЧНЫЕ ИСХОДЫ НАБЛЮДЕНИЯ', 'Симптомная стенокардия'),\n",
              " ('КОНЕЧНЫЕ ИСХОДЫ НАБЛЮДЕНИЯ', 'Симптомная СН'),\n",
              " ('Связь с пациентом', 'дозвон'),\n",
              " ('Связь с пациентом', 'недозвон'),\n",
              " ('ГОСПИТАЛЬНЫЕ КЛИНИЧЕСКИЕ ИСХОДЫ', 'Смерть'),\n",
              " ('ГОСПИТАЛЬНЫЕ КЛИНИЧЕСКИЕ ИСХОДЫ', 'Дата'),\n",
              " ('ГОСПИТАЛЬНЫЕ КЛИНИЧЕСКИЕ ИСХОДЫ', 'Реинфаркт'),\n",
              " ('ГОСПИТАЛЬНЫЕ КЛИНИЧЕСКИЕ ИСХОДЫ', 'Дата.1'),\n",
              " ('ГОСПИТАЛЬНЫЕ КЛИНИЧЕСКИЕ ИСХОДЫ', 'Тромбоз стента/ шунта'),\n",
              " ('ГОСПИТАЛЬНЫЕ КЛИНИЧЕСКИЕ ИСХОДЫ', 'Дата.2'),\n",
              " ('ГОСПИТАЛЬНЫЕ КЛИНИЧЕСКИЕ ИСХОДЫ', 'НРС'),\n",
              " ('ГОСПИТАЛЬНЫЕ КЛИНИЧЕСКИЕ ИСХОДЫ', 'Дата.3'),\n",
              " ('ГОСПИТАЛЬНЫЕ КЛИНИЧЕСКИЕ ИСХОДЫ', 'ОНМК'),\n",
              " ('ГОСПИТАЛЬНЫЕ КЛИНИЧЕСКИЕ ИСХОДЫ', 'ВЧ-кровотечение'),\n",
              " ('ГОСПИТАЛЬНЫЕ КЛИНИЧЕСКИЕ ИСХОДЫ', 'ЖКТ-кровотечение')]"
            ]
          },
          "metadata": {},
          "execution_count": 91
        }
      ]
    },
    {
      "cell_type": "code",
      "source": [
        "# For subsets\n",
        "clinical_abc_columns = cols_of_interest"
      ],
      "metadata": {
        "id": "MB5KrAmSDu8D"
      },
      "execution_count": null,
      "outputs": []
    },
    {
      "cell_type": "code",
      "source": [
        "data_abc[clinical_abc_columns].head()"
      ],
      "metadata": {
        "colab": {
          "base_uri": "https://localhost:8080/"
        },
        "id": "5aGGLSheHg4b",
        "outputId": "6bcccda8-a577-46a5-d799-a9459c6ca490"
      },
      "execution_count": null,
      "outputs": [
        {
          "output_type": "execute_result",
          "data": {
            "text/plain": [
              "      АНТРОПОФИЗИОМЕТРИЯ                                                       \\\n",
              "№ п/п                Пол Возраст  Рост  Вес        ИМТ S тела систол. АД  ЧСС   \n",
              "1                      0      75  1.64   80  29.744200   1.88        190   90   \n",
              "2                      0      49  1.76  130  41.967975   2.41        140  100   \n",
              "3                      0      54  1.62   70  26.672763   1.76        137   86   \n",
              "4                      0      33  1.76   90  29.054752   2.07        128   76   \n",
              "5                      0      52  1.68   90  31.887755   2.02        160  105   \n",
              "\n",
              "              ХАРАКТЕРИСТИКА ОИМ             ... ИСХОДНАЯ ЭХОКГ          \\\n",
              "№ п/п Давность болевого синдрома Cегмент ST  ...          ФВ ЛЖ ТМЖП ЛЖ   \n",
              "1                              2          1  ...      55.147059    1.30   \n",
              "2                              2          1  ...      54.304636    1.40   \n",
              "3                              1          0  ...      69.047619    1.20   \n",
              "4                              1          2  ...      45.384615    1.09   \n",
              "5                              3          1  ...      55.279503    1.60   \n",
              "\n",
              "                                                                       \n",
              "№ п/п ТЗС ЛЖ   ММ ЛЖ иММ ЛЖ   ЛП  РМК Аневризма ЛЖ Тромбоз ЛЖ ИНЛС ЛЖ  \n",
              "1       1.20  271.50  144.4  4.2  1.0          0.0        0.0   0.000  \n",
              "2       1.13  301.60  125.1  4.1  1.0          0.0        0.0   1.125  \n",
              "3       1.10  234.60  133.3  3.8  0.0          0.0        0.0   0.000  \n",
              "4       1.10  219.39  106.0  3.8  1.0          0.0        0.0   1.125  \n",
              "5       0.80  288.67  142.9  4.7  2.0          0.0        0.0   1.125  \n",
              "\n",
              "[5 rows x 56 columns]"
            ],
            "text/html": [
              "<div>\n",
              "<style scoped>\n",
              "    .dataframe tbody tr th:only-of-type {\n",
              "        vertical-align: middle;\n",
              "    }\n",
              "\n",
              "    .dataframe tbody tr th {\n",
              "        vertical-align: top;\n",
              "    }\n",
              "\n",
              "    .dataframe thead tr th {\n",
              "        text-align: left;\n",
              "    }\n",
              "</style>\n",
              "<table border=\"1\" class=\"dataframe\">\n",
              "  <thead>\n",
              "    <tr>\n",
              "      <th></th>\n",
              "      <th colspan=\"8\" halign=\"left\">АНТРОПОФИЗИОМЕТРИЯ</th>\n",
              "      <th colspan=\"2\" halign=\"left\">ХАРАКТЕРИСТИКА ОИМ</th>\n",
              "      <th>...</th>\n",
              "      <th colspan=\"10\" halign=\"left\">ИСХОДНАЯ ЭХОКГ</th>\n",
              "    </tr>\n",
              "    <tr>\n",
              "      <th>№ п/п</th>\n",
              "      <th>Пол</th>\n",
              "      <th>Возраст</th>\n",
              "      <th>Рост</th>\n",
              "      <th>Вес</th>\n",
              "      <th>ИМТ</th>\n",
              "      <th>S тела</th>\n",
              "      <th>систол. АД</th>\n",
              "      <th>ЧСС</th>\n",
              "      <th>Давность болевого синдрома</th>\n",
              "      <th>Cегмент ST</th>\n",
              "      <th>...</th>\n",
              "      <th>ФВ ЛЖ</th>\n",
              "      <th>ТМЖП ЛЖ</th>\n",
              "      <th>ТЗС ЛЖ</th>\n",
              "      <th>ММ ЛЖ</th>\n",
              "      <th>иММ ЛЖ</th>\n",
              "      <th>ЛП</th>\n",
              "      <th>РМК</th>\n",
              "      <th>Аневризма ЛЖ</th>\n",
              "      <th>Тромбоз ЛЖ</th>\n",
              "      <th>ИНЛС ЛЖ</th>\n",
              "    </tr>\n",
              "  </thead>\n",
              "  <tbody>\n",
              "    <tr>\n",
              "      <th>1</th>\n",
              "      <td>0</td>\n",
              "      <td>75</td>\n",
              "      <td>1.64</td>\n",
              "      <td>80</td>\n",
              "      <td>29.744200</td>\n",
              "      <td>1.88</td>\n",
              "      <td>190</td>\n",
              "      <td>90</td>\n",
              "      <td>2</td>\n",
              "      <td>1</td>\n",
              "      <td>...</td>\n",
              "      <td>55.147059</td>\n",
              "      <td>1.30</td>\n",
              "      <td>1.20</td>\n",
              "      <td>271.50</td>\n",
              "      <td>144.4</td>\n",
              "      <td>4.2</td>\n",
              "      <td>1.0</td>\n",
              "      <td>0.0</td>\n",
              "      <td>0.0</td>\n",
              "      <td>0.000</td>\n",
              "    </tr>\n",
              "    <tr>\n",
              "      <th>2</th>\n",
              "      <td>0</td>\n",
              "      <td>49</td>\n",
              "      <td>1.76</td>\n",
              "      <td>130</td>\n",
              "      <td>41.967975</td>\n",
              "      <td>2.41</td>\n",
              "      <td>140</td>\n",
              "      <td>100</td>\n",
              "      <td>2</td>\n",
              "      <td>1</td>\n",
              "      <td>...</td>\n",
              "      <td>54.304636</td>\n",
              "      <td>1.40</td>\n",
              "      <td>1.13</td>\n",
              "      <td>301.60</td>\n",
              "      <td>125.1</td>\n",
              "      <td>4.1</td>\n",
              "      <td>1.0</td>\n",
              "      <td>0.0</td>\n",
              "      <td>0.0</td>\n",
              "      <td>1.125</td>\n",
              "    </tr>\n",
              "    <tr>\n",
              "      <th>3</th>\n",
              "      <td>0</td>\n",
              "      <td>54</td>\n",
              "      <td>1.62</td>\n",
              "      <td>70</td>\n",
              "      <td>26.672763</td>\n",
              "      <td>1.76</td>\n",
              "      <td>137</td>\n",
              "      <td>86</td>\n",
              "      <td>1</td>\n",
              "      <td>0</td>\n",
              "      <td>...</td>\n",
              "      <td>69.047619</td>\n",
              "      <td>1.20</td>\n",
              "      <td>1.10</td>\n",
              "      <td>234.60</td>\n",
              "      <td>133.3</td>\n",
              "      <td>3.8</td>\n",
              "      <td>0.0</td>\n",
              "      <td>0.0</td>\n",
              "      <td>0.0</td>\n",
              "      <td>0.000</td>\n",
              "    </tr>\n",
              "    <tr>\n",
              "      <th>4</th>\n",
              "      <td>0</td>\n",
              "      <td>33</td>\n",
              "      <td>1.76</td>\n",
              "      <td>90</td>\n",
              "      <td>29.054752</td>\n",
              "      <td>2.07</td>\n",
              "      <td>128</td>\n",
              "      <td>76</td>\n",
              "      <td>1</td>\n",
              "      <td>2</td>\n",
              "      <td>...</td>\n",
              "      <td>45.384615</td>\n",
              "      <td>1.09</td>\n",
              "      <td>1.10</td>\n",
              "      <td>219.39</td>\n",
              "      <td>106.0</td>\n",
              "      <td>3.8</td>\n",
              "      <td>1.0</td>\n",
              "      <td>0.0</td>\n",
              "      <td>0.0</td>\n",
              "      <td>1.125</td>\n",
              "    </tr>\n",
              "    <tr>\n",
              "      <th>5</th>\n",
              "      <td>0</td>\n",
              "      <td>52</td>\n",
              "      <td>1.68</td>\n",
              "      <td>90</td>\n",
              "      <td>31.887755</td>\n",
              "      <td>2.02</td>\n",
              "      <td>160</td>\n",
              "      <td>105</td>\n",
              "      <td>3</td>\n",
              "      <td>1</td>\n",
              "      <td>...</td>\n",
              "      <td>55.279503</td>\n",
              "      <td>1.60</td>\n",
              "      <td>0.80</td>\n",
              "      <td>288.67</td>\n",
              "      <td>142.9</td>\n",
              "      <td>4.7</td>\n",
              "      <td>2.0</td>\n",
              "      <td>0.0</td>\n",
              "      <td>0.0</td>\n",
              "      <td>1.125</td>\n",
              "    </tr>\n",
              "  </tbody>\n",
              "</table>\n",
              "<p>5 rows × 56 columns</p>\n",
              "</div>"
            ]
          },
          "metadata": {},
          "execution_count": 25
        }
      ]
    },
    {
      "cell_type": "markdown",
      "source": [
        "## Functions"
      ],
      "metadata": {
        "id": "eY9WYazsOfzn"
      }
    },
    {
      "cell_type": "code",
      "source": [
        "def get_combined_target_column(dataset):\n",
        "    '''This function gets combined target values.'''\n",
        "\n",
        "    target_combined = (((dataset['КОНЕЧНЫЕ ИСХОДЫ НАБЛЮДЕНИЯ']['Сердечно-сосудистая смерть'].astype(int) == 1)|\n",
        "                        (dataset['КОНЕЧНЫЕ ИСХОДЫ НАБЛЮДЕНИЯ']['Реинфаркт'].astype(int) == 1) |\n",
        "                        (dataset['КОНЕЧНЫЕ ИСХОДЫ НАБЛЮДЕНИЯ']['ОНМК'].astype(int) == 1)|\n",
        "                        (dataset['КОНЕЧНЫЕ ИСХОДЫ НАБЛЮДЕНИЯ']['Повторная реваскуляризация'].astype(int) == 1))&\n",
        "                        (dataset['ГОСПИТАЛЬНЫЕ КЛИНИЧЕСКИЕ ИСХОДЫ']['Смерть']!=1))*1\n",
        "\n",
        "    mask_combined = ((dataset['КОНЕЧНЫЕ ИСХОДЫ НАБЛЮДЕНИЯ']['Сердечно-сосудистая смерть'].astype(int) == -1) &\n",
        "                    (dataset['КОНЕЧНЫЕ ИСХОДЫ НАБЛЮДЕНИЯ']['Реинфаркт'].astype(int) == -1) &\n",
        "                    (dataset['КОНЕЧНЫЕ ИСХОДЫ НАБЛЮДЕНИЯ']['ОНМК'].astype(int) == -1) &\n",
        "                    (dataset['КОНЕЧНЫЕ ИСХОДЫ НАБЛЮДЕНИЯ']['Повторная реваскуляризация'].astype(int) == -1))     \n",
        "    target_combined[mask_combined] = -1\n",
        "    return target_combined "
      ],
      "metadata": {
        "id": "ZbL8c5xOQ71Q"
      },
      "execution_count": null,
      "outputs": []
    },
    {
      "cell_type": "code",
      "source": [
        "def imputer(train, test, cat_features_id, random_state):\n",
        "    '''This function imputes missing values with IterativeImputer.\n",
        "       RandomForest is used as an estimator.'''\n",
        "\n",
        "    # Impute NAs with IterativeImputer (estimator - RandomForestRegressor)\n",
        "    impute_estimator = RandomForestRegressor(n_estimators=50,\n",
        "                                            max_depth=5,\n",
        "                                            n_jobs=-1,\n",
        "                                            random_state=random_state)\n",
        "    imputer = IterativeImputer(random_state=random_state,\n",
        "                              estimator=impute_estimator, \n",
        "                              max_iter=25)\n",
        "    train = imputer.fit_transform(train)\n",
        "    test = imputer.transform(test)\n",
        "\n",
        "    # Round values for categorical data - so that there will be no new categories\n",
        "    train[:, cat_features_id] = train[:, cat_features_id].round()\n",
        "    test[:, cat_features_id] = test[:, cat_features_id].round()\n",
        "\n",
        "    return train, test"
      ],
      "metadata": {
        "id": "OwpDpm8QYpBt"
      },
      "execution_count": null,
      "outputs": []
    },
    {
      "cell_type": "code",
      "source": [
        "def scaler(train, test, continuous_features):\n",
        "    '''This function scales continuous features\n",
        "       with Robust Scaler.'''\n",
        "\n",
        "    scaler = RobustScaler() \n",
        "    train[continuous_features] = scaler.fit_transform(train[continuous_features])\n",
        "    test[continuous_features] = scaler.transform(test[continuous_features])\n",
        "\n",
        "    return train, test"
      ],
      "metadata": {
        "id": "iP3cIeIYcfSD"
      },
      "execution_count": null,
      "outputs": []
    },
    {
      "cell_type": "code",
      "source": [
        "def imputation_no_smote(random_state, dataset, target, path, dataset_features, test_size, name, download=False):\n",
        "    '''This function is pipeline for dataset preprocessing:\n",
        "       Finds subset with features that we will use further.\n",
        "       Adds target column.\n",
        "       Drops patients with target == -1.\n",
        "       Splits subset into train and test.\n",
        "       Imputes subsets with Iterative Imputer.\n",
        "       Over-samples Train subset.\n",
        "       Downloads train and test datasets.'''\n",
        "\n",
        "    if target == ('target', 'combined'):\n",
        "        dataset[target] = get_combined_target_column(dataset)\n",
        "\n",
        "    # add target columnt and drop patients with -1 in the outcome\n",
        "    dataframe = dataset[dataset_features + [target]].copy()\n",
        "    dataframe[target] = dataframe[target].replace(-1, np.nan)\n",
        "    dataframe.dropna(axis=0, how='any', inplace=True)\n",
        "    dataframe.replace(-1, np.nan, inplace=True)\n",
        "\n",
        "    # divide dataset into train and test\n",
        "    X_train, X_test, y_train, y_test = \\\n",
        "    train_test_split(dataframe[dataset_features], \n",
        "                    dataframe[target], \n",
        "                    test_size=test_size, \n",
        "                    random_state=random_state, \n",
        "                    # stratify=dataframe[target],\n",
        "                    shuffle=True)\n",
        "\n",
        "    # Impute NAs with IterativeImputer (estimator - RandomForestRegressor)\n",
        "    categorical_features_index = [dataframe.columns.get_loc(col) for col in dataframe.columns[:-1] if len(dataframe[col].unique()) <= 9]\n",
        "    X_train, X_test = imputer(train=X_train, test=X_test, cat_features_id=categorical_features_index, random_state=random_state)\n",
        "\n",
        "    # w/o SMOTE!!!\n",
        "    if False:\n",
        "        \n",
        "        # fit SMOTE on train part\n",
        "        smote = SMOTENC(categorical_features = categorical_features_index,\n",
        "                        sampling_strategy='minority',\n",
        "                        n_jobs=-1,\n",
        "                        random_state=random_state)\n",
        "        X_sm, y_sm = smote.fit_resample(X_train, y_train)\n",
        "\n",
        "    train_imputed = pd.DataFrame(data=X_train, columns=dataset_features)\n",
        "    train_imputed[target] = y_train.values\n",
        "    test_imputed = pd.DataFrame(data=X_test, columns=dataset_features)\n",
        "    test_imputed[target] = y_test.values\n",
        "    \n",
        "\n",
        "    continuous_cols = [col for col in dataset_features if (len((train_imputed[col].unique())) > 9)]\n",
        "\n",
        "    # Scaling of dataset\n",
        "    train_imputed, test_imputed = scaler(train=train_imputed, test=test_imputed, continuous_features=continuous_cols)\n",
        "\n",
        "    print('Train shape:\\t', train_imputed.shape)\n",
        "    print('Train target:\\n', train_imputed[target].value_counts(), end='')\n",
        "    print('\\n\\n')\n",
        "    print('Test shape:\\t', test_imputed.shape)\n",
        "    print('Test target:\\n', test_imputed[target].value_counts(), end='')\n",
        "\n",
        "    # download dataset\n",
        "    if download:\n",
        "        train_imputed.to_excel(f'{path}train_{name}.xlsx')\n",
        "        test_imputed.to_excel(f'{path}test_{name}.xlsx')\n",
        "    \n",
        "    return None"
      ],
      "metadata": {
        "id": "B0NSPXwVOiJn"
      },
      "execution_count": null,
      "outputs": []
    },
    {
      "cell_type": "markdown",
      "source": [
        "## Lancet Dataset ABC"
      ],
      "metadata": {
        "id": "m6IHFMFcSNSJ"
      }
    },
    {
      "cell_type": "markdown",
      "source": [
        "[Machine learning-based prediction of adverse events\n",
        "following an acute coronary syndrome (PRAISE)](https://reader.elsevier.com/reader/sd/pii/S0140673620325198?token=A32A6A6C2048BD62C329248DD673BEA1CE5EF2A1756086027DAB92635E0745A55A0378C1DF167E6DC3458020D8439EF0&originRegion=eu-west-1&originCreation=20220920134707)\n",
        "Features from paper: 16 clinical + 5 thera­peutic + 2 angiographic + 2 procedural\n",
        "\n",
        "- age, \n",
        "- sex, \n",
        "- diabetes, \n",
        "- hypertension, \n",
        "- hyperlipidaemia, \n",
        "- peripheral artery disease, \n",
        "- estimated glomerular filtration rate [EGFR; using the Modification of Diet\n",
        "in Renal Disease study formula21], \n",
        "- previous myocardial infarction, \n",
        "- previous percutaneous coronary intervention,\n",
        "- previous coronary artery bypass graft, \n",
        "- previous stroke,\n",
        "- previous bleeding, \n",
        "- malignancy, \n",
        "- ST-segment elevation myocardial infarction [STEMI] presentation, \n",
        "- haemoglobin,\n",
        "- left ventricular ejection fraction [LVEF])\n"
      ],
      "metadata": {
        "id": "NRSeBW44nByb"
      }
    },
    {
      "cell_type": "code",
      "source": [
        "data_a_and_hyperlipidemia = data_a.copy()\n",
        "data_a_and_hyperlipidemia[('ЛАБОРАТОРНЫЕ ПОКАЗАТЕЛИ'), ('Хсобщ, ммоль/л')] = hyperlipidemia\n",
        "\n",
        "data_abc_lancet = pd.concat([data_a_and_hyperlipidemia, data_b, data_c], axis=0)\n",
        "data_abc_lancet.dropna(axis=1, inplace=True)\n",
        "\n",
        "# cols_of_interest = list(data_abc_lancet.columns)[:56]\n",
        "# cols_of_interest.append(('ЛАБОРАТОРНЫЕ ПОКАЗАТЕЛИ', 'Хсобщ, ммоль/л'))\n",
        "\n",
        "data_abc_lancet[('target', 'Cмерть')] = data_abc_lancet[[('КОНЕЧНЫЕ ИСХОДЫ НАБЛЮДЕНИЯ', 'Некардиальная смерть'),\n",
        "          ('КОНЕЧНЫЕ ИСХОДЫ НАБЛЮДЕНИЯ', 'Сердечно-сосудистая смерть')]].apply((lambda x: x.max()), axis=1)"
      ],
      "metadata": {
        "id": "aoME8QkwSN_e"
      },
      "execution_count": null,
      "outputs": []
    },
    {
      "cell_type": "code",
      "source": [
        "# For subsets\n",
        "clinical_abc_columns_lancet = [\n",
        "    # age\n",
        "    ('АНТРОПОФИЗИОМЕТРИЯ', 'Возраст'),\n",
        "    # sex\n",
        "    ('АНТРОПОФИЗИОМЕТРИЯ', 'Пол'),\n",
        "    # diabetes\n",
        "    ('СОПУТСТВУЮЩИЕ ЗАБОЛЕВАНИЯ И СОСТОЯНИЯ', 'СД'),\n",
        "    # hypertension\n",
        "    ('СОПУТСТВУЮЩИЕ ЗАБОЛЕВАНИЯ И СОСТОЯНИЯ', 'ГБ'),\n",
        "    # hyperlipidaemia\n",
        "    ('ЛАБОРАТОРНЫЕ ПОКАЗАТЕЛИ', 'Хсобщ, ммоль/л'), # !!!!!!!!!!!!!!!!!!  this feature was dropped in data_a можно сделать отдельный датасет для lancet\n",
        "    # peripheral artery disease\n",
        "    ('СОПУТСТВУЮЩИЕ ЗАБОЛЕВАНИЯ И СОСТОЯНИЯ', 'МФА'),\n",
        "    # EGFR\n",
        "    ('ЛАБОРАТОРНЫЕ ПОКАЗАТЕЛИ', 'СКФ EPI'),\n",
        "    # previous myocardial infarction\n",
        "    ('СОПУТСТВУЮЩИЕ ЗАБОЛЕВАНИЯ И СОСТОЯНИЯ', 'пост-ИМ'),\n",
        "    # previous percutaneous coronary intervention\n",
        "    ('СОПУТСТВУЮЩИЕ ЗАБОЛЕВАНИЯ И СОСТОЯНИЯ', 'пост-стент'),\n",
        "    # previous stroke\n",
        "    ('СОПУТСТВУЮЩИЕ ЗАБОЛЕВАНИЯ И СОСТОЯНИЯ', 'пост-ОНМК'),\n",
        "    # previous bleeding\n",
        "    ('СОПУТСТВУЮЩИЕ ЗАБОЛЕВАНИЯ И СОСТОЯНИЯ', 'пост-ВЧ-кровоизлияние'),\n",
        "    # ST-segment elevation myocardial infarction [STEMI] presentation\n",
        "    ('ХАРАКТЕРИСТИКА ОИМ', 'Cегмент ST'),\n",
        "    # haemoglobin\n",
        "    ('ЛАБОРАТОРНЫЕ ПОКАЗАТЕЛИ', 'Гемоглобин, г/л'),\n",
        "    # left ventricular ejection fraction [LVEF])\n",
        "    ('ИСХОДНАЯ ЭХОКГ', 'ФВ ЛЖ'),\n",
        "    # target\n",
        "    # ('target', 'Cмерть')\n",
        "]"
      ],
      "metadata": {
        "id": "ViaZ4TzlztyA"
      },
      "execution_count": null,
      "outputs": []
    },
    {
      "cell_type": "code",
      "source": [
        "imputation_no_smote(\n",
        "random_state = 20,\n",
        "dataset = data_abc_lancet,\n",
        "target = ('target', 'Cмерть'),\n",
        "path = \"./HSE project/Preprocessed Data/lancet dataset/\",\n",
        "dataset_features = clinical_abc_columns_lancet,\n",
        "test_size = 0.25, \n",
        "download=True,\n",
        "name='abc_lancet'\n",
        ")"
      ],
      "metadata": {
        "colab": {
          "base_uri": "https://localhost:8080/"
        },
        "id": "9qeOu70lJYK4",
        "outputId": "be4a551b-7762-4542-e6c5-33ea7a73184d"
      },
      "execution_count": null,
      "outputs": [
        {
          "output_type": "stream",
          "name": "stdout",
          "text": [
            "Train shape:\t (314, 15)\n",
            "Train target:\n",
            " 0.0    225\n",
            "1.0     89\n",
            "Name: (target, Cмерть), dtype: int64Test shape:\t (105, 15)\n",
            "Test target:\n",
            " 0.0    76\n",
            "1.0    29\n",
            "Name: (target, Cмерть), dtype: int64"
          ]
        }
      ]
    },
    {
      "cell_type": "markdown",
      "source": [
        "## **Target**: Cardiovascular death"
      ],
      "metadata": {
        "id": "p6D6fu7ECWvJ"
      }
    },
    {
      "cell_type": "markdown",
      "source": [
        "#### Dataset A"
      ],
      "metadata": {
        "id": "g1UIFvT3CglE"
      }
    },
    {
      "cell_type": "code",
      "source": [
        "imputation_no_smote(\n",
        "random_state = 20,\n",
        "dataset = data_a,\n",
        "target = ('КОНЕЧНЫЕ ИСХОДЫ НАБЛЮДЕНИЯ', 'Сердечно-сосудистая смерть'),\n",
        "path = \"./HSE project/Preprocessed Data/cardiovascular death/\",\n",
        "dataset_features = clinical_and_biomarkers_a_columns,\n",
        "test_size = 0.25, \n",
        "name='a',\n",
        "download=True)"
      ],
      "metadata": {
        "colab": {
          "base_uri": "https://localhost:8080/"
        },
        "id": "PKkpBIkvCcUp",
        "outputId": "b04b71e4-73cd-4355-b6b2-368a77374e96"
      },
      "execution_count": null,
      "outputs": [
        {
          "output_type": "stream",
          "name": "stdout",
          "text": [
            "Train shape:\t (147, 147)\n",
            "Train target:\n",
            " 0.0    75\n",
            "1.0    72\n",
            "Name: (КОНЕЧНЫЕ ИСХОДЫ НАБЛЮДЕНИЯ, Сердечно-сосудистая смерть), dtype: int64Test shape:\t (49, 147)\n",
            "Test target:\n",
            " 0.0    29\n",
            "1.0    20\n",
            "Name: (КОНЕЧНЫЕ ИСХОДЫ НАБЛЮДЕНИЯ, Сердечно-сосудистая смерть), dtype: int64"
          ]
        }
      ]
    },
    {
      "cell_type": "markdown",
      "source": [
        "#### Dataset B"
      ],
      "metadata": {
        "id": "xnBvhswvCm8o"
      }
    },
    {
      "cell_type": "code",
      "source": [
        "imputation_no_smote(\n",
        "random_state = 20,\n",
        "dataset = data_b,\n",
        "target = ('КОНЕЧНЫЕ ИСХОДЫ НАБЛЮДЕНИЯ', 'Сердечно-сосудистая смерть'),\n",
        "path = \"./HSE project/Preprocessed Data/cardiovascular death/\",\n",
        "dataset_features = clinical_and_biomarkers_b_columns,\n",
        "test_size = 0.33, \n",
        "name = 'b',\n",
        "download=True\n",
        ")"
      ],
      "metadata": {
        "colab": {
          "base_uri": "https://localhost:8080/"
        },
        "id": "JQ78pki1Cm8p",
        "outputId": "af16cb1e-e0c2-4765-e94a-13a467bd2b6d"
      },
      "execution_count": null,
      "outputs": [
        {
          "output_type": "stream",
          "name": "stdout",
          "text": [
            "Train shape:\t (58, 78)\n",
            "Train target:\n",
            " 0.0    47\n",
            "1.0    11\n",
            "Name: (КОНЕЧНЫЕ ИСХОДЫ НАБЛЮДЕНИЯ, Сердечно-сосудистая смерть), dtype: int64Test shape:\t (30, 78)\n",
            "Test target:\n",
            " 0.0    24\n",
            "1.0     6\n",
            "Name: (КОНЕЧНЫЕ ИСХОДЫ НАБЛЮДЕНИЯ, Сердечно-сосудистая смерть), dtype: int64"
          ]
        }
      ]
    },
    {
      "cell_type": "markdown",
      "source": [
        "#### Dataset C"
      ],
      "metadata": {
        "id": "d_gIMEzTCnS1"
      }
    },
    {
      "cell_type": "code",
      "source": [
        "imputation_no_smote(\n",
        "random_state = 20,\n",
        "dataset = data_c,\n",
        "target = ('КОНЕЧНЫЕ ИСХОДЫ НАБЛЮДЕНИЯ', 'Сердечно-сосудистая смерть'),\n",
        "path = \"./HSE project/Preprocessed Data/cardiovascular death/\",\n",
        "dataset_features = clinical_and_biomarkers_c_columns,\n",
        "test_size = 0.33, \n",
        "download=True,\n",
        "name='c'\n",
        ")"
      ],
      "metadata": {
        "colab": {
          "base_uri": "https://localhost:8080/"
        },
        "id": "PEI88zS4CnS2",
        "outputId": "419fc901-d645-40ee-ba23-138e2962f7a7"
      },
      "execution_count": null,
      "outputs": [
        {
          "output_type": "stream",
          "name": "stdout",
          "text": [
            "Train shape:\t (86, 106)\n",
            "Train target:\n",
            " 0    80\n",
            "1     6\n",
            "Name: (КОНЕЧНЫЕ ИСХОДЫ НАБЛЮДЕНИЯ, Сердечно-сосудистая смерть), dtype: int64Test shape:\t (43, 106)\n",
            "Test target:\n",
            " 0    42\n",
            "1     1\n",
            "Name: (КОНЕЧНЫЕ ИСХОДЫ НАБЛЮДЕНИЯ, Сердечно-сосудистая смерть), dtype: int64"
          ]
        }
      ]
    },
    {
      "cell_type": "markdown",
      "source": [
        "#### Сombined Dataset ABC"
      ],
      "metadata": {
        "id": "HW3v1jaCHb2K"
      }
    },
    {
      "cell_type": "code",
      "source": [
        "imputation_no_smote(\n",
        "random_state = 20,\n",
        "dataset = data_abc,\n",
        "target = ('КОНЕЧНЫЕ ИСХОДЫ НАБЛЮДЕНИЯ', 'Сердечно-сосудистая смерть'),\n",
        "path = \"./HSE project/Preprocessed Data/cardiovascular death/\",\n",
        "dataset_features = clinical_abc_columns,\n",
        "test_size = 0.25, \n",
        "download=True,\n",
        "name='abc'\n",
        ")"
      ],
      "metadata": {
        "colab": {
          "base_uri": "https://localhost:8080/"
        },
        "id": "-rguDxqiHa_1",
        "outputId": "83286a38-f811-4d44-c8e3-5decfdc7f096"
      },
      "execution_count": null,
      "outputs": [
        {
          "output_type": "stream",
          "name": "stdout",
          "text": [
            "Train shape:\t (309, 57)\n",
            "Train target:\n",
            " 0.0    219\n",
            "1.0     90\n",
            "Name: (КОНЕЧНЫЕ ИСХОДЫ НАБЛЮДЕНИЯ, Сердечно-сосудистая смерть), dtype: int64Test shape:\t (104, 57)\n",
            "Test target:\n",
            " 0.0    78\n",
            "1.0    26\n",
            "Name: (КОНЕЧНЫЕ ИСХОДЫ НАБЛЮДЕНИЯ, Сердечно-сосудистая смерть), dtype: int64"
          ]
        }
      ]
    },
    {
      "cell_type": "markdown",
      "source": [
        "## **Target**: Revascularization"
      ],
      "metadata": {
        "id": "qTAf8f5YUYsy"
      }
    },
    {
      "cell_type": "markdown",
      "source": [
        "#### Dataset A"
      ],
      "metadata": {
        "id": "IwWiqedLMuCJ"
      }
    },
    {
      "cell_type": "code",
      "source": [
        "imputation_no_smote(\n",
        "random_state = 20,\n",
        "dataset = data_a,\n",
        "target = ('КОНЕЧНЫЕ ИСХОДЫ НАБЛЮДЕНИЯ', 'Повторная реваскуляризация'),\n",
        "path = \"./HSE project/Preprocessed Data/revascularization/\",\n",
        "dataset_features = clinical_and_biomarkers_a_columns,\n",
        "test_size = 0.25, \n",
        "name='a',\n",
        "download=True)"
      ],
      "metadata": {
        "colab": {
          "base_uri": "https://localhost:8080/"
        },
        "outputId": "eef72eae-a6f8-4af7-ee85-a5a68c2ff605",
        "id": "kpv3MOOjMuCK"
      },
      "execution_count": null,
      "outputs": [
        {
          "output_type": "stream",
          "name": "stdout",
          "text": [
            "Train shape:\t (98, 147)\n",
            "Train target:\n",
            " 0.0    61\n",
            "1.0    37\n",
            "Name: (КОНЕЧНЫЕ ИСХОДЫ НАБЛЮДЕНИЯ, Повторная реваскуляризация), dtype: int64\n",
            "\n",
            "\n",
            "Test shape:\t (33, 147)\n",
            "Test target:\n",
            " 0.0    23\n",
            "1.0    10\n",
            "Name: (КОНЕЧНЫЕ ИСХОДЫ НАБЛЮДЕНИЯ, Повторная реваскуляризация), dtype: int64"
          ]
        }
      ]
    },
    {
      "cell_type": "markdown",
      "source": [
        "#### Dataset B"
      ],
      "metadata": {
        "id": "x505JCfPMuCL"
      }
    },
    {
      "cell_type": "code",
      "source": [
        "imputation_no_smote(\n",
        "random_state = 20,\n",
        "dataset = data_b,\n",
        "target = ('КОНЕЧНЫЕ ИСХОДЫ НАБЛЮДЕНИЯ', 'Повторная реваскуляризация'),\n",
        "path = \"./HSE project/Preprocessed Data/revascularization/\",\n",
        "dataset_features = clinical_and_biomarkers_b_columns,\n",
        "test_size = 0.33, \n",
        "name = 'b',\n",
        "download=True\n",
        ")"
      ],
      "metadata": {
        "colab": {
          "base_uri": "https://localhost:8080/"
        },
        "outputId": "d85c4024-7fa7-44fb-f042-71abc7e2be93",
        "id": "sTYPoT5AMuCL"
      },
      "execution_count": null,
      "outputs": [
        {
          "output_type": "stream",
          "name": "stdout",
          "text": [
            "Train shape:\t (56, 78)\n",
            "Train target:\n",
            " 0.0    43\n",
            "1.0    13\n",
            "Name: (КОНЕЧНЫЕ ИСХОДЫ НАБЛЮДЕНИЯ, Повторная реваскуляризация), dtype: int64\n",
            "\n",
            "\n",
            "Test shape:\t (29, 78)\n",
            "Test target:\n",
            " 0.0    24\n",
            "1.0     5\n",
            "Name: (КОНЕЧНЫЕ ИСХОДЫ НАБЛЮДЕНИЯ, Повторная реваскуляризация), dtype: int64"
          ]
        }
      ]
    },
    {
      "cell_type": "markdown",
      "source": [
        "#### Dataset C"
      ],
      "metadata": {
        "id": "yd_QfumCMuCL"
      }
    },
    {
      "cell_type": "code",
      "source": [
        "imputation_no_smote(\n",
        "random_state = 20,\n",
        "dataset = data_c,\n",
        "target = ('КОНЕЧНЫЕ ИСХОДЫ НАБЛЮДЕНИЯ', 'Повторная реваскуляризация'),\n",
        "path = \"./HSE project/Preprocessed Data/revascularization/\",\n",
        "dataset_features = clinical_and_biomarkers_c_columns,\n",
        "test_size = 0.33, \n",
        "download=True,\n",
        "name='c'\n",
        ")"
      ],
      "metadata": {
        "colab": {
          "base_uri": "https://localhost:8080/"
        },
        "outputId": "6c3f2b85-241b-4c26-d6fb-40a6af0b9283",
        "id": "MIoCaWgFMuCM"
      },
      "execution_count": null,
      "outputs": [
        {
          "output_type": "stream",
          "name": "stdout",
          "text": [
            "Train shape:\t (86, 106)\n",
            "Train target:\n",
            " 0    73\n",
            "1    13\n",
            "Name: (КОНЕЧНЫЕ ИСХОДЫ НАБЛЮДЕНИЯ, Повторная реваскуляризация), dtype: int64\n",
            "\n",
            "\n",
            "Test shape:\t (43, 106)\n",
            "Test target:\n",
            " 0    38\n",
            "1     5\n",
            "Name: (КОНЕЧНЫЕ ИСХОДЫ НАБЛЮДЕНИЯ, Повторная реваскуляризация), dtype: int64"
          ]
        }
      ]
    },
    {
      "cell_type": "markdown",
      "source": [
        "#### Сombined Dataset ABC"
      ],
      "metadata": {
        "id": "1SCDET51MuCM"
      }
    },
    {
      "cell_type": "code",
      "source": [
        "imputation_no_smote(\n",
        "random_state = 20,\n",
        "dataset = data_abc,\n",
        "target = ('КОНЕЧНЫЕ ИСХОДЫ НАБЛЮДЕНИЯ', 'Повторная реваскуляризация'),\n",
        "path = \"./HSE project/Preprocessed Data/revascularization/\",\n",
        "dataset_features = clinical_abc_columns,\n",
        "test_size = 0.25, \n",
        "download=True,\n",
        "name='abc'\n",
        ")"
      ],
      "metadata": {
        "colab": {
          "base_uri": "https://localhost:8080/"
        },
        "outputId": "9e308393-d48d-4be7-fa67-eeae2db4c019",
        "id": "PDUCmzdwMuCM"
      },
      "execution_count": null,
      "outputs": [
        {
          "output_type": "stream",
          "name": "stdout",
          "text": [
            "Train shape:\t (258, 57)\n",
            "Train target:\n",
            " 0.0    195\n",
            "1.0     63\n",
            "Name: (КОНЕЧНЫЕ ИСХОДЫ НАБЛЮДЕНИЯ, Повторная реваскуляризация), dtype: int64\n",
            "\n",
            "\n",
            "Test shape:\t (87, 57)\n",
            "Test target:\n",
            " 0.0    67\n",
            "1.0    20\n",
            "Name: (КОНЕЧНЫЕ ИСХОДЫ НАБЛЮДЕНИЯ, Повторная реваскуляризация), dtype: int64"
          ]
        }
      ]
    },
    {
      "cell_type": "markdown",
      "source": [
        "## **Target**: Combined"
      ],
      "metadata": {
        "id": "DPidmdVqNrqQ"
      }
    },
    {
      "cell_type": "markdown",
      "source": [
        "#### Dataset A"
      ],
      "metadata": {
        "id": "zxQY02q6NrqR"
      }
    },
    {
      "cell_type": "code",
      "source": [
        "imputation_no_smote(\n",
        "random_state = 20,\n",
        "dataset = data_a,\n",
        "target = ('target', 'combined'),\n",
        "path = \"./HSE project/Preprocessed Data/combined/\",\n",
        "dataset_features = clinical_and_biomarkers_a_columns,\n",
        "test_size = 0.25, \n",
        "name='a',\n",
        "download=True)"
      ],
      "metadata": {
        "colab": {
          "base_uri": "https://localhost:8080/"
        },
        "outputId": "45cb28e6-eebb-4fe9-f20c-3e7217b663c3",
        "id": "nFPTqZmnNrqR"
      },
      "execution_count": null,
      "outputs": [
        {
          "output_type": "stream",
          "name": "stdout",
          "text": [
            "Train shape:\t (150, 147)\n",
            "Train target:\n",
            " 1.0    96\n",
            "0.0    54\n",
            "Name: (target, combined), dtype: int64\n",
            "\n",
            "\n",
            "Test shape:\t (50, 147)\n",
            "Test target:\n",
            " 1.0    27\n",
            "0.0    23\n",
            "Name: (target, combined), dtype: int64"
          ]
        }
      ]
    },
    {
      "cell_type": "markdown",
      "source": [
        "#### Dataset B"
      ],
      "metadata": {
        "id": "knd2Gc0ENrqR"
      }
    },
    {
      "cell_type": "code",
      "source": [
        "imputation_no_smote(\n",
        "random_state = 20,\n",
        "dataset = data_b,\n",
        "target = ('target', 'combined'),\n",
        "path = \"./HSE project/Preprocessed Data/combined/\",\n",
        "dataset_features = clinical_and_biomarkers_b_columns,\n",
        "test_size = 0.33, \n",
        "name = 'b',\n",
        "download=True\n",
        ")"
      ],
      "metadata": {
        "colab": {
          "base_uri": "https://localhost:8080/"
        },
        "outputId": "19696173-f6dc-457c-f6d3-ab5e5ff66dd7",
        "id": "rG_lPZJINrqR"
      },
      "execution_count": null,
      "outputs": [
        {
          "output_type": "stream",
          "name": "stdout",
          "text": [
            "Train shape:\t (62, 78)\n",
            "Train target:\n",
            " 0.0    43\n",
            "1.0    19\n",
            "Name: (target, combined), dtype: int64\n",
            "\n",
            "\n",
            "Test shape:\t (32, 78)\n",
            "Test target:\n",
            " 0.0    23\n",
            "1.0     9\n",
            "Name: (target, combined), dtype: int64"
          ]
        }
      ]
    },
    {
      "cell_type": "markdown",
      "source": [
        "#### Dataset C"
      ],
      "metadata": {
        "id": "TrQECFZCNrqS"
      }
    },
    {
      "cell_type": "code",
      "source": [
        "imputation_no_smote(\n",
        "random_state = 20,\n",
        "dataset = data_c,\n",
        "target = ('target', 'combined'),\n",
        "path = \"./HSE project/Preprocessed Data/combined/\",\n",
        "dataset_features = clinical_and_biomarkers_c_columns,\n",
        "test_size = 0.33, \n",
        "download=True,\n",
        "name='c'\n",
        ")"
      ],
      "metadata": {
        "colab": {
          "base_uri": "https://localhost:8080/"
        },
        "outputId": "2abe53c2-64ec-432f-aa36-9beea836e336",
        "id": "oAnV8WTgNrqS"
      },
      "execution_count": null,
      "outputs": [
        {
          "output_type": "stream",
          "name": "stdout",
          "text": [
            "Train shape:\t (86, 106)\n",
            "Train target:\n",
            " 0    60\n",
            "1    26\n",
            "Name: (target, combined), dtype: int64\n",
            "\n",
            "\n",
            "Test shape:\t (43, 106)\n",
            "Test target:\n",
            " 0    34\n",
            "1     9\n",
            "Name: (target, combined), dtype: int64"
          ]
        }
      ]
    },
    {
      "cell_type": "markdown",
      "source": [
        "#### Сombined Dataset ABC"
      ],
      "metadata": {
        "id": "7xUZo5e4NrqS"
      }
    },
    {
      "cell_type": "code",
      "source": [
        "imputation_no_smote(\n",
        "random_state = 20,\n",
        "dataset = data_abc,\n",
        "target = ('target', 'combined'),\n",
        "path = \"./HSE project/Preprocessed Data/combined/\",\n",
        "dataset_features = clinical_abc_columns,\n",
        "test_size = 0.25, \n",
        "download=True,\n",
        "name='abc'\n",
        ")"
      ],
      "metadata": {
        "colab": {
          "base_uri": "https://localhost:8080/"
        },
        "outputId": "4e238068-eac8-430e-c384-d0fbd9f1999c",
        "id": "VJw4xhF6NrqS"
      },
      "execution_count": null,
      "outputs": [
        {
          "output_type": "stream",
          "name": "stdout",
          "text": [
            "Train shape:\t (317, 57)\n",
            "Train target:\n",
            " 0.0    179\n",
            "1.0    138\n",
            "Name: (target, combined), dtype: int64\n",
            "\n",
            "\n",
            "Test shape:\t (106, 57)\n",
            "Test target:\n",
            " 0.0    58\n",
            "1.0    48\n",
            "Name: (target, combined), dtype: int64"
          ]
        }
      ]
    },
    {
      "cell_type": "markdown",
      "source": [
        "## References and info"
      ],
      "metadata": {
        "id": "1H1VmbApUoAP"
      }
    },
    {
      "cell_type": "markdown",
      "source": [
        "\n",
        "- [Difference between Standard scaler and MinMaxScaler](https://stackoverflow.com/questions/51237635/difference-between-standard-scaler-and-minmaxscaler)\n",
        "- [sklearn: Compare the effect of different scalers on data with outliers](https://scikit-learn.org/stable/auto_examples/preprocessing/plot_all_scaling.html)\n",
        "- [How to Use StandardScaler and MinMaxScaler Transforms in Python](https://machinelearningmastery.com/standardscaler-and-minmaxscaler-transforms-in-python/)\n",
        "\n",
        "Robust scaler is less sensitive to outliers -> might perform better  \n",
        "Although, for non-normal distribution of variables Normalisation methods (MinMaxScaler) are recommended"
      ],
      "metadata": {
        "id": "r5ddEInDUxCC"
      }
    }
  ]
}