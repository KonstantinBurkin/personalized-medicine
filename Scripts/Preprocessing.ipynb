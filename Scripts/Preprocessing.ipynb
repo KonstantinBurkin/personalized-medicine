{
  "cells": [
    {
      "cell_type": "markdown",
      "metadata": {
        "id": "iRs5NRVjixfu"
      },
      "source": [
        "## Import libraries"
      ]
    },
    {
      "cell_type": "code",
      "execution_count": 1,
      "metadata": {
        "id": "pDFuCcbfGwB8"
      },
      "outputs": [],
      "source": [
        "# Import custom classes\n",
        "from Preprocessing import Preprocessing\n",
        "\n",
        "# Import libraries\n",
        "\n",
        "import numpy as np\n",
        "import pandas as pd\n",
        "from sklearn.model_selection import train_test_split\n",
        "\n",
        "# ignore warnings when graphs are plotted\n",
        "import warnings\n",
        "warnings.filterwarnings('ignore')"
      ]
    },
    {
      "cell_type": "markdown",
      "metadata": {
        "id": "kFUz21AbWlkR"
      },
      "source": [
        "## Preselected features"
      ]
    },
    {
      "cell_type": "code",
      "execution_count": 2,
      "metadata": {},
      "outputs": [],
      "source": [
        "clinical_features = list(map(tuple, pd.read_excel('../Raw data/Clinical features.xlsx', index_col=0, header=0).values))\n",
        "\n",
        "biomarkers_a = list(map(tuple, pd.read_excel('../Raw data/biomarkers_a.xlsx', index_col=0, header=0).values.tolist()))\n",
        "biomarkers_b = list(map(tuple, pd.read_excel('../Raw data/biomarkers_b.xlsx', index_col=0, header=0).values.tolist()))\n",
        "biomarkers_c = list(map(tuple, pd.read_excel('../Raw data/biomarkers_c.xlsx', index_col=0, header=0).values.tolist()))\n",
        "targets = list(map(tuple, pd.read_excel('../Raw data/targets_features.xlsx', index_col=0, header=0).values.tolist()))\n",
        "\n",
        "continuous = list(map(tuple, pd.read_excel('../Raw data/continuous_features.xlsx', index_col=0, header=0).values.tolist()))\n",
        "# all biomarkers were continuous except 'БСЖК' in data_b\n",
        "\n",
        "categorical = list(map(tuple, pd.read_excel('../Raw data/categorical_features.xlsx', index_col=0, header=0).values.tolist()))\n",
        "# include 'БСЖК' biomarkers from data_b"
      ]
    },
    {
      "cell_type": "markdown",
      "metadata": {
        "id": "Fd_K7om5asA4"
      },
      "source": [
        "## Data editing"
      ]
    },
    {
      "cell_type": "code",
      "execution_count": 3,
      "metadata": {
        "id": "UFO6sINOYQ30"
      },
      "outputs": [],
      "source": [
        "# links to datasets\n",
        "link_a = '../Raw data/cardio_a.xlsx'\n",
        "link_b = '../Raw data/cardio_b.xlsx'\n",
        "link_c = '../Raw data/cardio_c.xlsx'\n",
        "link_d = '../Raw data/cardio_d.xlsx'"
      ]
    },
    {
      "cell_type": "markdown",
      "metadata": {
        "id": "eECgjEgma5Tp"
      },
      "source": [
        "#### Dataset A"
      ]
    },
    {
      "cell_type": "code",
      "execution_count": 4,
      "metadata": {
        "colab": {
          "base_uri": "https://localhost:8080/"
        },
        "id": "ztl_VKdlSLik",
        "outputId": "179be663-6e62-4198-feee-12ce9579e33c"
      },
      "outputs": [
        {
          "name": "stdout",
          "output_type": "stream",
          "text": [
            "data_a raw shape:  (263, 110)\n"
          ]
        }
      ],
      "source": [
        "# download Dataset A from Github repo and read as excel file\n",
        "\n",
        "data_a = pd.read_excel(link_a, header=[0, 1], index_col=0)\n",
        "data_a = data_a[clinical_features + biomarkers_a + targets[:5]]\n",
        "data_a[targets[5:]] = -1\n",
        "print('data_a raw shape: ', data_a.shape)"
      ]
    },
    {
      "cell_type": "code",
      "execution_count": 5,
      "metadata": {
        "id": "WY9GWtLWSg3h"
      },
      "outputs": [],
      "source": [
        "# Correcting data_a\n",
        "\n",
        "\n",
        "# replace NAs with -1\n",
        "data_a = data_a.fillna(-1)\n",
        "data_a = data_a.replace(' ', -1)\n",
        "\n",
        "# Modify 'Пол' feature: covert all string to lower format and convert to 0 and 1\n",
        "data_a['АНТРОПОФИЗИОМЕТРИЯ', 'Пол'] = data_a['АНТРОПОФИЗИОМЕТРИЯ',\n",
        "                                             'Пол'].str.lower().replace(['м', 'ж'], [0, 1])\n",
        "\n",
        "data_a[('КОНЕЧНЫЕ ИСХОДЫ НАБЛЮДЕНИЯ', 'Повторная реваскуляризация')].replace(to_replace=['ЧКВ',\n",
        "                                                                                         'АКШ',\n",
        "                                                                                         '1899-12-29 00:00:00',\n",
        "                                                                                         'ЧКВ ',\n",
        "                                                                                         'АКШ ',\n",
        "                                                                                         '2018-07-30 00:00:00',\n",
        "                                                                                         '2019-04-15 00:00:00',\n",
        "                                                                                         '2020-08-30 00:00:00'],\n",
        "                                                                             value=1,\n",
        "                                                                             inplace=True)\n",
        "data_a[('КОНЕЧНЫЕ ИСХОДЫ НАБЛЮДЕНИЯ', 'Повторная реваскуляризация')\n",
        "       ].replace(to_replace=['0'], value=0, inplace=True)"
      ]
    },
    {
      "cell_type": "code",
      "execution_count": 6,
      "metadata": {
        "colab": {
          "base_uri": "https://localhost:8080/"
        },
        "id": "hpuxOzzBbAeg",
        "outputId": "80a96f3e-ac79-4b1c-df69-2ef08f45cdc5"
      },
      "outputs": [
        {
          "data": {
            "text/plain": [
              "[('ЛАБОРАТОРНЫЕ ПОКАЗАТЕЛИ', 'Хсобщ, ммоль/л'),\n",
              " ('ЛАБОРАТОРНЫЕ ПОКАЗАТЕЛИ', 'ТГц, ммоль/л')]"
            ]
          },
          "execution_count": 6,
          "metadata": {},
          "output_type": "execute_result"
        }
      ],
      "source": [
        "# Find columns\n",
        "\n",
        "# drop features that were obtained at first discharge and biomarkers\n",
        "# columns must have no more than threshold=20% of NAs\n",
        "\n",
        "threshold = 0.2\n",
        "cols_with_NAs = [col for col in clinical_features +\n",
        "                 biomarkers_a if (data_a[col] == -1).sum() > threshold*data_a.shape[0]]\n",
        "# data_a.drop(columns=cols_with_NAs, inplace=True)\n",
        "cols_with_NAs"
      ]
    },
    {
      "cell_type": "code",
      "execution_count": 7,
      "metadata": {
        "colab": {
          "base_uri": "https://localhost:8080/"
        },
        "id": "Lmt9TRK3VHQ6",
        "outputId": "f969afd8-bde4-41f2-c8dc-e6ce5a46f53c"
      },
      "outputs": [
        {
          "data": {
            "text/plain": [
              "                         № п/п         \n",
              "ЛАБОРАТОРНЫЕ ПОКАЗАТЕЛИ  Хсобщ, ммоль/л    25.095057\n",
              "                         ТГц, ммоль/л      25.095057\n",
              "dtype: float64"
            ]
          },
          "execution_count": 7,
          "metadata": {},
          "output_type": "execute_result"
        }
      ],
      "source": [
        "(data_a[cols_with_NAs] == -1).sum() / 263 * 100"
      ]
    },
    {
      "cell_type": "markdown",
      "metadata": {
        "id": "Rji8hFffa9sY"
      },
      "source": [
        "#### Dataset B"
      ]
    },
    {
      "cell_type": "code",
      "execution_count": 8,
      "metadata": {
        "colab": {
          "base_uri": "https://localhost:8080/"
        },
        "id": "uTNDSKRUyCK4",
        "outputId": "f81979af-432c-4725-9cb0-63bfea7ba1be"
      },
      "outputs": [
        {
          "name": "stdout",
          "output_type": "stream",
          "text": [
            "data_b raw shape:  (109, 50)\n"
          ]
        }
      ],
      "source": [
        "# download Dataset A from Github repo and read as excel file\n",
        "\n",
        "data_b = pd.read_excel(link_b, header=[0, 1], index_col=0)\n",
        "data_b = data_b[clinical_features + biomarkers_b + targets]\n",
        "print('data_b raw shape: ', data_b.shape)"
      ]
    },
    {
      "cell_type": "code",
      "execution_count": 9,
      "metadata": {
        "id": "wRV3SF90a_7B"
      },
      "outputs": [],
      "source": [
        "# Correcting data_b\n",
        "\n",
        "\n",
        "# replace NAs with -1\n",
        "data_b = data_b.fillna(-1)\n",
        "data_b = data_b.replace(' ', -1)\n",
        "# Modify 'Пол' feature: covert all string to lower format and convert to 0 and 1\n",
        "data_b['АНТРОПОФИЗИОМЕТРИЯ', 'Пол'] = data_b['АНТРОПОФИЗИОМЕТРИЯ',\n",
        "                                             'Пол'].str.lower().replace(['м', 'ж'], [0, 1])\n",
        "\n",
        "# ---------------\n",
        "data_b.replace(to_replace=['ЧКВ',\n",
        "                           'АКШ',\n",
        "                           '1899-12-29 00:00:00',\n",
        "                           'ЧКВ ',\n",
        "                           'АКШ ',\n",
        "                           pd.to_datetime('2018-07-30 00:00:00',\n",
        "                                          format='%Y-%m-%d %H:%M:%S'),\n",
        "                           pd.to_datetime('2019-04-15 00:00:00',\n",
        "                                          format='%Y-%m-%d %H:%M:%S'),\n",
        "                           pd.to_datetime('2020-08-30 00:00:00',\n",
        "                                          format='%Y-%m-%d %H:%M:%S'),\n",
        "                           ],\n",
        "               value=1,\n",
        "               inplace=True)"
      ]
    },
    {
      "cell_type": "code",
      "execution_count": 10,
      "metadata": {
        "id": "sKMb99Q_0_iI"
      },
      "outputs": [],
      "source": [
        "# # Find columns\n",
        "\n",
        "\n",
        "# # drop features that were obtained at first discharge and biomarkers that have more than 20% of NAs\n",
        "cols_with_NAs = [col for col in clinical_features + biomarkers_b\n",
        "                 if (data_b[col] == -1).sum() > 0.2*data_b.shape[0]]  # there are more than 20% of NAs in some biomarkers"
      ]
    },
    {
      "cell_type": "code",
      "execution_count": 11,
      "metadata": {
        "colab": {
          "base_uri": "https://localhost:8080/"
        },
        "id": "y39E9oMFza--",
        "outputId": "5693c675-4c80-4e51-a079-e21feba43e80"
      },
      "outputs": [
        {
          "data": {
            "text/plain": [
              "ПАСПОРТНЫЕ ДАННЫЕ ПАЦИЕНТА  № п/п           \n",
              "БИОМАРКЕРЫ БЛОК В           БСЖК-2              21.100917\n",
              "                            hsТnT-2, пг/мл.1    22.935780\n",
              "                            MG-2, нг/мл         23.853211\n",
              "dtype: float64"
            ]
          },
          "execution_count": 11,
          "metadata": {},
          "output_type": "execute_result"
        }
      ],
      "source": [
        "(data_b[cols_with_NAs] ==-1).sum() / 109 * 100"
      ]
    },
    {
      "cell_type": "markdown",
      "metadata": {
        "id": "EzQUKc3Edx-y"
      },
      "source": [
        "#### Dataset C"
      ]
    },
    {
      "cell_type": "code",
      "execution_count": 12,
      "metadata": {
        "colab": {
          "base_uri": "https://localhost:8080/"
        },
        "id": "3m3hyXLu6F3-",
        "outputId": "d999dc9a-2bcb-4bca-8bee-dbbeb1fda872"
      },
      "outputs": [
        {
          "name": "stdout",
          "output_type": "stream",
          "text": [
            "data_c raw shape:  (129, 49)\n"
          ]
        }
      ],
      "source": [
        "# download Dataset C from Github repo and read as excel file\n",
        "\n",
        "data_c = pd.read_excel(link_c, header=[0, 1], index_col=0)\n",
        "data_c = data_c[clinical_features + biomarkers_c + targets]\n",
        "print('data_c raw shape: ', data_c.shape)"
      ]
    },
    {
      "cell_type": "code",
      "execution_count": 13,
      "metadata": {
        "id": "sUCK37pXeJVE"
      },
      "outputs": [],
      "source": [
        "# Correcting data_c\n",
        "\n",
        "\n",
        "# replace NAs with -1\n",
        "data_c = data_c.fillna(-1)\n",
        "data_c = data_c.replace(' ', -1)\n",
        "# data_c.columns[(data_c.dtypes == object).values]\n",
        "# Modify 'Пол' feature: covert all string to lower format and convert to 0 and 1\n",
        "data_c['АНТРОПОФИЗИОМЕТРИЯ', 'Пол'] = data_c['АНТРОПОФИЗИОМЕТРИЯ', 'Пол'].replace([1, 2],\n",
        "                                                                                  [0, 1])"
      ]
    },
    {
      "cell_type": "code",
      "execution_count": 14,
      "metadata": {
        "id": "hM4yDebUDLhE"
      },
      "outputs": [],
      "source": [
        "# # Find columns\n",
        "\n",
        "\n",
        "# # cols with features from first discharge and biomarkers\n",
        "# cols_of_interest = list(data_c.columns[:153]) + list(data_c.columns[419:424])\n",
        "\n",
        "# # drop features that were obtained at first discharge and biomarkers that have more than 20% of NAs\n",
        "cols_with_NAs = [col for col in clinical_features + biomarkers_c if (data_c[col] == -1).sum() > 0.2*data_c.shape[0]]\n",
        "# # cols_of_interest = [col for col in cols_of_interest if col not in cols_with_NAs]\n",
        "# # continuous_cols = [col for col in cols_of_interest if (len((data_c[col].unique())) > 9)]\n",
        "# # categorical = [col for col in cols_of_interest if (len((data_c[col].unique())) <= 9)]"
      ]
    },
    {
      "cell_type": "code",
      "execution_count": 15,
      "metadata": {
        "colab": {
          "base_uri": "https://localhost:8080/"
        },
        "id": "bgFNHgqcWd1R",
        "outputId": "c29a7b22-adf0-4bd3-e260-a25906c3e624"
      },
      "outputs": [
        {
          "data": {
            "text/plain": [
              "            № п/п             \n",
              "БИОМАРКЕРЫ  Галектин-3 (нг/мл)    26.356589\n",
              "            MMP-9 (нг/мл)         26.356589\n",
              "            ST2 (нг/мл)           26.356589\n",
              "            PCSK9 (нг/мл)         26.356589\n",
              "            Копептин (нг/мл)      26.356589\n",
              "dtype: float64"
            ]
          },
          "execution_count": 15,
          "metadata": {},
          "output_type": "execute_result"
        }
      ],
      "source": [
        "(data_c[cols_with_NAs] == -1).sum() / 129 * 100"
      ]
    },
    {
      "cell_type": "markdown",
      "metadata": {
        "id": "I5gN4v7Rf1Gr"
      },
      "source": [
        "#### Dataset D"
      ]
    },
    {
      "cell_type": "code",
      "execution_count": 16,
      "metadata": {
        "colab": {
          "base_uri": "https://localhost:8080/"
        },
        "id": "WkDTuorOf1Gs",
        "outputId": "d2b02051-4dd8-4d6a-c2c4-9d5b0e4f1929"
      },
      "outputs": [
        {
          "name": "stdout",
          "output_type": "stream",
          "text": [
            "data_d raw shape:  (113, 44)\n"
          ]
        }
      ],
      "source": [
        "# download Dataset A from Github repo and read as excel file\n",
        "\n",
        "data_d = pd.read_excel(link_d ,header=[0,1], index_col=0)\n",
        "data_d = data_d[clinical_features + targets]\n",
        "print('data_d raw shape: ', data_d.shape)"
      ]
    },
    {
      "cell_type": "code",
      "execution_count": 17,
      "metadata": {
        "id": "6yDDe8VgLr-y"
      },
      "outputs": [],
      "source": [
        "# Correcting data_d\n",
        "\n",
        "\n",
        "# replace NAs with -1\n",
        "data_d = data_d.fillna(-1)\n",
        "data_d = data_d.replace(' ', -1)\n",
        "# data_d.columns[(data_d.dtypes == object).values]\n",
        "# Modify 'Пол' feature: covert all string to lower format and convert to 0 and 1\n",
        "data_d['АНТРОПОФИЗИОМЕТРИЯ', 'Пол'] = data_d['АНТРОПОФИЗИОМЕТРИЯ', 'Пол'].replace([1, 2],\n",
        "                                                                                  [0, 1])"
      ]
    },
    {
      "cell_type": "code",
      "execution_count": 18,
      "metadata": {
        "colab": {
          "base_uri": "https://localhost:8080/"
        },
        "id": "Oup7akChgfY4",
        "outputId": "06e79a2c-20c4-4dc3-bce6-c2d14f829f0d"
      },
      "outputs": [
        {
          "data": {
            "text/plain": [
              "[]"
            ]
          },
          "execution_count": 18,
          "metadata": {},
          "output_type": "execute_result"
        }
      ],
      "source": [
        "cols_with_NAs = [col for col in clinical_features if (data_d[col] == -1).sum() > 0.2*data_d.shape[0]]\n",
        "cols_with_NAs"
      ]
    },
    {
      "cell_type": "markdown",
      "metadata": {
        "id": "3ifjgUqCfC7d"
      },
      "source": [
        "#### Сombined Dataset ABCD"
      ]
    },
    {
      "cell_type": "code",
      "execution_count": 19,
      "metadata": {
        "colab": {
          "base_uri": "https://localhost:8080/"
        },
        "id": "lZhoGHHqfUx4",
        "outputId": "a14f471d-c077-4fb9-fe49-498a7e09564b"
      },
      "outputs": [
        {
          "name": "stdout",
          "output_type": "stream",
          "text": [
            "(614, 44)\n"
          ]
        }
      ],
      "source": [
        "# merge clinicals of all three datasets\n",
        "data_abcd = pd.concat([data_a[clinical_features + targets], data_b[clinical_features + targets],\n",
        "                      data_c[clinical_features + targets], data_d[clinical_features + targets]], axis=0)\n",
        "data_abcd.dropna(axis=1, inplace=True)\n",
        "\n",
        "# cols_of_interest = list(data_abcd.columns)[:56]\n",
        "print(data_abcd.shape)"
      ]
    },
    {
      "cell_type": "code",
      "execution_count": 20,
      "metadata": {
        "colab": {
          "base_uri": "https://localhost:8080/"
        },
        "id": "DPclC_RnhO2H",
        "outputId": "9cd4cac3-2a20-48c6-f1d6-64fd730a53c1"
      },
      "outputs": [
        {
          "data": {
            "text/plain": [
              "[('КОНЕЧНЫЕ ИСХОДЫ НАБЛЮДЕНИЯ', 'Сердечно-сосудистая смерть'),\n",
              " ('КОНЕЧНЫЕ ИСХОДЫ НАБЛЮДЕНИЯ', 'Реинфаркт'),\n",
              " ('КОНЕЧНЫЕ ИСХОДЫ НАБЛЮДЕНИЯ', 'Повторная реваскуляризация'),\n",
              " ('КОНЕЧНЫЕ ИСХОДЫ НАБЛЮДЕНИЯ', 'ОНМК'),\n",
              " ('КОНТРОЛЬНЫЕ КЛИНИЧЕСКИЕ ИСХОДЫ', 'Сердечно-сосудистая смерть'),\n",
              " ('КОНТРОЛЬНЫЕ КЛИНИЧЕСКИЕ ИСХОДЫ', 'Реинфаркт'),\n",
              " ('КОНТРОЛЬНЫЕ КЛИНИЧЕСКИЕ ИСХОДЫ', 'Повторная реваскуляризация'),\n",
              " ('КОНТРОЛЬНЫЕ КЛИНИЧЕСКИЕ ИСХОДЫ', 'ОНМК')]"
            ]
          },
          "execution_count": 20,
          "metadata": {},
          "output_type": "execute_result"
        }
      ],
      "source": [
        "cols_with_NAs = [col for col in data_abcd.columns if (\n",
        "    data_abcd[col] == -1).sum() > 0.2*data_abcd.shape[0]]\n",
        "cols_with_NAs"
      ]
    },
    {
      "cell_type": "code",
      "execution_count": 21,
      "metadata": {
        "colab": {
          "base_uri": "https://localhost:8080/"
        },
        "id": "lWYQh88ZhmDp",
        "outputId": "29aa85c8-7379-413d-a6e6-536782ade12a"
      },
      "outputs": [
        {
          "data": {
            "text/plain": [
              "                                       № п/п                     \n",
              "АНТРОПОФИЗИОМЕТРИЯ                     Пол                            0.000000\n",
              "                                       Возраст                        0.000000\n",
              "                                       ИМТ                            0.000000\n",
              "                                       систол. АД                     0.000000\n",
              "                                       ЧСС                            0.000000\n",
              "ХАРАКТЕРИСТИКА ОИМ                     Давность болевого синдрома     0.651466\n",
              "                                       Cегмент ST                     0.651466\n",
              "                                       Передняя стенка ЛЖ             6.351792\n",
              "                                       Боковая стенка ЛЖ              6.351792\n",
              "                                       Класс Killip                   0.977199\n",
              "                                       Риск GRACE, баллы              0.814332\n",
              "СОПУТСТВУЮЩИЕ ЗАБОЛЕВАНИЯ И СОСТОЯНИЯ  пост-ИМ                        0.000000\n",
              "                                       пост-ОНМК                      0.000000\n",
              "                                       пост-стент                     0.000000\n",
              "                                       ФП                             0.000000\n",
              "                                       ГБ                             0.162866\n",
              "                                       СД                             0.000000\n",
              "                                       МФА                            0.000000\n",
              "                                       Ожирение, степень              0.000000\n",
              "                                       Анемия, степень                0.162866\n",
              "                                       Индекс коморбидности           0.651466\n",
              "                                       Наследственность               0.000000\n",
              "ТРОПОНИНЫ по стандарту ОКД             TnT-ПО, нг/л                   2.280130\n",
              "ЛАБОРАТОРНЫЕ ПОКАЗАТЕЛИ                Хсобщ, ммоль/л                13.192182\n",
              "                                       ТГц, ммоль/л                  13.355049\n",
              "                                       Гемоглобин, г/л                0.325733\n",
              "                                       Глюкоза, ммоль/л               6.351792\n",
              "                                       СКФ EPI                        1.465798\n",
              "                                       Креатинин, мкмоль/л            1.465798\n",
              "ИСХОДНАЯ ЭХОКГ                         иКДО ЛЖ                        1.302932\n",
              "                                       иКСО ЛЖ                        1.628664\n",
              "                                       ФВ ЛЖ                          2.117264\n",
              "                                       иММ ЛЖ                         5.863192\n",
              "                                       ЛП                             2.605863\n",
              "                                       ИНЛС ЛЖ                        1.302932\n",
              "КОНЕЧНЫЕ ИСХОДЫ НАБЛЮДЕНИЯ             Сердечно-сосудистая смерть    21.824104\n",
              "                                       Реинфаркт                     34.039088\n",
              "                                       Повторная реваскуляризация    34.201954\n",
              "                                       ОНМК                          34.364821\n",
              "ГОСПИТАЛЬНЫЕ КЛИНИЧЕСКИЕ ИСХОДЫ        Смерть                         0.000000\n",
              "КОНТРОЛЬНЫЕ КЛИНИЧЕСКИЕ ИСХОДЫ         Сердечно-сосудистая смерть    70.358306\n",
              "                                       Реинфаркт                     70.521173\n",
              "                                       Повторная реваскуляризация    70.684039\n",
              "                                       ОНМК                          70.521173\n",
              "dtype: float64"
            ]
          },
          "execution_count": 21,
          "metadata": {},
          "output_type": "execute_result"
        }
      ],
      "source": [
        "(data_abcd == -1).sum() / 614 *100"
      ]
    },
    {
      "attachments": {},
      "cell_type": "markdown",
      "metadata": {
        "id": "DPidmdVqNrqQ"
      },
      "source": [
        "## Preprocessing"
      ]
    },
    {
      "cell_type": "code",
      "execution_count": 22,
      "metadata": {},
      "outputs": [],
      "source": [
        "preprocessing = Preprocessing()"
      ]
    },
    {
      "cell_type": "code",
      "execution_count": 23,
      "metadata": {},
      "outputs": [],
      "source": [
        "results_path = '../Preprocessed data/Combined target/Non-imputed data/'"
      ]
    },
    {
      "cell_type": "markdown",
      "metadata": {},
      "source": [
        "#### Dataset A"
      ]
    },
    {
      "cell_type": "code",
      "execution_count": 24,
      "metadata": {},
      "outputs": [
        {
          "name": "stdout",
          "output_type": "stream",
          "text": [
            "Train shape:\t (142, 102)\n",
            "Train target:\n",
            " 1.0    72\n",
            "0.0    70\n",
            "Name: (target, combined), dtype: int64\n",
            "\n",
            "\n",
            "Test shape:\t (48, 102)\n",
            "Test target:\n",
            " 1.0    25\n",
            "0.0    23\n",
            "Name: (target, combined), dtype: int64"
          ]
        }
      ],
      "source": [
        "_, _ = preprocessing.process(\n",
        "\n",
        "    data=data_a,\n",
        "    target=('target', 'combined'),\n",
        "    path=results_path,\n",
        "    save_before_split=False,\n",
        "    dataset_features=clinical_features + biomarkers_a,\n",
        "    test_size=0.25,\n",
        "    download=False,\n",
        "    name='a',\n",
        "    continuous_cols=continuous + biomarkers_a,\n",
        ")"
      ]
    },
    {
      "cell_type": "code",
      "execution_count": 25,
      "metadata": {},
      "outputs": [
        {
          "data": {
            "text/plain": [
              "1.0    97\n",
              "0.0    93\n",
              "dtype: int64"
            ]
          },
          "execution_count": 25,
          "metadata": {},
          "output_type": "execute_result"
        }
      ],
      "source": [
        "preprocessing.get_combined_target_column(data_a).value_counts()"
      ]
    },
    {
      "cell_type": "markdown",
      "metadata": {},
      "source": [
        "#### Dataset B"
      ]
    },
    {
      "cell_type": "code",
      "execution_count": 26,
      "metadata": {},
      "outputs": [
        {
          "name": "stdout",
          "output_type": "stream",
          "text": [
            "Train shape:\t (67, 42)\n",
            "Train target:\n",
            " 0.0    51\n",
            "1.0    16\n",
            "Name: (target, combined), dtype: int64\n",
            "\n",
            "\n",
            "Test shape:\t (23, 42)\n",
            "Test target:\n",
            " 0.0    17\n",
            "1.0     6\n",
            "Name: (target, combined), dtype: int64"
          ]
        }
      ],
      "source": [
        "_, _ = preprocessing.process(\n",
        "\n",
        "    data=data_b,\n",
        "    target=('target', 'combined'),\n",
        "    path=results_path,\n",
        "    save_before_split=False,\n",
        "    dataset_features=clinical_features + biomarkers_b,\n",
        "    test_size=0.25,\n",
        "    download=False,\n",
        "    name='b',\n",
        "    continuous_cols=continuous + biomarkers_b[2:],\n",
        ")"
      ]
    },
    {
      "cell_type": "code",
      "execution_count": 27,
      "metadata": {},
      "outputs": [
        {
          "data": {
            "text/plain": [
              "0.0    68\n",
              "1.0    22\n",
              "dtype: int64"
            ]
          },
          "execution_count": 27,
          "metadata": {},
          "output_type": "execute_result"
        }
      ],
      "source": [
        "preprocessing.get_combined_target_column(data_b).value_counts()"
      ]
    },
    {
      "cell_type": "markdown",
      "metadata": {},
      "source": [
        "#### Dataset C"
      ]
    },
    {
      "cell_type": "code",
      "execution_count": 28,
      "metadata": {},
      "outputs": [
        {
          "name": "stdout",
          "output_type": "stream",
          "text": [
            "Train shape:\t (96, 41)\n",
            "Train target:\n",
            " 0.0    83\n",
            "1.0    13\n",
            "Name: (target, combined), dtype: int64\n",
            "\n",
            "\n",
            "Test shape:\t (32, 41)\n",
            "Test target:\n",
            " 0.0    27\n",
            "1.0     5\n",
            "Name: (target, combined), dtype: int64"
          ]
        }
      ],
      "source": [
        "_, _ = preprocessing.process(\n",
        "\n",
        "    data=data_c,\n",
        "    target=('target', 'combined'),\n",
        "    path=results_path,\n",
        "    save_before_split=False,\n",
        "    dataset_features=clinical_features + biomarkers_c,\n",
        "    test_size=0.25,\n",
        "    download=False,\n",
        "    name='c',\n",
        "    continuous_cols=continuous + biomarkers_c,\n",
        ")"
      ]
    },
    {
      "cell_type": "code",
      "execution_count": 29,
      "metadata": {},
      "outputs": [
        {
          "data": {
            "text/plain": [
              "0.0    110\n",
              "1.0     18\n",
              "dtype: int64"
            ]
          },
          "execution_count": 29,
          "metadata": {},
          "output_type": "execute_result"
        }
      ],
      "source": [
        "preprocessing.get_combined_target_column(data_c).value_counts()"
      ]
    },
    {
      "cell_type": "markdown",
      "metadata": {},
      "source": [
        "#### Dataset D"
      ]
    },
    {
      "cell_type": "code",
      "execution_count": 30,
      "metadata": {},
      "outputs": [
        {
          "name": "stdout",
          "output_type": "stream",
          "text": [
            "Train shape:\t (57, 36)\n",
            "Train target:\n",
            " 0.0    33\n",
            "1.0    24\n",
            "Name: (target, combined), dtype: int64\n",
            "\n",
            "\n",
            "Test shape:\t (19, 36)\n",
            "Test target:\n",
            " 0.0    11\n",
            "1.0     8\n",
            "Name: (target, combined), dtype: int64"
          ]
        }
      ],
      "source": [
        "_, _ = preprocessing.process(\n",
        "\n",
        "    data=data_d,\n",
        "    target=('target', 'combined'),\n",
        "    path=results_path,\n",
        "    save_before_split=False,\n",
        "    dataset_features=clinical_features,\n",
        "    test_size=0.25,\n",
        "    download=False,\n",
        "    name='d',\n",
        "    continuous_cols=continuous,\n",
        ")"
      ]
    },
    {
      "cell_type": "code",
      "execution_count": 31,
      "metadata": {},
      "outputs": [
        {
          "data": {
            "text/plain": [
              "0.0    44\n",
              "1.0    32\n",
              "dtype: int64"
            ]
          },
          "execution_count": 31,
          "metadata": {},
          "output_type": "execute_result"
        }
      ],
      "source": [
        "preprocessing.get_combined_target_column(data_d).value_counts()"
      ]
    },
    {
      "cell_type": "markdown",
      "metadata": {},
      "source": [
        "#### Сombined Dataset ABCD"
      ]
    },
    {
      "cell_type": "code",
      "execution_count": 32,
      "metadata": {},
      "outputs": [
        {
          "name": "stdout",
          "output_type": "stream",
          "text": [
            "Train shape:\t (363, 36)\n",
            "Train target:\n",
            " 0.0    236\n",
            "1.0    127\n",
            "Name: (target, combined), dtype: int64\n",
            "\n",
            "\n",
            "Test shape:\t (121, 36)\n",
            "Test target:\n",
            " 0.0    79\n",
            "1.0    42\n",
            "Name: (target, combined), dtype: int64"
          ]
        }
      ],
      "source": [
        "_, _ = preprocessing.process(\n",
        "\n",
        "    data=data_abcd,\n",
        "    target=('target', 'combined'),\n",
        "    path=results_path,\n",
        "    save_before_split=False,\n",
        "    dataset_features=clinical_features,\n",
        "    test_size=0.25,\n",
        "    download=False,\n",
        "    name='abcd',\n",
        "    continuous_cols=continuous,\n",
        ")"
      ]
    },
    {
      "cell_type": "code",
      "execution_count": 33,
      "metadata": {},
      "outputs": [
        {
          "data": {
            "text/plain": [
              "0.0    315\n",
              "1.0    169\n",
              "dtype: int64"
            ]
          },
          "execution_count": 33,
          "metadata": {},
          "output_type": "execute_result"
        }
      ],
      "source": [
        "preprocessing.get_combined_target_column(data_abcd).value_counts()"
      ]
    },
    {
      "cell_type": "markdown",
      "metadata": {
        "id": "1H1VmbApUoAP"
      },
      "source": [
        "## References and info"
      ]
    }
  ],
  "metadata": {
    "colab": {
      "collapsed_sections": [
        "iRs5NRVjixfu",
        "kFUz21AbWlkR",
        "Fd_K7om5asA4",
        "eECgjEgma5Tp",
        "Rji8hFffa9sY",
        "EzQUKc3Edx-y",
        "I5gN4v7Rf1Gr",
        "3ifjgUqCfC7d",
        "a6iWAG6zOUKQ",
        "eY9WYazsOfzn",
        "DPidmdVqNrqQ",
        "zxQY02q6NrqR",
        "knd2Gc0ENrqR",
        "TrQECFZCNrqS",
        "DXJ21qK4bpIr",
        "7xUZo5e4NrqS",
        "1H1VmbApUoAP"
      ],
      "provenance": []
    },
    "kernelspec": {
      "display_name": "venv",
      "language": "python",
      "name": "python3"
    },
    "language_info": {
      "codemirror_mode": {
        "name": "ipython",
        "version": 3
      },
      "file_extension": ".py",
      "mimetype": "text/x-python",
      "name": "python",
      "nbconvert_exporter": "python",
      "pygments_lexer": "ipython3",
      "version": "3.9.12"
    },
    "vscode": {
      "interpreter": {
        "hash": "7a18d4bcf948680bb0435ffd9c45fc67248d199792deeb9caaf05cf1e6b71615"
      }
    }
  },
  "nbformat": 4,
  "nbformat_minor": 0
}
